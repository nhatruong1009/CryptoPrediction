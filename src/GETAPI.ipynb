{
 "cells": [
  {
   "cell_type": "code",
   "execution_count": 1,
   "metadata": {},
   "outputs": [],
   "source": [
    "import requests\n",
    "import json\n",
    "import pandas\n",
    "import datetime\n",
    "import matplotlib.pyplot as plt"
   ]
  },
  {
   "cell_type": "code",
   "execution_count": null,
   "metadata": {},
   "outputs": [],
   "source": [
    "Exchange_Info_API = 'https://api.binance.com/api/v3/exchangeInfo'\n",
    "Price_Info_API = 'https://api.binance.com/api/v3/klines'"
   ]
  },
  {
   "cell_type": "code",
   "execution_count": null,
   "metadata": {},
   "outputs": [],
   "source": [
    "def symbols_info():\n",
    "    data = json.loads(requests.get(Exchange_Info_API).text)\n",
    "    cols = ['symbol','status','baseAsset','quoteAsset']\n",
    "    data = [[i[j] for j in cols] for  i in data['symbols']]\n",
    "    return pandas.DataFrame(data,columns=cols) "
   ]
  },
  {
   "cell_type": "code",
   "execution_count": null,
   "metadata": {},
   "outputs": [],
   "source": [
    "def Date_to_timestamp(_time,_format = '%d/%m/%Y %H:%M:%S'):\n",
    "    return int(datetime.datetime.timestamp(datetime.datetime.strptime(_time,_format ))*1000)"
   ]
  },
  {
   "cell_type": "code",
   "execution_count": null,
   "metadata": {},
   "outputs": [],
   "source": [
    "def Price_info(symbol,step='1m',start=None,end=None,limit=500, base = '',quote='') :\n",
    "\n",
    "    if start != None and type(start) == str:\n",
    "        start = Date_to_timestamp(start)\n",
    "    if end != None and type(end) == str:\n",
    "        end = Date_to_timestamp(end)\n",
    "    \n",
    "\n",
    "    par = {\n",
    "        'symbol':symbol,\n",
    "        'startTime':start,\n",
    "        'endTime':end,\n",
    "        'interval':step,\n",
    "        'limit':limit}\n",
    "\n",
    "\n",
    "    cols =[\n",
    "        'Kline open time',   #if a range of time\n",
    "        'Open price',       #First trade price in the time range\n",
    "        'High price',       #max buy in time\n",
    "        'Low price',        #Min sell in time\n",
    "        'Close price',      #Last trade price in the time range\n",
    "        'Volume',           #Sum in time\n",
    "        'Kline Close time',\n",
    "        'Quote asset volume',   #Sum in time\n",
    "        'Number of trades',     #Sum in time\n",
    "        'Taker buy base asset volume',  #Sum in time\n",
    "        'Taker buy quote asset volume', #Sum in time\n",
    "        'Unused field, ignore'] # not use \n",
    "    p=pandas.DataFrame(json.loads(requests.get(Price_Info_API,params=par).text),columns=cols)\n",
    "    p.insert(0,'quote', quote)\n",
    "    p.insert(0,'base', base)\n",
    "    p.insert(0,'Symbol', symbol)\n",
    "\n",
    "    # base/quote = price\n",
    "    return p"
   ]
  },
  {
   "cell_type": "code",
   "execution_count": null,
   "metadata": {},
   "outputs": [],
   "source": [
    "symbols = symbols_info()\n",
    "data = pandas.concat(\n",
    "   [Price_info(\n",
    "       i['symbol'],\n",
    "       '30m',\n",
    "       '26/11/2022 00:00:00',\n",
    "       '14/12/2022 00:00:00',\n",
    "       1000,\n",
    "       i['baseAsset'],\n",
    "       i['quoteAsset']\n",
    "       ) for _,i in symbols[symbols['status']=='TRADING'].iterrows()\n",
    "   ],\n",
    "   ignore_index=True)\n",
    "\n",
    "symbols.to_csv(\"Data\\symbols.csv\")\n",
    "data.to_csv(\"Data\\data.csv\")"
   ]
  }
 ],
 "metadata": {
  "kernelspec": {
   "display_name": "Python 3",
   "language": "python",
   "name": "python3"
  },
  "language_info": {
   "codemirror_mode": {
    "name": "ipython",
    "version": 3
   },
   "file_extension": ".py",
   "mimetype": "text/x-python",
   "name": "python",
   "nbconvert_exporter": "python",
   "pygments_lexer": "ipython3",
   "version": "3.9.12 (tags/v3.9.12:b28265d, Mar 23 2022, 23:52:46) [MSC v.1929 64 bit (AMD64)]"
  },
  "orig_nbformat": 4,
  "vscode": {
   "interpreter": {
    "hash": "a975ed8b98c08beba37d949353546e85fb5250a2bdceb316b7e036ee961162de"
   }
  }
 },
 "nbformat": 4,
 "nbformat_minor": 2
}
