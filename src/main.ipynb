{
 "cells": [
  {
   "cell_type": "code",
   "execution_count": 1,
   "metadata": {},
   "outputs": [],
   "source": [
    "import pandas\n",
    "from pandas import DataFrame\n",
    "import numpy\n",
    "import matplotlib.pyplot as plt"
   ]
  },
  {
   "attachments": {},
   "cell_type": "markdown",
   "metadata": {},
   "source": [
    "Gọi Dữ liệu\n",
    "--- "
   ]
  },
  {
   "cell_type": "code",
   "execution_count": 3,
   "metadata": {},
   "outputs": [],
   "source": [
    "#%run GETAPI.ipynb  #for calling data"
   ]
  },
  {
   "attachments": {},
   "cell_type": "markdown",
   "metadata": {},
   "source": [
    "Xử lý dữ liệu đọc thêm tại file [Data exploration](Q_Data_Exploration.ipynb)"
   ]
  },
  {
   "attachments": {},
   "cell_type": "markdown",
   "metadata": {},
   "source": [
    "Đọc dữ liệu\n",
    "---"
   ]
  },
  {
   "cell_type": "code",
   "execution_count": 2,
   "metadata": {},
   "outputs": [],
   "source": [
    "symbols = pandas.read_csv('Data/symbols.csv')\n",
    "data = pandas.read_csv('Data/data.csv')\n",
    "f_data = pandas.read_csv('Data/token_price.csv')\n",
    "\n",
    "try:\n",
    "    symbols = symbols.drop(['Unnamed: 0'], axis=1)\n",
    "except:\n",
    "    pass\n",
    "try:\n",
    "    data = data.drop(['Unnamed: 0'], axis=1)\n",
    "except:\n",
    "    pass\n",
    "try:\n",
    "    f_data = f_data.drop(['Unnamed: 0'], axis=1)\n",
    "except:\n",
    "    pass\n",
    "base_coin = ['BUSD','USDT'] # đồng tiền ổn định giá"
   ]
  },
  {
   "attachments": {},
   "cell_type": "markdown",
   "metadata": {},
   "source": [
    "## Trả lời một sô câu hỏi"
   ]
  },
  {
   "attachments": {},
   "cell_type": "markdown",
   "metadata": {},
   "source": [
    "------"
   ]
  },
  {
   "attachments": {},
   "cell_type": "markdown",
   "metadata": {},
   "source": [
    "### Xem sự liên quan giữa giá và số lượng giao dịch"
   ]
  },
  {
   "cell_type": "code",
   "execution_count": 35,
   "metadata": {},
   "outputs": [
    {
     "data": {
      "text/html": [
       "<div>\n",
       "<style scoped>\n",
       "    .dataframe tbody tr th:only-of-type {\n",
       "        vertical-align: middle;\n",
       "    }\n",
       "\n",
       "    .dataframe tbody tr th {\n",
       "        vertical-align: top;\n",
       "    }\n",
       "\n",
       "    .dataframe thead th {\n",
       "        text-align: right;\n",
       "    }\n",
       "</style>\n",
       "<table border=\"1\" class=\"dataframe\">\n",
       "  <thead>\n",
       "    <tr style=\"text-align: right;\">\n",
       "      <th></th>\n",
       "      <th>Open price</th>\n",
       "      <th>High price</th>\n",
       "      <th>Low price</th>\n",
       "      <th>Close price</th>\n",
       "      <th>Number of trades</th>\n",
       "    </tr>\n",
       "  </thead>\n",
       "  <tbody>\n",
       "    <tr>\n",
       "      <th>Open price</th>\n",
       "      <td>1.000000</td>\n",
       "      <td>1.000000</td>\n",
       "      <td>1.000000</td>\n",
       "      <td>1.000000</td>\n",
       "      <td>0.665169</td>\n",
       "    </tr>\n",
       "    <tr>\n",
       "      <th>High price</th>\n",
       "      <td>1.000000</td>\n",
       "      <td>1.000000</td>\n",
       "      <td>0.999999</td>\n",
       "      <td>1.000000</td>\n",
       "      <td>0.665176</td>\n",
       "    </tr>\n",
       "    <tr>\n",
       "      <th>Low price</th>\n",
       "      <td>1.000000</td>\n",
       "      <td>0.999999</td>\n",
       "      <td>1.000000</td>\n",
       "      <td>1.000000</td>\n",
       "      <td>0.665132</td>\n",
       "    </tr>\n",
       "    <tr>\n",
       "      <th>Close price</th>\n",
       "      <td>1.000000</td>\n",
       "      <td>1.000000</td>\n",
       "      <td>1.000000</td>\n",
       "      <td>1.000000</td>\n",
       "      <td>0.665142</td>\n",
       "    </tr>\n",
       "    <tr>\n",
       "      <th>Number of trades</th>\n",
       "      <td>0.665169</td>\n",
       "      <td>0.665176</td>\n",
       "      <td>0.665132</td>\n",
       "      <td>0.665142</td>\n",
       "      <td>1.000000</td>\n",
       "    </tr>\n",
       "  </tbody>\n",
       "</table>\n",
       "</div>"
      ],
      "text/plain": [
       "                  Open price  High price  Low price  Close price  \\\n",
       "Open price          1.000000    1.000000   1.000000     1.000000   \n",
       "High price          1.000000    1.000000   0.999999     1.000000   \n",
       "Low price           1.000000    0.999999   1.000000     1.000000   \n",
       "Close price         1.000000    1.000000   1.000000     1.000000   \n",
       "Number of trades    0.665169    0.665176   0.665132     0.665142   \n",
       "\n",
       "                  Number of trades  \n",
       "Open price                0.665169  \n",
       "High price                0.665176  \n",
       "Low price                 0.665132  \n",
       "Close price               0.665142  \n",
       "Number of trades          1.000000  "
      ]
     },
     "execution_count": 35,
     "metadata": {},
     "output_type": "execute_result"
    }
   ],
   "source": [
    "f_data[['base','Open price','High price','Low price','Close price','Number of trades']].groupby('base').mean().corr()"
   ]
  },
  {
   "attachments": {},
   "cell_type": "markdown",
   "metadata": {},
   "source": [
    "Độ tương quan khá thấp, nên có thể thấy số lượng giao dịch không có ảnh hưởng nhiều đến giá của đồng coin"
   ]
  },
  {
   "attachments": {},
   "cell_type": "markdown",
   "metadata": {},
   "source": [
    "---"
   ]
  },
  {
   "attachments": {},
   "cell_type": "markdown",
   "metadata": {},
   "source": [
    "### Kiểm tra xem giá trị quy đổi giữa các token với nhau, có tuân theo giá trị thực không"
   ]
  },
  {
   "cell_type": "code",
   "execution_count": 36,
   "metadata": {},
   "outputs": [],
   "source": [
    "head_name = data.columns"
   ]
  },
  {
   "cell_type": "code",
   "execution_count": 39,
   "metadata": {},
   "outputs": [],
   "source": [
    "def GetPrice(sym):\n",
    "    for i in base_coin:\n",
    "        temp = f_data[(f_data.base == sym) & (f_data.quote == i)]\n",
    "        if temp.shape[0] !=0:\n",
    "            return temp.set_index('Kline open time')[head_name[4:8]]\n",
    "    return 1"
   ]
  },
  {
   "cell_type": "code",
   "execution_count": 42,
   "metadata": {},
   "outputs": [
    {
     "data": {
      "text/html": [
       "<div>\n",
       "<style scoped>\n",
       "    .dataframe tbody tr th:only-of-type {\n",
       "        vertical-align: middle;\n",
       "    }\n",
       "\n",
       "    .dataframe tbody tr th {\n",
       "        vertical-align: top;\n",
       "    }\n",
       "\n",
       "    .dataframe thead th {\n",
       "        text-align: right;\n",
       "    }\n",
       "</style>\n",
       "<table border=\"1\" class=\"dataframe\">\n",
       "  <thead>\n",
       "    <tr style=\"text-align: right;\">\n",
       "      <th></th>\n",
       "      <th></th>\n",
       "      <th>base</th>\n",
       "      <th>quote</th>\n",
       "      <th>Open price</th>\n",
       "      <th>High price</th>\n",
       "      <th>Low price</th>\n",
       "      <th>Close price</th>\n",
       "    </tr>\n",
       "    <tr>\n",
       "      <th>Symbol</th>\n",
       "      <th>Kline open time</th>\n",
       "      <th></th>\n",
       "      <th></th>\n",
       "      <th></th>\n",
       "      <th></th>\n",
       "      <th></th>\n",
       "      <th></th>\n",
       "    </tr>\n",
       "  </thead>\n",
       "  <tbody>\n",
       "    <tr>\n",
       "      <th rowspan=\"5\" valign=\"top\">ETHBTC</th>\n",
       "      <th>1669395600000</th>\n",
       "      <td>ETH</td>\n",
       "      <td>BTC</td>\n",
       "      <td>0.072026</td>\n",
       "      <td>0.072222</td>\n",
       "      <td>0.072026</td>\n",
       "      <td>0.072222</td>\n",
       "    </tr>\n",
       "    <tr>\n",
       "      <th>1669397400000</th>\n",
       "      <td>ETH</td>\n",
       "      <td>BTC</td>\n",
       "      <td>0.072222</td>\n",
       "      <td>0.072335</td>\n",
       "      <td>0.072117</td>\n",
       "      <td>0.072162</td>\n",
       "    </tr>\n",
       "    <tr>\n",
       "      <th>1669399200000</th>\n",
       "      <td>ETH</td>\n",
       "      <td>BTC</td>\n",
       "      <td>0.072163</td>\n",
       "      <td>0.072263</td>\n",
       "      <td>0.072101</td>\n",
       "      <td>0.072189</td>\n",
       "    </tr>\n",
       "    <tr>\n",
       "      <th>1669401000000</th>\n",
       "      <td>ETH</td>\n",
       "      <td>BTC</td>\n",
       "      <td>0.072188</td>\n",
       "      <td>0.072261</td>\n",
       "      <td>0.072161</td>\n",
       "      <td>0.072212</td>\n",
       "    </tr>\n",
       "    <tr>\n",
       "      <th>1669402800000</th>\n",
       "      <td>ETH</td>\n",
       "      <td>BTC</td>\n",
       "      <td>0.072223</td>\n",
       "      <td>0.072479</td>\n",
       "      <td>0.072197</td>\n",
       "      <td>0.072375</td>\n",
       "    </tr>\n",
       "    <tr>\n",
       "      <th>...</th>\n",
       "      <th>...</th>\n",
       "      <td>...</td>\n",
       "      <td>...</td>\n",
       "      <td>...</td>\n",
       "      <td>...</td>\n",
       "      <td>...</td>\n",
       "      <td>...</td>\n",
       "    </tr>\n",
       "    <tr>\n",
       "      <th rowspan=\"5\" valign=\"top\">BUSDRON</th>\n",
       "      <th>1670943600000</th>\n",
       "      <td>BUSD</td>\n",
       "      <td>RON</td>\n",
       "      <td>4.629000</td>\n",
       "      <td>4.630000</td>\n",
       "      <td>4.620000</td>\n",
       "      <td>4.621000</td>\n",
       "    </tr>\n",
       "    <tr>\n",
       "      <th>1670945400000</th>\n",
       "      <td>BUSD</td>\n",
       "      <td>RON</td>\n",
       "      <td>4.620000</td>\n",
       "      <td>4.631000</td>\n",
       "      <td>4.620000</td>\n",
       "      <td>4.630000</td>\n",
       "    </tr>\n",
       "    <tr>\n",
       "      <th>1670947200000</th>\n",
       "      <td>BUSD</td>\n",
       "      <td>RON</td>\n",
       "      <td>4.631000</td>\n",
       "      <td>4.631000</td>\n",
       "      <td>4.630000</td>\n",
       "      <td>4.631000</td>\n",
       "    </tr>\n",
       "    <tr>\n",
       "      <th>1670949000000</th>\n",
       "      <td>BUSD</td>\n",
       "      <td>RON</td>\n",
       "      <td>4.630000</td>\n",
       "      <td>4.631000</td>\n",
       "      <td>4.630000</td>\n",
       "      <td>4.631000</td>\n",
       "    </tr>\n",
       "    <tr>\n",
       "      <th>1670950800000</th>\n",
       "      <td>BUSD</td>\n",
       "      <td>RON</td>\n",
       "      <td>4.631000</td>\n",
       "      <td>4.631000</td>\n",
       "      <td>4.630000</td>\n",
       "      <td>4.631000</td>\n",
       "    </tr>\n",
       "  </tbody>\n",
       "</table>\n",
       "<p>1229162 rows × 6 columns</p>\n",
       "</div>"
      ],
      "text/plain": [
       "                         base quote  Open price  High price  Low price  \\\n",
       "Symbol  Kline open time                                                  \n",
       "ETHBTC  1669395600000     ETH   BTC    0.072026    0.072222   0.072026   \n",
       "        1669397400000     ETH   BTC    0.072222    0.072335   0.072117   \n",
       "        1669399200000     ETH   BTC    0.072163    0.072263   0.072101   \n",
       "        1669401000000     ETH   BTC    0.072188    0.072261   0.072161   \n",
       "        1669402800000     ETH   BTC    0.072223    0.072479   0.072197   \n",
       "...                       ...   ...         ...         ...        ...   \n",
       "BUSDRON 1670943600000    BUSD   RON    4.629000    4.630000   4.620000   \n",
       "        1670945400000    BUSD   RON    4.620000    4.631000   4.620000   \n",
       "        1670947200000    BUSD   RON    4.631000    4.631000   4.630000   \n",
       "        1670949000000    BUSD   RON    4.630000    4.631000   4.630000   \n",
       "        1670950800000    BUSD   RON    4.631000    4.631000   4.630000   \n",
       "\n",
       "                         Close price  \n",
       "Symbol  Kline open time               \n",
       "ETHBTC  1669395600000       0.072222  \n",
       "        1669397400000       0.072162  \n",
       "        1669399200000       0.072189  \n",
       "        1669401000000       0.072212  \n",
       "        1669402800000       0.072375  \n",
       "...                              ...  \n",
       "BUSDRON 1670943600000       4.621000  \n",
       "        1670945400000       4.630000  \n",
       "        1670947200000       4.631000  \n",
       "        1670949000000       4.631000  \n",
       "        1670950800000       4.631000  \n",
       "\n",
       "[1229162 rows x 6 columns]"
      ]
     },
     "execution_count": 42,
     "metadata": {},
     "output_type": "execute_result"
    }
   ],
   "source": [
    "temp = data.set_index([\"Symbol\",\"Kline open time\"]).drop(head_name[8:],axis=1)\n",
    "temp # xep lai data phan theo tung loại dao dich"
   ]
  },
  {
   "cell_type": "code",
   "execution_count": 43,
   "metadata": {},
   "outputs": [],
   "source": [
    "diff = []\n",
    "for i in set(temp.index.get_level_values(0)):\n",
    "    baseA  =  symbols[symbols.symbol==i].baseAsset.values[0]\n",
    "    quoteA = symbols[symbols.symbol==i].quoteAsset.values[0]\n",
    "    cal = GetPrice(baseA) / GetPrice(quoteA)\n",
    "    try:\n",
    "        gap = numpy.nanmean(cal - temp.loc[i][head_name[4:8]],axis=0) #differenct between price\n",
    "        # % of gap to total\n",
    "        gap /= numpy.mean(temp.loc[i][head_name[4:8]],axis=0)\n",
    "        diff += [gap]        \n",
    "    except:\n",
    "        diff += [[0,0,0,0]]\n",
    "    pass"
   ]
  },
  {
   "cell_type": "code",
   "execution_count": null,
   "metadata": {},
   "outputs": [
    {
     "data": {
      "text/plain": [
       "array([0.02731673, 0.02641888, 0.02802794, 0.02729723])"
      ]
     },
     "metadata": {},
     "output_type": "display_data"
    }
   ],
   "source": [
    "numpy.mean(diff,axis = 0)"
   ]
  },
  {
   "attachments": {},
   "cell_type": "markdown",
   "metadata": {},
   "source": [
    "Sự chênh lệch nằm ở tầm 2-3% (dương) giá trị token, có thể nói khi trao đổi thông qua đồng tiền nền thì ta sẽ mất nhiều phí hơn là trao đổi trực tiếp giữa 2 token với nhau, nhưng đồng thời cũng cho thấy được là giá trị quy đổi các token có tuân theo giá trị thực của chúng\n",
    "\n",
    "------"
   ]
  },
  {
   "attachments": {},
   "cell_type": "markdown",
   "metadata": {},
   "source": [
    "### Xem sét 1 đồng tiền cụ thể (ETH) để xem giao dịch có làm ảnh hưởng đến giá trị không"
   ]
  },
  {
   "cell_type": "code",
   "execution_count": 44,
   "metadata": {},
   "outputs": [
    {
     "data": {
      "text/plain": [
       "Open price         -0.020199\n",
       "High price          0.068455\n",
       "Low price          -0.059944\n",
       "Close price         0.017932\n",
       "Number of trades    1.000000\n",
       "Name: Number of trades, dtype: float64"
      ]
     },
     "execution_count": 44,
     "metadata": {},
     "output_type": "execute_result"
    }
   ],
   "source": [
    "#tong so luong giao dich co lien quan den dong ETH theo thoi gian\n",
    "ETH_price_trade =pandas.concat( [GetPrice('ETH'), data[(data.base == 'ETH' )|(data.quote == 'ETH')].groupby(\"Kline open time\").sum()[[\"Number of trades\"]]],axis = 1)\n",
    "ETH_price_trade.corr()[\"Number of trades\"]"
   ]
  },
  {
   "attachments": {},
   "cell_type": "markdown",
   "metadata": {},
   "source": [
    "Có thể thấy không có nhiều sự liên quan giữa số lượng giao dịch và giá đối với đồng tiền ETH này <br>\n",
    "xem xét biểu đồ dưới đây"
   ]
  },
  {
   "cell_type": "code",
   "execution_count": 47,
   "metadata": {},
   "outputs": [
    {
     "data": {
      "image/png": "[encoded data removed]",
      "text/plain": [
       "<Figure size 1800x720 with 4 Axes>"
      ]
     },
     "metadata": {
      "needs_background": "light"
     },
     "output_type": "display_data"
    }
   ],
   "source": [
    "fig, axs = plt.subplots(2, 2,figsize=(25, 10))\n",
    "axs[0, 0].plot(ETH_price_trade[\"Number of trades\"])\n",
    "axs[0, 0].set_title('Number of trades')\n",
    "axs[0, 1].plot(ETH_price_trade[\"Open price\"])\n",
    "axs[0, 1].set_title('Open price')\n",
    "axs[1, 0].plot(ETH_price_trade[\"High price\"])\n",
    "axs[1, 0].set_title('High price')\n",
    "axs[1, 1].plot(ETH_price_trade[\"Low price\"])\n",
    "axs[1, 1].set_title('Low price')\n",
    "# Hide x labels and tick labels for top plots and y ticks for right plots.\n",
    "for ax in axs.flat:\n",
    "    ax.label_outer()"
   ]
  },
  {
   "attachments": {},
   "cell_type": "markdown",
   "metadata": {},
   "source": [
    "Tuy nhiên, nếu chúng ta để ý thì tại những mốc có lượng giao dịch vượt trội (mode), thì giá của đồng ETH này cũng biến động lớn ở thời điểm gần như tương tự, thế nên số lương giao dịch, đôi khi cũng phải ảnh được các cột mốc quan trọng trong biến động giá của token\n",
    "____"
   ]
  },
  {
   "attachments": {},
   "cell_type": "markdown",
   "metadata": {},
   "source": [
    "### câu 4"
   ]
  },
  {
   "attachments": {},
   "cell_type": "markdown",
   "metadata": {},
   "source": [
    "## Model"
   ]
  },
  {
   "cell_type": "code",
   "execution_count": 3,
   "metadata": {},
   "outputs": [
    {
     "data": {
      "text/plain": [
       "array([1418, 1422, 1425, 1426], dtype=int64)"
      ]
     },
     "execution_count": 3,
     "metadata": {},
     "output_type": "execute_result"
    }
   ],
   "source": [
    "data.groupby(\"Kline open time\").count().Symbol.unique() # the size in each time range is not the same\n",
    "# so what should we do ?\n",
    "# only take token that have in fully time"
   ]
  },
  {
   "cell_type": "code",
   "execution_count": 4,
   "metadata": {},
   "outputs": [],
   "source": [
    "check = data.groupby(\"Symbol\").count()[\"Kline open time\"]\n",
    "full_time_token = check[check == data[\"Kline open time\"].nunique()].index"
   ]
  },
  {
   "cell_type": "code",
   "execution_count": 5,
   "metadata": {},
   "outputs": [],
   "source": [
    "data_set = data[data.Symbol.isin(full_time_token)].set_index(\"Kline open time\").drop([\"base\",\"quote\",\"Kline Close time\",\"Unused field, ignore\"],axis=1)\n",
    "time_set = data[\"Kline open time\"].unique()"
   ]
  },
  {
   "cell_type": "code",
   "execution_count": 6,
   "metadata": {},
   "outputs": [],
   "source": [
    "X = data_set.iloc[data_set.Symbol.argsort()].loc[time_set].drop(\"Symbol\",axis=1).to_numpy().flatten().reshape((len(time_set),-1)) # now make all data in a "
   ]
  },
  {
   "cell_type": "code",
   "execution_count": 9,
   "metadata": {},
   "outputs": [
    {
     "data": {
      "text/plain": [
       "(865, 12762)"
      ]
     },
     "execution_count": 9,
     "metadata": {},
     "output_type": "execute_result"
    }
   ],
   "source": [
    "X.shape"
   ]
  },
  {
   "cell_type": "code",
   "execution_count": 106,
   "metadata": {},
   "outputs": [],
   "source": [
    "def getColOftoken(arr,token:str,col):\n",
    "    if type(col) != int:\n",
    "        col = {\"Open price\" : 0,\n",
    "        \"High price\" : 1,\n",
    "        \"Low price\" : 2,\n",
    "        \"Close price\" : 3,\n",
    "        \"Volume\" :4,\n",
    "        \"Quote asset volume\" :5,\n",
    "        \"Number of trades\" :6,\n",
    "        \"Taker buy base asset volume\" : 7,\n",
    "        \"Taker buy quote asset volume\" :8}[col]\n",
    "    return arr[:,full_time_token.to_list().index(token)*9 + col]"
   ]
  },
  {
   "cell_type": "code",
   "execution_count": 8,
   "metadata": {},
   "outputs": [],
   "source": [
    "X_set,y_set =  X[:-1],X[1:]"
   ]
  },
  {
   "cell_type": "code",
   "execution_count": 323,
   "metadata": {},
   "outputs": [],
   "source": [
    "y_set = y_set - X_set > 0"
   ]
  },
  {
   "cell_type": "code",
   "execution_count": 324,
   "metadata": {},
   "outputs": [],
   "source": [
    "from sklearn.linear_model import LinearRegression\n",
    "from sklearn.model_selection import train_test_split"
   ]
  },
  {
   "cell_type": "code",
   "execution_count": 325,
   "metadata": {},
   "outputs": [],
   "source": [
    "X_train, X_test, y_train, y_test = train_test_split(X_set,y_set,test_size=0.3,shuffle=False) #because it time series, so i dont want to split"
   ]
  },
  {
   "cell_type": "code",
   "execution_count": 326,
   "metadata": {},
   "outputs": [
    {
     "data": {
      "text/plain": [
       "LinearRegression()"
      ]
     },
     "execution_count": 326,
     "metadata": {},
     "output_type": "execute_result"
    }
   ],
   "source": [
    "model = LinearRegression()\n",
    "model.fit(X_train,y_train)\n",
    "y_pred = model.predict(X_test)\n",
    "y_pred =  y_pred >= 0"
   ]
  },
  {
   "cell_type": "code",
   "execution_count": 349,
   "metadata": {},
   "outputs": [
    {
     "data": {
      "text/plain": [
       "(0.4230769230769231, 0.4927962219570118)"
      ]
     },
     "execution_count": 349,
     "metadata": {},
     "output_type": "execute_result"
    }
   ],
   "source": [
    "sum((y_pred[:,0] == y_test[:,0]).flatten())/ y_test.shape[0] , sum((y_pred == y_test).flatten())/ (y_test.shape[0]* y_test.shape[1])  # đoán toàn bộ"
   ]
  },
  {
   "cell_type": "code",
   "execution_count": 353,
   "metadata": {},
   "outputs": [
    {
     "data": {
      "text/plain": [
       "(0.4, 0.5020843128036357)"
      ]
     },
     "execution_count": 353,
     "metadata": {},
     "output_type": "execute_result"
    }
   ],
   "source": [
    "sum((y_pred[:10,0] == y_test[:10,0]).flatten())/ 10 , sum((y_pred[:10] == y_test[:10]).flatten())/ (10* y_test.shape[1]) #chỉ đoán 1 phàn gần tập train nhất"
   ]
  },
  {
   "attachments": {},
   "cell_type": "markdown",
   "metadata": {},
   "source": [
    "xấu hơn cả đoán bừa"
   ]
  },
  {
   "cell_type": "code",
   "execution_count": 10,
   "metadata": {},
   "outputs": [],
   "source": [
    "import numpy as np\n",
    "import tensorflow as tf\n",
    "from tensorflow import keras\n",
    "from tensorflow.keras import layers"
   ]
  },
  {
   "cell_type": "code",
   "execution_count": 109,
   "metadata": {},
   "outputs": [],
   "source": [
    "temp = getColOftoken(X,\"BTCUSDT\",\"Open price\")"
   ]
  },
  {
   "cell_type": "code",
   "execution_count": 110,
   "metadata": {},
   "outputs": [],
   "source": [
    "temp = temp[1:] - temp[:-1]"
   ]
  },
  {
   "cell_type": "code",
   "execution_count": 113,
   "metadata": {},
   "outputs": [],
   "source": [
    "temp[np.isclose(temp,0)] = 0\n",
    "temp[temp>0] = 1\n",
    "temp[temp<0] = -1"
   ]
  },
  {
   "cell_type": "code",
   "execution_count": 79,
   "metadata": {},
   "outputs": [
    {
     "data": {
      "text/plain": [
       "((864, 12762), (864, 12762))"
      ]
     },
     "execution_count": 79,
     "metadata": {},
     "output_type": "execute_result"
    }
   ],
   "source": [
    "X_set.shape , y_set.shape"
   ]
  },
  {
   "cell_type": "code",
   "execution_count": 91,
   "metadata": {},
   "outputs": [],
   "source": [
    "temp = np.sum(_y[:,:9],axis = 1)\n",
    "temp[temp>0] = 1\n",
    "temp[temp<0] = -1"
   ]
  },
  {
   "cell_type": "code",
   "execution_count": 116,
   "metadata": {},
   "outputs": [
    {
     "data": {
      "text/plain": [
       "SVC()"
      ]
     },
     "execution_count": 116,
     "metadata": {},
     "output_type": "execute_result"
    }
   ],
   "source": [
    "from sklearn import svm\n",
    "\n",
    "gnb = svm.SVC()\n",
    "gnb.fit(X_set,temp)"
   ]
  },
  {
   "cell_type": "code",
   "execution_count": 117,
   "metadata": {},
   "outputs": [],
   "source": [
    "pred = gnb.predict(X_set)"
   ]
  },
  {
   "cell_type": "code",
   "execution_count": 118,
   "metadata": {},
   "outputs": [
    {
     "name": "stdout",
     "output_type": "stream",
     "text": [
      "              precision    recall  f1-score   support\n",
      "\n",
      "        -1.0       0.12      0.73      0.20        67\n",
      "         1.0       0.96      0.54      0.69       797\n",
      "\n",
      "    accuracy                           0.55       864\n",
      "   macro avg       0.54      0.63      0.44       864\n",
      "weighted avg       0.89      0.55      0.65       864\n",
      "\n"
     ]
    }
   ],
   "source": [
    "from sklearn.metrics import classification_report\n",
    "print(classification_report(pred,temp))"
   ]
  },
  {
   "attachments": {},
   "cell_type": "markdown",
   "metadata": {},
   "source": [
    "Không khá hơn là bao"
   ]
  },
  {
   "cell_type": "code",
   "execution_count": null,
   "metadata": {},
   "outputs": [],
   "source": []
  }
 ],
 "metadata": {
  "kernelspec": {
   "display_name": "Python 3",
   "language": "python",
   "name": "python3"
  },
  "language_info": {
   "codemirror_mode": {
    "name": "ipython",
    "version": 3
   },
   "file_extension": ".py",
   "mimetype": "text/x-python",
   "name": "python",
   "nbconvert_exporter": "python",
   "pygments_lexer": "ipython3",
   "version": "3.9.12"
  },
  "orig_nbformat": 4,
  "vscode": {
   "interpreter": {
    "hash": "a975ed8b98c08beba37d949353546e85fb5250a2bdceb316b7e036ee961162de"
   }
  }
 },
 "nbformat": 4,
 "nbformat_minor": 2
}
