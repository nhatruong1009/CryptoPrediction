{
 "cells": [
  {
   "cell_type": "code",
   "execution_count": 35,
   "metadata": {},
   "outputs": [],
   "source": [
    "import pandas\n",
    "import plotly.express as px"
   ]
  },
  {
   "attachments": {},
   "cell_type": "markdown",
   "metadata": {},
   "source": [
    "Giải nghĩa các cột dữ liệu:\n",
    "* symbol : mã kí hiệu loại giao dịch\n",
    "* base : mã đồng cơ sở\n",
    "* quote : mã đồng báo giá\n",
    "* Kline open/close time : thời gian mở/đóng của việc thu dữ liệu\n",
    "* open price : Giá tại thời điểm đầu khi thu dữ liệu\n",
    "* close price : giá tại thời điểm cuối cùng khi thu dữ liệu\n",
    "* high price : giá cao nhất trong thời gian thu dữ liệu\n",
    "* low price : giá thấp nhất trong thời gian thu dữ liệu\n",
    "* volume : số lượng base đã được trao đổi\n",
    "* quote asset volume : số lượng quote đã được trao đổi\n",
    "* taker buy base volume : số lượng mua base (lệnh) (?)\n",
    "* taker buy quote volume : số lượng mua quote (lệnh) (?)"
   ]
  },
  {
   "cell_type": "code",
   "execution_count": 56,
   "metadata": {},
   "outputs": [
    {
     "data": {
      "text/html": [
       "<div>\n",
       "<style scoped>\n",
       "    .dataframe tbody tr th:only-of-type {\n",
       "        vertical-align: middle;\n",
       "    }\n",
       "\n",
       "    .dataframe tbody tr th {\n",
       "        vertical-align: top;\n",
       "    }\n",
       "\n",
       "    .dataframe thead th {\n",
       "        text-align: right;\n",
       "    }\n",
       "</style>\n",
       "<table border=\"1\" class=\"dataframe\">\n",
       "  <thead>\n",
       "    <tr style=\"text-align: right;\">\n",
       "      <th></th>\n",
       "      <th>Symbol</th>\n",
       "      <th>base</th>\n",
       "      <th>quote</th>\n",
       "      <th>Kline open time</th>\n",
       "      <th>Open price</th>\n",
       "      <th>High price</th>\n",
       "      <th>Low price</th>\n",
       "      <th>Close price</th>\n",
       "      <th>Volume</th>\n",
       "      <th>Kline Close time</th>\n",
       "      <th>Quote asset volume</th>\n",
       "      <th>Number of trades</th>\n",
       "      <th>Taker buy base asset volume</th>\n",
       "      <th>Taker buy quote asset volume</th>\n",
       "      <th>Unused field, ignore</th>\n",
       "    </tr>\n",
       "  </thead>\n",
       "  <tbody>\n",
       "    <tr>\n",
       "      <th>0</th>\n",
       "      <td>ETHBTC</td>\n",
       "      <td>ETH</td>\n",
       "      <td>BTC</td>\n",
       "      <td>1669395600000</td>\n",
       "      <td>0.072026</td>\n",
       "      <td>0.072222</td>\n",
       "      <td>0.072026</td>\n",
       "      <td>0.072222</td>\n",
       "      <td>1342.1624</td>\n",
       "      <td>1669397399999</td>\n",
       "      <td>96.776126</td>\n",
       "      <td>2657</td>\n",
       "      <td>794.6663</td>\n",
       "      <td>57.298344</td>\n",
       "      <td>0</td>\n",
       "    </tr>\n",
       "    <tr>\n",
       "      <th>1</th>\n",
       "      <td>ETHBTC</td>\n",
       "      <td>ETH</td>\n",
       "      <td>BTC</td>\n",
       "      <td>1669397400000</td>\n",
       "      <td>0.072222</td>\n",
       "      <td>0.072335</td>\n",
       "      <td>0.072117</td>\n",
       "      <td>0.072162</td>\n",
       "      <td>1185.9640</td>\n",
       "      <td>1669399199999</td>\n",
       "      <td>85.640393</td>\n",
       "      <td>2727</td>\n",
       "      <td>560.9044</td>\n",
       "      <td>40.508977</td>\n",
       "      <td>0</td>\n",
       "    </tr>\n",
       "    <tr>\n",
       "      <th>2</th>\n",
       "      <td>ETHBTC</td>\n",
       "      <td>ETH</td>\n",
       "      <td>BTC</td>\n",
       "      <td>1669399200000</td>\n",
       "      <td>0.072163</td>\n",
       "      <td>0.072263</td>\n",
       "      <td>0.072101</td>\n",
       "      <td>0.072189</td>\n",
       "      <td>813.4793</td>\n",
       "      <td>1669400999999</td>\n",
       "      <td>58.717779</td>\n",
       "      <td>1862</td>\n",
       "      <td>359.8931</td>\n",
       "      <td>25.975732</td>\n",
       "      <td>0</td>\n",
       "    </tr>\n",
       "    <tr>\n",
       "      <th>3</th>\n",
       "      <td>ETHBTC</td>\n",
       "      <td>ETH</td>\n",
       "      <td>BTC</td>\n",
       "      <td>1669401000000</td>\n",
       "      <td>0.072188</td>\n",
       "      <td>0.072261</td>\n",
       "      <td>0.072161</td>\n",
       "      <td>0.072212</td>\n",
       "      <td>936.2168</td>\n",
       "      <td>1669402799999</td>\n",
       "      <td>67.599402</td>\n",
       "      <td>1816</td>\n",
       "      <td>470.6928</td>\n",
       "      <td>33.988586</td>\n",
       "      <td>0</td>\n",
       "    </tr>\n",
       "    <tr>\n",
       "      <th>4</th>\n",
       "      <td>ETHBTC</td>\n",
       "      <td>ETH</td>\n",
       "      <td>BTC</td>\n",
       "      <td>1669402800000</td>\n",
       "      <td>0.072223</td>\n",
       "      <td>0.072479</td>\n",
       "      <td>0.072197</td>\n",
       "      <td>0.072375</td>\n",
       "      <td>1115.5725</td>\n",
       "      <td>1669404599999</td>\n",
       "      <td>80.727099</td>\n",
       "      <td>3088</td>\n",
       "      <td>593.4310</td>\n",
       "      <td>42.945939</td>\n",
       "      <td>0</td>\n",
       "    </tr>\n",
       "    <tr>\n",
       "      <th>...</th>\n",
       "      <td>...</td>\n",
       "      <td>...</td>\n",
       "      <td>...</td>\n",
       "      <td>...</td>\n",
       "      <td>...</td>\n",
       "      <td>...</td>\n",
       "      <td>...</td>\n",
       "      <td>...</td>\n",
       "      <td>...</td>\n",
       "      <td>...</td>\n",
       "      <td>...</td>\n",
       "      <td>...</td>\n",
       "      <td>...</td>\n",
       "      <td>...</td>\n",
       "      <td>...</td>\n",
       "    </tr>\n",
       "    <tr>\n",
       "      <th>1229157</th>\n",
       "      <td>BUSDRON</td>\n",
       "      <td>BUSD</td>\n",
       "      <td>RON</td>\n",
       "      <td>1670943600000</td>\n",
       "      <td>4.629000</td>\n",
       "      <td>4.630000</td>\n",
       "      <td>4.620000</td>\n",
       "      <td>4.621000</td>\n",
       "      <td>5984.0000</td>\n",
       "      <td>1670945399999</td>\n",
       "      <td>27672.337000</td>\n",
       "      <td>108</td>\n",
       "      <td>2086.0000</td>\n",
       "      <td>9651.160000</td>\n",
       "      <td>0</td>\n",
       "    </tr>\n",
       "    <tr>\n",
       "      <th>1229158</th>\n",
       "      <td>BUSDRON</td>\n",
       "      <td>BUSD</td>\n",
       "      <td>RON</td>\n",
       "      <td>1670945400000</td>\n",
       "      <td>4.620000</td>\n",
       "      <td>4.631000</td>\n",
       "      <td>4.620000</td>\n",
       "      <td>4.630000</td>\n",
       "      <td>3618.0000</td>\n",
       "      <td>1670947199999</td>\n",
       "      <td>16734.982000</td>\n",
       "      <td>42</td>\n",
       "      <td>1642.0000</td>\n",
       "      <td>7593.482000</td>\n",
       "      <td>0</td>\n",
       "    </tr>\n",
       "    <tr>\n",
       "      <th>1229159</th>\n",
       "      <td>BUSDRON</td>\n",
       "      <td>BUSD</td>\n",
       "      <td>RON</td>\n",
       "      <td>1670947200000</td>\n",
       "      <td>4.631000</td>\n",
       "      <td>4.631000</td>\n",
       "      <td>4.630000</td>\n",
       "      <td>4.631000</td>\n",
       "      <td>3254.0000</td>\n",
       "      <td>1670948999999</td>\n",
       "      <td>15069.018000</td>\n",
       "      <td>33</td>\n",
       "      <td>2998.0000</td>\n",
       "      <td>13883.738000</td>\n",
       "      <td>0</td>\n",
       "    </tr>\n",
       "    <tr>\n",
       "      <th>1229160</th>\n",
       "      <td>BUSDRON</td>\n",
       "      <td>BUSD</td>\n",
       "      <td>RON</td>\n",
       "      <td>1670949000000</td>\n",
       "      <td>4.630000</td>\n",
       "      <td>4.631000</td>\n",
       "      <td>4.630000</td>\n",
       "      <td>4.631000</td>\n",
       "      <td>14415.0000</td>\n",
       "      <td>1670950799999</td>\n",
       "      <td>66749.027000</td>\n",
       "      <td>92</td>\n",
       "      <td>7577.0000</td>\n",
       "      <td>35089.087000</td>\n",
       "      <td>0</td>\n",
       "    </tr>\n",
       "    <tr>\n",
       "      <th>1229161</th>\n",
       "      <td>BUSDRON</td>\n",
       "      <td>BUSD</td>\n",
       "      <td>RON</td>\n",
       "      <td>1670950800000</td>\n",
       "      <td>4.631000</td>\n",
       "      <td>4.631000</td>\n",
       "      <td>4.630000</td>\n",
       "      <td>4.631000</td>\n",
       "      <td>3875.0000</td>\n",
       "      <td>1670952599999</td>\n",
       "      <td>17943.045000</td>\n",
       "      <td>52</td>\n",
       "      <td>1795.0000</td>\n",
       "      <td>8312.645000</td>\n",
       "      <td>0</td>\n",
       "    </tr>\n",
       "  </tbody>\n",
       "</table>\n",
       "<p>1229162 rows × 15 columns</p>\n",
       "</div>"
      ],
      "text/plain": [
       "          Symbol  base quote  Kline open time  Open price  High price  \\\n",
       "0         ETHBTC   ETH   BTC    1669395600000    0.072026    0.072222   \n",
       "1         ETHBTC   ETH   BTC    1669397400000    0.072222    0.072335   \n",
       "2         ETHBTC   ETH   BTC    1669399200000    0.072163    0.072263   \n",
       "3         ETHBTC   ETH   BTC    1669401000000    0.072188    0.072261   \n",
       "4         ETHBTC   ETH   BTC    1669402800000    0.072223    0.072479   \n",
       "...          ...   ...   ...              ...         ...         ...   \n",
       "1229157  BUSDRON  BUSD   RON    1670943600000    4.629000    4.630000   \n",
       "1229158  BUSDRON  BUSD   RON    1670945400000    4.620000    4.631000   \n",
       "1229159  BUSDRON  BUSD   RON    1670947200000    4.631000    4.631000   \n",
       "1229160  BUSDRON  BUSD   RON    1670949000000    4.630000    4.631000   \n",
       "1229161  BUSDRON  BUSD   RON    1670950800000    4.631000    4.631000   \n",
       "\n",
       "         Low price  Close price      Volume  Kline Close time  \\\n",
       "0         0.072026     0.072222   1342.1624     1669397399999   \n",
       "1         0.072117     0.072162   1185.9640     1669399199999   \n",
       "2         0.072101     0.072189    813.4793     1669400999999   \n",
       "3         0.072161     0.072212    936.2168     1669402799999   \n",
       "4         0.072197     0.072375   1115.5725     1669404599999   \n",
       "...            ...          ...         ...               ...   \n",
       "1229157   4.620000     4.621000   5984.0000     1670945399999   \n",
       "1229158   4.620000     4.630000   3618.0000     1670947199999   \n",
       "1229159   4.630000     4.631000   3254.0000     1670948999999   \n",
       "1229160   4.630000     4.631000  14415.0000     1670950799999   \n",
       "1229161   4.630000     4.631000   3875.0000     1670952599999   \n",
       "\n",
       "         Quote asset volume  Number of trades  Taker buy base asset volume  \\\n",
       "0                 96.776126              2657                     794.6663   \n",
       "1                 85.640393              2727                     560.9044   \n",
       "2                 58.717779              1862                     359.8931   \n",
       "3                 67.599402              1816                     470.6928   \n",
       "4                 80.727099              3088                     593.4310   \n",
       "...                     ...               ...                          ...   \n",
       "1229157        27672.337000               108                    2086.0000   \n",
       "1229158        16734.982000                42                    1642.0000   \n",
       "1229159        15069.018000                33                    2998.0000   \n",
       "1229160        66749.027000                92                    7577.0000   \n",
       "1229161        17943.045000                52                    1795.0000   \n",
       "\n",
       "         Taker buy quote asset volume  Unused field, ignore  \n",
       "0                           57.298344                     0  \n",
       "1                           40.508977                     0  \n",
       "2                           25.975732                     0  \n",
       "3                           33.988586                     0  \n",
       "4                           42.945939                     0  \n",
       "...                               ...                   ...  \n",
       "1229157                   9651.160000                     0  \n",
       "1229158                   7593.482000                     0  \n",
       "1229159                  13883.738000                     0  \n",
       "1229160                  35089.087000                     0  \n",
       "1229161                   8312.645000                     0  \n",
       "\n",
       "[1229162 rows x 15 columns]"
      ]
     },
     "execution_count": 56,
     "metadata": {},
     "output_type": "execute_result"
    }
   ],
   "source": [
    "data = pandas.read_csv('../datastore/data.csv').drop(['Unnamed: 0'], axis=1)\n",
    "data"
   ]
  },
  {
   "cell_type": "code",
   "execution_count": 37,
   "metadata": {},
   "outputs": [
    {
     "data": {
      "text/html": [
       "<div>\n",
       "<style scoped>\n",
       "    .dataframe tbody tr th:only-of-type {\n",
       "        vertical-align: middle;\n",
       "    }\n",
       "\n",
       "    .dataframe tbody tr th {\n",
       "        vertical-align: top;\n",
       "    }\n",
       "\n",
       "    .dataframe thead th {\n",
       "        text-align: right;\n",
       "    }\n",
       "</style>\n",
       "<table border=\"1\" class=\"dataframe\">\n",
       "  <thead>\n",
       "    <tr style=\"text-align: right;\">\n",
       "      <th></th>\n",
       "      <th>symbol</th>\n",
       "      <th>price (USD)</th>\n",
       "      <th>percent_change_7d</th>\n",
       "      <th>tags</th>\n",
       "      <th>date_added</th>\n",
       "    </tr>\n",
       "  </thead>\n",
       "  <tbody>\n",
       "    <tr>\n",
       "      <th>0</th>\n",
       "      <td>BTC</td>\n",
       "      <td>16844.198249</td>\n",
       "      <td>0.696558</td>\n",
       "      <td>mineable,pow,sha-256,store-of-value,state-chan...</td>\n",
       "      <td>2013-04-28T00:00:00.000Z</td>\n",
       "    </tr>\n",
       "    <tr>\n",
       "      <th>1</th>\n",
       "      <td>ETH</td>\n",
       "      <td>1216.989252</td>\n",
       "      <td>2.622548</td>\n",
       "      <td>pos,smart-contracts,ethereum-ecosystem,coinbas...</td>\n",
       "      <td>2015-08-07T00:00:00.000Z</td>\n",
       "    </tr>\n",
       "    <tr>\n",
       "      <th>2</th>\n",
       "      <td>USDT</td>\n",
       "      <td>0.999931</td>\n",
       "      <td>-0.016666</td>\n",
       "      <td>payments,stablecoin,asset-backed-stablecoin,av...</td>\n",
       "      <td>2015-02-25T00:00:00.000Z</td>\n",
       "    </tr>\n",
       "    <tr>\n",
       "      <th>3</th>\n",
       "      <td>USDC</td>\n",
       "      <td>1.000064</td>\n",
       "      <td>0.001485</td>\n",
       "      <td>medium-of-exchange,stablecoin,asset-backed-sta...</td>\n",
       "      <td>2018-10-08T00:00:00.000Z</td>\n",
       "    </tr>\n",
       "    <tr>\n",
       "      <th>4</th>\n",
       "      <td>BNB</td>\n",
       "      <td>243.065360</td>\n",
       "      <td>-1.946381</td>\n",
       "      <td>marketplace,centralized-exchange,payments,smar...</td>\n",
       "      <td>2017-07-25T00:00:00.000Z</td>\n",
       "    </tr>\n",
       "    <tr>\n",
       "      <th>...</th>\n",
       "      <td>...</td>\n",
       "      <td>...</td>\n",
       "      <td>...</td>\n",
       "      <td>...</td>\n",
       "      <td>...</td>\n",
       "    </tr>\n",
       "    <tr>\n",
       "      <th>4995</th>\n",
       "      <td>ANG</td>\n",
       "      <td>0.004021</td>\n",
       "      <td>-5.068953</td>\n",
       "      <td>NaN</td>\n",
       "      <td>2020-08-17T00:00:00.000Z</td>\n",
       "    </tr>\n",
       "    <tr>\n",
       "      <th>4996</th>\n",
       "      <td>1GOLD</td>\n",
       "      <td>58.942424</td>\n",
       "      <td>-13.418432</td>\n",
       "      <td>store-of-value,stablecoin,asset-backed-stablecoin</td>\n",
       "      <td>2019-10-13T00:00:00.000Z</td>\n",
       "    </tr>\n",
       "    <tr>\n",
       "      <th>4997</th>\n",
       "      <td>BRIDGE</td>\n",
       "      <td>0.664191</td>\n",
       "      <td>-13.905646</td>\n",
       "      <td>everscale-ecosystem</td>\n",
       "      <td>2022-04-21T04:34:24.000Z</td>\n",
       "    </tr>\n",
       "    <tr>\n",
       "      <th>4998</th>\n",
       "      <td>TREAT</td>\n",
       "      <td>0.008767</td>\n",
       "      <td>37.560296</td>\n",
       "      <td>NaN</td>\n",
       "      <td>2021-03-16T00:00:00.000Z</td>\n",
       "    </tr>\n",
       "    <tr>\n",
       "      <th>4999</th>\n",
       "      <td>HYPE</td>\n",
       "      <td>0.001187</td>\n",
       "      <td>-20.879903</td>\n",
       "      <td>NaN</td>\n",
       "      <td>2020-12-29T00:00:00.000Z</td>\n",
       "    </tr>\n",
       "  </tbody>\n",
       "</table>\n",
       "<p>5000 rows × 5 columns</p>\n",
       "</div>"
      ],
      "text/plain": [
       "      symbol   price (USD)  percent_change_7d  \\\n",
       "0        BTC  16844.198249           0.696558   \n",
       "1        ETH   1216.989252           2.622548   \n",
       "2       USDT      0.999931          -0.016666   \n",
       "3       USDC      1.000064           0.001485   \n",
       "4        BNB    243.065360          -1.946381   \n",
       "...      ...           ...                ...   \n",
       "4995     ANG      0.004021          -5.068953   \n",
       "4996   1GOLD     58.942424         -13.418432   \n",
       "4997  BRIDGE      0.664191         -13.905646   \n",
       "4998   TREAT      0.008767          37.560296   \n",
       "4999    HYPE      0.001187         -20.879903   \n",
       "\n",
       "                                                   tags  \\\n",
       "0     mineable,pow,sha-256,store-of-value,state-chan...   \n",
       "1     pos,smart-contracts,ethereum-ecosystem,coinbas...   \n",
       "2     payments,stablecoin,asset-backed-stablecoin,av...   \n",
       "3     medium-of-exchange,stablecoin,asset-backed-sta...   \n",
       "4     marketplace,centralized-exchange,payments,smar...   \n",
       "...                                                 ...   \n",
       "4995                                                NaN   \n",
       "4996  store-of-value,stablecoin,asset-backed-stablecoin   \n",
       "4997                                everscale-ecosystem   \n",
       "4998                                                NaN   \n",
       "4999                                                NaN   \n",
       "\n",
       "                    date_added  \n",
       "0     2013-04-28T00:00:00.000Z  \n",
       "1     2015-08-07T00:00:00.000Z  \n",
       "2     2015-02-25T00:00:00.000Z  \n",
       "3     2018-10-08T00:00:00.000Z  \n",
       "4     2017-07-25T00:00:00.000Z  \n",
       "...                        ...  \n",
       "4995  2020-08-17T00:00:00.000Z  \n",
       "4996  2019-10-13T00:00:00.000Z  \n",
       "4997  2022-04-21T04:34:24.000Z  \n",
       "4998  2021-03-16T00:00:00.000Z  \n",
       "4999  2020-12-29T00:00:00.000Z  \n",
       "\n",
       "[5000 rows x 5 columns]"
      ]
     },
     "execution_count": 37,
     "metadata": {},
     "output_type": "execute_result"
    }
   ],
   "source": [
    "symbols = pandas.read_csv('../datastore/symbols.csv').drop(['Unnamed: 0'], axis=1)\n",
    "symbols"
   ]
  },
  {
   "cell_type": "markdown",
   "metadata": {},
   "source": [
    "## 1. Có 2 symbol khác nhau nào bị trùng asset không (BTCUSDT, USDTBTC)"
   ]
  },
  {
   "cell_type": "code",
   "execution_count": 61,
   "metadata": {},
   "outputs": [],
   "source": [
    "drop_dupl_symbol_df = data.drop_duplicates(subset='Symbol')"
   ]
  },
  {
   "cell_type": "code",
   "execution_count": 62,
   "metadata": {},
   "outputs": [
    {
     "data": {
      "text/html": [
       "<div>\n",
       "<style scoped>\n",
       "    .dataframe tbody tr th:only-of-type {\n",
       "        vertical-align: middle;\n",
       "    }\n",
       "\n",
       "    .dataframe tbody tr th {\n",
       "        vertical-align: top;\n",
       "    }\n",
       "\n",
       "    .dataframe thead th {\n",
       "        text-align: right;\n",
       "    }\n",
       "</style>\n",
       "<table border=\"1\" class=\"dataframe\">\n",
       "  <thead>\n",
       "    <tr style=\"text-align: right;\">\n",
       "      <th></th>\n",
       "      <th>Symbol</th>\n",
       "      <th>base</th>\n",
       "      <th>quote</th>\n",
       "      <th>Kline open time</th>\n",
       "      <th>Open price</th>\n",
       "      <th>High price</th>\n",
       "      <th>Low price</th>\n",
       "      <th>Close price</th>\n",
       "      <th>Volume</th>\n",
       "      <th>Kline Close time</th>\n",
       "      <th>Quote asset volume</th>\n",
       "      <th>Number of trades</th>\n",
       "      <th>Taker buy base asset volume</th>\n",
       "      <th>Taker buy quote asset volume</th>\n",
       "      <th>Unused field, ignore</th>\n",
       "    </tr>\n",
       "  </thead>\n",
       "  <tbody>\n",
       "    <tr>\n",
       "      <th>0</th>\n",
       "      <td>ETHBTC</td>\n",
       "      <td>ETH</td>\n",
       "      <td>BTC</td>\n",
       "      <td>1669395600000</td>\n",
       "      <td>0.072026</td>\n",
       "      <td>0.072222</td>\n",
       "      <td>0.072026</td>\n",
       "      <td>0.072222</td>\n",
       "      <td>1.342162e+03</td>\n",
       "      <td>1669397399999</td>\n",
       "      <td>9.677613e+01</td>\n",
       "      <td>2657</td>\n",
       "      <td>7.946663e+02</td>\n",
       "      <td>5.729834e+01</td>\n",
       "      <td>0</td>\n",
       "    </tr>\n",
       "    <tr>\n",
       "      <th>865</th>\n",
       "      <td>LTCBTC</td>\n",
       "      <td>LTC</td>\n",
       "      <td>BTC</td>\n",
       "      <td>1669395600000</td>\n",
       "      <td>0.004513</td>\n",
       "      <td>0.004537</td>\n",
       "      <td>0.004513</td>\n",
       "      <td>0.004523</td>\n",
       "      <td>1.973337e+03</td>\n",
       "      <td>1669397399999</td>\n",
       "      <td>8.928513e+00</td>\n",
       "      <td>718</td>\n",
       "      <td>9.773160e+02</td>\n",
       "      <td>4.422118e+00</td>\n",
       "      <td>0</td>\n",
       "    </tr>\n",
       "    <tr>\n",
       "      <th>1730</th>\n",
       "      <td>BNBBTC</td>\n",
       "      <td>BNB</td>\n",
       "      <td>BTC</td>\n",
       "      <td>1669395600000</td>\n",
       "      <td>0.018190</td>\n",
       "      <td>0.018290</td>\n",
       "      <td>0.018189</td>\n",
       "      <td>0.018223</td>\n",
       "      <td>1.035607e+03</td>\n",
       "      <td>1669397399999</td>\n",
       "      <td>1.888992e+01</td>\n",
       "      <td>1762</td>\n",
       "      <td>4.612330e+02</td>\n",
       "      <td>8.413329e+00</td>\n",
       "      <td>0</td>\n",
       "    </tr>\n",
       "    <tr>\n",
       "      <th>2595</th>\n",
       "      <td>NEOBTC</td>\n",
       "      <td>NEO</td>\n",
       "      <td>BTC</td>\n",
       "      <td>1669395600000</td>\n",
       "      <td>0.000415</td>\n",
       "      <td>0.000416</td>\n",
       "      <td>0.000415</td>\n",
       "      <td>0.000416</td>\n",
       "      <td>2.472300e+02</td>\n",
       "      <td>1669397399999</td>\n",
       "      <td>1.027427e-01</td>\n",
       "      <td>33</td>\n",
       "      <td>1.480600e+02</td>\n",
       "      <td>6.153731e-02</td>\n",
       "      <td>0</td>\n",
       "    </tr>\n",
       "    <tr>\n",
       "      <th>3460</th>\n",
       "      <td>QTUMETH</td>\n",
       "      <td>QTUM</td>\n",
       "      <td>ETH</td>\n",
       "      <td>1669395600000</td>\n",
       "      <td>0.001864</td>\n",
       "      <td>0.001864</td>\n",
       "      <td>0.001864</td>\n",
       "      <td>0.001864</td>\n",
       "      <td>2.600000e+00</td>\n",
       "      <td>1669397399999</td>\n",
       "      <td>4.846400e-03</td>\n",
       "      <td>1</td>\n",
       "      <td>2.600000e+00</td>\n",
       "      <td>4.846400e-03</td>\n",
       "      <td>0</td>\n",
       "    </tr>\n",
       "    <tr>\n",
       "      <th>...</th>\n",
       "      <td>...</td>\n",
       "      <td>...</td>\n",
       "      <td>...</td>\n",
       "      <td>...</td>\n",
       "      <td>...</td>\n",
       "      <td>...</td>\n",
       "      <td>...</td>\n",
       "      <td>...</td>\n",
       "      <td>...</td>\n",
       "      <td>...</td>\n",
       "      <td>...</td>\n",
       "      <td>...</td>\n",
       "      <td>...</td>\n",
       "      <td>...</td>\n",
       "      <td>...</td>\n",
       "    </tr>\n",
       "    <tr>\n",
       "      <th>1228316</th>\n",
       "      <td>HOOKBNB</td>\n",
       "      <td>HOOK</td>\n",
       "      <td>BNB</td>\n",
       "      <td>1669905000000</td>\n",
       "      <td>0.000338</td>\n",
       "      <td>0.020000</td>\n",
       "      <td>0.000338</td>\n",
       "      <td>0.006934</td>\n",
       "      <td>3.782472e+06</td>\n",
       "      <td>1669906799999</td>\n",
       "      <td>2.634135e+04</td>\n",
       "      <td>32175</td>\n",
       "      <td>1.738188e+06</td>\n",
       "      <td>1.234107e+04</td>\n",
       "      <td>0</td>\n",
       "    </tr>\n",
       "    <tr>\n",
       "      <th>1228898</th>\n",
       "      <td>MAGICBTC</td>\n",
       "      <td>MAGIC</td>\n",
       "      <td>BTC</td>\n",
       "      <td>1670832000000</td>\n",
       "      <td>0.000022</td>\n",
       "      <td>0.000098</td>\n",
       "      <td>0.000022</td>\n",
       "      <td>0.000053</td>\n",
       "      <td>1.154971e+06</td>\n",
       "      <td>1670833799999</td>\n",
       "      <td>5.548904e+01</td>\n",
       "      <td>5915</td>\n",
       "      <td>4.258004e+05</td>\n",
       "      <td>2.052682e+01</td>\n",
       "      <td>0</td>\n",
       "    </tr>\n",
       "    <tr>\n",
       "      <th>1228965</th>\n",
       "      <td>MAGICBUSD</td>\n",
       "      <td>MAGIC</td>\n",
       "      <td>BUSD</td>\n",
       "      <td>1670832000000</td>\n",
       "      <td>0.382200</td>\n",
       "      <td>0.924000</td>\n",
       "      <td>0.382200</td>\n",
       "      <td>0.894900</td>\n",
       "      <td>1.520490e+07</td>\n",
       "      <td>1670833799999</td>\n",
       "      <td>1.248077e+07</td>\n",
       "      <td>58295</td>\n",
       "      <td>6.943390e+06</td>\n",
       "      <td>5.707546e+06</td>\n",
       "      <td>0</td>\n",
       "    </tr>\n",
       "    <tr>\n",
       "      <th>1229032</th>\n",
       "      <td>MAGICUSDT</td>\n",
       "      <td>MAGIC</td>\n",
       "      <td>USDT</td>\n",
       "      <td>1670832000000</td>\n",
       "      <td>0.382100</td>\n",
       "      <td>0.902900</td>\n",
       "      <td>0.382100</td>\n",
       "      <td>0.890000</td>\n",
       "      <td>1.494773e+07</td>\n",
       "      <td>1670833799999</td>\n",
       "      <td>1.218384e+07</td>\n",
       "      <td>38714</td>\n",
       "      <td>8.425779e+06</td>\n",
       "      <td>6.871771e+06</td>\n",
       "      <td>0</td>\n",
       "    </tr>\n",
       "    <tr>\n",
       "      <th>1229099</th>\n",
       "      <td>BUSDRON</td>\n",
       "      <td>BUSD</td>\n",
       "      <td>RON</td>\n",
       "      <td>1670839200000</td>\n",
       "      <td>4.680000</td>\n",
       "      <td>4.680000</td>\n",
       "      <td>4.640000</td>\n",
       "      <td>4.667000</td>\n",
       "      <td>2.133500e+04</td>\n",
       "      <td>1670840999999</td>\n",
       "      <td>9.924754e+04</td>\n",
       "      <td>122</td>\n",
       "      <td>6.713000e+03</td>\n",
       "      <td>3.132106e+04</td>\n",
       "      <td>0</td>\n",
       "    </tr>\n",
       "  </tbody>\n",
       "</table>\n",
       "<p>1426 rows × 15 columns</p>\n",
       "</div>"
      ],
      "text/plain": [
       "            Symbol   base quote  Kline open time  Open price  High price  \\\n",
       "0           ETHBTC    ETH   BTC    1669395600000    0.072026    0.072222   \n",
       "865         LTCBTC    LTC   BTC    1669395600000    0.004513    0.004537   \n",
       "1730        BNBBTC    BNB   BTC    1669395600000    0.018190    0.018290   \n",
       "2595        NEOBTC    NEO   BTC    1669395600000    0.000415    0.000416   \n",
       "3460       QTUMETH   QTUM   ETH    1669395600000    0.001864    0.001864   \n",
       "...            ...    ...   ...              ...         ...         ...   \n",
       "1228316    HOOKBNB   HOOK   BNB    1669905000000    0.000338    0.020000   \n",
       "1228898   MAGICBTC  MAGIC   BTC    1670832000000    0.000022    0.000098   \n",
       "1228965  MAGICBUSD  MAGIC  BUSD    1670832000000    0.382200    0.924000   \n",
       "1229032  MAGICUSDT  MAGIC  USDT    1670832000000    0.382100    0.902900   \n",
       "1229099    BUSDRON   BUSD   RON    1670839200000    4.680000    4.680000   \n",
       "\n",
       "         Low price  Close price        Volume  Kline Close time  \\\n",
       "0         0.072026     0.072222  1.342162e+03     1669397399999   \n",
       "865       0.004513     0.004523  1.973337e+03     1669397399999   \n",
       "1730      0.018189     0.018223  1.035607e+03     1669397399999   \n",
       "2595      0.000415     0.000416  2.472300e+02     1669397399999   \n",
       "3460      0.001864     0.001864  2.600000e+00     1669397399999   \n",
       "...            ...          ...           ...               ...   \n",
       "1228316   0.000338     0.006934  3.782472e+06     1669906799999   \n",
       "1228898   0.000022     0.000053  1.154971e+06     1670833799999   \n",
       "1228965   0.382200     0.894900  1.520490e+07     1670833799999   \n",
       "1229032   0.382100     0.890000  1.494773e+07     1670833799999   \n",
       "1229099   4.640000     4.667000  2.133500e+04     1670840999999   \n",
       "\n",
       "         Quote asset volume  Number of trades  Taker buy base asset volume  \\\n",
       "0              9.677613e+01              2657                 7.946663e+02   \n",
       "865            8.928513e+00               718                 9.773160e+02   \n",
       "1730           1.888992e+01              1762                 4.612330e+02   \n",
       "2595           1.027427e-01                33                 1.480600e+02   \n",
       "3460           4.846400e-03                 1                 2.600000e+00   \n",
       "...                     ...               ...                          ...   \n",
       "1228316        2.634135e+04             32175                 1.738188e+06   \n",
       "1228898        5.548904e+01              5915                 4.258004e+05   \n",
       "1228965        1.248077e+07             58295                 6.943390e+06   \n",
       "1229032        1.218384e+07             38714                 8.425779e+06   \n",
       "1229099        9.924754e+04               122                 6.713000e+03   \n",
       "\n",
       "         Taker buy quote asset volume  Unused field, ignore  \n",
       "0                        5.729834e+01                     0  \n",
       "865                      4.422118e+00                     0  \n",
       "1730                     8.413329e+00                     0  \n",
       "2595                     6.153731e-02                     0  \n",
       "3460                     4.846400e-03                     0  \n",
       "...                               ...                   ...  \n",
       "1228316                  1.234107e+04                     0  \n",
       "1228898                  2.052682e+01                     0  \n",
       "1228965                  5.707546e+06                     0  \n",
       "1229032                  6.871771e+06                     0  \n",
       "1229099                  3.132106e+04                     0  \n",
       "\n",
       "[1426 rows x 15 columns]"
      ]
     },
     "execution_count": 62,
     "metadata": {},
     "output_type": "execute_result"
    }
   ],
   "source": [
    "drop_dupl_symbol_df"
   ]
  },
  {
   "cell_type": "code",
   "execution_count": 63,
   "metadata": {},
   "outputs": [
    {
     "name": "stdout",
     "output_type": "stream",
     "text": [
      "Duplicate symbols:  []\n"
     ]
    }
   ],
   "source": [
    "duplicate_symbol = []\n",
    "\n",
    "def find_dupl(row):\n",
    "    matches = data.apply(lambda x: x['base'] == row['quote'] and x['quote'] == row['base'], axis=1)\n",
    "    if matches.any():\n",
    "        duplicate_symbol.append(row['Symbol'])\n",
    "    return row\n",
    "    \n",
    "\n",
    "data.apply(find_dupl, axis=1)\n",
    "\n",
    "print(\"Duplicate symbols: \", duplicate_symbol)"
   ]
  },
  {
   "cell_type": "markdown",
   "metadata": {},
   "source": [
    "## 2. Các symbol có giá gần bằng với USD và đáng tin cậy để trữ tiền trên ví"
   ]
  },
  {
   "cell_type": "code",
   "execution_count": 12,
   "metadata": {},
   "outputs": [
    {
     "data": {
      "text/html": [
       "<div>\n",
       "<style scoped>\n",
       "    .dataframe tbody tr th:only-of-type {\n",
       "        vertical-align: middle;\n",
       "    }\n",
       "\n",
       "    .dataframe tbody tr th {\n",
       "        vertical-align: top;\n",
       "    }\n",
       "\n",
       "    .dataframe thead th {\n",
       "        text-align: right;\n",
       "    }\n",
       "</style>\n",
       "<table border=\"1\" class=\"dataframe\">\n",
       "  <thead>\n",
       "    <tr style=\"text-align: right;\">\n",
       "      <th></th>\n",
       "      <th>symbol</th>\n",
       "      <th>price (USD)</th>\n",
       "      <th>percent_change_7d</th>\n",
       "      <th>tags</th>\n",
       "      <th>date_added</th>\n",
       "    </tr>\n",
       "  </thead>\n",
       "  <tbody>\n",
       "    <tr>\n",
       "      <th>2</th>\n",
       "      <td>USDT</td>\n",
       "      <td>0.999931</td>\n",
       "      <td>-0.016666</td>\n",
       "      <td>payments,stablecoin,asset-backed-stablecoin,av...</td>\n",
       "      <td>2015-02-25T00:00:00.000Z</td>\n",
       "    </tr>\n",
       "    <tr>\n",
       "      <th>3</th>\n",
       "      <td>USDC</td>\n",
       "      <td>1.000064</td>\n",
       "      <td>0.001485</td>\n",
       "      <td>medium-of-exchange,stablecoin,asset-backed-sta...</td>\n",
       "      <td>2018-10-08T00:00:00.000Z</td>\n",
       "    </tr>\n",
       "    <tr>\n",
       "      <th>6</th>\n",
       "      <td>BUSD</td>\n",
       "      <td>1.000024</td>\n",
       "      <td>0.036103</td>\n",
       "      <td>stablecoin,asset-backed-stablecoin,binance-cha...</td>\n",
       "      <td>2019-09-20T00:00:00.000Z</td>\n",
       "    </tr>\n",
       "    <tr>\n",
       "      <th>10</th>\n",
       "      <td>DAI</td>\n",
       "      <td>0.999730</td>\n",
       "      <td>-0.007514</td>\n",
       "      <td>defi,stablecoin,asset-backed-stablecoin,ethere...</td>\n",
       "      <td>2019-11-22T00:00:00.000Z</td>\n",
       "    </tr>\n",
       "    <tr>\n",
       "      <th>46</th>\n",
       "      <td>TUSD</td>\n",
       "      <td>0.999902</td>\n",
       "      <td>0.000858</td>\n",
       "      <td>store-of-value,stablecoin,asset-backed-stablec...</td>\n",
       "      <td>2018-03-06T00:00:00.000Z</td>\n",
       "    </tr>\n",
       "    <tr>\n",
       "      <th>71</th>\n",
       "      <td>FEI</td>\n",
       "      <td>0.999989</td>\n",
       "      <td>-0.075933</td>\n",
       "      <td>defi,stablecoin,algorithmic-stablecoin</td>\n",
       "      <td>2021-03-02T00:00:00.000Z</td>\n",
       "    </tr>\n",
       "    <tr>\n",
       "      <th>317</th>\n",
       "      <td>OUSD</td>\n",
       "      <td>0.997383</td>\n",
       "      <td>-0.061928</td>\n",
       "      <td>defi,stablecoin,usd-stablecoin</td>\n",
       "      <td>2020-09-27T00:00:00.000Z</td>\n",
       "    </tr>\n",
       "    <tr>\n",
       "      <th>371</th>\n",
       "      <td>MUSD</td>\n",
       "      <td>0.994568</td>\n",
       "      <td>0.000000</td>\n",
       "      <td>defi,stablecoin,asset-backed-stablecoin,polygo...</td>\n",
       "      <td>2020-06-28T00:00:00.000Z</td>\n",
       "    </tr>\n",
       "    <tr>\n",
       "      <th>1584</th>\n",
       "      <td>USDS</td>\n",
       "      <td>0.999621</td>\n",
       "      <td>0.004851</td>\n",
       "      <td>store-of-value,stablecoin,asset-backed-stablec...</td>\n",
       "      <td>2019-02-05T00:00:00.000Z</td>\n",
       "    </tr>\n",
       "    <tr>\n",
       "      <th>2595</th>\n",
       "      <td>BB-A-USDC</td>\n",
       "      <td>1.001378</td>\n",
       "      <td>0.016167</td>\n",
       "      <td>NaN</td>\n",
       "      <td>2022-05-30T12:50:12.000Z</td>\n",
       "    </tr>\n",
       "    <tr>\n",
       "      <th>2596</th>\n",
       "      <td>EDGT</td>\n",
       "      <td>1.000116</td>\n",
       "      <td>0.002417</td>\n",
       "      <td>NaN</td>\n",
       "      <td>2021-04-27T00:00:00.000Z</td>\n",
       "    </tr>\n",
       "    <tr>\n",
       "      <th>2597</th>\n",
       "      <td>BB-A-USDT</td>\n",
       "      <td>1.004651</td>\n",
       "      <td>0.018007</td>\n",
       "      <td>NaN</td>\n",
       "      <td>2022-05-30T12:50:12.000Z</td>\n",
       "    </tr>\n",
       "    <tr>\n",
       "      <th>2611</th>\n",
       "      <td>XTUSD</td>\n",
       "      <td>1.000377</td>\n",
       "      <td>-0.009642</td>\n",
       "      <td>NaN</td>\n",
       "      <td>2022-07-18T09:47:29.000Z</td>\n",
       "    </tr>\n",
       "    <tr>\n",
       "      <th>2662</th>\n",
       "      <td>USDZ</td>\n",
       "      <td>0.997567</td>\n",
       "      <td>0.062386</td>\n",
       "      <td>stablecoin</td>\n",
       "      <td>2022-06-06T15:25:17.000Z</td>\n",
       "    </tr>\n",
       "    <tr>\n",
       "      <th>2678</th>\n",
       "      <td>BOB</td>\n",
       "      <td>0.999392</td>\n",
       "      <td>-0.081237</td>\n",
       "      <td>NaN</td>\n",
       "      <td>2022-09-21T02:15:19.000Z</td>\n",
       "    </tr>\n",
       "    <tr>\n",
       "      <th>2690</th>\n",
       "      <td>USDP</td>\n",
       "      <td>0.994192</td>\n",
       "      <td>-0.087904</td>\n",
       "      <td>stablecoin,yield-farming,usd-stablecoin</td>\n",
       "      <td>2021-03-19T00:00:00.000Z</td>\n",
       "    </tr>\n",
       "    <tr>\n",
       "      <th>3025</th>\n",
       "      <td>USDTE</td>\n",
       "      <td>1.000215</td>\n",
       "      <td>0.085302</td>\n",
       "      <td>NaN</td>\n",
       "      <td>2015-02-25T00:00:00.000Z</td>\n",
       "    </tr>\n",
       "    <tr>\n",
       "      <th>3053</th>\n",
       "      <td>MIM</td>\n",
       "      <td>0.996250</td>\n",
       "      <td>0.006529</td>\n",
       "      <td>mineable,stablecoin,avalanche-ecosystem,arbitr...</td>\n",
       "      <td>2014-03-12T00:00:00.000Z</td>\n",
       "    </tr>\n",
       "    <tr>\n",
       "      <th>3092</th>\n",
       "      <td>UUSD</td>\n",
       "      <td>0.994431</td>\n",
       "      <td>0.013522</td>\n",
       "      <td>NaN</td>\n",
       "      <td>2022-11-17T10:36:36.000Z</td>\n",
       "    </tr>\n",
       "    <tr>\n",
       "      <th>3205</th>\n",
       "      <td>WANUSDT</td>\n",
       "      <td>1.000405</td>\n",
       "      <td>0.014589</td>\n",
       "      <td>stablecoin</td>\n",
       "      <td>2021-03-02T00:00:00.000Z</td>\n",
       "    </tr>\n",
       "    <tr>\n",
       "      <th>3958</th>\n",
       "      <td>axlUSDC</td>\n",
       "      <td>1.000496</td>\n",
       "      <td>0.071221</td>\n",
       "      <td>NaN</td>\n",
       "      <td>2022-08-17T11:09:01.000Z</td>\n",
       "    </tr>\n",
       "    <tr>\n",
       "      <th>4781</th>\n",
       "      <td>FUSD</td>\n",
       "      <td>1.000931</td>\n",
       "      <td>-0.016726</td>\n",
       "      <td>stablecoin</td>\n",
       "      <td>2022-04-06T19:13:41.000Z</td>\n",
       "    </tr>\n",
       "  </tbody>\n",
       "</table>\n",
       "</div>"
      ],
      "text/plain": [
       "         symbol  price (USD)  percent_change_7d  \\\n",
       "2          USDT     0.999931          -0.016666   \n",
       "3          USDC     1.000064           0.001485   \n",
       "6          BUSD     1.000024           0.036103   \n",
       "10          DAI     0.999730          -0.007514   \n",
       "46         TUSD     0.999902           0.000858   \n",
       "71          FEI     0.999989          -0.075933   \n",
       "317        OUSD     0.997383          -0.061928   \n",
       "371        MUSD     0.994568           0.000000   \n",
       "1584       USDS     0.999621           0.004851   \n",
       "2595  BB-A-USDC     1.001378           0.016167   \n",
       "2596       EDGT     1.000116           0.002417   \n",
       "2597  BB-A-USDT     1.004651           0.018007   \n",
       "2611      XTUSD     1.000377          -0.009642   \n",
       "2662       USDZ     0.997567           0.062386   \n",
       "2678        BOB     0.999392          -0.081237   \n",
       "2690       USDP     0.994192          -0.087904   \n",
       "3025      USDTE     1.000215           0.085302   \n",
       "3053        MIM     0.996250           0.006529   \n",
       "3092       UUSD     0.994431           0.013522   \n",
       "3205    WANUSDT     1.000405           0.014589   \n",
       "3958    axlUSDC     1.000496           0.071221   \n",
       "4781       FUSD     1.000931          -0.016726   \n",
       "\n",
       "                                                   tags  \\\n",
       "2     payments,stablecoin,asset-backed-stablecoin,av...   \n",
       "3     medium-of-exchange,stablecoin,asset-backed-sta...   \n",
       "6     stablecoin,asset-backed-stablecoin,binance-cha...   \n",
       "10    defi,stablecoin,asset-backed-stablecoin,ethere...   \n",
       "46    store-of-value,stablecoin,asset-backed-stablec...   \n",
       "71               defi,stablecoin,algorithmic-stablecoin   \n",
       "317                      defi,stablecoin,usd-stablecoin   \n",
       "371   defi,stablecoin,asset-backed-stablecoin,polygo...   \n",
       "1584  store-of-value,stablecoin,asset-backed-stablec...   \n",
       "2595                                                NaN   \n",
       "2596                                                NaN   \n",
       "2597                                                NaN   \n",
       "2611                                                NaN   \n",
       "2662                                         stablecoin   \n",
       "2678                                                NaN   \n",
       "2690            stablecoin,yield-farming,usd-stablecoin   \n",
       "3025                                                NaN   \n",
       "3053  mineable,stablecoin,avalanche-ecosystem,arbitr...   \n",
       "3092                                                NaN   \n",
       "3205                                         stablecoin   \n",
       "3958                                                NaN   \n",
       "4781                                         stablecoin   \n",
       "\n",
       "                    date_added  \n",
       "2     2015-02-25T00:00:00.000Z  \n",
       "3     2018-10-08T00:00:00.000Z  \n",
       "6     2019-09-20T00:00:00.000Z  \n",
       "10    2019-11-22T00:00:00.000Z  \n",
       "46    2018-03-06T00:00:00.000Z  \n",
       "71    2021-03-02T00:00:00.000Z  \n",
       "317   2020-09-27T00:00:00.000Z  \n",
       "371   2020-06-28T00:00:00.000Z  \n",
       "1584  2019-02-05T00:00:00.000Z  \n",
       "2595  2022-05-30T12:50:12.000Z  \n",
       "2596  2021-04-27T00:00:00.000Z  \n",
       "2597  2022-05-30T12:50:12.000Z  \n",
       "2611  2022-07-18T09:47:29.000Z  \n",
       "2662  2022-06-06T15:25:17.000Z  \n",
       "2678  2022-09-21T02:15:19.000Z  \n",
       "2690  2021-03-19T00:00:00.000Z  \n",
       "3025  2015-02-25T00:00:00.000Z  \n",
       "3053  2014-03-12T00:00:00.000Z  \n",
       "3092  2022-11-17T10:36:36.000Z  \n",
       "3205  2021-03-02T00:00:00.000Z  \n",
       "3958  2022-08-17T11:09:01.000Z  \n",
       "4781  2022-04-06T19:13:41.000Z  "
      ]
     },
     "execution_count": 12,
     "metadata": {},
     "output_type": "execute_result"
    }
   ],
   "source": [
    "stable_coin_df = symbols.loc[(symbols['percent_change_7d'].abs() < 0.1) & ((symbols['price (USD)'].astype(float) - 1).abs() < 0.01)]\n",
    "stable_coin_df"
   ]
  },
  {
   "cell_type": "markdown",
   "metadata": {},
   "source": [
    "## 3. Which coin is available for the most trading"
   ]
  },
  {
   "cell_type": "code",
   "execution_count": 24,
   "metadata": {},
   "outputs": [
    {
     "data": {
      "text/html": [
       "<div>\n",
       "<style scoped>\n",
       "    .dataframe tbody tr th:only-of-type {\n",
       "        vertical-align: middle;\n",
       "    }\n",
       "\n",
       "    .dataframe tbody tr th {\n",
       "        vertical-align: top;\n",
       "    }\n",
       "\n",
       "    .dataframe thead th {\n",
       "        text-align: right;\n",
       "    }\n",
       "</style>\n",
       "<table border=\"1\" class=\"dataframe\">\n",
       "  <thead>\n",
       "    <tr style=\"text-align: right;\">\n",
       "      <th></th>\n",
       "      <th>Symbol</th>\n",
       "      <th>base</th>\n",
       "      <th>quote</th>\n",
       "      <th>Kline open time</th>\n",
       "      <th>Open price</th>\n",
       "      <th>High price</th>\n",
       "      <th>Low price</th>\n",
       "      <th>Close price</th>\n",
       "      <th>Volume</th>\n",
       "      <th>Kline Close time</th>\n",
       "      <th>Quote asset volume</th>\n",
       "      <th>Number of trades</th>\n",
       "      <th>Taker buy base asset volume</th>\n",
       "      <th>Taker buy quote asset volume</th>\n",
       "      <th>Unused field, ignore</th>\n",
       "    </tr>\n",
       "  </thead>\n",
       "  <tbody>\n",
       "    <tr>\n",
       "      <th>8650</th>\n",
       "      <td>BTCUSDT</td>\n",
       "      <td>BTC</td>\n",
       "      <td>USDT</td>\n",
       "      <td>1669395600000</td>\n",
       "      <td>16485.1400</td>\n",
       "      <td>16512.4300</td>\n",
       "      <td>16474.2900</td>\n",
       "      <td>16483.2700</td>\n",
       "      <td>3369.76766</td>\n",
       "      <td>1669397399999</td>\n",
       "      <td>5.557611e+07</td>\n",
       "      <td>81870</td>\n",
       "      <td>1723.18461</td>\n",
       "      <td>2.842171e+07</td>\n",
       "      <td>0</td>\n",
       "    </tr>\n",
       "    <tr>\n",
       "      <th>8651</th>\n",
       "      <td>BTCUSDT</td>\n",
       "      <td>BTC</td>\n",
       "      <td>USDT</td>\n",
       "      <td>1669397400000</td>\n",
       "      <td>16483.2700</td>\n",
       "      <td>16536.3500</td>\n",
       "      <td>16482.9800</td>\n",
       "      <td>16510.3800</td>\n",
       "      <td>3892.49531</td>\n",
       "      <td>1669399199999</td>\n",
       "      <td>6.427000e+07</td>\n",
       "      <td>91509</td>\n",
       "      <td>2058.71422</td>\n",
       "      <td>3.399223e+07</td>\n",
       "      <td>0</td>\n",
       "    </tr>\n",
       "    <tr>\n",
       "      <th>8652</th>\n",
       "      <td>BTCUSDT</td>\n",
       "      <td>BTC</td>\n",
       "      <td>USDT</td>\n",
       "      <td>1669399200000</td>\n",
       "      <td>16509.5200</td>\n",
       "      <td>16528.6000</td>\n",
       "      <td>16502.7700</td>\n",
       "      <td>16509.4000</td>\n",
       "      <td>2466.67932</td>\n",
       "      <td>1669400999999</td>\n",
       "      <td>4.073370e+07</td>\n",
       "      <td>61263</td>\n",
       "      <td>1246.75916</td>\n",
       "      <td>2.058911e+07</td>\n",
       "      <td>0</td>\n",
       "    </tr>\n",
       "    <tr>\n",
       "      <th>8653</th>\n",
       "      <td>BTCUSDT</td>\n",
       "      <td>BTC</td>\n",
       "      <td>USDT</td>\n",
       "      <td>1669401000000</td>\n",
       "      <td>16508.9500</td>\n",
       "      <td>16518.5900</td>\n",
       "      <td>16477.1300</td>\n",
       "      <td>16495.4300</td>\n",
       "      <td>2500.32611</td>\n",
       "      <td>1669402799999</td>\n",
       "      <td>4.126059e+07</td>\n",
       "      <td>59827</td>\n",
       "      <td>1169.95110</td>\n",
       "      <td>1.930727e+07</td>\n",
       "      <td>0</td>\n",
       "    </tr>\n",
       "    <tr>\n",
       "      <th>8654</th>\n",
       "      <td>BTCUSDT</td>\n",
       "      <td>BTC</td>\n",
       "      <td>USDT</td>\n",
       "      <td>1669402800000</td>\n",
       "      <td>16495.4300</td>\n",
       "      <td>16553.8800</td>\n",
       "      <td>16494.0100</td>\n",
       "      <td>16515.2000</td>\n",
       "      <td>2949.47675</td>\n",
       "      <td>1669404599999</td>\n",
       "      <td>4.872746e+07</td>\n",
       "      <td>66479</td>\n",
       "      <td>1564.85203</td>\n",
       "      <td>2.585432e+07</td>\n",
       "      <td>0</td>\n",
       "    </tr>\n",
       "    <tr>\n",
       "      <th>...</th>\n",
       "      <td>...</td>\n",
       "      <td>...</td>\n",
       "      <td>...</td>\n",
       "      <td>...</td>\n",
       "      <td>...</td>\n",
       "      <td>...</td>\n",
       "      <td>...</td>\n",
       "      <td>...</td>\n",
       "      <td>...</td>\n",
       "      <td>...</td>\n",
       "      <td>...</td>\n",
       "      <td>...</td>\n",
       "      <td>...</td>\n",
       "      <td>...</td>\n",
       "      <td>...</td>\n",
       "    </tr>\n",
       "    <tr>\n",
       "      <th>1229094</th>\n",
       "      <td>MAGICUSDT</td>\n",
       "      <td>MAGIC</td>\n",
       "      <td>USDT</td>\n",
       "      <td>1670943600000</td>\n",
       "      <td>0.7394</td>\n",
       "      <td>0.7467</td>\n",
       "      <td>0.7150</td>\n",
       "      <td>0.7156</td>\n",
       "      <td>431050.00000</td>\n",
       "      <td>1670945399999</td>\n",
       "      <td>3.127897e+05</td>\n",
       "      <td>967</td>\n",
       "      <td>140062.70000</td>\n",
       "      <td>1.022471e+05</td>\n",
       "      <td>0</td>\n",
       "    </tr>\n",
       "    <tr>\n",
       "      <th>1229095</th>\n",
       "      <td>MAGICUSDT</td>\n",
       "      <td>MAGIC</td>\n",
       "      <td>USDT</td>\n",
       "      <td>1670945400000</td>\n",
       "      <td>0.7156</td>\n",
       "      <td>0.7166</td>\n",
       "      <td>0.7060</td>\n",
       "      <td>0.7090</td>\n",
       "      <td>209667.00000</td>\n",
       "      <td>1670947199999</td>\n",
       "      <td>1.489892e+05</td>\n",
       "      <td>458</td>\n",
       "      <td>33166.90000</td>\n",
       "      <td>2.363905e+04</td>\n",
       "      <td>0</td>\n",
       "    </tr>\n",
       "    <tr>\n",
       "      <th>1229096</th>\n",
       "      <td>MAGICUSDT</td>\n",
       "      <td>MAGIC</td>\n",
       "      <td>USDT</td>\n",
       "      <td>1670947200000</td>\n",
       "      <td>0.7090</td>\n",
       "      <td>0.7216</td>\n",
       "      <td>0.7078</td>\n",
       "      <td>0.7179</td>\n",
       "      <td>133967.70000</td>\n",
       "      <td>1670948999999</td>\n",
       "      <td>9.617358e+04</td>\n",
       "      <td>389</td>\n",
       "      <td>70104.60000</td>\n",
       "      <td>5.033187e+04</td>\n",
       "      <td>0</td>\n",
       "    </tr>\n",
       "    <tr>\n",
       "      <th>1229097</th>\n",
       "      <td>MAGICUSDT</td>\n",
       "      <td>MAGIC</td>\n",
       "      <td>USDT</td>\n",
       "      <td>1670949000000</td>\n",
       "      <td>0.7176</td>\n",
       "      <td>0.7180</td>\n",
       "      <td>0.7103</td>\n",
       "      <td>0.7149</td>\n",
       "      <td>128864.20000</td>\n",
       "      <td>1670950799999</td>\n",
       "      <td>9.202996e+04</td>\n",
       "      <td>267</td>\n",
       "      <td>59911.10000</td>\n",
       "      <td>4.276908e+04</td>\n",
       "      <td>0</td>\n",
       "    </tr>\n",
       "    <tr>\n",
       "      <th>1229098</th>\n",
       "      <td>MAGICUSDT</td>\n",
       "      <td>MAGIC</td>\n",
       "      <td>USDT</td>\n",
       "      <td>1670950800000</td>\n",
       "      <td>0.7149</td>\n",
       "      <td>0.7171</td>\n",
       "      <td>0.7000</td>\n",
       "      <td>0.7000</td>\n",
       "      <td>142587.90000</td>\n",
       "      <td>1670952599999</td>\n",
       "      <td>1.011399e+05</td>\n",
       "      <td>424</td>\n",
       "      <td>59159.30000</td>\n",
       "      <td>4.206351e+04</td>\n",
       "      <td>0</td>\n",
       "    </tr>\n",
       "  </tbody>\n",
       "</table>\n",
       "<p>566143 rows × 15 columns</p>\n",
       "</div>"
      ],
      "text/plain": [
       "            Symbol   base quote  Kline open time  Open price  High price  \\\n",
       "8650       BTCUSDT    BTC  USDT    1669395600000  16485.1400  16512.4300   \n",
       "8651       BTCUSDT    BTC  USDT    1669397400000  16483.2700  16536.3500   \n",
       "8652       BTCUSDT    BTC  USDT    1669399200000  16509.5200  16528.6000   \n",
       "8653       BTCUSDT    BTC  USDT    1669401000000  16508.9500  16518.5900   \n",
       "8654       BTCUSDT    BTC  USDT    1669402800000  16495.4300  16553.8800   \n",
       "...            ...    ...   ...              ...         ...         ...   \n",
       "1229094  MAGICUSDT  MAGIC  USDT    1670943600000      0.7394      0.7467   \n",
       "1229095  MAGICUSDT  MAGIC  USDT    1670945400000      0.7156      0.7166   \n",
       "1229096  MAGICUSDT  MAGIC  USDT    1670947200000      0.7090      0.7216   \n",
       "1229097  MAGICUSDT  MAGIC  USDT    1670949000000      0.7176      0.7180   \n",
       "1229098  MAGICUSDT  MAGIC  USDT    1670950800000      0.7149      0.7171   \n",
       "\n",
       "          Low price  Close price        Volume  Kline Close time  \\\n",
       "8650     16474.2900   16483.2700    3369.76766     1669397399999   \n",
       "8651     16482.9800   16510.3800    3892.49531     1669399199999   \n",
       "8652     16502.7700   16509.4000    2466.67932     1669400999999   \n",
       "8653     16477.1300   16495.4300    2500.32611     1669402799999   \n",
       "8654     16494.0100   16515.2000    2949.47675     1669404599999   \n",
       "...             ...          ...           ...               ...   \n",
       "1229094      0.7150       0.7156  431050.00000     1670945399999   \n",
       "1229095      0.7060       0.7090  209667.00000     1670947199999   \n",
       "1229096      0.7078       0.7179  133967.70000     1670948999999   \n",
       "1229097      0.7103       0.7149  128864.20000     1670950799999   \n",
       "1229098      0.7000       0.7000  142587.90000     1670952599999   \n",
       "\n",
       "         Quote asset volume  Number of trades  Taker buy base asset volume  \\\n",
       "8650           5.557611e+07             81870                   1723.18461   \n",
       "8651           6.427000e+07             91509                   2058.71422   \n",
       "8652           4.073370e+07             61263                   1246.75916   \n",
       "8653           4.126059e+07             59827                   1169.95110   \n",
       "8654           4.872746e+07             66479                   1564.85203   \n",
       "...                     ...               ...                          ...   \n",
       "1229094        3.127897e+05               967                 140062.70000   \n",
       "1229095        1.489892e+05               458                  33166.90000   \n",
       "1229096        9.617358e+04               389                  70104.60000   \n",
       "1229097        9.202996e+04               267                  59911.10000   \n",
       "1229098        1.011399e+05               424                  59159.30000   \n",
       "\n",
       "         Taker buy quote asset volume  Unused field, ignore  \n",
       "8650                     2.842171e+07                     0  \n",
       "8651                     3.399223e+07                     0  \n",
       "8652                     2.058911e+07                     0  \n",
       "8653                     1.930727e+07                     0  \n",
       "8654                     2.585432e+07                     0  \n",
       "...                               ...                   ...  \n",
       "1229094                  1.022471e+05                     0  \n",
       "1229095                  2.363905e+04                     0  \n",
       "1229096                  5.033187e+04                     0  \n",
       "1229097                  4.276908e+04                     0  \n",
       "1229098                  4.206351e+04                     0  \n",
       "\n",
       "[566143 rows x 15 columns]"
      ]
     },
     "execution_count": 24,
     "metadata": {},
     "output_type": "execute_result"
    }
   ],
   "source": [
    "f_data = data.loc[data['quote'].isin(stable_coin_df.symbol) & (~data['base'].isin(stable_coin_df.symbol))] # các cặp tiền có stable coin là quote\n",
    "f_data"
   ]
  },
  {
   "cell_type": "code",
   "execution_count": 33,
   "metadata": {},
   "outputs": [
    {
     "data": {
      "application/vnd.plotly.v1+json": {
       "config": {
        "plotlyServerURL": "https://plot.ly"
       },
       "data": [
        {
         "alignmentgroup": "True",
         "hovertemplate": "base=%{x}<br>Symbol=%{y}<extra></extra>",
         "legendgroup": "",
         "marker": {
          "color": "#636efa",
          "pattern": {
           "shape": ""
          }
         },
         "name": "",
         "offsetgroup": "",
         "orientation": "v",
         "showlegend": false,
         "textposition": "auto",
         "type": "bar",
         "x": [
          "ETH",
          "BNB",
          "BTC",
          "1INCH",
          "NEXO",
          "OGN",
          "OG",
          "OCEAN",
          "NULS",
          "NMR",
          "NKN",
          "NEO",
          "OMG",
          "NEBL",
          "NEAR",
          "MULTI",
          "MTL",
          "MOVR",
          "MOB",
          "MLN"
         ],
         "xaxis": "x",
         "y": [
          2595,
          2595,
          2595,
          1730,
          1730,
          1730,
          1730,
          1730,
          1730,
          1730,
          1730,
          1730,
          1730,
          1730,
          1730,
          1730,
          1730,
          1730,
          1730,
          1730
         ],
         "yaxis": "y"
        }
       ],
       "layout": {
        "barmode": "relative",
        "legend": {
         "tracegroupgap": 0
        },
        "margin": {
         "t": 60
        },
        "template": {
         "data": {
          "bar": [
           {
            "error_x": {
             "color": "#2a3f5f"
            },
            "error_y": {
             "color": "#2a3f5f"
            },
            "marker": {
             "line": {
              "color": "#E5ECF6",
              "width": 0.5
             },
             "pattern": {
              "fillmode": "overlay",
              "size": 10,
              "solidity": 0.2
             }
            },
            "type": "bar"
           }
          ],
          "barpolar": [
           {
            "marker": {
             "line": {
              "color": "#E5ECF6",
              "width": 0.5
             },
             "pattern": {
              "fillmode": "overlay",
              "size": 10,
              "solidity": 0.2
             }
            },
            "type": "barpolar"
           }
          ],
          "carpet": [
           {
            "aaxis": {
             "endlinecolor": "#2a3f5f",
             "gridcolor": "white",
             "linecolor": "white",
             "minorgridcolor": "white",
             "startlinecolor": "#2a3f5f"
            },
            "baxis": {
             "endlinecolor": "#2a3f5f",
             "gridcolor": "white",
             "linecolor": "white",
             "minorgridcolor": "white",
             "startlinecolor": "#2a3f5f"
            },
            "type": "carpet"
           }
          ],
          "choropleth": [
           {
            "colorbar": {
             "outlinewidth": 0,
             "ticks": ""
            },
            "type": "choropleth"
           }
          ],
          "contour": [
           {
            "colorbar": {
             "outlinewidth": 0,
             "ticks": ""
            },
            "colorscale": [
             [
              0,
              "#0d0887"
             ],
             [
              0.1111111111111111,
              "#46039f"
             ],
             [
              0.2222222222222222,
              "#7201a8"
             ],
             [
              0.3333333333333333,
              "#9c179e"
             ],
             [
              0.4444444444444444,
              "#bd3786"
             ],
             [
              0.5555555555555556,
              "#d8576b"
             ],
             [
              0.6666666666666666,
              "#ed7953"
             ],
             [
              0.7777777777777778,
              "#fb9f3a"
             ],
             [
              0.8888888888888888,
              "#fdca26"
             ],
             [
              1,
              "#f0f921"
             ]
            ],
            "type": "contour"
           }
          ],
          "contourcarpet": [
           {
            "colorbar": {
             "outlinewidth": 0,
             "ticks": ""
            },
            "type": "contourcarpet"
           }
          ],
          "heatmap": [
           {
            "colorbar": {
             "outlinewidth": 0,
             "ticks": ""
            },
            "colorscale": [
             [
              0,
              "#0d0887"
             ],
             [
              0.1111111111111111,
              "#46039f"
             ],
             [
              0.2222222222222222,
              "#7201a8"
             ],
             [
              0.3333333333333333,
              "#9c179e"
             ],
             [
              0.4444444444444444,
              "#bd3786"
             ],
             [
              0.5555555555555556,
              "#d8576b"
             ],
             [
              0.6666666666666666,
              "#ed7953"
             ],
             [
              0.7777777777777778,
              "#fb9f3a"
             ],
             [
              0.8888888888888888,
              "#fdca26"
             ],
             [
              1,
              "#f0f921"
             ]
            ],
            "type": "heatmap"
           }
          ],
          "heatmapgl": [
           {
            "colorbar": {
             "outlinewidth": 0,
             "ticks": ""
            },
            "colorscale": [
             [
              0,
              "#0d0887"
             ],
             [
              0.1111111111111111,
              "#46039f"
             ],
             [
              0.2222222222222222,
              "#7201a8"
             ],
             [
              0.3333333333333333,
              "#9c179e"
             ],
             [
              0.4444444444444444,
              "#bd3786"
             ],
             [
              0.5555555555555556,
              "#d8576b"
             ],
             [
              0.6666666666666666,
              "#ed7953"
             ],
             [
              0.7777777777777778,
              "#fb9f3a"
             ],
             [
              0.8888888888888888,
              "#fdca26"
             ],
             [
              1,
              "#f0f921"
             ]
            ],
            "type": "heatmapgl"
           }
          ],
          "histogram": [
           {
            "marker": {
             "pattern": {
              "fillmode": "overlay",
              "size": 10,
              "solidity": 0.2
             }
            },
            "type": "histogram"
           }
          ],
          "histogram2d": [
           {
            "colorbar": {
             "outlinewidth": 0,
             "ticks": ""
            },
            "colorscale": [
             [
              0,
              "#0d0887"
             ],
             [
              0.1111111111111111,
              "#46039f"
             ],
             [
              0.2222222222222222,
              "#7201a8"
             ],
             [
              0.3333333333333333,
              "#9c179e"
             ],
             [
              0.4444444444444444,
              "#bd3786"
             ],
             [
              0.5555555555555556,
              "#d8576b"
             ],
             [
              0.6666666666666666,
              "#ed7953"
             ],
             [
              0.7777777777777778,
              "#fb9f3a"
             ],
             [
              0.8888888888888888,
              "#fdca26"
             ],
             [
              1,
              "#f0f921"
             ]
            ],
            "type": "histogram2d"
           }
          ],
          "histogram2dcontour": [
           {
            "colorbar": {
             "outlinewidth": 0,
             "ticks": ""
            },
            "colorscale": [
             [
              0,
              "#0d0887"
             ],
             [
              0.1111111111111111,
              "#46039f"
             ],
             [
              0.2222222222222222,
              "#7201a8"
             ],
             [
              0.3333333333333333,
              "#9c179e"
             ],
             [
              0.4444444444444444,
              "#bd3786"
             ],
             [
              0.5555555555555556,
              "#d8576b"
             ],
             [
              0.6666666666666666,
              "#ed7953"
             ],
             [
              0.7777777777777778,
              "#fb9f3a"
             ],
             [
              0.8888888888888888,
              "#fdca26"
             ],
             [
              1,
              "#f0f921"
             ]
            ],
            "type": "histogram2dcontour"
           }
          ],
          "mesh3d": [
           {
            "colorbar": {
             "outlinewidth": 0,
             "ticks": ""
            },
            "type": "mesh3d"
           }
          ],
          "parcoords": [
           {
            "line": {
             "colorbar": {
              "outlinewidth": 0,
              "ticks": ""
             }
            },
            "type": "parcoords"
           }
          ],
          "pie": [
           {
            "automargin": true,
            "type": "pie"
           }
          ],
          "scatter": [
           {
            "fillpattern": {
             "fillmode": "overlay",
             "size": 10,
             "solidity": 0.2
            },
            "type": "scatter"
           }
          ],
          "scatter3d": [
           {
            "line": {
             "colorbar": {
              "outlinewidth": 0,
              "ticks": ""
             }
            },
            "marker": {
             "colorbar": {
              "outlinewidth": 0,
              "ticks": ""
             }
            },
            "type": "scatter3d"
           }
          ],
          "scattercarpet": [
           {
            "marker": {
             "colorbar": {
              "outlinewidth": 0,
              "ticks": ""
             }
            },
            "type": "scattercarpet"
           }
          ],
          "scattergeo": [
           {
            "marker": {
             "colorbar": {
              "outlinewidth": 0,
              "ticks": ""
             }
            },
            "type": "scattergeo"
           }
          ],
          "scattergl": [
           {
            "marker": {
             "colorbar": {
              "outlinewidth": 0,
              "ticks": ""
             }
            },
            "type": "scattergl"
           }
          ],
          "scattermapbox": [
           {
            "marker": {
             "colorbar": {
              "outlinewidth": 0,
              "ticks": ""
             }
            },
            "type": "scattermapbox"
           }
          ],
          "scatterpolar": [
           {
            "marker": {
             "colorbar": {
              "outlinewidth": 0,
              "ticks": ""
             }
            },
            "type": "scatterpolar"
           }
          ],
          "scatterpolargl": [
           {
            "marker": {
             "colorbar": {
              "outlinewidth": 0,
              "ticks": ""
             }
            },
            "type": "scatterpolargl"
           }
          ],
          "scatterternary": [
           {
            "marker": {
             "colorbar": {
              "outlinewidth": 0,
              "ticks": ""
             }
            },
            "type": "scatterternary"
           }
          ],
          "surface": [
           {
            "colorbar": {
             "outlinewidth": 0,
             "ticks": ""
            },
            "colorscale": [
             [
              0,
              "#0d0887"
             ],
             [
              0.1111111111111111,
              "#46039f"
             ],
             [
              0.2222222222222222,
              "#7201a8"
             ],
             [
              0.3333333333333333,
              "#9c179e"
             ],
             [
              0.4444444444444444,
              "#bd3786"
             ],
             [
              0.5555555555555556,
              "#d8576b"
             ],
             [
              0.6666666666666666,
              "#ed7953"
             ],
             [
              0.7777777777777778,
              "#fb9f3a"
             ],
             [
              0.8888888888888888,
              "#fdca26"
             ],
             [
              1,
              "#f0f921"
             ]
            ],
            "type": "surface"
           }
          ],
          "table": [
           {
            "cells": {
             "fill": {
              "color": "#EBF0F8"
             },
             "line": {
              "color": "white"
             }
            },
            "header": {
             "fill": {
              "color": "#C8D4E3"
             },
             "line": {
              "color": "white"
             }
            },
            "type": "table"
           }
          ]
         },
         "layout": {
          "annotationdefaults": {
           "arrowcolor": "#2a3f5f",
           "arrowhead": 0,
           "arrowwidth": 1
          },
          "autotypenumbers": "strict",
          "coloraxis": {
           "colorbar": {
            "outlinewidth": 0,
            "ticks": ""
           }
          },
          "colorscale": {
           "diverging": [
            [
             0,
             "#8e0152"
            ],
            [
             0.1,
             "#c51b7d"
            ],
            [
             0.2,
             "#de77ae"
            ],
            [
             0.3,
             "#f1b6da"
            ],
            [
             0.4,
             "#fde0ef"
            ],
            [
             0.5,
             "#f7f7f7"
            ],
            [
             0.6,
             "#e6f5d0"
            ],
            [
             0.7,
             "#b8e186"
            ],
            [
             0.8,
             "#7fbc41"
            ],
            [
             0.9,
             "#4d9221"
            ],
            [
             1,
             "#276419"
            ]
           ],
           "sequential": [
            [
             0,
             "#0d0887"
            ],
            [
             0.1111111111111111,
             "#46039f"
            ],
            [
             0.2222222222222222,
             "#7201a8"
            ],
            [
             0.3333333333333333,
             "#9c179e"
            ],
            [
             0.4444444444444444,
             "#bd3786"
            ],
            [
             0.5555555555555556,
             "#d8576b"
            ],
            [
             0.6666666666666666,
             "#ed7953"
            ],
            [
             0.7777777777777778,
             "#fb9f3a"
            ],
            [
             0.8888888888888888,
             "#fdca26"
            ],
            [
             1,
             "#f0f921"
            ]
           ],
           "sequentialminus": [
            [
             0,
             "#0d0887"
            ],
            [
             0.1111111111111111,
             "#46039f"
            ],
            [
             0.2222222222222222,
             "#7201a8"
            ],
            [
             0.3333333333333333,
             "#9c179e"
            ],
            [
             0.4444444444444444,
             "#bd3786"
            ],
            [
             0.5555555555555556,
             "#d8576b"
            ],
            [
             0.6666666666666666,
             "#ed7953"
            ],
            [
             0.7777777777777778,
             "#fb9f3a"
            ],
            [
             0.8888888888888888,
             "#fdca26"
            ],
            [
             1,
             "#f0f921"
            ]
           ]
          },
          "colorway": [
           "#636efa",
           "#EF553B",
           "#00cc96",
           "#ab63fa",
           "#FFA15A",
           "#19d3f3",
           "#FF6692",
           "#B6E880",
           "#FF97FF",
           "#FECB52"
          ],
          "font": {
           "color": "#2a3f5f"
          },
          "geo": {
           "bgcolor": "white",
           "lakecolor": "white",
           "landcolor": "#E5ECF6",
           "showlakes": true,
           "showland": true,
           "subunitcolor": "white"
          },
          "hoverlabel": {
           "align": "left"
          },
          "hovermode": "closest",
          "mapbox": {
           "style": "light"
          },
          "paper_bgcolor": "white",
          "plot_bgcolor": "#E5ECF6",
          "polar": {
           "angularaxis": {
            "gridcolor": "white",
            "linecolor": "white",
            "ticks": ""
           },
           "bgcolor": "#E5ECF6",
           "radialaxis": {
            "gridcolor": "white",
            "linecolor": "white",
            "ticks": ""
           }
          },
          "scene": {
           "xaxis": {
            "backgroundcolor": "#E5ECF6",
            "gridcolor": "white",
            "gridwidth": 2,
            "linecolor": "white",
            "showbackground": true,
            "ticks": "",
            "zerolinecolor": "white"
           },
           "yaxis": {
            "backgroundcolor": "#E5ECF6",
            "gridcolor": "white",
            "gridwidth": 2,
            "linecolor": "white",
            "showbackground": true,
            "ticks": "",
            "zerolinecolor": "white"
           },
           "zaxis": {
            "backgroundcolor": "#E5ECF6",
            "gridcolor": "white",
            "gridwidth": 2,
            "linecolor": "white",
            "showbackground": true,
            "ticks": "",
            "zerolinecolor": "white"
           }
          },
          "shapedefaults": {
           "line": {
            "color": "#2a3f5f"
           }
          },
          "ternary": {
           "aaxis": {
            "gridcolor": "white",
            "linecolor": "white",
            "ticks": ""
           },
           "baxis": {
            "gridcolor": "white",
            "linecolor": "white",
            "ticks": ""
           },
           "bgcolor": "#E5ECF6",
           "caxis": {
            "gridcolor": "white",
            "linecolor": "white",
            "ticks": ""
           }
          },
          "title": {
           "x": 0.05
          },
          "xaxis": {
           "automargin": true,
           "gridcolor": "white",
           "linecolor": "white",
           "ticks": "",
           "title": {
            "standoff": 15
           },
           "zerolinecolor": "white",
           "zerolinewidth": 2
          },
          "yaxis": {
           "automargin": true,
           "gridcolor": "white",
           "linecolor": "white",
           "ticks": "",
           "title": {
            "standoff": 15
           },
           "zerolinecolor": "white",
           "zerolinewidth": 2
          }
         }
        },
        "xaxis": {
         "anchor": "y",
         "domain": [
          0,
          1
         ],
         "title": {
          "text": "base"
         }
        },
        "yaxis": {
         "anchor": "x",
         "domain": [
          0,
          1
         ],
         "title": {
          "text": "Symbol"
         }
        }
       }
      }
     },
     "metadata": {},
     "output_type": "display_data"
    }
   ],
   "source": [
    "g_data = f_data.groupby('base').count()[['Symbol']].sort_values(by='Symbol', ascending=False).head(20)\n",
    "fig = px.bar(g_data, x=g_data.index, y='Symbol')\n",
    "fig.show()"
   ]
  },
  {
   "cell_type": "markdown",
   "metadata": {},
   "source": [
    "> Có thể thấy ETH, BNB, BTC là những đồng tiền có nhiều giao dịch nhất hiện nay"
   ]
  }
 ],
 "metadata": {
  "kernelspec": {
   "display_name": "Python 3.8.8 ('NaDS')",
   "language": "python",
   "name": "python3"
  },
  "language_info": {
   "codemirror_mode": {
    "name": "ipython",
    "version": 3
   },
   "file_extension": ".py",
   "mimetype": "text/x-python",
   "name": "python",
   "nbconvert_exporter": "python",
   "pygments_lexer": "ipython3",
   "version": "3.8.8"
  },
  "orig_nbformat": 4,
  "vscode": {
   "interpreter": {
    "hash": "479fcfcd8a781549d023ec8ee70cfd9d1bc4e10e5bc48a6e6de9df19fe23d55c"
   }
  }
 },
 "nbformat": 4,
 "nbformat_minor": 2
}
