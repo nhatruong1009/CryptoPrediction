{
 "cells": [
  {
   "cell_type": "code",
   "execution_count": 1,
   "metadata": {},
   "outputs": [],
   "source": [
    "import pandas\n",
    "from pandas import DataFrame\n",
    "import numpy\n",
    "import matplotlib.pyplot as plt"
   ]
  },
  {
   "cell_type": "code",
   "execution_count": 2,
   "metadata": {},
   "outputs": [
    {
     "name": "stdout",
     "output_type": "stream",
     "text": [
      "So luong coin co trong data:  372\n",
      "So luong coin con giao dich:  378\n"
     ]
    }
   ],
   "source": [
    "%run Q_Data_Exploration.ipynb"
   ]
  },
  {
   "cell_type": "code",
   "execution_count": 3,
   "metadata": {},
   "outputs": [],
   "source": [
    "f_data = f_data\n",
    "base_coin = base_coin\n",
    "symbols = symbols"
   ]
  },
  {
   "attachments": {},
   "cell_type": "markdown",
   "metadata": {},
   "source": [
    "------"
   ]
  },
  {
   "attachments": {},
   "cell_type": "markdown",
   "metadata": {},
   "source": [
    "biến bảng trên thành giá trị quy đổi qua đồng tiền nền (Thực tế đã là bảng hiện tại) <br>\n",
    "tạo 1 bảng giá tiền của đồng tiền theo symbols <br>\n",
    "Cần đổi lại các đồng tiền có quote không nằm trong 'base_coin' theo quy tắc:\n",
    "- base <-> quote\n",
    "- Volume <-> Quote asset volume\n",
    "- Taker buy base asset volume <-> Taker buy quote asset volume\n",
    "- Các giá trị tiền tệ: New = 1 / Old"
   ]
  },
  {
   "cell_type": "code",
   "execution_count": 4,
   "metadata": {},
   "outputs": [
    {
     "name": "stderr",
     "output_type": "stream",
     "text": [
      "C:\\Users\\TNT\\AppData\\Local\\Temp\\ipykernel_11180\\949687093.py:2: SettingWithCopyWarning: \n",
      "A value is trying to be set on a copy of a slice from a DataFrame.\n",
      "Try using .loc[row_indexer,col_indexer] = value instead\n",
      "\n",
      "See the caveats in the documentation: https://pandas.pydata.org/pandas-docs/stable/user_guide/indexing.html#returning-a-view-versus-a-copy\n",
      "  f_data[~f_data.quote.isin(base_coin)] = pandas.concat([\n"
     ]
    }
   ],
   "source": [
    "temp = f_data[~f_data.quote.isin(base_coin)]\n",
    "f_data[~f_data.quote.isin(base_coin)] = pandas.concat([\n",
    "    temp[['Symbol','quote','base' ,'Kline open time']],\n",
    "    1/temp[['Open price','High price','Low price','Close price']],\n",
    "    temp[['Quote asset volume','Kline Close time','Volume','Number of trades','Taker buy quote asset volume','Taker buy base asset volume','Unused field, ignore']]\n",
    "],axis=1)\n",
    "# f_data now is the data of \"true value\" of the token"
   ]
  },
  {
   "attachments": {},
   "cell_type": "markdown",
   "metadata": {},
   "source": [
    "Xem sự liên quan giữa giá và số lượng giao dịch"
   ]
  },
  {
   "cell_type": "code",
   "execution_count": 5,
   "metadata": {},
   "outputs": [
    {
     "data": {
      "text/html": [
       "<div>\n",
       "<style scoped>\n",
       "    .dataframe tbody tr th:only-of-type {\n",
       "        vertical-align: middle;\n",
       "    }\n",
       "\n",
       "    .dataframe tbody tr th {\n",
       "        vertical-align: top;\n",
       "    }\n",
       "\n",
       "    .dataframe thead th {\n",
       "        text-align: right;\n",
       "    }\n",
       "</style>\n",
       "<table border=\"1\" class=\"dataframe\">\n",
       "  <thead>\n",
       "    <tr style=\"text-align: right;\">\n",
       "      <th></th>\n",
       "      <th>Open price</th>\n",
       "      <th>High price</th>\n",
       "      <th>Low price</th>\n",
       "      <th>Close price</th>\n",
       "      <th>Number of trades</th>\n",
       "    </tr>\n",
       "  </thead>\n",
       "  <tbody>\n",
       "    <tr>\n",
       "      <th>Open price</th>\n",
       "      <td>1.000000</td>\n",
       "      <td>1.000000</td>\n",
       "      <td>1.000000</td>\n",
       "      <td>1.000000</td>\n",
       "      <td>0.665169</td>\n",
       "    </tr>\n",
       "    <tr>\n",
       "      <th>High price</th>\n",
       "      <td>1.000000</td>\n",
       "      <td>1.000000</td>\n",
       "      <td>0.999999</td>\n",
       "      <td>1.000000</td>\n",
       "      <td>0.665176</td>\n",
       "    </tr>\n",
       "    <tr>\n",
       "      <th>Low price</th>\n",
       "      <td>1.000000</td>\n",
       "      <td>0.999999</td>\n",
       "      <td>1.000000</td>\n",
       "      <td>1.000000</td>\n",
       "      <td>0.665132</td>\n",
       "    </tr>\n",
       "    <tr>\n",
       "      <th>Close price</th>\n",
       "      <td>1.000000</td>\n",
       "      <td>1.000000</td>\n",
       "      <td>1.000000</td>\n",
       "      <td>1.000000</td>\n",
       "      <td>0.665142</td>\n",
       "    </tr>\n",
       "    <tr>\n",
       "      <th>Number of trades</th>\n",
       "      <td>0.665169</td>\n",
       "      <td>0.665176</td>\n",
       "      <td>0.665132</td>\n",
       "      <td>0.665142</td>\n",
       "      <td>1.000000</td>\n",
       "    </tr>\n",
       "  </tbody>\n",
       "</table>\n",
       "</div>"
      ],
      "text/plain": [
       "                  Open price  High price  Low price  Close price  \\\n",
       "Open price          1.000000    1.000000   1.000000     1.000000   \n",
       "High price          1.000000    1.000000   0.999999     1.000000   \n",
       "Low price           1.000000    0.999999   1.000000     1.000000   \n",
       "Close price         1.000000    1.000000   1.000000     1.000000   \n",
       "Number of trades    0.665169    0.665176   0.665132     0.665142   \n",
       "\n",
       "                  Number of trades  \n",
       "Open price                0.665169  \n",
       "High price                0.665176  \n",
       "Low price                 0.665132  \n",
       "Close price               0.665142  \n",
       "Number of trades          1.000000  "
      ]
     },
     "execution_count": 5,
     "metadata": {},
     "output_type": "execute_result"
    }
   ],
   "source": [
    "f_data[['base','Open price','High price','Low price','Close price','Number of trades']].groupby('base').mean().corr()"
   ]
  },
  {
   "attachments": {},
   "cell_type": "markdown",
   "metadata": {},
   "source": [
    "Độ tương quan khá thấp, nên có thể thấy số lượng giao dịch không có ảnh hưởng nhiều đến giá của đồng coin"
   ]
  },
  {
   "attachments": {},
   "cell_type": "markdown",
   "metadata": {},
   "source": [
    "---"
   ]
  },
  {
   "attachments": {},
   "cell_type": "markdown",
   "metadata": {},
   "source": [
    "Kiểm tra xem giá trị quy đổi giữa các token với nhau, có tuân theo giá trị thực không"
   ]
  },
  {
   "cell_type": "code",
   "execution_count": 6,
   "metadata": {},
   "outputs": [],
   "source": [
    "data = pandas.read_csv('data.csv').drop(['Unnamed: 0'], axis=1) "
   ]
  },
  {
   "cell_type": "code",
   "execution_count": 7,
   "metadata": {},
   "outputs": [],
   "source": [
    "head_name = data.columns"
   ]
  },
  {
   "cell_type": "code",
   "execution_count": 72,
   "metadata": {},
   "outputs": [],
   "source": [
    "def GetPrice(sym):\n",
    "    for i in base_coin:\n",
    "        temp = f_data[(f_data.base == sym) & (f_data.quote == i)]\n",
    "        if temp.shape[0] !=0:\n",
    "            return temp.set_index('Kline open time')[head_name[4:8]]\n",
    "    return 1"
   ]
  },
  {
   "cell_type": "code",
   "execution_count": 130,
   "metadata": {},
   "outputs": [
    {
     "data": {
      "text/html": [
       "<div>\n",
       "<style scoped>\n",
       "    .dataframe tbody tr th:only-of-type {\n",
       "        vertical-align: middle;\n",
       "    }\n",
       "\n",
       "    .dataframe tbody tr th {\n",
       "        vertical-align: top;\n",
       "    }\n",
       "\n",
       "    .dataframe thead th {\n",
       "        text-align: right;\n",
       "    }\n",
       "</style>\n",
       "<table border=\"1\" class=\"dataframe\">\n",
       "  <thead>\n",
       "    <tr style=\"text-align: right;\">\n",
       "      <th></th>\n",
       "      <th></th>\n",
       "      <th>base</th>\n",
       "      <th>quote</th>\n",
       "      <th>Open price</th>\n",
       "      <th>High price</th>\n",
       "      <th>Low price</th>\n",
       "      <th>Close price</th>\n",
       "    </tr>\n",
       "    <tr>\n",
       "      <th>Symbol</th>\n",
       "      <th>Kline open time</th>\n",
       "      <th></th>\n",
       "      <th></th>\n",
       "      <th></th>\n",
       "      <th></th>\n",
       "      <th></th>\n",
       "      <th></th>\n",
       "    </tr>\n",
       "  </thead>\n",
       "  <tbody>\n",
       "    <tr>\n",
       "      <th rowspan=\"5\" valign=\"top\">ETHBTC</th>\n",
       "      <th>1669395600000</th>\n",
       "      <td>ETH</td>\n",
       "      <td>BTC</td>\n",
       "      <td>0.072026</td>\n",
       "      <td>0.072222</td>\n",
       "      <td>0.072026</td>\n",
       "      <td>0.072222</td>\n",
       "    </tr>\n",
       "    <tr>\n",
       "      <th>1669397400000</th>\n",
       "      <td>ETH</td>\n",
       "      <td>BTC</td>\n",
       "      <td>0.072222</td>\n",
       "      <td>0.072335</td>\n",
       "      <td>0.072117</td>\n",
       "      <td>0.072162</td>\n",
       "    </tr>\n",
       "    <tr>\n",
       "      <th>1669399200000</th>\n",
       "      <td>ETH</td>\n",
       "      <td>BTC</td>\n",
       "      <td>0.072163</td>\n",
       "      <td>0.072263</td>\n",
       "      <td>0.072101</td>\n",
       "      <td>0.072189</td>\n",
       "    </tr>\n",
       "    <tr>\n",
       "      <th>1669401000000</th>\n",
       "      <td>ETH</td>\n",
       "      <td>BTC</td>\n",
       "      <td>0.072188</td>\n",
       "      <td>0.072261</td>\n",
       "      <td>0.072161</td>\n",
       "      <td>0.072212</td>\n",
       "    </tr>\n",
       "    <tr>\n",
       "      <th>1669402800000</th>\n",
       "      <td>ETH</td>\n",
       "      <td>BTC</td>\n",
       "      <td>0.072223</td>\n",
       "      <td>0.072479</td>\n",
       "      <td>0.072197</td>\n",
       "      <td>0.072375</td>\n",
       "    </tr>\n",
       "    <tr>\n",
       "      <th>...</th>\n",
       "      <th>...</th>\n",
       "      <td>...</td>\n",
       "      <td>...</td>\n",
       "      <td>...</td>\n",
       "      <td>...</td>\n",
       "      <td>...</td>\n",
       "      <td>...</td>\n",
       "    </tr>\n",
       "    <tr>\n",
       "      <th rowspan=\"5\" valign=\"top\">BUSDRON</th>\n",
       "      <th>1670943600000</th>\n",
       "      <td>BUSD</td>\n",
       "      <td>RON</td>\n",
       "      <td>4.629000</td>\n",
       "      <td>4.630000</td>\n",
       "      <td>4.620000</td>\n",
       "      <td>4.621000</td>\n",
       "    </tr>\n",
       "    <tr>\n",
       "      <th>1670945400000</th>\n",
       "      <td>BUSD</td>\n",
       "      <td>RON</td>\n",
       "      <td>4.620000</td>\n",
       "      <td>4.631000</td>\n",
       "      <td>4.620000</td>\n",
       "      <td>4.630000</td>\n",
       "    </tr>\n",
       "    <tr>\n",
       "      <th>1670947200000</th>\n",
       "      <td>BUSD</td>\n",
       "      <td>RON</td>\n",
       "      <td>4.631000</td>\n",
       "      <td>4.631000</td>\n",
       "      <td>4.630000</td>\n",
       "      <td>4.631000</td>\n",
       "    </tr>\n",
       "    <tr>\n",
       "      <th>1670949000000</th>\n",
       "      <td>BUSD</td>\n",
       "      <td>RON</td>\n",
       "      <td>4.630000</td>\n",
       "      <td>4.631000</td>\n",
       "      <td>4.630000</td>\n",
       "      <td>4.631000</td>\n",
       "    </tr>\n",
       "    <tr>\n",
       "      <th>1670950800000</th>\n",
       "      <td>BUSD</td>\n",
       "      <td>RON</td>\n",
       "      <td>4.631000</td>\n",
       "      <td>4.631000</td>\n",
       "      <td>4.630000</td>\n",
       "      <td>4.631000</td>\n",
       "    </tr>\n",
       "  </tbody>\n",
       "</table>\n",
       "<p>1229162 rows × 6 columns</p>\n",
       "</div>"
      ],
      "text/plain": [
       "                         base quote  Open price  High price  Low price  \\\n",
       "Symbol  Kline open time                                                  \n",
       "ETHBTC  1669395600000     ETH   BTC    0.072026    0.072222   0.072026   \n",
       "        1669397400000     ETH   BTC    0.072222    0.072335   0.072117   \n",
       "        1669399200000     ETH   BTC    0.072163    0.072263   0.072101   \n",
       "        1669401000000     ETH   BTC    0.072188    0.072261   0.072161   \n",
       "        1669402800000     ETH   BTC    0.072223    0.072479   0.072197   \n",
       "...                       ...   ...         ...         ...        ...   \n",
       "BUSDRON 1670943600000    BUSD   RON    4.629000    4.630000   4.620000   \n",
       "        1670945400000    BUSD   RON    4.620000    4.631000   4.620000   \n",
       "        1670947200000    BUSD   RON    4.631000    4.631000   4.630000   \n",
       "        1670949000000    BUSD   RON    4.630000    4.631000   4.630000   \n",
       "        1670950800000    BUSD   RON    4.631000    4.631000   4.630000   \n",
       "\n",
       "                         Close price  \n",
       "Symbol  Kline open time               \n",
       "ETHBTC  1669395600000       0.072222  \n",
       "        1669397400000       0.072162  \n",
       "        1669399200000       0.072189  \n",
       "        1669401000000       0.072212  \n",
       "        1669402800000       0.072375  \n",
       "...                              ...  \n",
       "BUSDRON 1670943600000       4.621000  \n",
       "        1670945400000       4.630000  \n",
       "        1670947200000       4.631000  \n",
       "        1670949000000       4.631000  \n",
       "        1670950800000       4.631000  \n",
       "\n",
       "[1229162 rows x 6 columns]"
      ]
     },
     "execution_count": 130,
     "metadata": {},
     "output_type": "execute_result"
    }
   ],
   "source": [
    "temp = data.set_index([\"Symbol\",\"Kline open time\"]).drop(head_name[8:],axis=1)\n",
    "temp # xep lai data phan theo tung loại dao dich"
   ]
  },
  {
   "cell_type": "code",
   "execution_count": 127,
   "metadata": {},
   "outputs": [],
   "source": [
    "diff = []\n",
    "for i in set(temp.index.get_level_values(0)):\n",
    "    baseA  =  symbols[symbols.symbol==i].baseAsset.values[0]\n",
    "    quoteA = symbols[symbols.symbol==i].quoteAsset.values[0]\n",
    "    cal = GetPrice(baseA) / GetPrice(quoteA)\n",
    "    try:\n",
    "        gap = numpy.nanmean(cal - temp.loc[i][head_name[4:8]],axis=0) #differenct between price\n",
    "        #normalnize\n",
    "        gap /= numpy.mean(temp.loc[i][head_name[4:8]],axis=0)\n",
    "        diff += [gap]        \n",
    "    except:\n",
    "        diff += [[0,0,0,0]]\n",
    "    pass"
   ]
  },
  {
   "cell_type": "code",
   "execution_count": 128,
   "metadata": {},
   "outputs": [
    {
     "data": {
      "text/plain": [
       "array([0.02731673, 0.02641888, 0.02802794, 0.02729723])"
      ]
     },
     "execution_count": 128,
     "metadata": {},
     "output_type": "execute_result"
    }
   ],
   "source": [
    "numpy.mean(diff,axis = 0)"
   ]
  },
  {
   "attachments": {},
   "cell_type": "markdown",
   "metadata": {},
   "source": [
    "Sự chênh lệch nằm ở tầm 2% (dương) giá trị token, có thể nói khi trao đổi thông qua đồng tiền nền thì ta sẽ mất nhiều phí hơn là trao đổi trực tiếp giữa 2 token với nhau, nhưng đồng thời cũng cho thấy được là giá trị quy đổi các token có tuân theo giá trị thực của chúng\n",
    "\n",
    "------"
   ]
  },
  {
   "cell_type": "code",
   "execution_count": null,
   "metadata": {},
   "outputs": [],
   "source": []
  }
 ],
 "metadata": {
  "kernelspec": {
   "display_name": "Python 3",
   "language": "python",
   "name": "python3"
  },
  "language_info": {
   "codemirror_mode": {
    "name": "ipython",
    "version": 3
   },
   "file_extension": ".py",
   "mimetype": "text/x-python",
   "name": "python",
   "nbconvert_exporter": "python",
   "pygments_lexer": "ipython3",
   "version": "3.9.12"
  },
  "orig_nbformat": 4,
  "vscode": {
   "interpreter": {
    "hash": "a975ed8b98c08beba37d949353546e85fb5250a2bdceb316b7e036ee961162de"
   }
  }
 },
 "nbformat": 4,
 "nbformat_minor": 2
}
