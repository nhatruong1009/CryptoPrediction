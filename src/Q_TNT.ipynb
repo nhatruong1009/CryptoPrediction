{
 "cells": [
  {
   "cell_type": "code",
   "execution_count": 97,
   "metadata": {},
   "outputs": [],
   "source": [
    "import pandas\n",
    "from pandas import DataFrame\n",
    "import numpy\n",
    "import matplotlib.pyplot as plt"
   ]
  },
  {
   "cell_type": "code",
   "execution_count": 117,
   "metadata": {},
   "outputs": [
    {
     "name": "stdout",
     "output_type": "stream",
     "text": [
      "So luong coin co trong data:  372\n",
      "So luong coin con giao dich:  378\n"
     ]
    }
   ],
   "source": [
    "%run Q_Data_Exploration.ipynb"
   ]
  },
  {
   "cell_type": "code",
   "execution_count": 121,
   "metadata": {},
   "outputs": [],
   "source": [
    "f_data = f_data\n",
    "base_coin = base_coin"
   ]
  },
  {
   "attachments": {},
   "cell_type": "markdown",
   "metadata": {},
   "source": [
    "------"
   ]
  },
  {
   "attachments": {},
   "cell_type": "markdown",
   "metadata": {},
   "source": [
    "biến bảng trên thành giá trị quy đổi qua đồng tiền nền (Thực tế đã là bảng hiện tại) <br>\n",
    "tạo 1 bảng giá tiền của đồng tiền theo symbols <br>\n",
    "Cần đổi lại các đồng tiền có quote không nằm trong 'base_coin' theo quy tắc:\n",
    "- base <-> quote\n",
    "- Volume <-> Quote asset volume\n",
    "- Taker buy base asset volume <-> Taker buy quote asset volume\n",
    "- Các giá trị tiền tệ: New = 1 / Old"
   ]
  },
  {
   "cell_type": "code",
   "execution_count": 118,
   "metadata": {},
   "outputs": [
    {
     "name": "stderr",
     "output_type": "stream",
     "text": [
      "C:\\Users\\TNT\\AppData\\Local\\Temp\\ipykernel_5736\\576956246.py:2: SettingWithCopyWarning: \n",
      "A value is trying to be set on a copy of a slice from a DataFrame.\n",
      "Try using .loc[row_indexer,col_indexer] = value instead\n",
      "\n",
      "See the caveats in the documentation: https://pandas.pydata.org/pandas-docs/stable/user_guide/indexing.html#returning-a-view-versus-a-copy\n",
      "  f_data[~f_data.quote.isin(base_coin)] = pandas.concat([\n"
     ]
    }
   ],
   "source": [
    "temp = f_data[~f_data.quote.isin(base_coin)]\n",
    "f_data[~f_data.quote.isin(base_coin)] = pandas.concat([\n",
    "    temp[['Symbol','quote','base' ,'Kline open time']],\n",
    "    1/temp[['Open price','High price','Low price','Close price']],\n",
    "    temp[['Quote asset volume','Kline Close time','Volume','Number of trades','Taker buy quote asset volume','Taker buy base asset volume','Unused field, ignore']]\n",
    "],axis=1)"
   ]
  },
  {
   "attachments": {},
   "cell_type": "markdown",
   "metadata": {},
   "source": [
    "Xem sự liên quan giữa giá và số lượng giao dịch"
   ]
  },
  {
   "cell_type": "code",
   "execution_count": 119,
   "metadata": {},
   "outputs": [
    {
     "data": {
      "text/html": [
       "<div>\n",
       "<style scoped>\n",
       "    .dataframe tbody tr th:only-of-type {\n",
       "        vertical-align: middle;\n",
       "    }\n",
       "\n",
       "    .dataframe tbody tr th {\n",
       "        vertical-align: top;\n",
       "    }\n",
       "\n",
       "    .dataframe thead th {\n",
       "        text-align: right;\n",
       "    }\n",
       "</style>\n",
       "<table border=\"1\" class=\"dataframe\">\n",
       "  <thead>\n",
       "    <tr style=\"text-align: right;\">\n",
       "      <th></th>\n",
       "      <th>Open price</th>\n",
       "      <th>High price</th>\n",
       "      <th>Low price</th>\n",
       "      <th>Close price</th>\n",
       "      <th>Number of trades</th>\n",
       "    </tr>\n",
       "  </thead>\n",
       "  <tbody>\n",
       "    <tr>\n",
       "      <th>Open price</th>\n",
       "      <td>1.000000</td>\n",
       "      <td>1.000000</td>\n",
       "      <td>1.000000</td>\n",
       "      <td>1.000000</td>\n",
       "      <td>0.665169</td>\n",
       "    </tr>\n",
       "    <tr>\n",
       "      <th>High price</th>\n",
       "      <td>1.000000</td>\n",
       "      <td>1.000000</td>\n",
       "      <td>0.999999</td>\n",
       "      <td>1.000000</td>\n",
       "      <td>0.665176</td>\n",
       "    </tr>\n",
       "    <tr>\n",
       "      <th>Low price</th>\n",
       "      <td>1.000000</td>\n",
       "      <td>0.999999</td>\n",
       "      <td>1.000000</td>\n",
       "      <td>1.000000</td>\n",
       "      <td>0.665132</td>\n",
       "    </tr>\n",
       "    <tr>\n",
       "      <th>Close price</th>\n",
       "      <td>1.000000</td>\n",
       "      <td>1.000000</td>\n",
       "      <td>1.000000</td>\n",
       "      <td>1.000000</td>\n",
       "      <td>0.665142</td>\n",
       "    </tr>\n",
       "    <tr>\n",
       "      <th>Number of trades</th>\n",
       "      <td>0.665169</td>\n",
       "      <td>0.665176</td>\n",
       "      <td>0.665132</td>\n",
       "      <td>0.665142</td>\n",
       "      <td>1.000000</td>\n",
       "    </tr>\n",
       "  </tbody>\n",
       "</table>\n",
       "</div>"
      ],
      "text/plain": [
       "                  Open price  High price  Low price  Close price  \\\n",
       "Open price          1.000000    1.000000   1.000000     1.000000   \n",
       "High price          1.000000    1.000000   0.999999     1.000000   \n",
       "Low price           1.000000    0.999999   1.000000     1.000000   \n",
       "Close price         1.000000    1.000000   1.000000     1.000000   \n",
       "Number of trades    0.665169    0.665176   0.665132     0.665142   \n",
       "\n",
       "                  Number of trades  \n",
       "Open price                0.665169  \n",
       "High price                0.665176  \n",
       "Low price                 0.665132  \n",
       "Close price               0.665142  \n",
       "Number of trades          1.000000  "
      ]
     },
     "execution_count": 119,
     "metadata": {},
     "output_type": "execute_result"
    }
   ],
   "source": [
    "f_data[['base','Open price','High price','Low price','Close price','Number of trades']].groupby('base').mean().corr()"
   ]
  },
  {
   "attachments": {},
   "cell_type": "markdown",
   "metadata": {},
   "source": [
    "Độ tương quan khá thấp, nên có thể thấy số lượng giao dịch không có ảnh hưởng nhiều đến giá của đồng coin"
   ]
  },
  {
   "attachments": {},
   "cell_type": "markdown",
   "metadata": {},
   "source": [
    "---"
   ]
  },
  {
   "cell_type": "code",
   "execution_count": null,
   "metadata": {},
   "outputs": [],
   "source": []
  }
 ],
 "metadata": {
  "kernelspec": {
   "display_name": "Python 3",
   "language": "python",
   "name": "python3"
  },
  "language_info": {
   "codemirror_mode": {
    "name": "ipython",
    "version": 3
   },
   "file_extension": ".py",
   "mimetype": "text/x-python",
   "name": "python",
   "nbconvert_exporter": "python",
   "pygments_lexer": "ipython3",
   "version": "3.9.12"
  },
  "orig_nbformat": 4,
  "vscode": {
   "interpreter": {
    "hash": "a975ed8b98c08beba37d949353546e85fb5250a2bdceb316b7e036ee961162de"
   }
  }
 },
 "nbformat": 4,
 "nbformat_minor": 2
}
