{
 "cells": [
  {
   "cell_type": "markdown",
   "metadata": {},
   "source": [
    "### Import library"
   ]
  },
  {
   "cell_type": "code",
   "execution_count": 1,
   "metadata": {},
   "outputs": [
    {
     "data": {
      "text/plain": [
       "True"
      ]
     },
     "execution_count": 1,
     "metadata": {},
     "output_type": "execute_result"
    }
   ],
   "source": [
    "# get data\n",
    "from binance.spot import Spot \n",
    "\n",
    "# handle data\n",
    "import pyspark.sql as ps\n",
    "from pyspark.sql.functions import from_unixtime,date_format,from_utc_timestamp\n",
    "from pyspark.sql.types import DateType\n",
    "\n",
    "# train data\n",
    "import pandas as pd\n",
    "import numpy as np\n",
    "from datetime import datetime,timedelta\n",
    "\n",
    "# enviroment\n",
    "import os\n",
    "from dotenv import load_dotenv\n",
    "load_dotenv(\"../env/app.env\")"
   ]
  },
  {
   "cell_type": "markdown",
   "metadata": {},
   "source": [
    "### Setup clients"
   ]
  },
  {
   "cell_type": "code",
   "execution_count": 2,
   "metadata": {},
   "outputs": [
    {
     "name": "stderr",
     "output_type": "stream",
     "text": [
      "22/11/17 15:06:49 WARN NativeCodeLoader: Unable to load native-hadoop library for your platform... using builtin-java classes where applicable\n",
      "Using Spark's default log4j profile: org/apache/spark/log4j-defaults.properties\n",
      "Setting default log level to \"WARN\".\n",
      "To adjust logging level use sc.setLogLevel(newLevel). For SparkR, use setLogLevel(newLevel).\n"
     ]
    }
   ],
   "source": [
    "BINANCE_API_KEY = os.environ.get(\"BINANCE_API_KEY\")\n",
    "BINANCE_API_SECRET = os.environ.get(\"BINANCE_API_SECRET\")\n",
    "client = Spot(key=BINANCE_API_KEY, secret=BINANCE_API_SECRET)\n",
    "spark = ps.SparkSession.\\\n",
    "        builder.\\\n",
    "        appName(\"pyspark-notebook\").\\\n",
    "        master(\"spark://spark-master:7077\").\\\n",
    "        config(\"spark.executor.memory\", \"4096m\").\\\n",
    "        getOrCreate()\n",
    "spark.sparkContext.setLogLevel(\"WARN\")"
   ]
  },
  {
   "cell_type": "code",
   "execution_count": 3,
   "metadata": {},
   "outputs": [],
   "source": [
    "DAY_TO_QUERY = 1800\n",
    "DURATION_EACH_DAY = 60 * 60 * 24 * 1000"
   ]
  },
  {
   "cell_type": "markdown",
   "metadata": {},
   "source": [
    "### Fetch day period data"
   ]
  },
  {
   "cell_type": "markdown",
   "metadata": {},
   "source": [
    "**Declare period, symbol and header**"
   ]
  },
  {
   "cell_type": "code",
   "execution_count": 10,
   "metadata": {},
   "outputs": [],
   "source": [
    "PERIOD = \"1d\"\n",
    "symbol = \"BTCUSDT\"\n",
    "columns=['open_time', 'open', 'high', 'low', 'close', 'volume', 'close_time', 'quote_asset_volume', 'number_of_trades', 'taker_buy_base_asset_volume', 'taker_buy_quote_asset_volume', 'ignore']"
   ]
  },
  {
   "cell_type": "markdown",
   "metadata": {},
   "source": [
    "**Store function**"
   ]
  },
  {
   "cell_type": "code",
   "execution_count": 11,
   "metadata": {},
   "outputs": [],
   "source": [
    "# write dataframe to hdfs with partitions\n",
    "def writeToHFDS(df, symbol):\n",
    "    df = df \\\n",
    "        .withColumn(\"open_time\", df[\"open_time\"] / 1000) \\\n",
    "        .withColumn(\"date\", from_unixtime('open_time').cast(DateType()))\n",
    "    df = df \\\n",
    "        .withColumn(\"day\", date_format(df['date'], 'dd')) \\\n",
    "        .withColumn(\"month\", date_format(df['date'], 'MM')) \\\n",
    "        .withColumn(\"year\", date_format(df['date'], 'yyyy'))\n",
    "\n",
    "    df.write.option(\"header\",True) \\\n",
    "         .mode(\"overwrite\") \\\n",
    "         .partitionBy(\"day\",\"month\",\"year\") \\\n",
    "         .parquet(f\"hdfs://hadoop-namenode:9000/crypto/{symbol}/{PERIOD}.parquet\")\n"
   ]
  },
  {
   "cell_type": "markdown",
   "metadata": {},
   "source": [
    "**Get single symbol data points**"
   ]
  },
  {
   "cell_type": "code",
   "execution_count": 12,
   "metadata": {},
   "outputs": [
    {
     "name": "stderr",
     "output_type": "stream",
     "text": [
      "                                                                                \r"
     ]
    }
   ],
   "source": [
    "today = datetime.utcnow().replace(hour=7, minute=0, second=0, microsecond=0)\n",
    "today_timestamp = int(today.timestamp() * 1000)\n",
    "\n",
    "start_timestamp = today_timestamp - DAY_TO_QUERY * DURATION_EACH_DAY\n",
    "end_timestamp = today_timestamp\n",
    "\n",
    "for timestamp in range(start_timestamp, end_timestamp, DURATION_EACH_DAY * 100):\n",
    "    data = client.klines(symbol, PERIOD, limit=100, startTime=timestamp, endTime=timestamp + DURATION_EACH_DAY * 100)\n",
    "    if start_timestamp == timestamp:\n",
    "        df = spark.createDataFrame(data, schema=columns)\n",
    "    else:\n",
    "        df = df.union(spark.createDataFrame(data))\n",
    "\n",
    "writeToHFDS(df, symbol)"
   ]
  },
  {
   "cell_type": "code",
   "execution_count": 111,
   "metadata": {},
   "outputs": [],
   "source": [
    "symbol = \"BTCUSDT\"\n",
    "df_load = spark.read.parquet(f\"hdfs://hadoop-namenode:9000/crypto/{symbol}/{PERIOD}.parquet\")"
   ]
  },
  {
   "cell_type": "code",
   "execution_count": null,
   "metadata": {},
   "outputs": [],
   "source": [
    "exchanges = client.exchange_info()\n",
    "symbols = list(map(lambda item: item.get('symbol'), exchanges.get('symbols')))\n",
    "\n",
    "today = datetime.utcnow().replace(hour=7, minute=0, second=0, microsecond=0)\n",
    "today_timestamp = int(today.timestamp() * 1000)\n",
    "\n",
    "start_timestamp = today_timestamp - DAY_TO_QUERY * DURATION_EACH_DAY\n",
    "end_timestamp = today_timestamp\n",
    "\n",
    "for symbol in symbols:\n",
    "    for timestamp in range(start_timestamp, end_timestamp, DURATION_EACH_DAY * 100):\n",
    "        data = client.klines(symbol, PERIOD, limit=100, startTime=timestamp, endTime=timestamp + DURATION_EACH_DAY * 100)\n",
    "        if start_timestamp == timestamp:\n",
    "            df = spark.createDataFrame(data, schema=columns)\n",
    "        else:\n",
    "            df = df.union(spark.createDataFrame(data))\n",
    "\n",
    "    writeToHFDS(df, symbol)"
   ]
  }
 ],
 "metadata": {
  "kernelspec": {
   "display_name": "Python 3 (ipykernel)",
   "language": "python",
   "name": "python3"
  },
  "language_info": {
   "codemirror_mode": {
    "name": "ipython",
    "version": 3
   },
   "file_extension": ".py",
   "mimetype": "text/x-python",
   "name": "python",
   "nbconvert_exporter": "python",
   "pygments_lexer": "ipython3",
   "version": "3.9.2"
  },
  "vscode": {
   "interpreter": {
    "hash": "479fcfcd8a781549d023ec8ee70cfd9d1bc4e10e5bc48a6e6de9df19fe23d55c"
   }
  }
 },
 "nbformat": 4,
 "nbformat_minor": 4
}
