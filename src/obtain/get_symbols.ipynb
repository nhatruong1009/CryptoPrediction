{
 "cells": [
  {
   "cell_type": "code",
   "execution_count": 1,
   "metadata": {
    "execution": {
     "iopub.execute_input": "2023-01-09T10:21:44.778262Z",
     "iopub.status.busy": "2023-01-09T10:21:44.778093Z",
     "iopub.status.idle": "2023-01-09T10:21:45.154790Z",
     "shell.execute_reply": "2023-01-09T10:21:45.154381Z"
    }
   },
   "outputs": [
    {
     "data": {
      "text/plain": [
       "True"
      ]
     },
     "execution_count": 1,
     "metadata": {},
     "output_type": "execute_result"
    }
   ],
   "source": [
    "import requests\n",
    "import json\n",
    "import pandas\n",
    "import os\n",
    "from dotenv import load_dotenv\n",
    "load_dotenv(\"../../env/app.env\")"
   ]
  },
  {
   "cell_type": "code",
   "execution_count": 2,
   "metadata": {
    "execution": {
     "iopub.execute_input": "2023-01-09T10:21:45.179498Z",
     "iopub.status.busy": "2023-01-09T10:21:45.179235Z",
     "iopub.status.idle": "2023-01-09T10:21:45.181775Z",
     "shell.execute_reply": "2023-01-09T10:21:45.181297Z"
    }
   },
   "outputs": [],
   "source": [
    "CMK_KEY = os.environ.get(\"COIN_MARKET_CAP_KEY\")"
   ]
  },
  {
   "cell_type": "code",
   "execution_count": 3,
   "metadata": {
    "execution": {
     "iopub.execute_input": "2023-01-09T10:21:45.184109Z",
     "iopub.status.busy": "2023-01-09T10:21:45.183960Z",
     "iopub.status.idle": "2023-01-09T10:21:45.186139Z",
     "shell.execute_reply": "2023-01-09T10:21:45.185783Z"
    }
   },
   "outputs": [],
   "source": [
    "columns = [\n",
    "    'symbol', # abbreviation của symbol\n",
    "    'price', # giá hiện tại của symbol theo USD\n",
    "    'percent_change_7d', # phần trăm thay đổi giá của symbol trong 7 ngày qua\n",
    "    'market_cap', # vốn hoá của symbol theo USD\n",
    "    'tags', # các tag của symbol\n",
    "    'date_added' # ngày thêm vào coinmarketcap\n",
    "]"
   ]
  },
  {
   "cell_type": "code",
   "execution_count": 4,
   "metadata": {
    "execution": {
     "iopub.execute_input": "2023-01-09T10:21:45.187981Z",
     "iopub.status.busy": "2023-01-09T10:21:45.187843Z",
     "iopub.status.idle": "2023-01-09T10:21:47.197195Z",
     "shell.execute_reply": "2023-01-09T10:21:47.196406Z"
    }
   },
   "outputs": [],
   "source": [
    "SYMBOLS_LIST_API = 'https://pro-api.coinmarketcap.com/v1/cryptocurrency/listings/latest'\n",
    "\n",
    "headers = {\n",
    "    'X-CMC_PRO_API_KEY': CMK_KEY\n",
    "}\n",
    "\n",
    "params = {\n",
    "    'limit': 5000\n",
    "}\n",
    "\n",
    "raw_symbols = json.loads(requests.get(SYMBOLS_LIST_API, headers=headers, params=params).text)"
   ]
  },
  {
   "cell_type": "code",
   "execution_count": 5,
   "metadata": {
    "execution": {
     "iopub.execute_input": "2023-01-09T10:21:47.199758Z",
     "iopub.status.busy": "2023-01-09T10:21:47.199593Z",
     "iopub.status.idle": "2023-01-09T10:21:47.202354Z",
     "shell.execute_reply": "2023-01-09T10:21:47.202020Z"
    }
   },
   "outputs": [],
   "source": [
    "def get_symbol_attr(symbol):\n",
    "    symbol_name = symbol['symbol']\n",
    "    price = symbol['quote']['USD']['price']\n",
    "    percent_change_7d = symbol['quote']['USD']['percent_change_7d']\n",
    "    market_cap = symbol['quote']['USD']['market_cap']\n",
    "    tags = \",\".join(symbol['tags'])\n",
    "    date_added = symbol['date_added']\n",
    "    return [symbol_name, price, percent_change_7d, market_cap, tags, date_added]"
   ]
  },
  {
   "cell_type": "code",
   "execution_count": 6,
   "metadata": {
    "execution": {
     "iopub.execute_input": "2023-01-09T10:21:47.204164Z",
     "iopub.status.busy": "2023-01-09T10:21:47.204032Z",
     "iopub.status.idle": "2023-01-09T10:21:47.209846Z",
     "shell.execute_reply": "2023-01-09T10:21:47.209396Z"
    }
   },
   "outputs": [],
   "source": [
    "symbols = list(map(get_symbol_attr, raw_symbols['data']))"
   ]
  },
  {
   "cell_type": "code",
   "execution_count": 7,
   "metadata": {
    "execution": {
     "iopub.execute_input": "2023-01-09T10:21:47.211839Z",
     "iopub.status.busy": "2023-01-09T10:21:47.211693Z",
     "iopub.status.idle": "2023-01-09T10:21:47.216841Z",
     "shell.execute_reply": "2023-01-09T10:21:47.216413Z"
    }
   },
   "outputs": [],
   "source": [
    "df = pandas.DataFrame(symbols, columns=columns)"
   ]
  },
  {
   "cell_type": "code",
   "execution_count": 8,
   "metadata": {
    "execution": {
     "iopub.execute_input": "2023-01-09T10:21:47.218706Z",
     "iopub.status.busy": "2023-01-09T10:21:47.218561Z",
     "iopub.status.idle": "2023-01-09T10:21:47.299163Z",
     "shell.execute_reply": "2023-01-09T10:21:47.298747Z"
    }
   },
   "outputs": [],
   "source": [
    "df.to_csv(\"../../datastore/coin_market_cap_symbols.csv\", index=False)"
   ]
  }
 ],
 "metadata": {
  "kernelspec": {
   "display_name": "Python 3.8.8 ('NaDS')",
   "language": "python",
   "name": "python3"
  },
  "language_info": {
   "codemirror_mode": {
    "name": "ipython",
    "version": 3
   },
   "file_extension": ".py",
   "mimetype": "text/x-python",
   "name": "python",
   "nbconvert_exporter": "python",
   "pygments_lexer": "ipython3",
   "version": "3.8.8"
  },
  "vscode": {
   "interpreter": {
    "hash": "479fcfcd8a781549d023ec8ee70cfd9d1bc4e10e5bc48a6e6de9df19fe23d55c"
   }
  }
 },
 "nbformat": 4,
 "nbformat_minor": 2
}
