{
 "cells": [
  {
   "cell_type": "code",
   "execution_count": 1,
   "metadata": {
    "execution": {
     "iopub.execute_input": "2023-01-09T16:56:49.502376Z",
     "iopub.status.busy": "2023-01-09T16:56:49.502148Z",
     "iopub.status.idle": "2023-01-09T16:56:50.251896Z",
     "shell.execute_reply": "2023-01-09T16:56:50.251029Z"
    }
   },
   "outputs": [
    {
     "data": {
      "text/plain": [
       "False"
      ]
     },
     "execution_count": 1,
     "metadata": {},
     "output_type": "execute_result"
    }
   ],
   "source": [
    "import requests\n",
    "import json\n",
    "import pandas\n",
    "import os\n",
    "from dotenv import load_dotenv\n",
    "load_dotenv(\"../../env/app.env\")"
   ]
  },
  {
   "cell_type": "code",
   "execution_count": 2,
   "metadata": {
    "execution": {
     "iopub.execute_input": "2023-01-09T16:56:50.303700Z",
     "iopub.status.busy": "2023-01-09T16:56:50.303375Z",
     "iopub.status.idle": "2023-01-09T16:56:50.305923Z",
     "shell.execute_reply": "2023-01-09T16:56:50.305587Z"
    }
   },
   "outputs": [],
   "source": [
    "#API key\n",
    "CMK_KEY = os.environ.get(\"COIN_MARKET_CAP_KEY\")"
   ]
  },
  {
   "cell_type": "code",
   "execution_count": 3,
   "metadata": {
    "execution": {
     "iopub.execute_input": "2023-01-09T16:56:50.308053Z",
     "iopub.status.busy": "2023-01-09T16:56:50.307866Z",
     "iopub.status.idle": "2023-01-09T16:56:50.310789Z",
     "shell.execute_reply": "2023-01-09T16:56:50.310418Z"
    }
   },
   "outputs": [],
   "source": [
    "#collums of return data\n",
    "columns = [\n",
    "    'symbol', # abbreviation của symbol\n",
    "    'price', # giá hiện tại của symbol theo USD\n",
    "    'percent_change_7d', # phần trăm thay đổi giá của symbol trong 7 ngày qua\n",
    "    'market_cap', # vốn hoá của symbol theo USD\n",
    "    'tags', # các tag của symbol\n",
    "    'date_added' # ngày thêm vào coinmarketcap\n",
    "]"
   ]
  },
  {
   "cell_type": "code",
   "execution_count": 4,
   "metadata": {
    "execution": {
     "iopub.execute_input": "2023-01-09T16:56:50.313229Z",
     "iopub.status.busy": "2023-01-09T16:56:50.313051Z",
     "iopub.status.idle": "2023-01-09T16:56:52.302741Z",
     "shell.execute_reply": "2023-01-09T16:56:52.302297Z"
    }
   },
   "outputs": [],
   "source": [
    "#request data\n",
    "SYMBOLS_LIST_API = 'https://pro-api.coinmarketcap.com/v1/cryptocurrency/listings/latest'\n",
    "\n",
    "headers = {\n",
    "    'X-CMC_PRO_API_KEY': CMK_KEY\n",
    "}\n",
    "\n",
    "params = {\n",
    "    'limit': 5000\n",
    "}\n",
    "\n",
    "raw_symbols = json.loads(requests.get(SYMBOLS_LIST_API, headers=headers, params=params).text)"
   ]
  },
  {
   "cell_type": "code",
   "execution_count": 5,
   "metadata": {
    "execution": {
     "iopub.execute_input": "2023-01-09T16:56:52.305437Z",
     "iopub.status.busy": "2023-01-09T16:56:52.305228Z",
     "iopub.status.idle": "2023-01-09T16:56:52.308741Z",
     "shell.execute_reply": "2023-01-09T16:56:52.308225Z"
    }
   },
   "outputs": [],
   "source": [
    "# write function to easy to reuse by json format\n",
    "def get_symbol_attr(symbol):\n",
    "    symbol_name = symbol['symbol']\n",
    "    price = symbol['quote']['USD']['price']\n",
    "    percent_change_7d = symbol['quote']['USD']['percent_change_7d']\n",
    "    market_cap = symbol['quote']['USD']['market_cap']\n",
    "    tags = \",\".join(symbol['tags'])\n",
    "    date_added = symbol['date_added']\n",
    "    return [symbol_name, price, percent_change_7d, market_cap, tags, date_added]"
   ]
  },
  {
   "cell_type": "code",
   "execution_count": null,
   "metadata": {
    "execution": {
     "iopub.execute_input": "2023-01-09T16:56:52.311875Z",
     "iopub.status.busy": "2023-01-09T16:56:52.311688Z",
     "iopub.status.idle": "2023-01-09T16:56:52.319361Z",
     "shell.execute_reply": "2023-01-09T16:56:52.318917Z"
    }
   },
   "outputs": [],
   "source": [
    "symbols = list(map(get_symbol_attr, raw_symbols['data']))"
   ]
  },
  {
   "cell_type": "code",
   "execution_count": 7,
   "metadata": {
    "execution": {
     "iopub.execute_input": "2023-01-09T16:56:52.321568Z",
     "iopub.status.busy": "2023-01-09T16:56:52.321377Z",
     "iopub.status.idle": "2023-01-09T16:56:52.334408Z",
     "shell.execute_reply": "2023-01-09T16:56:52.334013Z"
    }
   },
   "outputs": [],
   "source": [
    "df = pandas.DataFrame(symbols, columns=columns)"
   ]
  },
  {
   "cell_type": "code",
   "execution_count": 8,
   "metadata": {
    "execution": {
     "iopub.execute_input": "2023-01-09T16:56:52.337579Z",
     "iopub.status.busy": "2023-01-09T16:56:52.337367Z",
     "iopub.status.idle": "2023-01-09T16:56:52.472193Z",
     "shell.execute_reply": "2023-01-09T16:56:52.471730Z"
    }
   },
   "outputs": [],
   "source": [
    "df.to_csv(\"../../datastore/raw/coin_market_cap_symbols.csv\", index=False)"
   ]
  }
 ],
 "metadata": {
  "kernelspec": {
   "display_name": "Python 3",
   "language": "python",
   "name": "python3"
  },
  "language_info": {
   "codemirror_mode": {
    "name": "ipython",
    "version": 3
   },
   "file_extension": ".py",
   "mimetype": "text/x-python",
   "name": "python",
   "nbconvert_exporter": "python",
   "pygments_lexer": "ipython3",
   "version": "3.10.6 (main, Nov 14 2022, 16:10:14) [GCC 11.3.0]"
  },
  "vscode": {
   "interpreter": {
    "hash": "916dbcbb3f70747c44a77c7bcd40155683ae19c65e1c03b4aa3499c5328201f1"
   }
  }
 },
 "nbformat": 4,
 "nbformat_minor": 2
}
