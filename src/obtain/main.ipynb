{
 "cells": [
  {
   "cell_type": "markdown",
   "metadata": {},
   "source": [
    "# 🏮 Run all files"
   ]
  },
  {
   "cell_type": "code",
   "execution_count": null,
   "metadata": {},
   "outputs": [],
   "source": [
    "!jupyter nbconvert --execute --to notebook --inplace ../obtain/get_symbols.ipynb\n",
    "!jupyter nbconvert --execute --to notebook --inplace ../obtain/get_each_price.ipynb\n",
    "!jupyter nbconvert --execute --to notebook --inplace ../obtain/get_all_price.ipynb"
   ]
  }
 ],
 "metadata": {
  "kernelspec": {
   "display_name": "Python 3",
   "language": "python",
   "name": "python3"
  },
  "language_info": {
   "codemirror_mode": {
    "name": "ipython",
    "version": 3
   },
   "file_extension": ".py",
   "mimetype": "text/x-python",
   "name": "python",
   "nbconvert_exporter": "python",
   "pygments_lexer": "ipython3",
   "version": "3.10.4"
  },
  "orig_nbformat": 4,
  "vscode": {
   "interpreter": {
    "hash": "37b8237ea820e88a1d26491c00c98f736c11fa9ce045cd1f80b04c4e807e90c1"
   }
  }
 },
 "nbformat": 4,
 "nbformat_minor": 2
}
