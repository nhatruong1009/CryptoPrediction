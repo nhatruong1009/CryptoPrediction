{
 "cells": [
  {
   "cell_type": "markdown",
   "metadata": {},
   "source": [
    "# 🏮 Run all files"
   ]
  },
  {
   "cell_type": "code",
   "execution_count": 1,
   "metadata": {},
   "outputs": [
    {
     "name": "stdout",
     "output_type": "stream",
     "text": [
      "[NbConvertApp] Converting notebook ../obtain/get_symbols.ipynb to notebook\n",
      "[NbConvertApp] Writing 5363 bytes to ../obtain/get_symbols.ipynb\n",
      "[NbConvertApp] Converting notebook ../obtain/get_each_price.ipynb to notebook\n",
      "^C\n",
      "[NbConvertApp] Converting notebook ../obtain/get_all_price.ipynb to notebook\n"
     ]
    }
   ],
   "source": [
    "!jupyter nbconvert --execute --to notebook --inplace ../obtain/get_symbols.ipynb\n",
    "!jupyter nbconvert --execute --to notebook --inplace ../obtain/get_each_price.ipynb\n",
    "!jupyter nbconvert --execute --to notebook --inplace ../obtain/get_all_price.ipynb"
   ]
  },
  {
   "cell_type": "code",
   "execution_count": null,
   "metadata": {},
   "outputs": [],
   "source": []
  }
 ],
 "metadata": {
  "kernelspec": {
   "display_name": "Python 3.8.8 ('NaDS')",
   "language": "python",
   "name": "python3"
  },
  "language_info": {
   "codemirror_mode": {
    "name": "ipython",
    "version": 3
   },
   "file_extension": ".py",
   "mimetype": "text/x-python",
   "name": "python",
   "nbconvert_exporter": "python",
   "pygments_lexer": "ipython3",
   "version": "3.8.8"
  },
  "orig_nbformat": 4,
  "vscode": {
   "interpreter": {
    "hash": "479fcfcd8a781549d023ec8ee70cfd9d1bc4e10e5bc48a6e6de9df19fe23d55c"
   }
  }
 },
 "nbformat": 4,
 "nbformat_minor": 2
}
