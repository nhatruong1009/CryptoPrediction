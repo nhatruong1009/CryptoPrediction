{
 "cells": [
  {
   "cell_type": "markdown",
   "metadata": {},
   "source": [
    "# 🏮 Run all files"
   ]
  },
  {
   "cell_type": "code",
   "execution_count": 5,
   "metadata": {},
   "outputs": [
    {
     "name": "stdout",
     "output_type": "stream",
     "text": [
      "[NbConvertApp] Converting notebook ../obtain/get_symbols.ipynb to notebook\n",
      "[NbConvertApp] Writing 5359 bytes to ../obtain/get_symbols.ipynb\n",
      "[NbConvertApp] Converting notebook ../obtain/get_each_price.ipynb to notebook\n",
      "[NbConvertApp] Writing 4912 bytes to ../obtain/get_each_price.ipynb\n",
      "[NbConvertApp] Converting notebook ../obtain/get_all_price.ipynb to notebook\n",
      "[NbConvertApp] Writing 6183 bytes to ../obtain/get_all_price.ipynb\n"
     ]
    }
   ],
   "source": [
    "!jupyter nbconvert --execute --to notebook --inplace ../obtain/get_symbols.ipynb\n",
    "!jupyter nbconvert --execute --to notebook --inplace ../obtain/get_each_price.ipynb\n",
    "!jupyter nbconvert --execute --to notebook --inplace ../obtain/get_all_price.ipynb"
   ]
  }
 ],
 "metadata": {
  "kernelspec": {
   "display_name": "Python 3.10.8 64-bit",
   "language": "python",
   "name": "python3"
  },
  "language_info": {
   "codemirror_mode": {
    "name": "ipython",
    "version": 3
   },
   "file_extension": ".py",
   "mimetype": "text/x-python",
   "name": "python",
   "nbconvert_exporter": "python",
   "pygments_lexer": "ipython3",
   "version": "3.10.8"
  },
  "orig_nbformat": 4,
  "vscode": {
   "interpreter": {
    "hash": "aee8b7b246df8f9039afb4144a1f6fd8d2ca17a180786b69acc140d282b71a49"
   }
  }
 },
 "nbformat": 4,
 "nbformat_minor": 2
}
