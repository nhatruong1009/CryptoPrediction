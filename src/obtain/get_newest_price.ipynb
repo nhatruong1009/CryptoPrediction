{
 "cells": [
  {
   "cell_type": "code",
   "execution_count": 1,
   "metadata": {
    "execution": {
     "iopub.execute_input": "2023-01-11T18:47:27.008341Z",
     "iopub.status.busy": "2023-01-11T18:47:27.006800Z",
     "iopub.status.idle": "2023-01-11T18:47:28.545516Z",
     "shell.execute_reply": "2023-01-11T18:47:28.536517Z"
    }
   },
   "outputs": [
    {
     "data": {
      "text/plain": [
       "False"
      ]
     },
     "execution_count": 1,
     "metadata": {},
     "output_type": "execute_result"
    }
   ],
   "source": [
    "# get data\n",
    "from binance.spot import Spot \n",
    "from constants import price_cols, PERIOD, SYMBOL, DURATION_EACH_DAY, DATA_POINT_ONE_DAY, NUM_OF_DAYS\n",
    "\n",
    "# train data\n",
    "import pandas as pd\n",
    "from datetime import datetime\n",
    "\n",
    "# enviroment\n",
    "import os\n",
    "from dotenv import load_dotenv\n",
    "load_dotenv(\"../../env/app.env\")"
   ]
  },
  {
   "cell_type": "code",
   "execution_count": 2,
   "metadata": {
    "execution": {
     "iopub.execute_input": "2023-01-11T18:47:28.659966Z",
     "iopub.status.busy": "2023-01-11T18:47:28.659285Z",
     "iopub.status.idle": "2023-01-11T18:47:28.666356Z",
     "shell.execute_reply": "2023-01-11T18:47:28.665094Z"
    }
   },
   "outputs": [],
   "source": [
    "#API key and connect\n",
    "BINANCE_API_KEY = os.environ.get(\"BINANCE_API_KEY\")\n",
    "BINANCE_API_SECRET = os.environ.get(\"BINANCE_API_SECRET\")\n",
    "client = Spot(key=BINANCE_API_KEY, secret=BINANCE_API_SECRET)"
   ]
  },
  {
   "cell_type": "markdown",
   "metadata": {},
   "source": [
    "## Read old prices"
   ]
  },
  {
   "cell_type": "code",
   "execution_count": 3,
   "metadata": {
    "execution": {
     "iopub.execute_input": "2023-01-11T18:47:28.679434Z",
     "iopub.status.busy": "2023-01-11T18:47:28.678908Z",
     "iopub.status.idle": "2023-01-11T18:47:29.318982Z",
     "shell.execute_reply": "2023-01-11T18:47:29.314250Z"
    }
   },
   "outputs": [
    {
     "data": {
      "text/html": [
       "<div>\n",
       "<style scoped>\n",
       "    .dataframe tbody tr th:only-of-type {\n",
       "        vertical-align: middle;\n",
       "    }\n",
       "\n",
       "    .dataframe tbody tr th {\n",
       "        vertical-align: top;\n",
       "    }\n",
       "\n",
       "    .dataframe thead th {\n",
       "        text-align: right;\n",
       "    }\n",
       "</style>\n",
       "<table border=\"1\" class=\"dataframe\">\n",
       "  <thead>\n",
       "    <tr style=\"text-align: right;\">\n",
       "      <th></th>\n",
       "      <th>Kline open time</th>\n",
       "      <th>Open price</th>\n",
       "      <th>High price</th>\n",
       "      <th>Low price</th>\n",
       "      <th>Close price</th>\n",
       "      <th>Volume</th>\n",
       "      <th>Kline Close time</th>\n",
       "      <th>Quote asset volume</th>\n",
       "      <th>Number of trades</th>\n",
       "      <th>Taker buy base asset volume</th>\n",
       "      <th>Taker buy quote asset volume</th>\n",
       "    </tr>\n",
       "  </thead>\n",
       "  <tbody>\n",
       "    <tr>\n",
       "      <th>0</th>\n",
       "      <td>1517760000000</td>\n",
       "      <td>8419.96</td>\n",
       "      <td>8532.83</td>\n",
       "      <td>8355.88</td>\n",
       "      <td>8386.77</td>\n",
       "      <td>472.122291</td>\n",
       "      <td>1517760899999</td>\n",
       "      <td>3.986791e+06</td>\n",
       "      <td>5060</td>\n",
       "      <td>215.227104</td>\n",
       "      <td>1.818350e+06</td>\n",
       "    </tr>\n",
       "    <tr>\n",
       "      <th>1</th>\n",
       "      <td>1517760900000</td>\n",
       "      <td>8386.77</td>\n",
       "      <td>8485.24</td>\n",
       "      <td>8300.00</td>\n",
       "      <td>8450.06</td>\n",
       "      <td>682.298603</td>\n",
       "      <td>1517761799999</td>\n",
       "      <td>5.702157e+06</td>\n",
       "      <td>6430</td>\n",
       "      <td>229.938351</td>\n",
       "      <td>1.923916e+06</td>\n",
       "    </tr>\n",
       "    <tr>\n",
       "      <th>2</th>\n",
       "      <td>1517761800000</td>\n",
       "      <td>8476.38</td>\n",
       "      <td>8495.01</td>\n",
       "      <td>8373.48</td>\n",
       "      <td>8467.62</td>\n",
       "      <td>424.080667</td>\n",
       "      <td>1517762699999</td>\n",
       "      <td>3.584546e+06</td>\n",
       "      <td>4384</td>\n",
       "      <td>235.532918</td>\n",
       "      <td>1.992314e+06</td>\n",
       "    </tr>\n",
       "    <tr>\n",
       "      <th>3</th>\n",
       "      <td>1517762700000</td>\n",
       "      <td>8441.29</td>\n",
       "      <td>8500.09</td>\n",
       "      <td>8370.02</td>\n",
       "      <td>8500.00</td>\n",
       "      <td>227.783558</td>\n",
       "      <td>1517763599999</td>\n",
       "      <td>1.917746e+06</td>\n",
       "      <td>3077</td>\n",
       "      <td>137.355614</td>\n",
       "      <td>1.156986e+06</td>\n",
       "    </tr>\n",
       "    <tr>\n",
       "      <th>4</th>\n",
       "      <td>1517763600000</td>\n",
       "      <td>8500.00</td>\n",
       "      <td>8579.00</td>\n",
       "      <td>8440.01</td>\n",
       "      <td>8543.98</td>\n",
       "      <td>322.068486</td>\n",
       "      <td>1517764499999</td>\n",
       "      <td>2.743974e+06</td>\n",
       "      <td>4304</td>\n",
       "      <td>189.538814</td>\n",
       "      <td>1.615451e+06</td>\n",
       "    </tr>\n",
       "    <tr>\n",
       "      <th>...</th>\n",
       "      <td>...</td>\n",
       "      <td>...</td>\n",
       "      <td>...</td>\n",
       "      <td>...</td>\n",
       "      <td>...</td>\n",
       "      <td>...</td>\n",
       "      <td>...</td>\n",
       "      <td>...</td>\n",
       "      <td>...</td>\n",
       "      <td>...</td>\n",
       "      <td>...</td>\n",
       "    </tr>\n",
       "    <tr>\n",
       "      <th>172333</th>\n",
       "      <td>1673327700000</td>\n",
       "      <td>17216.95</td>\n",
       "      <td>17223.34</td>\n",
       "      <td>17208.00</td>\n",
       "      <td>17215.23</td>\n",
       "      <td>1684.912670</td>\n",
       "      <td>1673328599999</td>\n",
       "      <td>2.900936e+07</td>\n",
       "      <td>41384</td>\n",
       "      <td>813.477680</td>\n",
       "      <td>1.400594e+07</td>\n",
       "    </tr>\n",
       "    <tr>\n",
       "      <th>172334</th>\n",
       "      <td>1673328600000</td>\n",
       "      <td>17215.23</td>\n",
       "      <td>17225.99</td>\n",
       "      <td>17207.05</td>\n",
       "      <td>17221.85</td>\n",
       "      <td>1363.170220</td>\n",
       "      <td>1673329499999</td>\n",
       "      <td>2.347062e+07</td>\n",
       "      <td>37643</td>\n",
       "      <td>663.414030</td>\n",
       "      <td>1.142270e+07</td>\n",
       "    </tr>\n",
       "    <tr>\n",
       "      <th>172335</th>\n",
       "      <td>1673329500000</td>\n",
       "      <td>17221.85</td>\n",
       "      <td>17228.64</td>\n",
       "      <td>17220.54</td>\n",
       "      <td>17227.44</td>\n",
       "      <td>200.039760</td>\n",
       "      <td>1673330399999</td>\n",
       "      <td>3.445478e+06</td>\n",
       "      <td>6599</td>\n",
       "      <td>107.728930</td>\n",
       "      <td>1.855552e+06</td>\n",
       "    </tr>\n",
       "    <tr>\n",
       "      <th>172336</th>\n",
       "      <td>1673330400000</td>\n",
       "      <td>17228.66</td>\n",
       "      <td>17233.50</td>\n",
       "      <td>17214.71</td>\n",
       "      <td>17220.39</td>\n",
       "      <td>1300.372320</td>\n",
       "      <td>1673331299999</td>\n",
       "      <td>2.239504e+07</td>\n",
       "      <td>34000</td>\n",
       "      <td>649.863570</td>\n",
       "      <td>1.119186e+07</td>\n",
       "    </tr>\n",
       "    <tr>\n",
       "      <th>172337</th>\n",
       "      <td>1673331300000</td>\n",
       "      <td>17220.39</td>\n",
       "      <td>17227.99</td>\n",
       "      <td>17218.65</td>\n",
       "      <td>17223.21</td>\n",
       "      <td>706.964520</td>\n",
       "      <td>1673332199999</td>\n",
       "      <td>1.217651e+07</td>\n",
       "      <td>16756</td>\n",
       "      <td>353.609410</td>\n",
       "      <td>6.090500e+06</td>\n",
       "    </tr>\n",
       "  </tbody>\n",
       "</table>\n",
       "<p>172338 rows × 11 columns</p>\n",
       "</div>"
      ],
      "text/plain": [
       "        Kline open time  Open price  High price  Low price  Close price  \\\n",
       "0         1517760000000     8419.96     8532.83    8355.88      8386.77   \n",
       "1         1517760900000     8386.77     8485.24    8300.00      8450.06   \n",
       "2         1517761800000     8476.38     8495.01    8373.48      8467.62   \n",
       "3         1517762700000     8441.29     8500.09    8370.02      8500.00   \n",
       "4         1517763600000     8500.00     8579.00    8440.01      8543.98   \n",
       "...                 ...         ...         ...        ...          ...   \n",
       "172333    1673327700000    17216.95    17223.34   17208.00     17215.23   \n",
       "172334    1673328600000    17215.23    17225.99   17207.05     17221.85   \n",
       "172335    1673329500000    17221.85    17228.64   17220.54     17227.44   \n",
       "172336    1673330400000    17228.66    17233.50   17214.71     17220.39   \n",
       "172337    1673331300000    17220.39    17227.99   17218.65     17223.21   \n",
       "\n",
       "             Volume  Kline Close time  Quote asset volume  Number of trades  \\\n",
       "0        472.122291     1517760899999        3.986791e+06              5060   \n",
       "1        682.298603     1517761799999        5.702157e+06              6430   \n",
       "2        424.080667     1517762699999        3.584546e+06              4384   \n",
       "3        227.783558     1517763599999        1.917746e+06              3077   \n",
       "4        322.068486     1517764499999        2.743974e+06              4304   \n",
       "...             ...               ...                 ...               ...   \n",
       "172333  1684.912670     1673328599999        2.900936e+07             41384   \n",
       "172334  1363.170220     1673329499999        2.347062e+07             37643   \n",
       "172335   200.039760     1673330399999        3.445478e+06              6599   \n",
       "172336  1300.372320     1673331299999        2.239504e+07             34000   \n",
       "172337   706.964520     1673332199999        1.217651e+07             16756   \n",
       "\n",
       "        Taker buy base asset volume  Taker buy quote asset volume  \n",
       "0                        215.227104                  1.818350e+06  \n",
       "1                        229.938351                  1.923916e+06  \n",
       "2                        235.532918                  1.992314e+06  \n",
       "3                        137.355614                  1.156986e+06  \n",
       "4                        189.538814                  1.615451e+06  \n",
       "...                             ...                           ...  \n",
       "172333                   813.477680                  1.400594e+07  \n",
       "172334                   663.414030                  1.142270e+07  \n",
       "172335                   107.728930                  1.855552e+06  \n",
       "172336                   649.863570                  1.119186e+07  \n",
       "172337                   353.609410                  6.090500e+06  \n",
       "\n",
       "[172338 rows x 11 columns]"
      ]
     },
     "execution_count": 3,
     "metadata": {},
     "output_type": "execute_result"
    }
   ],
   "source": [
    "price = pd.read_csv(f\"../../datastore/processed/{SYMBOL}_{PERIOD}.csv\")\n",
    "price # read from file"
   ]
  },
  {
   "cell_type": "markdown",
   "metadata": {},
   "source": [
    "## Fetch new prices"
   ]
  },
  {
   "cell_type": "code",
   "execution_count": 4,
   "metadata": {
    "execution": {
     "iopub.execute_input": "2023-01-11T18:47:29.337147Z",
     "iopub.status.busy": "2023-01-11T18:47:29.332071Z",
     "iopub.status.idle": "2023-01-11T18:47:29.346405Z",
     "shell.execute_reply": "2023-01-11T18:47:29.345079Z"
    }
   },
   "outputs": [],
   "source": [
    "start_timestamp = price.iloc[-1, 0] # get the lastest time has in data\n",
    "today = datetime.utcnow().replace(hour=23, minute=0, second=0, microsecond=0)\n",
    "today_timestamp = int(today.timestamp() * 1000) #the current time"
   ]
  },
  {
   "cell_type": "code",
   "execution_count": 5,
   "metadata": {
    "execution": {
     "iopub.execute_input": "2023-01-11T18:47:29.353475Z",
     "iopub.status.busy": "2023-01-11T18:47:29.352071Z",
     "iopub.status.idle": "2023-01-11T18:47:29.713843Z",
     "shell.execute_reply": "2023-01-11T18:47:29.712447Z"
    }
   },
   "outputs": [],
   "source": [
    "# get new data\n",
    "for timestamp in range(start_timestamp, today_timestamp, DURATION_EACH_DAY):\n",
    "    data = client.klines(SYMBOL, PERIOD, limit=1000, startTime=timestamp, endTime=timestamp + DURATION_EACH_DAY)\n",
    "    if start_timestamp == timestamp:\n",
    "        new_price_df = pd.DataFrame(data, columns=price_cols)\n",
    "    else:\n",
    "        new_price_df = pd.concat([new_price_df, pd.DataFrame(data, columns=price_cols)], axis=0)\n",
    "\n",
    "new_price_df.drop(\"Unused field, ignore\", axis=1, inplace=True)"
   ]
  },
  {
   "cell_type": "markdown",
   "metadata": {},
   "source": [
    "## Concatenate old and new prices and save"
   ]
  },
  {
   "cell_type": "code",
   "execution_count": 6,
   "metadata": {
    "execution": {
     "iopub.execute_input": "2023-01-11T18:47:29.725119Z",
     "iopub.status.busy": "2023-01-11T18:47:29.720988Z",
     "iopub.status.idle": "2023-01-11T18:47:32.477023Z",
     "shell.execute_reply": "2023-01-11T18:47:32.475687Z"
    }
   },
   "outputs": [],
   "source": [
    "price = pd.concat([price, new_price_df])\n",
    "price.drop_duplicates(\"Kline open time\", inplace=True)\n",
    "price.to_csv(f\"../../datastore/processed/{SYMBOL}_{PERIOD}.csv\", index=False)"
   ]
  }
 ],
 "metadata": {
  "kernelspec": {
   "display_name": "Python 3",
   "language": "python",
   "name": "python3"
  },
  "language_info": {
   "codemirror_mode": {
    "name": "ipython",
    "version": 3
   },
   "file_extension": ".py",
   "mimetype": "text/x-python",
   "name": "python",
   "nbconvert_exporter": "python",
   "pygments_lexer": "ipython3",
   "version": "3.10.6"
  },
  "vscode": {
   "interpreter": {
    "hash": "37b8237ea820e88a1d26491c00c98f736c11fa9ce045cd1f80b04c4e807e90c1"
   }
  }
 },
 "nbformat": 4,
 "nbformat_minor": 2
}
