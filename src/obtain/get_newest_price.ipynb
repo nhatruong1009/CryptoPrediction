{
 "cells": [
  {
   "cell_type": "code",
   "execution_count": 1,
   "metadata": {
    "execution": {
     "iopub.execute_input": "2023-01-10T05:47:58.457710Z",
     "iopub.status.busy": "2023-01-10T05:47:58.457493Z",
     "iopub.status.idle": "2023-01-10T05:47:58.882675Z",
     "shell.execute_reply": "2023-01-10T05:47:58.882240Z"
    }
   },
   "outputs": [
    {
     "data": {
      "text/plain": [
       "True"
      ]
     },
     "execution_count": 1,
     "metadata": {},
     "output_type": "execute_result"
    }
   ],
   "source": [
    "# get data\n",
    "from binance.spot import Spot \n",
    "from constants import price_cols, PERIOD, SYMBOL, DURATION_EACH_DAY, DATA_POINT_ONE_DAY, NUM_OF_DAYS\n",
    "\n",
    "# train data\n",
    "import pandas as pd\n",
    "from datetime import datetime\n",
    "\n",
    "# enviroment\n",
    "import os\n",
    "from dotenv import load_dotenv\n",
    "load_dotenv(\"../../env/app.env\")"
   ]
  },
  {
   "cell_type": "code",
   "execution_count": 2,
   "metadata": {
    "execution": {
     "iopub.execute_input": "2023-01-10T05:47:58.912637Z",
     "iopub.status.busy": "2023-01-10T05:47:58.912370Z",
     "iopub.status.idle": "2023-01-10T05:47:58.915204Z",
     "shell.execute_reply": "2023-01-10T05:47:58.914811Z"
    }
   },
   "outputs": [],
   "source": [
    "BINANCE_API_KEY = os.environ.get(\"BINANCE_API_KEY\")\n",
    "BINANCE_API_SECRET = os.environ.get(\"BINANCE_API_SECRET\")\n",
    "client = Spot(key=BINANCE_API_KEY, secret=BINANCE_API_SECRET)"
   ]
  },
  {
   "cell_type": "markdown",
   "metadata": {},
   "source": [
    "## Read old prices"
   ]
  },
  {
   "cell_type": "code",
   "execution_count": 3,
   "metadata": {
    "execution": {
     "iopub.execute_input": "2023-01-10T05:47:58.917239Z",
     "iopub.status.busy": "2023-01-10T05:47:58.917077Z",
     "iopub.status.idle": "2023-01-10T05:47:59.114106Z",
     "shell.execute_reply": "2023-01-10T05:47:59.113754Z"
    }
   },
   "outputs": [
    {
     "data": {
      "text/html": [
       "<div>\n",
       "<style scoped>\n",
       "    .dataframe tbody tr th:only-of-type {\n",
       "        vertical-align: middle;\n",
       "    }\n",
       "\n",
       "    .dataframe tbody tr th {\n",
       "        vertical-align: top;\n",
       "    }\n",
       "\n",
       "    .dataframe thead th {\n",
       "        text-align: right;\n",
       "    }\n",
       "</style>\n",
       "<table border=\"1\" class=\"dataframe\">\n",
       "  <thead>\n",
       "    <tr style=\"text-align: right;\">\n",
       "      <th></th>\n",
       "      <th>Kline open time</th>\n",
       "      <th>Open price</th>\n",
       "      <th>High price</th>\n",
       "      <th>Low price</th>\n",
       "      <th>Close price</th>\n",
       "      <th>Volume</th>\n",
       "      <th>Kline Close time</th>\n",
       "      <th>Quote asset volume</th>\n",
       "      <th>Number of trades</th>\n",
       "      <th>Taker buy base asset volume</th>\n",
       "      <th>Taker buy quote asset volume</th>\n",
       "    </tr>\n",
       "  </thead>\n",
       "  <tbody>\n",
       "    <tr>\n",
       "      <th>0</th>\n",
       "      <td>1517760000000</td>\n",
       "      <td>8419.96</td>\n",
       "      <td>8532.83</td>\n",
       "      <td>8355.88</td>\n",
       "      <td>8386.77</td>\n",
       "      <td>472.122291</td>\n",
       "      <td>1517760899999</td>\n",
       "      <td>3.986791e+06</td>\n",
       "      <td>5060</td>\n",
       "      <td>215.227104</td>\n",
       "      <td>1.818350e+06</td>\n",
       "    </tr>\n",
       "    <tr>\n",
       "      <th>1</th>\n",
       "      <td>1517760900000</td>\n",
       "      <td>8386.77</td>\n",
       "      <td>8485.24</td>\n",
       "      <td>8300.00</td>\n",
       "      <td>8450.06</td>\n",
       "      <td>682.298603</td>\n",
       "      <td>1517761799999</td>\n",
       "      <td>5.702157e+06</td>\n",
       "      <td>6430</td>\n",
       "      <td>229.938351</td>\n",
       "      <td>1.923916e+06</td>\n",
       "    </tr>\n",
       "    <tr>\n",
       "      <th>2</th>\n",
       "      <td>1517761800000</td>\n",
       "      <td>8476.38</td>\n",
       "      <td>8495.01</td>\n",
       "      <td>8373.48</td>\n",
       "      <td>8467.62</td>\n",
       "      <td>424.080667</td>\n",
       "      <td>1517762699999</td>\n",
       "      <td>3.584546e+06</td>\n",
       "      <td>4384</td>\n",
       "      <td>235.532918</td>\n",
       "      <td>1.992314e+06</td>\n",
       "    </tr>\n",
       "    <tr>\n",
       "      <th>3</th>\n",
       "      <td>1517762700000</td>\n",
       "      <td>8441.29</td>\n",
       "      <td>8500.09</td>\n",
       "      <td>8370.02</td>\n",
       "      <td>8500.00</td>\n",
       "      <td>227.783558</td>\n",
       "      <td>1517763599999</td>\n",
       "      <td>1.917746e+06</td>\n",
       "      <td>3077</td>\n",
       "      <td>137.355614</td>\n",
       "      <td>1.156986e+06</td>\n",
       "    </tr>\n",
       "    <tr>\n",
       "      <th>4</th>\n",
       "      <td>1517763600000</td>\n",
       "      <td>8500.00</td>\n",
       "      <td>8579.00</td>\n",
       "      <td>8440.01</td>\n",
       "      <td>8543.98</td>\n",
       "      <td>322.068486</td>\n",
       "      <td>1517764499999</td>\n",
       "      <td>2.743974e+06</td>\n",
       "      <td>4304</td>\n",
       "      <td>189.538814</td>\n",
       "      <td>1.615451e+06</td>\n",
       "    </tr>\n",
       "    <tr>\n",
       "      <th>...</th>\n",
       "      <td>...</td>\n",
       "      <td>...</td>\n",
       "      <td>...</td>\n",
       "      <td>...</td>\n",
       "      <td>...</td>\n",
       "      <td>...</td>\n",
       "      <td>...</td>\n",
       "      <td>...</td>\n",
       "      <td>...</td>\n",
       "      <td>...</td>\n",
       "      <td>...</td>\n",
       "    </tr>\n",
       "    <tr>\n",
       "      <th>172325</th>\n",
       "      <td>1673320500000</td>\n",
       "      <td>17190.40</td>\n",
       "      <td>17199.00</td>\n",
       "      <td>17182.54</td>\n",
       "      <td>17196.23</td>\n",
       "      <td>1299.372550</td>\n",
       "      <td>1673321399999</td>\n",
       "      <td>2.233834e+07</td>\n",
       "      <td>35908</td>\n",
       "      <td>649.753260</td>\n",
       "      <td>1.117039e+07</td>\n",
       "    </tr>\n",
       "    <tr>\n",
       "      <th>172326</th>\n",
       "      <td>1673321400000</td>\n",
       "      <td>17196.69</td>\n",
       "      <td>17198.84</td>\n",
       "      <td>17191.66</td>\n",
       "      <td>17191.87</td>\n",
       "      <td>147.367870</td>\n",
       "      <td>1673322299999</td>\n",
       "      <td>2.533988e+06</td>\n",
       "      <td>4488</td>\n",
       "      <td>63.182000</td>\n",
       "      <td>1.086424e+06</td>\n",
       "    </tr>\n",
       "    <tr>\n",
       "      <th>172327</th>\n",
       "      <td>1673322300000</td>\n",
       "      <td>17197.56</td>\n",
       "      <td>17208.17</td>\n",
       "      <td>17190.32</td>\n",
       "      <td>17205.72</td>\n",
       "      <td>1443.750390</td>\n",
       "      <td>1673323199999</td>\n",
       "      <td>2.483027e+07</td>\n",
       "      <td>41474</td>\n",
       "      <td>714.057870</td>\n",
       "      <td>1.228088e+07</td>\n",
       "    </tr>\n",
       "    <tr>\n",
       "      <th>172328</th>\n",
       "      <td>1673323200000</td>\n",
       "      <td>17205.31</td>\n",
       "      <td>17210.29</td>\n",
       "      <td>17198.68</td>\n",
       "      <td>17201.61</td>\n",
       "      <td>1216.826590</td>\n",
       "      <td>1673324099999</td>\n",
       "      <td>2.093487e+07</td>\n",
       "      <td>28769</td>\n",
       "      <td>584.294810</td>\n",
       "      <td>1.005271e+07</td>\n",
       "    </tr>\n",
       "    <tr>\n",
       "      <th>172329</th>\n",
       "      <td>1673324100000</td>\n",
       "      <td>17204.15</td>\n",
       "      <td>17208.16</td>\n",
       "      <td>17201.56</td>\n",
       "      <td>17201.96</td>\n",
       "      <td>152.120460</td>\n",
       "      <td>1673324999999</td>\n",
       "      <td>2.617166e+06</td>\n",
       "      <td>4339</td>\n",
       "      <td>87.581520</td>\n",
       "      <td>1.506852e+06</td>\n",
       "    </tr>\n",
       "  </tbody>\n",
       "</table>\n",
       "<p>172330 rows × 11 columns</p>\n",
       "</div>"
      ],
      "text/plain": [
       "        Kline open time  Open price  High price  Low price  Close price  \\\n",
       "0         1517760000000     8419.96     8532.83    8355.88      8386.77   \n",
       "1         1517760900000     8386.77     8485.24    8300.00      8450.06   \n",
       "2         1517761800000     8476.38     8495.01    8373.48      8467.62   \n",
       "3         1517762700000     8441.29     8500.09    8370.02      8500.00   \n",
       "4         1517763600000     8500.00     8579.00    8440.01      8543.98   \n",
       "...                 ...         ...         ...        ...          ...   \n",
       "172325    1673320500000    17190.40    17199.00   17182.54     17196.23   \n",
       "172326    1673321400000    17196.69    17198.84   17191.66     17191.87   \n",
       "172327    1673322300000    17197.56    17208.17   17190.32     17205.72   \n",
       "172328    1673323200000    17205.31    17210.29   17198.68     17201.61   \n",
       "172329    1673324100000    17204.15    17208.16   17201.56     17201.96   \n",
       "\n",
       "             Volume  Kline Close time  Quote asset volume  Number of trades  \\\n",
       "0        472.122291     1517760899999        3.986791e+06              5060   \n",
       "1        682.298603     1517761799999        5.702157e+06              6430   \n",
       "2        424.080667     1517762699999        3.584546e+06              4384   \n",
       "3        227.783558     1517763599999        1.917746e+06              3077   \n",
       "4        322.068486     1517764499999        2.743974e+06              4304   \n",
       "...             ...               ...                 ...               ...   \n",
       "172325  1299.372550     1673321399999        2.233834e+07             35908   \n",
       "172326   147.367870     1673322299999        2.533988e+06              4488   \n",
       "172327  1443.750390     1673323199999        2.483027e+07             41474   \n",
       "172328  1216.826590     1673324099999        2.093487e+07             28769   \n",
       "172329   152.120460     1673324999999        2.617166e+06              4339   \n",
       "\n",
       "        Taker buy base asset volume  Taker buy quote asset volume  \n",
       "0                        215.227104                  1.818350e+06  \n",
       "1                        229.938351                  1.923916e+06  \n",
       "2                        235.532918                  1.992314e+06  \n",
       "3                        137.355614                  1.156986e+06  \n",
       "4                        189.538814                  1.615451e+06  \n",
       "...                             ...                           ...  \n",
       "172325                   649.753260                  1.117039e+07  \n",
       "172326                    63.182000                  1.086424e+06  \n",
       "172327                   714.057870                  1.228088e+07  \n",
       "172328                   584.294810                  1.005271e+07  \n",
       "172329                    87.581520                  1.506852e+06  \n",
       "\n",
       "[172330 rows x 11 columns]"
      ]
     },
     "execution_count": 3,
     "metadata": {},
     "output_type": "execute_result"
    }
   ],
   "source": [
    "price = pd.read_csv(f\"../../datastore/processed/{SYMBOL}_{PERIOD}.csv\")\n",
    "price"
   ]
  },
  {
   "cell_type": "markdown",
   "metadata": {},
   "source": [
    "## Fetch new prices"
   ]
  },
  {
   "cell_type": "code",
   "execution_count": 4,
   "metadata": {
    "execution": {
     "iopub.execute_input": "2023-01-10T05:47:59.116061Z",
     "iopub.status.busy": "2023-01-10T05:47:59.115909Z",
     "iopub.status.idle": "2023-01-10T05:47:59.118412Z",
     "shell.execute_reply": "2023-01-10T05:47:59.118106Z"
    }
   },
   "outputs": [],
   "source": [
    "start_timestamp = price.iloc[-1, 0]\n",
    "today = datetime.utcnow().replace(hour=23, minute=0, second=0, microsecond=0)\n",
    "today_timestamp = int(today.timestamp() * 1000)"
   ]
  },
  {
   "cell_type": "code",
   "execution_count": 5,
   "metadata": {
    "execution": {
     "iopub.execute_input": "2023-01-10T05:47:59.120358Z",
     "iopub.status.busy": "2023-01-10T05:47:59.120183Z",
     "iopub.status.idle": "2023-01-10T05:47:59.527734Z",
     "shell.execute_reply": "2023-01-10T05:47:59.527298Z"
    }
   },
   "outputs": [],
   "source": [
    "for timestamp in range(start_timestamp, today_timestamp, DURATION_EACH_DAY):\n",
    "    data = client.klines(SYMBOL, PERIOD, limit=1000, startTime=timestamp, endTime=timestamp + DURATION_EACH_DAY)\n",
    "    if start_timestamp == timestamp:\n",
    "        new_price_df = pd.DataFrame(data, columns=price_cols)\n",
    "    else:\n",
    "        new_price_df = pd.concat([new_price_df, pd.DataFrame(data, columns=price_cols)], axis=0)\n",
    "\n",
    "new_price_df.drop(\"Unused field, ignore\", axis=1, inplace=True)"
   ]
  },
  {
   "cell_type": "markdown",
   "metadata": {},
   "source": [
    "## Concatenate old and new prices and save"
   ]
  },
  {
   "cell_type": "code",
   "execution_count": 6,
   "metadata": {
    "execution": {
     "iopub.execute_input": "2023-01-10T05:47:59.530244Z",
     "iopub.status.busy": "2023-01-10T05:47:59.530070Z",
     "iopub.status.idle": "2023-01-10T05:48:00.448102Z",
     "shell.execute_reply": "2023-01-10T05:48:00.447506Z"
    }
   },
   "outputs": [],
   "source": [
    "price = pd.concat([price, new_price_df])\n",
    "price.drop_duplicates(\"Kline open time\", inplace=True)\n",
    "price.to_csv(f\"../../datastore/processed/{SYMBOL}_{PERIOD}.csv\", index=False)"
   ]
  }
 ],
 "metadata": {
  "kernelspec": {
   "display_name": "Python 3",
   "language": "python",
   "name": "python3"
  },
  "language_info": {
   "codemirror_mode": {
    "name": "ipython",
    "version": 3
   },
   "file_extension": ".py",
   "mimetype": "text/x-python",
   "name": "python",
   "nbconvert_exporter": "python",
   "pygments_lexer": "ipython3",
   "version": "3.10.4"
  },
  "vscode": {
   "interpreter": {
    "hash": "37b8237ea820e88a1d26491c00c98f736c11fa9ce045cd1f80b04c4e807e90c1"
   }
  }
 },
 "nbformat": 4,
 "nbformat_minor": 2
}
