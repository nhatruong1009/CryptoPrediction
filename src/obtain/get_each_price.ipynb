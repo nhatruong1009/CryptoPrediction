{
 "cells": [
  {
   "cell_type": "markdown",
   "metadata": {},
   "source": [
    "# Import library"
   ]
  },
  {
   "cell_type": "code",
   "execution_count": 1,
   "metadata": {
    "execution": {
     "iopub.execute_input": "2023-01-10T06:53:59.590554Z",
     "iopub.status.busy": "2023-01-10T06:53:59.590554Z",
     "iopub.status.idle": "2023-01-10T06:54:00.232734Z",
     "shell.execute_reply": "2023-01-10T06:54:00.231786Z"
    }
   },
   "outputs": [
    {
     "data": {
      "text/plain": [
       "False"
      ]
     },
     "execution_count": 1,
     "metadata": {},
     "output_type": "execute_result"
    }
   ],
   "source": [
    "# get data\n",
    "from binance.spot import Spot \n",
    "from constants import price_cols, PERIOD, SYMBOL, DURATION_EACH_DAY, DATA_POINT_ONE_DAY, NUM_OF_DAYS\n",
    "\n",
    "# train data\n",
    "import pandas as pd\n",
    "from datetime import datetime\n",
    "\n",
    "# enviroment\n",
    "import os\n",
    "from dotenv import load_dotenv\n",
    "load_dotenv(\"../../env/app.env\")"
   ]
  },
  {
   "cell_type": "markdown",
   "metadata": {},
   "source": [
    "# Setup clients"
   ]
  },
  {
   "cell_type": "code",
   "execution_count": 2,
   "metadata": {
    "execution": {
     "iopub.execute_input": "2023-01-10T06:54:00.262016Z",
     "iopub.status.busy": "2023-01-10T06:54:00.261039Z",
     "iopub.status.idle": "2023-01-10T06:54:00.265946Z",
     "shell.execute_reply": "2023-01-10T06:54:00.265946Z"
    }
   },
   "outputs": [],
   "source": [
    "BINANCE_API_KEY = os.environ.get(\"BINANCE_API_KEY\")\n",
    "BINANCE_API_SECRET = os.environ.get(\"BINANCE_API_SECRET\")\n",
    "client = Spot(key=BINANCE_API_KEY, secret=BINANCE_API_SECRET)"
   ]
  },
  {
   "cell_type": "markdown",
   "metadata": {},
   "source": [
    "# Fetch day period data"
   ]
  },
  {
   "cell_type": "markdown",
   "metadata": {},
   "source": [
    "### Get data points of symbols "
   ]
  },
  {
   "cell_type": "code",
   "execution_count": 3,
   "metadata": {
    "execution": {
     "iopub.execute_input": "2023-01-10T06:54:00.272751Z",
     "iopub.status.busy": "2023-01-10T06:54:00.272751Z",
     "iopub.status.idle": "2023-01-10T06:54:02.015844Z",
     "shell.execute_reply": "2023-01-10T06:54:02.014979Z"
    }
   },
   "outputs": [],
   "source": [
    "exchanges = client.exchange_info()\n",
    "symbols = list(map(lambda item: item.get('symbol'), exchanges.get('symbols')))"
   ]
  },
  {
   "cell_type": "code",
   "execution_count": 4,
   "metadata": {
    "execution": {
     "iopub.execute_input": "2023-01-10T06:54:02.022702Z",
     "iopub.status.busy": "2023-01-10T06:54:02.021699Z",
     "iopub.status.idle": "2023-01-10T06:54:02.027581Z",
     "shell.execute_reply": "2023-01-10T06:54:02.027581Z"
    }
   },
   "outputs": [
    {
     "name": "stdout",
     "output_type": "stream",
     "text": [
      "172800 data points\n"
     ]
    }
   ],
   "source": [
    "print(f\"{DATA_POINT_ONE_DAY * NUM_OF_DAYS} data points\")"
   ]
  },
  {
   "cell_type": "code",
   "execution_count": 5,
   "metadata": {
    "execution": {
     "iopub.execute_input": "2023-01-10T06:54:02.032462Z",
     "iopub.status.busy": "2023-01-10T06:54:02.031487Z",
     "iopub.status.idle": "2023-01-10T07:20:28.729432Z",
     "shell.execute_reply": "2023-01-10T07:20:28.728458Z"
    }
   },
   "outputs": [],
   "source": [
    "today = datetime.utcnow().replace(hour=23, minute=0, second=0, microsecond=0)\n",
    "today_timestamp = int(today.timestamp() * 1000)\n",
    "\n",
    "start_timestamp = today_timestamp - NUM_OF_DAYS * DURATION_EACH_DAY\n",
    "end_timestamp = today_timestamp\n",
    "\n",
    "try:\n",
    "    for timestamp in range(start_timestamp, end_timestamp, DURATION_EACH_DAY):\n",
    "        data = client.klines(SYMBOL, PERIOD, limit=1000, startTime=timestamp, endTime=timestamp + DURATION_EACH_DAY)\n",
    "        if start_timestamp == timestamp:\n",
    "            df = pd.DataFrame(data, columns=price_cols)\n",
    "        else:\n",
    "            df = pd.concat([df, pd.DataFrame(data, columns=price_cols)], axis=0)\n",
    "\n",
    "    df.drop(\"Unused field, ignore\", axis=1, inplace=True)\n",
    "    df.to_csv(f\"../../datastore/processed/{SYMBOL}_{PERIOD}.csv\", index=False)\n",
    "except:\n",
    "    print(f\"Error at {SYMBOL}\")"
   ]
  }
 ],
 "metadata": {
  "kernelspec": {
   "display_name": "Python 3 (ipykernel)",
   "language": "python",
   "name": "python3"
  },
  "language_info": {
   "codemirror_mode": {
    "name": "ipython",
    "version": 3
   },
   "file_extension": ".py",
   "mimetype": "text/x-python",
   "name": "python",
   "nbconvert_exporter": "python",
   "pygments_lexer": "ipython3",
   "version": "3.10.4"
  },
  "vscode": {
   "interpreter": {
    "hash": "479fcfcd8a781549d023ec8ee70cfd9d1bc4e10e5bc48a6e6de9df19fe23d55c"
   }
  }
 },
 "nbformat": 4,
 "nbformat_minor": 4
}
