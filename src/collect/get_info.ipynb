{
 "cells": [
  {
   "cell_type": "code",
   "execution_count": 71,
   "metadata": {},
   "outputs": [
    {
     "data": {
      "text/plain": [
       "True"
      ]
     },
     "execution_count": 71,
     "metadata": {},
     "output_type": "execute_result"
    }
   ],
   "source": [
    "from requests import Request, Session\n",
    "from requests.exceptions import ConnectionError, Timeout, TooManyRedirects\n",
    "import pandas as pd\n",
    "import json\n",
    "from IPython.display import JSON\n",
    "\n",
    "from binance.spot import Spot \n",
    "\n",
    "# handle data\n",
    "import pyspark.sql as ps\n",
    "from pyspark.sql.functions import from_unixtime,date_format,from_utc_timestamp\n",
    "from pyspark.sql.types import DateType\n",
    "from pyspark.sql import Row\n",
    "\n",
    "# train data\n",
    "import pandas as pd\n",
    "import numpy as np\n",
    "from datetime import datetime,timedelta\n",
    "\n",
    "# enviroment\n",
    "import os\n",
    "from dotenv import load_dotenv\n",
    "load_dotenv(\"../../env/app.env\")"
   ]
  },
  {
   "cell_type": "markdown",
   "metadata": {},
   "source": [
    "# 1. Get token details"
   ]
  },
  {
   "cell_type": "markdown",
   "metadata": {},
   "source": [
    "### Declare api routes"
   ]
  },
  {
   "cell_type": "code",
   "execution_count": 40,
   "metadata": {},
   "outputs": [],
   "source": [
    "COIN_MARKET_CAP_KEY = os.environ.get(\"COIN_MARKET_CAP_KEY\")\n",
    "API_URL = 'https://pro-api.coinmarketcap.com'\n",
    "\n",
    "META_DATA_ROUTE = '/v2/cryptocurrency/info'\n",
    "LIST_SYMBOLS_ROUTE = '/v1/cryptocurrency/map'"
   ]
  },
  {
   "cell_type": "markdown",
   "metadata": {},
   "source": [
    "### Get all symbols"
   ]
  },
  {
   "cell_type": "code",
   "execution_count": 41,
   "metadata": {},
   "outputs": [],
   "source": [
    "headers = {\n",
    "  'Accepts': 'application/json',\n",
    "  'X-CMC_PRO_API_KEY': COIN_MARKET_CAP_KEY,\n",
    "}\n",
    "session = Session()\n",
    "session.headers.update(headers)"
   ]
  },
  {
   "cell_type": "code",
   "execution_count": 42,
   "metadata": {},
   "outputs": [],
   "source": [
    "response = session.get(API_URL + LIST_SYMBOLS_ROUTE)\n",
    "data = json.loads(response.text)"
   ]
  },
  {
   "cell_type": "code",
   "execution_count": 45,
   "metadata": {},
   "outputs": [
    {
     "data": {
      "application/json": [
       {
        "displayTV": 1,
        "first_historical_data": "2013-04-28T18:47:21.000Z",
        "id": 1,
        "is_active": 1,
        "last_historical_data": "2022-11-29T14:39:00.000Z",
        "name": "Bitcoin",
        "platform": null,
        "rank": 1,
        "slug": "bitcoin",
        "symbol": "BTC"
       },
       {
        "displayTV": 1,
        "first_historical_data": "2013-04-28T18:47:22.000Z",
        "id": 2,
        "is_active": 1,
        "last_historical_data": "2022-11-29T14:39:00.000Z",
        "name": "Litecoin",
        "platform": null,
        "rank": 13,
        "slug": "litecoin",
        "symbol": "LTC"
       }
      ],
      "text/plain": [
       "<IPython.core.display.JSON object>"
      ]
     },
     "execution_count": 45,
     "metadata": {
      "application/json": {
       "expanded": false,
       "root": "root"
      }
     },
     "output_type": "execute_result"
    }
   ],
   "source": [
    "JSON(data[\"data\"][:2])"
   ]
  },
  {
   "cell_type": "code",
   "execution_count": 93,
   "metadata": {},
   "outputs": [],
   "source": [
    "symbols = list(map(lambda info: info[\"symbol\"],data[\"data\"]) ) "
   ]
  },
  {
   "cell_type": "code",
   "execution_count": 47,
   "metadata": {},
   "outputs": [
    {
     "name": "stdout",
     "output_type": "stream",
     "text": [
      "2124\n",
      "['ETHBTC', 'LTCBTC', 'BNBBTC', 'NEOBTC', 'QTUMETH', 'EOSETH', 'SNTETH', 'BNTETH', 'BCCBTC', 'GASBTC']\n"
     ]
    }
   ],
   "source": [
    "print(len(symbols))\n",
    "print(symbols[:10])"
   ]
  },
  {
   "cell_type": "markdown",
   "metadata": {},
   "source": [
    "### Fetch detail of each symbol"
   ]
  },
  {
   "cell_type": "code",
   "execution_count": 161,
   "metadata": {},
   "outputs": [],
   "source": [
    "parameters = {\n",
    "  'symbol':\",\".join(symbols[:1060]),\n",
    "  'aux': \"description,tags,date_added\"\n",
    "}\n",
    "\n",
    "response = session.get(API_URL + META_DATA_ROUTE, params=parameters)\n",
    "data = json.loads(response.text)"
   ]
  },
  {
   "cell_type": "code",
   "execution_count": 162,
   "metadata": {},
   "outputs": [],
   "source": [
    "def get_table(data):\n",
    "    items = list(map(lambda item: item[1][0],data.items()))\n",
    "    rows = list(map(lambda item: list(map(lambda k_v: k_v[1],item.items())) ,items))\n",
    "    cols = list(map(lambda k_v: k_v[0],items[0].items()))\n",
    "    \n",
    "    return rows,cols"
   ]
  },
  {
   "cell_type": "code",
   "execution_count": 163,
   "metadata": {},
   "outputs": [],
   "source": [
    "rows, cols = get_table(data[\"data\"])\n",
    "df = pd.DataFrame(rows, columns=cols)"
   ]
  },
  {
   "cell_type": "code",
   "execution_count": 170,
   "metadata": {},
   "outputs": [
    {
     "data": {
      "text/html": [
       "<div>\n",
       "<style scoped>\n",
       "    .dataframe tbody tr th:only-of-type {\n",
       "        vertical-align: middle;\n",
       "    }\n",
       "\n",
       "    .dataframe tbody tr th {\n",
       "        vertical-align: top;\n",
       "    }\n",
       "\n",
       "    .dataframe thead th {\n",
       "        text-align: right;\n",
       "    }\n",
       "</style>\n",
       "<table border=\"1\" class=\"dataframe\">\n",
       "  <thead>\n",
       "    <tr style=\"text-align: right;\">\n",
       "      <th></th>\n",
       "      <th>id</th>\n",
       "      <th>name</th>\n",
       "      <th>symbol</th>\n",
       "      <th>category</th>\n",
       "      <th>description</th>\n",
       "      <th>slug</th>\n",
       "      <th>subreddit</th>\n",
       "      <th>tags</th>\n",
       "      <th>tag-names</th>\n",
       "      <th>tag-groups</th>\n",
       "      <th>date_added</th>\n",
       "      <th>twitter_username</th>\n",
       "      <th>is_hidden</th>\n",
       "      <th>date_launched</th>\n",
       "      <th>contract_address</th>\n",
       "      <th>self_reported_circulating_supply</th>\n",
       "      <th>self_reported_tags</th>\n",
       "      <th>self_reported_market_cap</th>\n",
       "    </tr>\n",
       "  </thead>\n",
       "  <tbody>\n",
       "    <tr>\n",
       "      <th>0</th>\n",
       "      <td>93</td>\n",
       "      <td>42-coin</td>\n",
       "      <td>42</td>\n",
       "      <td>coin</td>\n",
       "      <td>42-coin (42) is a cryptocurrency . Users are a...</td>\n",
       "      <td>42-coin</td>\n",
       "      <td></td>\n",
       "      <td>[mineable, hybrid-pow-pos, scrypt, store-of-va...</td>\n",
       "      <td>[Mineable, Hybrid - PoW &amp; PoS, Scrypt, Store O...</td>\n",
       "      <td>[OTHERS, ALGORITHM, ALGORITHM, CATEGORY]</td>\n",
       "      <td>2014-01-14T00:00:00.000Z</td>\n",
       "      <td>42newchain</td>\n",
       "      <td>0</td>\n",
       "      <td>None</td>\n",
       "      <td>[{'contract_address': '0x73cf73c2503154de4dc12...</td>\n",
       "      <td>NaN</td>\n",
       "      <td>None</td>\n",
       "      <td>NaN</td>\n",
       "    </tr>\n",
       "    <tr>\n",
       "      <th>1</th>\n",
       "      <td>2837</td>\n",
       "      <td>0xBitcoin</td>\n",
       "      <td>0xBTC</td>\n",
       "      <td>token</td>\n",
       "      <td>0xBitcoin (0xBTC) is a cryptocurrency and oper...</td>\n",
       "      <td>0xbtc</td>\n",
       "      <td>0xbitcoin</td>\n",
       "      <td>[mineable, arbitrum-ecosytem]</td>\n",
       "      <td>[Mineable, Arbitrum Ecosystem]</td>\n",
       "      <td>[OTHERS, PLATFORM]</td>\n",
       "      <td>2018-06-04T00:00:00.000Z</td>\n",
       "      <td>0xBTCFoundation</td>\n",
       "      <td>0</td>\n",
       "      <td>None</td>\n",
       "      <td>[{'contract_address': '0xb6ed7644c69416d67b522...</td>\n",
       "      <td>8183550.0</td>\n",
       "      <td>None</td>\n",
       "      <td>1.896847e+06</td>\n",
       "    </tr>\n",
       "    <tr>\n",
       "      <th>2</th>\n",
       "      <td>2601</td>\n",
       "      <td>1World</td>\n",
       "      <td>1WO</td>\n",
       "      <td>token</td>\n",
       "      <td>1World (1WO) is a cryptocurrency and operates ...</td>\n",
       "      <td>1world</td>\n",
       "      <td></td>\n",
       "      <td>[algorand-ecosystem]</td>\n",
       "      <td>[Algorand Ecosystem]</td>\n",
       "      <td>[CATEGORY]</td>\n",
       "      <td>2018-03-21T00:00:00.000Z</td>\n",
       "      <td>1World_Online</td>\n",
       "      <td>0</td>\n",
       "      <td>None</td>\n",
       "      <td>[{'contract_address': '0xfdbc1adc26f0f8f8606a5...</td>\n",
       "      <td>NaN</td>\n",
       "      <td>None</td>\n",
       "      <td>NaN</td>\n",
       "    </tr>\n",
       "    <tr>\n",
       "      <th>3</th>\n",
       "      <td>1252</td>\n",
       "      <td>2GIVE</td>\n",
       "      <td>2GIVE</td>\n",
       "      <td>coin</td>\n",
       "      <td>2GIVE (2GIVE) is a cryptocurrency . Users are ...</td>\n",
       "      <td>2give</td>\n",
       "      <td>2GIVE</td>\n",
       "      <td>[mineable, hybrid-pow-pos, scrypt]</td>\n",
       "      <td>[Mineable, Hybrid - PoW &amp; PoS, Scrypt]</td>\n",
       "      <td>[OTHERS, ALGORITHM, ALGORITHM]</td>\n",
       "      <td>2016-05-16T00:00:00.000Z</td>\n",
       "      <td>2GiveCoin</td>\n",
       "      <td>0</td>\n",
       "      <td>None</td>\n",
       "      <td>[]</td>\n",
       "      <td>NaN</td>\n",
       "      <td>None</td>\n",
       "      <td>NaN</td>\n",
       "    </tr>\n",
       "    <tr>\n",
       "      <th>4</th>\n",
       "      <td>3287</td>\n",
       "      <td>Abulaba</td>\n",
       "      <td>AAA</td>\n",
       "      <td>token</td>\n",
       "      <td>Abulaba (AAA) is a cryptocurrency and operates...</td>\n",
       "      <td>abulaba</td>\n",
       "      <td></td>\n",
       "      <td>None</td>\n",
       "      <td>None</td>\n",
       "      <td>None</td>\n",
       "      <td>2018-09-14T00:00:00.000Z</td>\n",
       "      <td>AbulabaCapital</td>\n",
       "      <td>0</td>\n",
       "      <td>None</td>\n",
       "      <td>[{'contract_address': '0xd938137e6d96c72e4a608...</td>\n",
       "      <td>NaN</td>\n",
       "      <td>None</td>\n",
       "      <td>NaN</td>\n",
       "    </tr>\n",
       "    <tr>\n",
       "      <th>...</th>\n",
       "      <td>...</td>\n",
       "      <td>...</td>\n",
       "      <td>...</td>\n",
       "      <td>...</td>\n",
       "      <td>...</td>\n",
       "      <td>...</td>\n",
       "      <td>...</td>\n",
       "      <td>...</td>\n",
       "      <td>...</td>\n",
       "      <td>...</td>\n",
       "      <td>...</td>\n",
       "      <td>...</td>\n",
       "      <td>...</td>\n",
       "      <td>...</td>\n",
       "      <td>...</td>\n",
       "      <td>...</td>\n",
       "      <td>...</td>\n",
       "      <td>...</td>\n",
       "    </tr>\n",
       "    <tr>\n",
       "      <th>1041</th>\n",
       "      <td>1896</td>\n",
       "      <td>0x</td>\n",
       "      <td>ZRX</td>\n",
       "      <td>token</td>\n",
       "      <td>0x (ZRX) is a cryptocurrency and operates on t...</td>\n",
       "      <td>0x</td>\n",
       "      <td>0xProject</td>\n",
       "      <td>[platform, decentralized-exchange-dex-token, d...</td>\n",
       "      <td>[Platform, Decentralized Exchange (DEX) Token,...</td>\n",
       "      <td>[CATEGORY, CATEGORY, CATEGORY, CATEGORY, CATEG...</td>\n",
       "      <td>2017-08-16T00:00:00.000Z</td>\n",
       "      <td>0xproject</td>\n",
       "      <td>0</td>\n",
       "      <td>None</td>\n",
       "      <td>[{'contract_address': '0xe41d2489571d322189246...</td>\n",
       "      <td>NaN</td>\n",
       "      <td>None</td>\n",
       "      <td>NaN</td>\n",
       "    </tr>\n",
       "    <tr>\n",
       "      <th>1042</th>\n",
       "      <td>2047</td>\n",
       "      <td>Zeusshield</td>\n",
       "      <td>ZSC</td>\n",
       "      <td>token</td>\n",
       "      <td>Zeusshield (ZSC) is a cryptocurrency and opera...</td>\n",
       "      <td>zeusshield</td>\n",
       "      <td></td>\n",
       "      <td>[asset-management, ai-big-data]</td>\n",
       "      <td>[Asset Management, AI &amp; Big Data]</td>\n",
       "      <td>[INDUSTRY, INDUSTRY]</td>\n",
       "      <td>2017-10-13T00:00:00.000Z</td>\n",
       "      <td>Zeusshield</td>\n",
       "      <td>0</td>\n",
       "      <td>None</td>\n",
       "      <td>[{'contract_address': '0x7A41e0517a5ecA4FdbC7F...</td>\n",
       "      <td>NaN</td>\n",
       "      <td>None</td>\n",
       "      <td>NaN</td>\n",
       "    </tr>\n",
       "    <tr>\n",
       "      <th>1043</th>\n",
       "      <td>4826</td>\n",
       "      <td>ZUM TOKEN</td>\n",
       "      <td>ZUM</td>\n",
       "      <td>token</td>\n",
       "      <td>ZUM TOKEN (ZUM) is a cryptocurrency launched i...</td>\n",
       "      <td>zum-token</td>\n",
       "      <td></td>\n",
       "      <td>[ethereum-ecosystem, bnb-chain]</td>\n",
       "      <td>[Ethereum Ecosystem, BNB Chain]</td>\n",
       "      <td>[PLATFORM, PLATFORM]</td>\n",
       "      <td>2019-10-25T00:00:00.000Z</td>\n",
       "      <td>Zum_Token</td>\n",
       "      <td>0</td>\n",
       "      <td>2019-09-01T00:00:00.000Z</td>\n",
       "      <td>[{'contract_address': '0xe0b9bcd54bf8a730ea5d3...</td>\n",
       "      <td>NaN</td>\n",
       "      <td>None</td>\n",
       "      <td>NaN</td>\n",
       "    </tr>\n",
       "    <tr>\n",
       "      <th>1044</th>\n",
       "      <td>1250</td>\n",
       "      <td>Zurcoin</td>\n",
       "      <td>ZUR</td>\n",
       "      <td>coin</td>\n",
       "      <td>Zurcoin (ZUR) is a cryptocurrency . Users are ...</td>\n",
       "      <td>zurcoin</td>\n",
       "      <td></td>\n",
       "      <td>[mineable, pow, quark]</td>\n",
       "      <td>[Mineable, PoW, Quark]</td>\n",
       "      <td>[OTHERS, ALGORITHM, ALGORITHM]</td>\n",
       "      <td>2016-05-09T00:00:00.000Z</td>\n",
       "      <td>DmhZur</td>\n",
       "      <td>0</td>\n",
       "      <td>None</td>\n",
       "      <td>[]</td>\n",
       "      <td>106031475.0</td>\n",
       "      <td>None</td>\n",
       "      <td>3.481553e+04</td>\n",
       "    </tr>\n",
       "    <tr>\n",
       "      <th>1045</th>\n",
       "      <td>1389</td>\n",
       "      <td>Zayedcoin</td>\n",
       "      <td>ZYD</td>\n",
       "      <td>coin</td>\n",
       "      <td>Zayedcoin (ZYD) is a cryptocurrency . Users ar...</td>\n",
       "      <td>zayedcoin</td>\n",
       "      <td></td>\n",
       "      <td>[mineable, pow, sha-256]</td>\n",
       "      <td>[Mineable, PoW, SHA-256]</td>\n",
       "      <td>[OTHERS, ALGORITHM, ALGORITHM]</td>\n",
       "      <td>2016-09-17T00:00:00.000Z</td>\n",
       "      <td>ZayedCoin</td>\n",
       "      <td>0</td>\n",
       "      <td>None</td>\n",
       "      <td>[]</td>\n",
       "      <td>NaN</td>\n",
       "      <td>None</td>\n",
       "      <td>NaN</td>\n",
       "    </tr>\n",
       "  </tbody>\n",
       "</table>\n",
       "<p>1046 rows × 18 columns</p>\n",
       "</div>"
      ],
      "text/plain": [
       "        id        name symbol category  \\\n",
       "0       93     42-coin     42     coin   \n",
       "1     2837   0xBitcoin  0xBTC    token   \n",
       "2     2601      1World    1WO    token   \n",
       "3     1252       2GIVE  2GIVE     coin   \n",
       "4     3287     Abulaba    AAA    token   \n",
       "...    ...         ...    ...      ...   \n",
       "1041  1896          0x    ZRX    token   \n",
       "1042  2047  Zeusshield    ZSC    token   \n",
       "1043  4826   ZUM TOKEN    ZUM    token   \n",
       "1044  1250     Zurcoin    ZUR     coin   \n",
       "1045  1389   Zayedcoin    ZYD     coin   \n",
       "\n",
       "                                            description        slug  \\\n",
       "0     42-coin (42) is a cryptocurrency . Users are a...     42-coin   \n",
       "1     0xBitcoin (0xBTC) is a cryptocurrency and oper...       0xbtc   \n",
       "2     1World (1WO) is a cryptocurrency and operates ...      1world   \n",
       "3     2GIVE (2GIVE) is a cryptocurrency . Users are ...       2give   \n",
       "4     Abulaba (AAA) is a cryptocurrency and operates...     abulaba   \n",
       "...                                                 ...         ...   \n",
       "1041  0x (ZRX) is a cryptocurrency and operates on t...          0x   \n",
       "1042  Zeusshield (ZSC) is a cryptocurrency and opera...  zeusshield   \n",
       "1043  ZUM TOKEN (ZUM) is a cryptocurrency launched i...   zum-token   \n",
       "1044  Zurcoin (ZUR) is a cryptocurrency . Users are ...     zurcoin   \n",
       "1045  Zayedcoin (ZYD) is a cryptocurrency . Users ar...   zayedcoin   \n",
       "\n",
       "      subreddit                                               tags  \\\n",
       "0                [mineable, hybrid-pow-pos, scrypt, store-of-va...   \n",
       "1     0xbitcoin                      [mineable, arbitrum-ecosytem]   \n",
       "2                                             [algorand-ecosystem]   \n",
       "3         2GIVE                 [mineable, hybrid-pow-pos, scrypt]   \n",
       "4                                                             None   \n",
       "...         ...                                                ...   \n",
       "1041  0xProject  [platform, decentralized-exchange-dex-token, d...   \n",
       "1042                               [asset-management, ai-big-data]   \n",
       "1043                               [ethereum-ecosystem, bnb-chain]   \n",
       "1044                                        [mineable, pow, quark]   \n",
       "1045                                      [mineable, pow, sha-256]   \n",
       "\n",
       "                                              tag-names  \\\n",
       "0     [Mineable, Hybrid - PoW & PoS, Scrypt, Store O...   \n",
       "1                        [Mineable, Arbitrum Ecosystem]   \n",
       "2                                  [Algorand Ecosystem]   \n",
       "3                [Mineable, Hybrid - PoW & PoS, Scrypt]   \n",
       "4                                                  None   \n",
       "...                                                 ...   \n",
       "1041  [Platform, Decentralized Exchange (DEX) Token,...   \n",
       "1042                  [Asset Management, AI & Big Data]   \n",
       "1043                    [Ethereum Ecosystem, BNB Chain]   \n",
       "1044                             [Mineable, PoW, Quark]   \n",
       "1045                           [Mineable, PoW, SHA-256]   \n",
       "\n",
       "                                             tag-groups  \\\n",
       "0              [OTHERS, ALGORITHM, ALGORITHM, CATEGORY]   \n",
       "1                                    [OTHERS, PLATFORM]   \n",
       "2                                            [CATEGORY]   \n",
       "3                        [OTHERS, ALGORITHM, ALGORITHM]   \n",
       "4                                                  None   \n",
       "...                                                 ...   \n",
       "1041  [CATEGORY, CATEGORY, CATEGORY, CATEGORY, CATEG...   \n",
       "1042                               [INDUSTRY, INDUSTRY]   \n",
       "1043                               [PLATFORM, PLATFORM]   \n",
       "1044                     [OTHERS, ALGORITHM, ALGORITHM]   \n",
       "1045                     [OTHERS, ALGORITHM, ALGORITHM]   \n",
       "\n",
       "                    date_added twitter_username  is_hidden  \\\n",
       "0     2014-01-14T00:00:00.000Z       42newchain          0   \n",
       "1     2018-06-04T00:00:00.000Z  0xBTCFoundation          0   \n",
       "2     2018-03-21T00:00:00.000Z    1World_Online          0   \n",
       "3     2016-05-16T00:00:00.000Z        2GiveCoin          0   \n",
       "4     2018-09-14T00:00:00.000Z   AbulabaCapital          0   \n",
       "...                        ...              ...        ...   \n",
       "1041  2017-08-16T00:00:00.000Z        0xproject          0   \n",
       "1042  2017-10-13T00:00:00.000Z       Zeusshield          0   \n",
       "1043  2019-10-25T00:00:00.000Z        Zum_Token          0   \n",
       "1044  2016-05-09T00:00:00.000Z           DmhZur          0   \n",
       "1045  2016-09-17T00:00:00.000Z        ZayedCoin          0   \n",
       "\n",
       "                 date_launched  \\\n",
       "0                         None   \n",
       "1                         None   \n",
       "2                         None   \n",
       "3                         None   \n",
       "4                         None   \n",
       "...                        ...   \n",
       "1041                      None   \n",
       "1042                      None   \n",
       "1043  2019-09-01T00:00:00.000Z   \n",
       "1044                      None   \n",
       "1045                      None   \n",
       "\n",
       "                                       contract_address  \\\n",
       "0     [{'contract_address': '0x73cf73c2503154de4dc12...   \n",
       "1     [{'contract_address': '0xb6ed7644c69416d67b522...   \n",
       "2     [{'contract_address': '0xfdbc1adc26f0f8f8606a5...   \n",
       "3                                                    []   \n",
       "4     [{'contract_address': '0xd938137e6d96c72e4a608...   \n",
       "...                                                 ...   \n",
       "1041  [{'contract_address': '0xe41d2489571d322189246...   \n",
       "1042  [{'contract_address': '0x7A41e0517a5ecA4FdbC7F...   \n",
       "1043  [{'contract_address': '0xe0b9bcd54bf8a730ea5d3...   \n",
       "1044                                                 []   \n",
       "1045                                                 []   \n",
       "\n",
       "      self_reported_circulating_supply self_reported_tags  \\\n",
       "0                                  NaN               None   \n",
       "1                            8183550.0               None   \n",
       "2                                  NaN               None   \n",
       "3                                  NaN               None   \n",
       "4                                  NaN               None   \n",
       "...                                ...                ...   \n",
       "1041                               NaN               None   \n",
       "1042                               NaN               None   \n",
       "1043                               NaN               None   \n",
       "1044                       106031475.0               None   \n",
       "1045                               NaN               None   \n",
       "\n",
       "      self_reported_market_cap  \n",
       "0                          NaN  \n",
       "1                 1.896847e+06  \n",
       "2                          NaN  \n",
       "3                          NaN  \n",
       "4                          NaN  \n",
       "...                        ...  \n",
       "1041                       NaN  \n",
       "1042                       NaN  \n",
       "1043                       NaN  \n",
       "1044              3.481553e+04  \n",
       "1045                       NaN  \n",
       "\n",
       "[1046 rows x 18 columns]"
      ]
     },
     "execution_count": 170,
     "metadata": {},
     "output_type": "execute_result"
    }
   ],
   "source": [
    "df"
   ]
  },
  {
   "cell_type": "markdown",
   "metadata": {},
   "source": [
    "# 2. Get average price entire of tokens"
   ]
  },
  {
   "cell_type": "markdown",
   "metadata": {},
   "source": [
    "### Declare client"
   ]
  },
  {
   "cell_type": "code",
   "execution_count": 88,
   "metadata": {},
   "outputs": [
    {
     "name": "stderr",
     "output_type": "stream",
     "text": [
      "22/11/29 15:18:29 WARN Utils: Service 'SparkUI' could not bind on port 4040. Attempting port 4041.\n"
     ]
    }
   ],
   "source": [
    "BINANCE_API_KEY = os.environ.get(\"BINANCE_API_KEY\")\n",
    "BINANCE_API_SECRET = os.environ.get(\"BINANCE_API_SECRET\")\n",
    "client = Spot(key=BINANCE_API_KEY, secret=BINANCE_API_SECRET)\n",
    "spark = ps.SparkSession.\\\n",
    "        builder.\\\n",
    "        appName(\"pyspark-notebook\").\\\n",
    "        master(\"spark://spark-master:7077\").\\\n",
    "        config(\"spark.executor.memory\", \"4096m\").\\\n",
    "        getOrCreate()\n",
    "spark.sparkContext.setLogLevel(\"WARN\")"
   ]
  },
  {
   "cell_type": "markdown",
   "metadata": {},
   "source": [
    "### Get symbols "
   ]
  },
  {
   "cell_type": "code",
   "execution_count": 89,
   "metadata": {},
   "outputs": [],
   "source": [
    "exchanges = client.exchange_info()\n",
    "symbols = list(map(lambda item: item.get('symbol'), exchanges.get('symbols')))"
   ]
  },
  {
   "cell_type": "markdown",
   "metadata": {},
   "source": [
    "### Get prices of symbols"
   ]
  },
  {
   "cell_type": "code",
   "execution_count": 90,
   "metadata": {},
   "outputs": [],
   "source": [
    "data1 = client.ticker_24hr(symbols=symbols[:500])\n",
    "data2 = client.ticker_24hr(symbols=symbols[500:1000])\n",
    "data3 = client.ticker_24hr(symbols=symbols[1000:1500])\n",
    "data4 = client.ticker_24hr(symbols=symbols[1500:2000])\n",
    "data5 = client.ticker_24hr(symbols=symbols[2000:])"
   ]
  },
  {
   "cell_type": "markdown",
   "metadata": {},
   "source": [
    "### Gather and store in hdfs"
   ]
  },
  {
   "cell_type": "code",
   "execution_count": 91,
   "metadata": {},
   "outputs": [],
   "source": [
    "data = [*data1, *data2, *data3, *data4, *data5] "
   ]
  },
  {
   "cell_type": "code",
   "execution_count": 92,
   "metadata": {},
   "outputs": [
    {
     "name": "stderr",
     "output_type": "stream",
     "text": [
      "/usr/local/lib/python3.9/dist-packages/pyspark/sql/pandas/conversion.py:327: FutureWarning: iteritems is deprecated and will be removed in a future version. Use .items instead.\n",
      "  for column, series in pdf.iteritems():\n",
      "22/11/29 15:18:51 WARN TaskSchedulerImpl: Initial job has not accepted any resources; check your cluster UI to ensure that workers are registered and have sufficient resources\n",
      "[Stage 0:>                                                          (0 + 1) / 1]\r"
     ]
    },
    {
     "name": "stdout",
     "output_type": "stream",
     "text": [
      "+------+-----------+------------------+----------------+--------------+----------+-----------+----------+-----------+----------+-----------+----------+----------+----------+---------------+-------------+-------------+-------------+---------+---------+------+\n",
      "|symbol|priceChange|priceChangePercent|weightedAvgPrice|prevClosePrice| lastPrice|    lastQty|  bidPrice|     bidQty|  askPrice|     askQty| openPrice| highPrice|  lowPrice|         volume|  quoteVolume|     openTime|    closeTime|  firstId|   lastId| count|\n",
      "+------+-----------+------------------+----------------+--------------+----------+-----------+----------+-----------+----------+-----------+----------+----------+----------+---------------+-------------+-------------+-------------+---------+---------+------+\n",
      "|ETHBTC| 0.00194700|             2.711|      0.07295540|    0.07182700|0.07377500| 4.38110000|0.07377500| 6.84510000|0.07377600|22.07340000|0.07182800|0.07398200|0.07158300| 83893.54270000|6120.48717935|1669648712438|1669735112438|392878689|393062017|183329|\n",
      "|LTCBTC| 0.00024000|             5.457|      0.00460580|    0.00440000|0.00463800|17.79600000|0.00463800|21.49400000|0.00463900|45.51700000|0.00439800|0.00473000|0.00438600|141527.51500000| 651.84807433|1669648711049|1669735111049| 86242542| 86301693| 59152|\n",
      "+------+-----------+------------------+----------------+--------------+----------+-----------+----------+-----------+----------+-----------+----------+----------+----------+---------------+-------------+-------------+-------------+---------+---------+------+\n",
      "only showing top 2 rows\n",
      "\n"
     ]
    },
    {
     "name": "stderr",
     "output_type": "stream",
     "text": [
      "                                                                                \r"
     ]
    }
   ],
   "source": [
    "df = pd.DataFrame(data)\n",
    "df = spark.createDataFrame(df)\n",
    "df.show(2)"
   ]
  },
  {
   "cell_type": "code",
   "execution_count": 93,
   "metadata": {},
   "outputs": [
    {
     "name": "stderr",
     "output_type": "stream",
     "text": [
      "                                                                                \r"
     ]
    }
   ],
   "source": [
    "df.write.option(\"header\",True) \\\n",
    "         .mode(\"overwrite\") \\\n",
    "         .parquet(f\"hdfs://hadoop-namenode:9000/crypto/info/symbols.parquet\")"
   ]
  },
  {
   "cell_type": "code",
   "execution_count": 94,
   "metadata": {},
   "outputs": [],
   "source": [
    "spark.stop()"
   ]
  },
  {
   "cell_type": "code",
   "execution_count": null,
   "metadata": {},
   "outputs": [],
   "source": []
  }
 ],
 "metadata": {
  "kernelspec": {
   "display_name": "Python 3 (ipykernel)",
   "language": "python",
   "name": "python3"
  },
  "language_info": {
   "codemirror_mode": {
    "name": "ipython",
    "version": 3
   },
   "file_extension": ".py",
   "mimetype": "text/x-python",
   "name": "python",
   "nbconvert_exporter": "python",
   "pygments_lexer": "ipython3",
   "version": "3.9.2"
  },
  "vscode": {
   "interpreter": {
    "hash": "aee8b7b246df8f9039afb4144a1f6fd8d2ca17a180786b69acc140d282b71a49"
   }
  }
 },
 "nbformat": 4,
 "nbformat_minor": 4
}
