{
 "cells": [
  {
   "cell_type": "code",
   "execution_count": 1,
   "metadata": {},
   "outputs": [],
   "source": [
    "import requests\n",
    "import json\n",
    "import pandas\n",
    "import datetime"
   ]
  },
  {
   "cell_type": "code",
   "execution_count": 2,
   "metadata": {},
   "outputs": [],
   "source": [
    "Exchange_Info_API = 'https://api.binance.com/api/v3/exchangeInfo'\n",
    "Price_Info_API = 'https://api.binance.com/api/v3/klines'"
   ]
  },
  {
   "cell_type": "code",
   "execution_count": 3,
   "metadata": {},
   "outputs": [],
   "source": [
    "def symbols_info():\n",
    "    data = json.loads(requests.get(Exchange_Info_API).text)\n",
    "    cols = ['symbol','status','baseAsset','quoteAsset']\n",
    "    data = [[i[j] for j in cols] for  i in data['symbols']]\n",
    "    return pandas.DataFrame(data,columns=cols) "
   ]
  },
  {
   "cell_type": "code",
   "execution_count": 4,
   "metadata": {},
   "outputs": [],
   "source": [
    "def Date_to_timestamp(_time,_format = '%d/%m/%Y %H:%M:%S'):\n",
    "    return int(datetime.datetime.timestamp(datetime.datetime.strptime(_time,_format ))*1000)"
   ]
  },
  {
   "cell_type": "code",
   "execution_count": 5,
   "metadata": {},
   "outputs": [],
   "source": [
    "def Price_info(symbol,step='1m',start=None,end=None,limit=500, base = '',quote=''):\n",
    "\n",
    "    if start != None and type(start) == str:\n",
    "        start = Date_to_timestamp(start)\n",
    "    if end != None and type(end) == str:\n",
    "        end = Date_to_timestamp(end)\n",
    "    \n",
    "\n",
    "    par = {\n",
    "        'symbol':symbol,\n",
    "        'startTime':start,\n",
    "        'endTime':end,\n",
    "        'interval':step,\n",
    "        'limit':limit}\n",
    "\n",
    "\n",
    "    cols =[\n",
    "        'Kline open time',   #if a range of time\n",
    "        'Open price',       #First trade price in the time range\n",
    "        'High price',       #max buy in time\n",
    "        'Low price',        #Min sell in time\n",
    "        'Close price',      #Last trade price in the time range\n",
    "        'Volume',           #Sum in time\n",
    "        'Kline Close time',\n",
    "        'Quote asset volume',   #Sum in time\n",
    "        'Number of trades',     #Sum in time\n",
    "        'Taker buy base asset volume',  #Sum in time\n",
    "        'Taker buy quote asset volume', #Sum in time\n",
    "        'Unused field, ignore'] # not use \n",
    "    p=pandas.DataFrame(json.loads(requests.get(Price_Info_API,params=par).text),columns=cols)\n",
    "    p.insert(0,'quote', quote)\n",
    "    p.insert(0,'base', base)\n",
    "    p.insert(0,'Symbol', symbol)\n",
    "    p.drop(columns=['Unused field, ignore'],inplace=True)\n",
    "\n",
    "    # base/quote = price\n",
    "    return p"
   ]
  },
  {
   "cell_type": "code",
   "execution_count": 6,
   "metadata": {},
   "outputs": [],
   "source": [
    "symbols = symbols_info()\n",
    "\n",
    "data = pandas.concat(\n",
    "    [Price_info(\n",
    "        i['symbol'],\n",
    "        '30m',\n",
    "        '26/11/2022 00:00:00',\n",
    "        '14/12/2022 00:00:00',\n",
    "        1000,\n",
    "        i['baseAsset'],\n",
    "        i['quoteAsset']\n",
    "        ) for _,i in symbols[symbols['status']=='TRADING'].iterrows()\n",
    "    ],\n",
    "    ignore_index=True)"
   ]
  },
  {
   "cell_type": "code",
   "execution_count": 9,
   "metadata": {},
   "outputs": [],
   "source": [
    "symbols.to_csv(\"../../datastore/symbols.csv\", index=False)\n",
    "data.to_csv(\"../../datastore/data.csv\", index=False)"
   ]
  },
  {
   "cell_type": "code",
   "execution_count": null,
   "metadata": {},
   "outputs": [],
   "source": []
  }
 ],
 "metadata": {
  "kernelspec": {
   "display_name": "Python 3.8.8 ('NaDS')",
   "language": "python",
   "name": "python3"
  },
  "language_info": {
   "codemirror_mode": {
    "name": "ipython",
    "version": 3
   },
   "file_extension": ".py",
   "mimetype": "text/x-python",
   "name": "python",
   "nbconvert_exporter": "python",
   "pygments_lexer": "ipython3",
   "version": "3.8.8"
  },
  "orig_nbformat": 4,
  "vscode": {
   "interpreter": {
    "hash": "479fcfcd8a781549d023ec8ee70cfd9d1bc4e10e5bc48a6e6de9df19fe23d55c"
   }
  }
 },
 "nbformat": 4,
 "nbformat_minor": 2
}
