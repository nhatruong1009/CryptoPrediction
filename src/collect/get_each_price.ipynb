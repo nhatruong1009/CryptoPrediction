{
 "cells": [
  {
   "cell_type": "markdown",
   "metadata": {},
   "source": [
    "# Import library"
   ]
  },
  {
   "cell_type": "code",
   "execution_count": 25,
   "metadata": {},
   "outputs": [
    {
     "data": {
      "text/plain": [
       "True"
      ]
     },
     "execution_count": 25,
     "metadata": {},
     "output_type": "execute_result"
    }
   ],
   "source": [
    "# get data\n",
    "from binance.spot import Spot \n",
    "\n",
    "# train data\n",
    "import pandas as pd\n",
    "from datetime import datetime\n",
    "\n",
    "# enviroment\n",
    "import os\n",
    "from dotenv import load_dotenv\n",
    "load_dotenv(\"../../env/app.env\")"
   ]
  },
  {
   "cell_type": "markdown",
   "metadata": {},
   "source": [
    "# Setup clients"
   ]
  },
  {
   "cell_type": "code",
   "execution_count": 26,
   "metadata": {},
   "outputs": [],
   "source": [
    "BINANCE_API_KEY = os.environ.get(\"BINANCE_API_KEY\")\n",
    "BINANCE_API_SECRET = os.environ.get(\"BINANCE_API_SECRET\")\n",
    "client = Spot(key=BINANCE_API_KEY, secret=BINANCE_API_SECRET)"
   ]
  },
  {
   "cell_type": "markdown",
   "metadata": {},
   "source": [
    "# Fetch day period data"
   ]
  },
  {
   "cell_type": "markdown",
   "metadata": {},
   "source": [
    "### Declare period, symbol and header"
   ]
  },
  {
   "cell_type": "code",
   "execution_count": 27,
   "metadata": {},
   "outputs": [],
   "source": [
    "DAY_TO_QUERY = 1800\n",
    "DURATION_EACH_DAY = 60 * 60 * 24 * 1000"
   ]
  },
  {
   "cell_type": "code",
   "execution_count": 28,
   "metadata": {},
   "outputs": [],
   "source": [
    "PERIOD = \"1d\"\n",
    "cols =[\n",
    "        'Kline open time',   #if a range of time\n",
    "        'Open price',       #First trade price in the time range\n",
    "        'High price',       #max buy in time\n",
    "        'Low price',        #Min sell in time\n",
    "        'Close price',      #Last trade price in the time range\n",
    "        'Volume',           #Sum in time\n",
    "        'Kline Close time',\n",
    "        'Quote asset volume',   #Sum in time\n",
    "        'Number of trades',     #Sum in time\n",
    "        'Taker buy base asset volume',  #Sum in time\n",
    "        'Taker buy quote asset volume', #Sum in time\n",
    "        'Unused field, ignore'] # not use "
   ]
  },
  {
   "cell_type": "markdown",
   "metadata": {},
   "source": [
    "### Get data points of symbols "
   ]
  },
  {
   "cell_type": "code",
   "execution_count": 29,
   "metadata": {},
   "outputs": [],
   "source": [
    "exchanges = client.exchange_info()\n",
    "symbols = list(map(lambda item: item.get('symbol'), exchanges.get('symbols')))"
   ]
  },
  {
   "cell_type": "code",
   "execution_count": 30,
   "metadata": {},
   "outputs": [
    {
     "name": "stdout",
     "output_type": "stream",
     "text": [
      "2137\n"
     ]
    },
    {
     "data": {
      "text/plain": [
       "['ETHBTC',\n",
       " 'LTCBTC',\n",
       " 'BNBBTC',\n",
       " 'NEOBTC',\n",
       " 'QTUMETH',\n",
       " 'EOSETH',\n",
       " 'SNTETH',\n",
       " 'BNTETH',\n",
       " 'BCCBTC',\n",
       " 'GASBTC']"
      ]
     },
     "execution_count": 30,
     "metadata": {},
     "output_type": "execute_result"
    }
   ],
   "source": [
    "print(len(symbols))\n",
    "symbols[:10]"
   ]
  },
  {
   "cell_type": "code",
   "execution_count": 31,
   "metadata": {},
   "outputs": [
    {
     "name": "stdout",
     "output_type": "stream",
     "text": [
      "2137 symbol X 1800 data points = 3846600 data points\n"
     ]
    }
   ],
   "source": [
    "print(f\"{len(symbols)} symbol X {DAY_TO_QUERY} data points = {DAY_TO_QUERY*len(symbols)} data points\")"
   ]
  },
  {
   "cell_type": "code",
   "execution_count": 32,
   "metadata": {},
   "outputs": [],
   "source": [
    "today = datetime.utcnow().replace(hour=23, minute=0, second=0, microsecond=0)\n",
    "today_timestamp = int(today.timestamp() * 1000)\n",
    "\n",
    "start_timestamp = today_timestamp - DAY_TO_QUERY * DURATION_EACH_DAY\n",
    "end_timestamp = today_timestamp\n",
    "\n",
    "for symbol in [\"BTCUSDT\"]:\n",
    "    try:\n",
    "        for timestamp in range(start_timestamp, end_timestamp, DURATION_EACH_DAY * 100):\n",
    "            data = client.klines(symbol, PERIOD, limit=100, startTime=timestamp, endTime=timestamp + DURATION_EACH_DAY * 100)\n",
    "            if start_timestamp == timestamp:\n",
    "                df = pd.DataFrame(data, columns=cols)\n",
    "            else:\n",
    "                df = pd.concat([df, pd.DataFrame(data, columns=cols)], axis=0)\n",
    "\n",
    "        df.drop(\"Unused field, ignore\", axis=1, inplace=True)\n",
    "        df.to_csv(f\"../../datastore/price/{symbol}_{PERIOD}.csv\", index=False)\n",
    "    except:\n",
    "        print(f\"Error at {symbol}\")"
   ]
  }
 ],
 "metadata": {
  "kernelspec": {
   "display_name": "Python 3 (ipykernel)",
   "language": "python",
   "name": "python3"
  },
  "language_info": {
   "codemirror_mode": {
    "name": "ipython",
    "version": 3
   },
   "file_extension": ".py",
   "mimetype": "text/x-python",
   "name": "python",
   "nbconvert_exporter": "python",
   "pygments_lexer": "ipython3",
   "version": "3.8.8"
  },
  "vscode": {
   "interpreter": {
    "hash": "479fcfcd8a781549d023ec8ee70cfd9d1bc4e10e5bc48a6e6de9df19fe23d55c"
   }
  }
 },
 "nbformat": 4,
 "nbformat_minor": 4
}
