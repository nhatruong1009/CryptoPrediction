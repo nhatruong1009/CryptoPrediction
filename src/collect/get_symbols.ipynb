{
 "cells": [
  {
   "cell_type": "code",
   "execution_count": 17,
   "metadata": {},
   "outputs": [
    {
     "data": {
      "text/plain": [
       "True"
      ]
     },
     "execution_count": 17,
     "metadata": {},
     "output_type": "execute_result"
    }
   ],
   "source": [
    "import requests\n",
    "import json\n",
    "import pandas\n",
    "import os\n",
    "from dotenv import load_dotenv\n",
    "load_dotenv(\"../../env/app.env\")"
   ]
  },
  {
   "cell_type": "code",
   "execution_count": 18,
   "metadata": {},
   "outputs": [],
   "source": [
    "CMK_KEY = os.environ.get(\"COIN_MARKET_CAP_KEY\")"
   ]
  },
  {
   "cell_type": "code",
   "execution_count": 19,
   "metadata": {},
   "outputs": [],
   "source": [
    "columns = [\n",
    "    'symbol', # abbreviation của symbol\n",
    "    'price', # giá hiện tại của symbol theo USD\n",
    "    'percent_change_7d', # phần trăm thay đổi giá của symbol trong 7 ngày qua\n",
    "    'tags', # các tag của symbol\n",
    "    'date_added' # ngày thêm vào coinmarketcap\n",
    "]"
   ]
  },
  {
   "cell_type": "code",
   "execution_count": 20,
   "metadata": {},
   "outputs": [],
   "source": [
    "SYMBOLS_LIST_API = 'https://pro-api.coinmarketcap.com/v1/cryptocurrency/listings/latest'\n",
    "\n",
    "headers = {\n",
    "    'X-CMC_PRO_API_KEY': CMK_KEY\n",
    "}\n",
    "\n",
    "params = {\n",
    "    'limit': 5000\n",
    "}\n",
    "\n",
    "raw_symbols = json.loads(requests.get(SYMBOLS_LIST_API, headers=headers, params=params).text)"
   ]
  },
  {
   "cell_type": "code",
   "execution_count": 21,
   "metadata": {},
   "outputs": [],
   "source": [
    "def get_symbol_attr(symbol):\n",
    "    symbol_name = symbol['symbol']\n",
    "    price = symbol['quote']['USD']['price']\n",
    "    percent_change_7d = symbol['quote']['USD']['percent_change_7d']\n",
    "    tags = \",\".join(symbol['tags'])\n",
    "    date_added = symbol['date_added']\n",
    "    return [symbol_name, price, percent_change_7d, tags, date_added]"
   ]
  },
  {
   "cell_type": "code",
   "execution_count": 22,
   "metadata": {},
   "outputs": [],
   "source": [
    "symbols = list(map(get_symbol_attr, raw_symbols['data']))\n"
   ]
  },
  {
   "cell_type": "code",
   "execution_count": 23,
   "metadata": {},
   "outputs": [],
   "source": [
    "df = pandas.DataFrame(symbols, columns=columns)"
   ]
  },
  {
   "cell_type": "code",
   "execution_count": 24,
   "metadata": {},
   "outputs": [],
   "source": [
    "df.to_csv(\"../../datastore/symbols.csv\", index=False)"
   ]
  }
 ],
 "metadata": {
  "kernelspec": {
   "display_name": "Python 3.8.8 ('NaDS')",
   "language": "python",
   "name": "python3"
  },
  "language_info": {
   "codemirror_mode": {
    "name": "ipython",
    "version": 3
   },
   "file_extension": ".py",
   "mimetype": "text/x-python",
   "name": "python",
   "nbconvert_exporter": "python",
   "pygments_lexer": "ipython3",
   "version": "3.8.8"
  },
  "orig_nbformat": 4,
  "vscode": {
   "interpreter": {
    "hash": "479fcfcd8a781549d023ec8ee70cfd9d1bc4e10e5bc48a6e6de9df19fe23d55c"
   }
  }
 },
 "nbformat": 4,
 "nbformat_minor": 2
}
