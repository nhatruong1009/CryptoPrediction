{
 "cells": [
  {
   "cell_type": "code",
   "execution_count": 20,
   "metadata": {},
   "outputs": [],
   "source": [
    "import pandas\n",
    "import plotly.express as px\n",
    "import matplotlib.pyplot as plt"
   ]
  },
  {
   "cell_type": "markdown",
   "metadata": {},
   "source": [
    "<h1 style=\"text-align:center\">⛏ Data explorations</h1> "
   ]
  },
  {
   "cell_type": "markdown",
   "metadata": {},
   "source": [
    "# 1. Prices data from the [Binance API](https://binance-docs.github.io/apidocs/spot/en/#kline-candlestick-data) 💰"
   ]
  },
  {
   "cell_type": "code",
   "execution_count": 2,
   "metadata": {},
   "outputs": [
    {
     "data": {
      "text/html": [
       "<div>\n",
       "<style scoped>\n",
       "    .dataframe tbody tr th:only-of-type {\n",
       "        vertical-align: middle;\n",
       "    }\n",
       "\n",
       "    .dataframe tbody tr th {\n",
       "        vertical-align: top;\n",
       "    }\n",
       "\n",
       "    .dataframe thead th {\n",
       "        text-align: right;\n",
       "    }\n",
       "</style>\n",
       "<table border=\"1\" class=\"dataframe\">\n",
       "  <thead>\n",
       "    <tr style=\"text-align: right;\">\n",
       "      <th></th>\n",
       "      <th>Symbol</th>\n",
       "      <th>base</th>\n",
       "      <th>quote</th>\n",
       "      <th>Kline open time</th>\n",
       "      <th>Open price</th>\n",
       "      <th>High price</th>\n",
       "      <th>Low price</th>\n",
       "      <th>Close price</th>\n",
       "      <th>Volume</th>\n",
       "      <th>Kline Close time</th>\n",
       "      <th>Quote asset volume</th>\n",
       "      <th>Number of trades</th>\n",
       "      <th>Taker buy base asset volume</th>\n",
       "      <th>Taker buy quote asset volume</th>\n",
       "    </tr>\n",
       "  </thead>\n",
       "  <tbody>\n",
       "    <tr>\n",
       "      <th>0</th>\n",
       "      <td>ETHBTC</td>\n",
       "      <td>ETH</td>\n",
       "      <td>BTC</td>\n",
       "      <td>1669395600000</td>\n",
       "      <td>0.072026</td>\n",
       "      <td>0.072222</td>\n",
       "      <td>0.072026</td>\n",
       "      <td>0.072222</td>\n",
       "      <td>1342.1624</td>\n",
       "      <td>1669397399999</td>\n",
       "      <td>96.776126</td>\n",
       "      <td>2657</td>\n",
       "      <td>794.6663</td>\n",
       "      <td>57.298344</td>\n",
       "    </tr>\n",
       "    <tr>\n",
       "      <th>1</th>\n",
       "      <td>ETHBTC</td>\n",
       "      <td>ETH</td>\n",
       "      <td>BTC</td>\n",
       "      <td>1669397400000</td>\n",
       "      <td>0.072222</td>\n",
       "      <td>0.072335</td>\n",
       "      <td>0.072117</td>\n",
       "      <td>0.072162</td>\n",
       "      <td>1185.9640</td>\n",
       "      <td>1669399199999</td>\n",
       "      <td>85.640393</td>\n",
       "      <td>2727</td>\n",
       "      <td>560.9044</td>\n",
       "      <td>40.508977</td>\n",
       "    </tr>\n",
       "    <tr>\n",
       "      <th>2</th>\n",
       "      <td>ETHBTC</td>\n",
       "      <td>ETH</td>\n",
       "      <td>BTC</td>\n",
       "      <td>1669399200000</td>\n",
       "      <td>0.072163</td>\n",
       "      <td>0.072263</td>\n",
       "      <td>0.072101</td>\n",
       "      <td>0.072189</td>\n",
       "      <td>813.4793</td>\n",
       "      <td>1669400999999</td>\n",
       "      <td>58.717779</td>\n",
       "      <td>1862</td>\n",
       "      <td>359.8931</td>\n",
       "      <td>25.975732</td>\n",
       "    </tr>\n",
       "    <tr>\n",
       "      <th>3</th>\n",
       "      <td>ETHBTC</td>\n",
       "      <td>ETH</td>\n",
       "      <td>BTC</td>\n",
       "      <td>1669401000000</td>\n",
       "      <td>0.072188</td>\n",
       "      <td>0.072261</td>\n",
       "      <td>0.072161</td>\n",
       "      <td>0.072212</td>\n",
       "      <td>936.2168</td>\n",
       "      <td>1669402799999</td>\n",
       "      <td>67.599402</td>\n",
       "      <td>1816</td>\n",
       "      <td>470.6928</td>\n",
       "      <td>33.988586</td>\n",
       "    </tr>\n",
       "    <tr>\n",
       "      <th>4</th>\n",
       "      <td>ETHBTC</td>\n",
       "      <td>ETH</td>\n",
       "      <td>BTC</td>\n",
       "      <td>1669402800000</td>\n",
       "      <td>0.072223</td>\n",
       "      <td>0.072479</td>\n",
       "      <td>0.072197</td>\n",
       "      <td>0.072375</td>\n",
       "      <td>1115.5725</td>\n",
       "      <td>1669404599999</td>\n",
       "      <td>80.727099</td>\n",
       "      <td>3088</td>\n",
       "      <td>593.4310</td>\n",
       "      <td>42.945939</td>\n",
       "    </tr>\n",
       "    <tr>\n",
       "      <th>...</th>\n",
       "      <td>...</td>\n",
       "      <td>...</td>\n",
       "      <td>...</td>\n",
       "      <td>...</td>\n",
       "      <td>...</td>\n",
       "      <td>...</td>\n",
       "      <td>...</td>\n",
       "      <td>...</td>\n",
       "      <td>...</td>\n",
       "      <td>...</td>\n",
       "      <td>...</td>\n",
       "      <td>...</td>\n",
       "      <td>...</td>\n",
       "      <td>...</td>\n",
       "    </tr>\n",
       "    <tr>\n",
       "      <th>1222237</th>\n",
       "      <td>BUSDRON</td>\n",
       "      <td>BUSD</td>\n",
       "      <td>RON</td>\n",
       "      <td>1670943600000</td>\n",
       "      <td>4.629000</td>\n",
       "      <td>4.630000</td>\n",
       "      <td>4.620000</td>\n",
       "      <td>4.621000</td>\n",
       "      <td>5984.0000</td>\n",
       "      <td>1670945399999</td>\n",
       "      <td>27672.337000</td>\n",
       "      <td>108</td>\n",
       "      <td>2086.0000</td>\n",
       "      <td>9651.160000</td>\n",
       "    </tr>\n",
       "    <tr>\n",
       "      <th>1222238</th>\n",
       "      <td>BUSDRON</td>\n",
       "      <td>BUSD</td>\n",
       "      <td>RON</td>\n",
       "      <td>1670945400000</td>\n",
       "      <td>4.620000</td>\n",
       "      <td>4.631000</td>\n",
       "      <td>4.620000</td>\n",
       "      <td>4.630000</td>\n",
       "      <td>3618.0000</td>\n",
       "      <td>1670947199999</td>\n",
       "      <td>16734.982000</td>\n",
       "      <td>42</td>\n",
       "      <td>1642.0000</td>\n",
       "      <td>7593.482000</td>\n",
       "    </tr>\n",
       "    <tr>\n",
       "      <th>1222239</th>\n",
       "      <td>BUSDRON</td>\n",
       "      <td>BUSD</td>\n",
       "      <td>RON</td>\n",
       "      <td>1670947200000</td>\n",
       "      <td>4.631000</td>\n",
       "      <td>4.631000</td>\n",
       "      <td>4.630000</td>\n",
       "      <td>4.631000</td>\n",
       "      <td>3254.0000</td>\n",
       "      <td>1670948999999</td>\n",
       "      <td>15069.018000</td>\n",
       "      <td>33</td>\n",
       "      <td>2998.0000</td>\n",
       "      <td>13883.738000</td>\n",
       "    </tr>\n",
       "    <tr>\n",
       "      <th>1222240</th>\n",
       "      <td>BUSDRON</td>\n",
       "      <td>BUSD</td>\n",
       "      <td>RON</td>\n",
       "      <td>1670949000000</td>\n",
       "      <td>4.630000</td>\n",
       "      <td>4.631000</td>\n",
       "      <td>4.630000</td>\n",
       "      <td>4.631000</td>\n",
       "      <td>14415.0000</td>\n",
       "      <td>1670950799999</td>\n",
       "      <td>66749.027000</td>\n",
       "      <td>92</td>\n",
       "      <td>7577.0000</td>\n",
       "      <td>35089.087000</td>\n",
       "    </tr>\n",
       "    <tr>\n",
       "      <th>1222241</th>\n",
       "      <td>BUSDRON</td>\n",
       "      <td>BUSD</td>\n",
       "      <td>RON</td>\n",
       "      <td>1670950800000</td>\n",
       "      <td>4.631000</td>\n",
       "      <td>4.631000</td>\n",
       "      <td>4.630000</td>\n",
       "      <td>4.631000</td>\n",
       "      <td>3875.0000</td>\n",
       "      <td>1670952599999</td>\n",
       "      <td>17943.045000</td>\n",
       "      <td>52</td>\n",
       "      <td>1795.0000</td>\n",
       "      <td>8312.645000</td>\n",
       "    </tr>\n",
       "  </tbody>\n",
       "</table>\n",
       "<p>1222242 rows × 14 columns</p>\n",
       "</div>"
      ],
      "text/plain": [
       "          Symbol  base quote  Kline open time  Open price  High price  \\\n",
       "0         ETHBTC   ETH   BTC    1669395600000    0.072026    0.072222   \n",
       "1         ETHBTC   ETH   BTC    1669397400000    0.072222    0.072335   \n",
       "2         ETHBTC   ETH   BTC    1669399200000    0.072163    0.072263   \n",
       "3         ETHBTC   ETH   BTC    1669401000000    0.072188    0.072261   \n",
       "4         ETHBTC   ETH   BTC    1669402800000    0.072223    0.072479   \n",
       "...          ...   ...   ...              ...         ...         ...   \n",
       "1222237  BUSDRON  BUSD   RON    1670943600000    4.629000    4.630000   \n",
       "1222238  BUSDRON  BUSD   RON    1670945400000    4.620000    4.631000   \n",
       "1222239  BUSDRON  BUSD   RON    1670947200000    4.631000    4.631000   \n",
       "1222240  BUSDRON  BUSD   RON    1670949000000    4.630000    4.631000   \n",
       "1222241  BUSDRON  BUSD   RON    1670950800000    4.631000    4.631000   \n",
       "\n",
       "         Low price  Close price      Volume  Kline Close time  \\\n",
       "0         0.072026     0.072222   1342.1624     1669397399999   \n",
       "1         0.072117     0.072162   1185.9640     1669399199999   \n",
       "2         0.072101     0.072189    813.4793     1669400999999   \n",
       "3         0.072161     0.072212    936.2168     1669402799999   \n",
       "4         0.072197     0.072375   1115.5725     1669404599999   \n",
       "...            ...          ...         ...               ...   \n",
       "1222237   4.620000     4.621000   5984.0000     1670945399999   \n",
       "1222238   4.620000     4.630000   3618.0000     1670947199999   \n",
       "1222239   4.630000     4.631000   3254.0000     1670948999999   \n",
       "1222240   4.630000     4.631000  14415.0000     1670950799999   \n",
       "1222241   4.630000     4.631000   3875.0000     1670952599999   \n",
       "\n",
       "         Quote asset volume  Number of trades  Taker buy base asset volume  \\\n",
       "0                 96.776126              2657                     794.6663   \n",
       "1                 85.640393              2727                     560.9044   \n",
       "2                 58.717779              1862                     359.8931   \n",
       "3                 67.599402              1816                     470.6928   \n",
       "4                 80.727099              3088                     593.4310   \n",
       "...                     ...               ...                          ...   \n",
       "1222237        27672.337000               108                    2086.0000   \n",
       "1222238        16734.982000                42                    1642.0000   \n",
       "1222239        15069.018000                33                    2998.0000   \n",
       "1222240        66749.027000                92                    7577.0000   \n",
       "1222241        17943.045000                52                    1795.0000   \n",
       "\n",
       "         Taker buy quote asset volume  \n",
       "0                           57.298344  \n",
       "1                           40.508977  \n",
       "2                           25.975732  \n",
       "3                           33.988586  \n",
       "4                           42.945939  \n",
       "...                               ...  \n",
       "1222237                   9651.160000  \n",
       "1222238                   7593.482000  \n",
       "1222239                  13883.738000  \n",
       "1222240                  35089.087000  \n",
       "1222241                   8312.645000  \n",
       "\n",
       "[1222242 rows x 14 columns]"
      ]
     },
     "execution_count": 2,
     "metadata": {},
     "output_type": "execute_result"
    }
   ],
   "source": [
    "prices = pandas.read_csv('../../datastore/prices.csv')\n",
    "prices"
   ]
  },
  {
   "attachments": {},
   "cell_type": "markdown",
   "metadata": {},
   "source": [
    "## 💎 What is the meaning of each column?\n",
    "* symbol : mã kí hiệu loại giao dịch\n",
    "* base : mã đồng cơ sở\n",
    "* quote : mã đồng báo giá\n",
    "* Kline open/close time : thời gian mở/đóng của việc thu dữ liệu\n",
    "* open price : Giá tại thời điểm đầu khi thu dữ liệu\n",
    "* close price : giá tại thời điểm cuối cùng khi thu dữ liệu\n",
    "* high price : giá cao nhất trong thời gian thu dữ liệu\n",
    "* low price : giá thấp nhất trong thời gian thu dữ liệu\n",
    "* volume : số lượng base đã được trao đổi\n",
    "* quote asset volume : số lượng quote đã được trao đổi\n",
    "* taker buy base volume : số lượng mua base (lệnh) (?)\n",
    "* taker buy quote volume : số lượng mua quote (lệnh) (?)"
   ]
  },
  {
   "cell_type": "markdown",
   "metadata": {},
   "source": [
    "## 💎 What is the current data type of each column?"
   ]
  },
  {
   "cell_type": "code",
   "execution_count": 109,
   "metadata": {},
   "outputs": [
    {
     "data": {
      "text/plain": [
       "Symbol                           object\n",
       "base                             object\n",
       "quote                            object\n",
       "Kline open time                   int64\n",
       "Open price                      float64\n",
       "High price                      float64\n",
       "Low price                       float64\n",
       "Close price                     float64\n",
       "Volume                          float64\n",
       "Kline Close time                  int64\n",
       "Quote asset volume              float64\n",
       "Number of trades                  int64\n",
       "Taker buy base asset volume     float64\n",
       "Taker buy quote asset volume    float64\n",
       "dtype: object"
      ]
     },
     "execution_count": 109,
     "metadata": {},
     "output_type": "execute_result"
    }
   ],
   "source": [
    "prices.dtypes"
   ]
  },
  {
   "cell_type": "markdown",
   "metadata": {},
   "source": [
    "<p style=\"margin-left:1rem\">❓ Which columns have missing data</p> "
   ]
  },
  {
   "cell_type": "code",
   "execution_count": 110,
   "metadata": {},
   "outputs": [
    {
     "name": "stdout",
     "output_type": "stream",
     "text": [
      "Missing values in column Symbol: 0 (0.0%)\n",
      "Missing values in column base: 0 (0.0%)\n",
      "Missing values in column quote: 0 (0.0%)\n",
      "Missing values in column Kline open time: 0 (0.0%)\n",
      "Missing values in column Open price: 0 (0.0%)\n",
      "Missing values in column High price: 0 (0.0%)\n",
      "Missing values in column Low price: 0 (0.0%)\n",
      "Missing values in column Close price: 0 (0.0%)\n",
      "Missing values in column Volume: 0 (0.0%)\n",
      "Missing values in column Kline Close time: 0 (0.0%)\n",
      "Missing values in column Quote asset volume: 0 (0.0%)\n",
      "Missing values in column Number of trades: 0 (0.0%)\n",
      "Missing values in column Taker buy base asset volume: 0 (0.0%)\n",
      "Missing values in column Taker buy quote asset volume: 0 (0.0%)\n"
     ]
    }
   ],
   "source": [
    "for column in prices.columns:\n",
    "    print(\"Missing values in column {}: {} ({}%)\".format(column, prices[column].isnull().sum(), prices[column].isnull().sum() / len(prices) * 100))"
   ]
  },
  {
   "cell_type": "markdown",
   "metadata": {},
   "source": [
    "<p style=\"margin-left:2rem\">➡️ Formatting open and close time</p> "
   ]
  },
  {
   "cell_type": "code",
   "execution_count": 111,
   "metadata": {},
   "outputs": [],
   "source": [
    "prices[\"Kline open time\"] = pandas.to_datetime(prices[\"Kline open time\"], unit='ms')\n",
    "prices[\"Kline Close time\"] = pandas.to_datetime(prices[\"Kline Close time\"], unit='ms')"
   ]
  },
  {
   "cell_type": "markdown",
   "metadata": {},
   "source": [
    "<p style=\"margin-left:1rem\">❓ Are there any 2 symbols duplicated (USDTBTC is also a duplicated symbol of BTCUSDT)</p> "
   ]
  },
  {
   "cell_type": "markdown",
   "metadata": {},
   "source": [
    "<p style=\"margin-left:2rem\">➡️ Drop symbols have the same name</p> "
   ]
  },
  {
   "cell_type": "code",
   "execution_count": 112,
   "metadata": {},
   "outputs": [
    {
     "data": {
      "text/html": [
       "<div>\n",
       "<style scoped>\n",
       "    .dataframe tbody tr th:only-of-type {\n",
       "        vertical-align: middle;\n",
       "    }\n",
       "\n",
       "    .dataframe tbody tr th {\n",
       "        vertical-align: top;\n",
       "    }\n",
       "\n",
       "    .dataframe thead th {\n",
       "        text-align: right;\n",
       "    }\n",
       "</style>\n",
       "<table border=\"1\" class=\"dataframe\">\n",
       "  <thead>\n",
       "    <tr style=\"text-align: right;\">\n",
       "      <th></th>\n",
       "      <th>Symbol</th>\n",
       "      <th>base</th>\n",
       "      <th>quote</th>\n",
       "      <th>Kline open time</th>\n",
       "      <th>Open price</th>\n",
       "      <th>High price</th>\n",
       "      <th>Low price</th>\n",
       "      <th>Close price</th>\n",
       "      <th>Volume</th>\n",
       "      <th>Kline Close time</th>\n",
       "      <th>Quote asset volume</th>\n",
       "      <th>Number of trades</th>\n",
       "      <th>Taker buy base asset volume</th>\n",
       "      <th>Taker buy quote asset volume</th>\n",
       "    </tr>\n",
       "  </thead>\n",
       "  <tbody>\n",
       "    <tr>\n",
       "      <th>0</th>\n",
       "      <td>ETHBTC</td>\n",
       "      <td>ETH</td>\n",
       "      <td>BTC</td>\n",
       "      <td>2022-11-25 17:00:00</td>\n",
       "      <td>0.072026</td>\n",
       "      <td>0.072222</td>\n",
       "      <td>0.072026</td>\n",
       "      <td>0.072222</td>\n",
       "      <td>1.342162e+03</td>\n",
       "      <td>2022-11-25 17:29:59.999</td>\n",
       "      <td>9.677613e+01</td>\n",
       "      <td>2657</td>\n",
       "      <td>7.946663e+02</td>\n",
       "      <td>5.729834e+01</td>\n",
       "    </tr>\n",
       "    <tr>\n",
       "      <th>865</th>\n",
       "      <td>LTCBTC</td>\n",
       "      <td>LTC</td>\n",
       "      <td>BTC</td>\n",
       "      <td>2022-11-25 17:00:00</td>\n",
       "      <td>0.004513</td>\n",
       "      <td>0.004537</td>\n",
       "      <td>0.004513</td>\n",
       "      <td>0.004523</td>\n",
       "      <td>1.973337e+03</td>\n",
       "      <td>2022-11-25 17:29:59.999</td>\n",
       "      <td>8.928513e+00</td>\n",
       "      <td>718</td>\n",
       "      <td>9.773160e+02</td>\n",
       "      <td>4.422118e+00</td>\n",
       "    </tr>\n",
       "    <tr>\n",
       "      <th>1730</th>\n",
       "      <td>BNBBTC</td>\n",
       "      <td>BNB</td>\n",
       "      <td>BTC</td>\n",
       "      <td>2022-11-25 17:00:00</td>\n",
       "      <td>0.018190</td>\n",
       "      <td>0.018290</td>\n",
       "      <td>0.018189</td>\n",
       "      <td>0.018223</td>\n",
       "      <td>1.035607e+03</td>\n",
       "      <td>2022-11-25 17:29:59.999</td>\n",
       "      <td>1.888992e+01</td>\n",
       "      <td>1762</td>\n",
       "      <td>4.612330e+02</td>\n",
       "      <td>8.413329e+00</td>\n",
       "    </tr>\n",
       "    <tr>\n",
       "      <th>2595</th>\n",
       "      <td>NEOBTC</td>\n",
       "      <td>NEO</td>\n",
       "      <td>BTC</td>\n",
       "      <td>2022-11-25 17:00:00</td>\n",
       "      <td>0.000415</td>\n",
       "      <td>0.000416</td>\n",
       "      <td>0.000415</td>\n",
       "      <td>0.000416</td>\n",
       "      <td>2.472300e+02</td>\n",
       "      <td>2022-11-25 17:29:59.999</td>\n",
       "      <td>1.027427e-01</td>\n",
       "      <td>33</td>\n",
       "      <td>1.480600e+02</td>\n",
       "      <td>6.153731e-02</td>\n",
       "    </tr>\n",
       "    <tr>\n",
       "      <th>3460</th>\n",
       "      <td>QTUMETH</td>\n",
       "      <td>QTUM</td>\n",
       "      <td>ETH</td>\n",
       "      <td>2022-11-25 17:00:00</td>\n",
       "      <td>0.001864</td>\n",
       "      <td>0.001864</td>\n",
       "      <td>0.001864</td>\n",
       "      <td>0.001864</td>\n",
       "      <td>2.600000e+00</td>\n",
       "      <td>2022-11-25 17:29:59.999</td>\n",
       "      <td>4.846400e-03</td>\n",
       "      <td>1</td>\n",
       "      <td>2.600000e+00</td>\n",
       "      <td>4.846400e-03</td>\n",
       "    </tr>\n",
       "    <tr>\n",
       "      <th>...</th>\n",
       "      <td>...</td>\n",
       "      <td>...</td>\n",
       "      <td>...</td>\n",
       "      <td>...</td>\n",
       "      <td>...</td>\n",
       "      <td>...</td>\n",
       "      <td>...</td>\n",
       "      <td>...</td>\n",
       "      <td>...</td>\n",
       "      <td>...</td>\n",
       "      <td>...</td>\n",
       "      <td>...</td>\n",
       "      <td>...</td>\n",
       "      <td>...</td>\n",
       "    </tr>\n",
       "    <tr>\n",
       "      <th>1221396</th>\n",
       "      <td>HOOKBNB</td>\n",
       "      <td>HOOK</td>\n",
       "      <td>BNB</td>\n",
       "      <td>2022-12-01 14:30:00</td>\n",
       "      <td>0.000338</td>\n",
       "      <td>0.020000</td>\n",
       "      <td>0.000338</td>\n",
       "      <td>0.006934</td>\n",
       "      <td>3.782472e+06</td>\n",
       "      <td>2022-12-01 14:59:59.999</td>\n",
       "      <td>2.634135e+04</td>\n",
       "      <td>32175</td>\n",
       "      <td>1.738188e+06</td>\n",
       "      <td>1.234107e+04</td>\n",
       "    </tr>\n",
       "    <tr>\n",
       "      <th>1221978</th>\n",
       "      <td>MAGICBTC</td>\n",
       "      <td>MAGIC</td>\n",
       "      <td>BTC</td>\n",
       "      <td>2022-12-12 08:00:00</td>\n",
       "      <td>0.000022</td>\n",
       "      <td>0.000098</td>\n",
       "      <td>0.000022</td>\n",
       "      <td>0.000053</td>\n",
       "      <td>1.154971e+06</td>\n",
       "      <td>2022-12-12 08:29:59.999</td>\n",
       "      <td>5.548904e+01</td>\n",
       "      <td>5915</td>\n",
       "      <td>4.258004e+05</td>\n",
       "      <td>2.052682e+01</td>\n",
       "    </tr>\n",
       "    <tr>\n",
       "      <th>1222045</th>\n",
       "      <td>MAGICBUSD</td>\n",
       "      <td>MAGIC</td>\n",
       "      <td>BUSD</td>\n",
       "      <td>2022-12-12 08:00:00</td>\n",
       "      <td>0.382200</td>\n",
       "      <td>0.924000</td>\n",
       "      <td>0.382200</td>\n",
       "      <td>0.894900</td>\n",
       "      <td>1.520490e+07</td>\n",
       "      <td>2022-12-12 08:29:59.999</td>\n",
       "      <td>1.248077e+07</td>\n",
       "      <td>58295</td>\n",
       "      <td>6.943390e+06</td>\n",
       "      <td>5.707546e+06</td>\n",
       "    </tr>\n",
       "    <tr>\n",
       "      <th>1222112</th>\n",
       "      <td>MAGICUSDT</td>\n",
       "      <td>MAGIC</td>\n",
       "      <td>USDT</td>\n",
       "      <td>2022-12-12 08:00:00</td>\n",
       "      <td>0.382100</td>\n",
       "      <td>0.902900</td>\n",
       "      <td>0.382100</td>\n",
       "      <td>0.890000</td>\n",
       "      <td>1.494773e+07</td>\n",
       "      <td>2022-12-12 08:29:59.999</td>\n",
       "      <td>1.218384e+07</td>\n",
       "      <td>38714</td>\n",
       "      <td>8.425779e+06</td>\n",
       "      <td>6.871771e+06</td>\n",
       "    </tr>\n",
       "    <tr>\n",
       "      <th>1222179</th>\n",
       "      <td>BUSDRON</td>\n",
       "      <td>BUSD</td>\n",
       "      <td>RON</td>\n",
       "      <td>2022-12-12 10:00:00</td>\n",
       "      <td>4.680000</td>\n",
       "      <td>4.680000</td>\n",
       "      <td>4.640000</td>\n",
       "      <td>4.667000</td>\n",
       "      <td>2.133500e+04</td>\n",
       "      <td>2022-12-12 10:29:59.999</td>\n",
       "      <td>9.924754e+04</td>\n",
       "      <td>122</td>\n",
       "      <td>6.713000e+03</td>\n",
       "      <td>3.132106e+04</td>\n",
       "    </tr>\n",
       "  </tbody>\n",
       "</table>\n",
       "<p>1418 rows × 14 columns</p>\n",
       "</div>"
      ],
      "text/plain": [
       "            Symbol   base quote     Kline open time  Open price  High price  \\\n",
       "0           ETHBTC    ETH   BTC 2022-11-25 17:00:00    0.072026    0.072222   \n",
       "865         LTCBTC    LTC   BTC 2022-11-25 17:00:00    0.004513    0.004537   \n",
       "1730        BNBBTC    BNB   BTC 2022-11-25 17:00:00    0.018190    0.018290   \n",
       "2595        NEOBTC    NEO   BTC 2022-11-25 17:00:00    0.000415    0.000416   \n",
       "3460       QTUMETH   QTUM   ETH 2022-11-25 17:00:00    0.001864    0.001864   \n",
       "...            ...    ...   ...                 ...         ...         ...   \n",
       "1221396    HOOKBNB   HOOK   BNB 2022-12-01 14:30:00    0.000338    0.020000   \n",
       "1221978   MAGICBTC  MAGIC   BTC 2022-12-12 08:00:00    0.000022    0.000098   \n",
       "1222045  MAGICBUSD  MAGIC  BUSD 2022-12-12 08:00:00    0.382200    0.924000   \n",
       "1222112  MAGICUSDT  MAGIC  USDT 2022-12-12 08:00:00    0.382100    0.902900   \n",
       "1222179    BUSDRON   BUSD   RON 2022-12-12 10:00:00    4.680000    4.680000   \n",
       "\n",
       "         Low price  Close price        Volume        Kline Close time  \\\n",
       "0         0.072026     0.072222  1.342162e+03 2022-11-25 17:29:59.999   \n",
       "865       0.004513     0.004523  1.973337e+03 2022-11-25 17:29:59.999   \n",
       "1730      0.018189     0.018223  1.035607e+03 2022-11-25 17:29:59.999   \n",
       "2595      0.000415     0.000416  2.472300e+02 2022-11-25 17:29:59.999   \n",
       "3460      0.001864     0.001864  2.600000e+00 2022-11-25 17:29:59.999   \n",
       "...            ...          ...           ...                     ...   \n",
       "1221396   0.000338     0.006934  3.782472e+06 2022-12-01 14:59:59.999   \n",
       "1221978   0.000022     0.000053  1.154971e+06 2022-12-12 08:29:59.999   \n",
       "1222045   0.382200     0.894900  1.520490e+07 2022-12-12 08:29:59.999   \n",
       "1222112   0.382100     0.890000  1.494773e+07 2022-12-12 08:29:59.999   \n",
       "1222179   4.640000     4.667000  2.133500e+04 2022-12-12 10:29:59.999   \n",
       "\n",
       "         Quote asset volume  Number of trades  Taker buy base asset volume  \\\n",
       "0              9.677613e+01              2657                 7.946663e+02   \n",
       "865            8.928513e+00               718                 9.773160e+02   \n",
       "1730           1.888992e+01              1762                 4.612330e+02   \n",
       "2595           1.027427e-01                33                 1.480600e+02   \n",
       "3460           4.846400e-03                 1                 2.600000e+00   \n",
       "...                     ...               ...                          ...   \n",
       "1221396        2.634135e+04             32175                 1.738188e+06   \n",
       "1221978        5.548904e+01              5915                 4.258004e+05   \n",
       "1222045        1.248077e+07             58295                 6.943390e+06   \n",
       "1222112        1.218384e+07             38714                 8.425779e+06   \n",
       "1222179        9.924754e+04               122                 6.713000e+03   \n",
       "\n",
       "         Taker buy quote asset volume  \n",
       "0                        5.729834e+01  \n",
       "865                      4.422118e+00  \n",
       "1730                     8.413329e+00  \n",
       "2595                     6.153731e-02  \n",
       "3460                     4.846400e-03  \n",
       "...                               ...  \n",
       "1221396                  1.234107e+04  \n",
       "1221978                  2.052682e+01  \n",
       "1222045                  5.707546e+06  \n",
       "1222112                  6.871771e+06  \n",
       "1222179                  3.132106e+04  \n",
       "\n",
       "[1418 rows x 14 columns]"
      ]
     },
     "execution_count": 112,
     "metadata": {},
     "output_type": "execute_result"
    }
   ],
   "source": [
    "drop_dupl_symbol_df = prices.drop_duplicates(subset='Symbol')\n",
    "drop_dupl_symbol_df"
   ]
  },
  {
   "cell_type": "markdown",
   "metadata": {},
   "source": [
    "<p style=\"margin-left:2rem\">➡️ Finding symbols have the inverse name (BTCUSDT and USDTBTC) => There are no symbols </p> "
   ]
  },
  {
   "cell_type": "code",
   "execution_count": 113,
   "metadata": {},
   "outputs": [
    {
     "name": "stdout",
     "output_type": "stream",
     "text": [
      "Duplicate symbols:  []\n"
     ]
    }
   ],
   "source": [
    "duplicate_symbol = []\n",
    "\n",
    "def find_dupl(row):\n",
    "    matches = drop_dupl_symbol_df.apply(lambda x: x['base'] == row['quote'] and x['quote'] == row['base'], axis=1)\n",
    "    if matches.any():\n",
    "        duplicate_symbol.append(row['Symbol'])\n",
    "    return row\n",
    "    \n",
    "\n",
    "drop_dupl_symbol_df.apply(find_dupl, axis=1)\n",
    "\n",
    "print(\"Duplicate symbols: \", duplicate_symbol)"
   ]
  },
  {
   "cell_type": "markdown",
   "metadata": {},
   "source": [
    "## 💎 With each column, how are values distributed?"
   ]
  },
  {
   "cell_type": "markdown",
   "metadata": {},
   "source": [
    "<p style=\"margin-left:2rem\">➡️ Numeric columns</p> \n"
   ]
  },
  {
   "cell_type": "code",
   "execution_count": 3,
   "metadata": {},
   "outputs": [
    {
     "data": {
      "text/plain": [
       "Index(['Open price', 'High price', 'Low price', 'Close price', 'Volume',\n",
       "       'Quote asset volume', 'Taker buy base asset volume',\n",
       "       'Taker buy quote asset volume'],\n",
       "      dtype='object')"
      ]
     },
     "execution_count": 3,
     "metadata": {},
     "output_type": "execute_result"
    }
   ],
   "source": [
    "numeric_columns = prices.select_dtypes(include=['float64']).columns\n",
    "numeric_columns"
   ]
  },
  {
   "cell_type": "code",
   "execution_count": 4,
   "metadata": {},
   "outputs": [
    {
     "data": {
      "text/html": [
       "<div>\n",
       "<style scoped>\n",
       "    .dataframe tbody tr th:only-of-type {\n",
       "        vertical-align: middle;\n",
       "    }\n",
       "\n",
       "    .dataframe tbody tr th {\n",
       "        vertical-align: top;\n",
       "    }\n",
       "\n",
       "    .dataframe thead th {\n",
       "        text-align: right;\n",
       "    }\n",
       "</style>\n",
       "<table border=\"1\" class=\"dataframe\">\n",
       "  <thead>\n",
       "    <tr style=\"text-align: right;\">\n",
       "      <th></th>\n",
       "      <th>Kline open time</th>\n",
       "      <th>Open price</th>\n",
       "      <th>High price</th>\n",
       "      <th>Low price</th>\n",
       "      <th>Close price</th>\n",
       "      <th>Volume</th>\n",
       "      <th>Kline Close time</th>\n",
       "      <th>Quote asset volume</th>\n",
       "      <th>Number of trades</th>\n",
       "      <th>Taker buy base asset volume</th>\n",
       "      <th>Taker buy quote asset volume</th>\n",
       "    </tr>\n",
       "  </thead>\n",
       "  <tbody>\n",
       "    <tr>\n",
       "      <th>count</th>\n",
       "      <td>1.222242e+06</td>\n",
       "      <td>1.222242e+06</td>\n",
       "      <td>1.222242e+06</td>\n",
       "      <td>1.222242e+06</td>\n",
       "      <td>1.222242e+06</td>\n",
       "      <td>1.222242e+06</td>\n",
       "      <td>1.222242e+06</td>\n",
       "      <td>1.222242e+06</td>\n",
       "      <td>1.222242e+06</td>\n",
       "      <td>1.222242e+06</td>\n",
       "      <td>1.222242e+06</td>\n",
       "    </tr>\n",
       "    <tr>\n",
       "      <th>mean</th>\n",
       "      <td>1.670174e+12</td>\n",
       "      <td>2.071786e+05</td>\n",
       "      <td>2.075591e+05</td>\n",
       "      <td>2.067964e+05</td>\n",
       "      <td>2.071887e+05</td>\n",
       "      <td>8.827653e+07</td>\n",
       "      <td>1.670176e+12</td>\n",
       "      <td>1.982917e+07</td>\n",
       "      <td>3.202449e+02</td>\n",
       "      <td>4.355778e+07</td>\n",
       "      <td>1.005756e+07</td>\n",
       "    </tr>\n",
       "    <tr>\n",
       "      <th>std</th>\n",
       "      <td>4.494458e+08</td>\n",
       "      <td>7.071014e+06</td>\n",
       "      <td>7.083959e+06</td>\n",
       "      <td>7.058199e+06</td>\n",
       "      <td>7.071409e+06</td>\n",
       "      <td>3.045814e+09</td>\n",
       "      <td>4.494458e+08</td>\n",
       "      <td>7.413260e+09</td>\n",
       "      <td>3.337801e+03</td>\n",
       "      <td>1.606299e+09</td>\n",
       "      <td>3.704048e+09</td>\n",
       "    </tr>\n",
       "    <tr>\n",
       "      <th>min</th>\n",
       "      <td>1.669396e+12</td>\n",
       "      <td>1.900000e-07</td>\n",
       "      <td>1.900000e-07</td>\n",
       "      <td>1.900000e-07</td>\n",
       "      <td>1.900000e-07</td>\n",
       "      <td>0.000000e+00</td>\n",
       "      <td>1.669397e+12</td>\n",
       "      <td>0.000000e+00</td>\n",
       "      <td>0.000000e+00</td>\n",
       "      <td>0.000000e+00</td>\n",
       "      <td>0.000000e+00</td>\n",
       "    </tr>\n",
       "    <tr>\n",
       "      <th>25%</th>\n",
       "      <td>1.669784e+12</td>\n",
       "      <td>4.353225e-04</td>\n",
       "      <td>4.372150e-04</td>\n",
       "      <td>4.344000e-04</td>\n",
       "      <td>4.352050e-04</td>\n",
       "      <td>3.726848e+02</td>\n",
       "      <td>1.669786e+12</td>\n",
       "      <td>4.566503e-01</td>\n",
       "      <td>8.000000e+00</td>\n",
       "      <td>7.683125e+01</td>\n",
       "      <td>9.237323e-02</td>\n",
       "    </tr>\n",
       "    <tr>\n",
       "      <th>50%</th>\n",
       "      <td>1.670173e+12</td>\n",
       "      <td>9.240000e-02</td>\n",
       "      <td>9.280000e-02</td>\n",
       "      <td>9.200000e-02</td>\n",
       "      <td>9.240000e-02</td>\n",
       "      <td>6.638850e+03</td>\n",
       "      <td>1.670175e+12</td>\n",
       "      <td>1.922798e+03</td>\n",
       "      <td>3.500000e+01</td>\n",
       "      <td>2.428761e+03</td>\n",
       "      <td>6.406491e+02</td>\n",
       "    </tr>\n",
       "    <tr>\n",
       "      <th>75%</th>\n",
       "      <td>1.670564e+12</td>\n",
       "      <td>1.772000e+00</td>\n",
       "      <td>1.781000e+00</td>\n",
       "      <td>1.764000e+00</td>\n",
       "      <td>1.772000e+00</td>\n",
       "      <td>7.157023e+04</td>\n",
       "      <td>1.670566e+12</td>\n",
       "      <td>2.118361e+04</td>\n",
       "      <td>1.260000e+02</td>\n",
       "      <td>3.014231e+04</td>\n",
       "      <td>9.344149e+03</td>\n",
       "    </tr>\n",
       "    <tr>\n",
       "      <th>max</th>\n",
       "      <td>1.670951e+12</td>\n",
       "      <td>2.800114e+08</td>\n",
       "      <td>2.952054e+08</td>\n",
       "      <td>2.795345e+08</td>\n",
       "      <td>2.802426e+08</td>\n",
       "      <td>1.087945e+12</td>\n",
       "      <td>1.670953e+12</td>\n",
       "      <td>4.766742e+12</td>\n",
       "      <td>4.657260e+05</td>\n",
       "      <td>6.547297e+11</td>\n",
       "      <td>2.373518e+12</td>\n",
       "    </tr>\n",
       "  </tbody>\n",
       "</table>\n",
       "</div>"
      ],
      "text/plain": [
       "       Kline open time    Open price    High price     Low price  \\\n",
       "count     1.222242e+06  1.222242e+06  1.222242e+06  1.222242e+06   \n",
       "mean      1.670174e+12  2.071786e+05  2.075591e+05  2.067964e+05   \n",
       "std       4.494458e+08  7.071014e+06  7.083959e+06  7.058199e+06   \n",
       "min       1.669396e+12  1.900000e-07  1.900000e-07  1.900000e-07   \n",
       "25%       1.669784e+12  4.353225e-04  4.372150e-04  4.344000e-04   \n",
       "50%       1.670173e+12  9.240000e-02  9.280000e-02  9.200000e-02   \n",
       "75%       1.670564e+12  1.772000e+00  1.781000e+00  1.764000e+00   \n",
       "max       1.670951e+12  2.800114e+08  2.952054e+08  2.795345e+08   \n",
       "\n",
       "        Close price        Volume  Kline Close time  Quote asset volume  \\\n",
       "count  1.222242e+06  1.222242e+06      1.222242e+06        1.222242e+06   \n",
       "mean   2.071887e+05  8.827653e+07      1.670176e+12        1.982917e+07   \n",
       "std    7.071409e+06  3.045814e+09      4.494458e+08        7.413260e+09   \n",
       "min    1.900000e-07  0.000000e+00      1.669397e+12        0.000000e+00   \n",
       "25%    4.352050e-04  3.726848e+02      1.669786e+12        4.566503e-01   \n",
       "50%    9.240000e-02  6.638850e+03      1.670175e+12        1.922798e+03   \n",
       "75%    1.772000e+00  7.157023e+04      1.670566e+12        2.118361e+04   \n",
       "max    2.802426e+08  1.087945e+12      1.670953e+12        4.766742e+12   \n",
       "\n",
       "       Number of trades  Taker buy base asset volume  \\\n",
       "count      1.222242e+06                 1.222242e+06   \n",
       "mean       3.202449e+02                 4.355778e+07   \n",
       "std        3.337801e+03                 1.606299e+09   \n",
       "min        0.000000e+00                 0.000000e+00   \n",
       "25%        8.000000e+00                 7.683125e+01   \n",
       "50%        3.500000e+01                 2.428761e+03   \n",
       "75%        1.260000e+02                 3.014231e+04   \n",
       "max        4.657260e+05                 6.547297e+11   \n",
       "\n",
       "       Taker buy quote asset volume  \n",
       "count                  1.222242e+06  \n",
       "mean                   1.005756e+07  \n",
       "std                    3.704048e+09  \n",
       "min                    0.000000e+00  \n",
       "25%                    9.237323e-02  \n",
       "50%                    6.406491e+02  \n",
       "75%                    9.344149e+03  \n",
       "max                    2.373518e+12  "
      ]
     },
     "execution_count": 4,
     "metadata": {},
     "output_type": "execute_result"
    }
   ],
   "source": [
    "prices.describe()"
   ]
  },
  {
   "cell_type": "code",
   "execution_count": 28,
   "metadata": {},
   "outputs": [
    {
     "data": {
      "text/plain": [
       "<AxesSubplot:>"
      ]
     },
     "execution_count": 28,
     "metadata": {},
     "output_type": "execute_result"
    },
    {
     "data": {
      "image/png": "[encoded data removed]",
      "text/plain": [
       "<Figure size 2000x500 with 2 Axes>"
      ]
     },
     "metadata": {},
     "output_type": "display_data"
    }
   ],
   "source": [
    "fig, axes = plt.subplots(nrows=1, ncols=2, figsize=(20, 5))\n",
    "prices.boxplot(column=numeric_columns[:4].tolist(), ax=axes[0], showfliers=False)\n",
    "prices.boxplot(column=numeric_columns[4:].tolist(), ax=axes[1], rot=10, showfliers=False)"
   ]
  },
  {
   "cell_type": "markdown",
   "metadata": {},
   "source": [
    "<p style=\"margin-left:2rem\">➡️ Each symbol with have 865 rows of data, each row represents a 1 minute interval and there are totally 1418 symbols</p> "
   ]
  },
  {
   "cell_type": "code",
   "execution_count": 115,
   "metadata": {},
   "outputs": [
    {
     "data": {
      "text/html": [
       "<div>\n",
       "<style scoped>\n",
       "    .dataframe tbody tr th:only-of-type {\n",
       "        vertical-align: middle;\n",
       "    }\n",
       "\n",
       "    .dataframe tbody tr th {\n",
       "        vertical-align: top;\n",
       "    }\n",
       "\n",
       "    .dataframe thead th {\n",
       "        text-align: right;\n",
       "    }\n",
       "</style>\n",
       "<table border=\"1\" class=\"dataframe\">\n",
       "  <thead>\n",
       "    <tr style=\"text-align: right;\">\n",
       "      <th></th>\n",
       "      <th>Kline open time</th>\n",
       "    </tr>\n",
       "    <tr>\n",
       "      <th>Symbol</th>\n",
       "      <th></th>\n",
       "    </tr>\n",
       "  </thead>\n",
       "  <tbody>\n",
       "    <tr>\n",
       "      <th>1INCHBTC</th>\n",
       "      <td>865</td>\n",
       "    </tr>\n",
       "    <tr>\n",
       "      <th>1INCHBUSD</th>\n",
       "      <td>865</td>\n",
       "    </tr>\n",
       "    <tr>\n",
       "      <th>1INCHUSDT</th>\n",
       "      <td>865</td>\n",
       "    </tr>\n",
       "    <tr>\n",
       "      <th>AAVEBNB</th>\n",
       "      <td>865</td>\n",
       "    </tr>\n",
       "    <tr>\n",
       "      <th>AAVEBTC</th>\n",
       "      <td>865</td>\n",
       "    </tr>\n",
       "    <tr>\n",
       "      <th>...</th>\n",
       "      <td>...</td>\n",
       "    </tr>\n",
       "    <tr>\n",
       "      <th>ZILUSDT</th>\n",
       "      <td>865</td>\n",
       "    </tr>\n",
       "    <tr>\n",
       "      <th>ZRXBTC</th>\n",
       "      <td>865</td>\n",
       "    </tr>\n",
       "    <tr>\n",
       "      <th>ZRXBUSD</th>\n",
       "      <td>865</td>\n",
       "    </tr>\n",
       "    <tr>\n",
       "      <th>ZRXETH</th>\n",
       "      <td>865</td>\n",
       "    </tr>\n",
       "    <tr>\n",
       "      <th>ZRXUSDT</th>\n",
       "      <td>865</td>\n",
       "    </tr>\n",
       "  </tbody>\n",
       "</table>\n",
       "<p>1418 rows × 1 columns</p>\n",
       "</div>"
      ],
      "text/plain": [
       "           Kline open time\n",
       "Symbol                    \n",
       "1INCHBTC               865\n",
       "1INCHBUSD              865\n",
       "1INCHUSDT              865\n",
       "AAVEBNB                865\n",
       "AAVEBTC                865\n",
       "...                    ...\n",
       "ZILUSDT                865\n",
       "ZRXBTC                 865\n",
       "ZRXBUSD                865\n",
       "ZRXETH                 865\n",
       "ZRXUSDT                865\n",
       "\n",
       "[1418 rows x 1 columns]"
      ]
     },
     "execution_count": 115,
     "metadata": {},
     "output_type": "execute_result"
    }
   ],
   "source": [
    "prices.groupby(\"Symbol\").count()[[\"Kline open time\"]]"
   ]
  },
  {
   "cell_type": "markdown",
   "metadata": {},
   "source": [
    "<p style=\"margin-left:2rem\">➡️ Open and close time columns</p> \n"
   ]
  },
  {
   "cell_type": "code",
   "execution_count": 116,
   "metadata": {},
   "outputs": [
    {
     "name": "stdout",
     "output_type": "stream",
     "text": [
      "Kline open time: \n",
      "2022-11-25 17:00:00\n",
      "2022-12-13 17:00:00\n",
      "Kline close time: \n",
      "2022-11-25 17:29:59.999000\n",
      "2022-12-13 17:29:59.999000\n"
     ]
    }
   ],
   "source": [
    "print(\"Kline open time: \")\n",
    "print(prices[\"Kline open time\"].min())\n",
    "print(prices[\"Kline open time\"].max())\n",
    "print(\"Kline close time: \")\n",
    "print(prices[\"Kline Close time\"].min())\n",
    "print(prices[\"Kline Close time\"].max())"
   ]
  },
  {
   "cell_type": "markdown",
   "metadata": {},
   "source": [
    "# 2. Symbol data from the [Coin Market Cap API](https://coinmarketcap.com/api/documentation/v1/#operation/getV1CryptocurrencyListingsLatest) 📉"
   ]
  },
  {
   "cell_type": "code",
   "execution_count": 30,
   "metadata": {},
   "outputs": [
    {
     "data": {
      "text/html": [
       "<div>\n",
       "<style scoped>\n",
       "    .dataframe tbody tr th:only-of-type {\n",
       "        vertical-align: middle;\n",
       "    }\n",
       "\n",
       "    .dataframe tbody tr th {\n",
       "        vertical-align: top;\n",
       "    }\n",
       "\n",
       "    .dataframe thead th {\n",
       "        text-align: right;\n",
       "    }\n",
       "</style>\n",
       "<table border=\"1\" class=\"dataframe\">\n",
       "  <thead>\n",
       "    <tr style=\"text-align: right;\">\n",
       "      <th></th>\n",
       "      <th>symbol</th>\n",
       "      <th>price</th>\n",
       "      <th>percent_change_7d</th>\n",
       "      <th>market_cap</th>\n",
       "      <th>tags</th>\n",
       "      <th>date_added</th>\n",
       "    </tr>\n",
       "  </thead>\n",
       "  <tbody>\n",
       "    <tr>\n",
       "      <th>0</th>\n",
       "      <td>BTC</td>\n",
       "      <td>16651.011406</td>\n",
       "      <td>-1.327824</td>\n",
       "      <td>3.204503e+11</td>\n",
       "      <td>mineable,pow,sha-256,store-of-value,state-chan...</td>\n",
       "      <td>2013-04-28T00:00:00.000Z</td>\n",
       "    </tr>\n",
       "    <tr>\n",
       "      <th>1</th>\n",
       "      <td>ETH</td>\n",
       "      <td>1195.844971</td>\n",
       "      <td>-1.641379</td>\n",
       "      <td>1.463402e+11</td>\n",
       "      <td>pos,smart-contracts,ethereum-ecosystem,coinbas...</td>\n",
       "      <td>2015-08-07T00:00:00.000Z</td>\n",
       "    </tr>\n",
       "    <tr>\n",
       "      <th>2</th>\n",
       "      <td>USDT</td>\n",
       "      <td>0.999861</td>\n",
       "      <td>-0.026345</td>\n",
       "      <td>6.623844e+10</td>\n",
       "      <td>payments,stablecoin,asset-backed-stablecoin,av...</td>\n",
       "      <td>2015-02-25T00:00:00.000Z</td>\n",
       "    </tr>\n",
       "    <tr>\n",
       "      <th>3</th>\n",
       "      <td>USDC</td>\n",
       "      <td>1.000009</td>\n",
       "      <td>-0.008786</td>\n",
       "      <td>4.422006e+10</td>\n",
       "      <td>medium-of-exchange,stablecoin,asset-backed-sta...</td>\n",
       "      <td>2018-10-08T00:00:00.000Z</td>\n",
       "    </tr>\n",
       "    <tr>\n",
       "      <th>4</th>\n",
       "      <td>BNB</td>\n",
       "      <td>243.613912</td>\n",
       "      <td>-2.177910</td>\n",
       "      <td>3.896979e+10</td>\n",
       "      <td>marketplace,centralized-exchange,payments,smar...</td>\n",
       "      <td>2017-07-25T00:00:00.000Z</td>\n",
       "    </tr>\n",
       "    <tr>\n",
       "      <th>...</th>\n",
       "      <td>...</td>\n",
       "      <td>...</td>\n",
       "      <td>...</td>\n",
       "      <td>...</td>\n",
       "      <td>...</td>\n",
       "      <td>...</td>\n",
       "    </tr>\n",
       "    <tr>\n",
       "      <th>4995</th>\n",
       "      <td>ZEUS</td>\n",
       "      <td>0.078431</td>\n",
       "      <td>-16.032448</td>\n",
       "      <td>0.000000e+00</td>\n",
       "      <td>NaN</td>\n",
       "      <td>2022-10-07T08:12:00.000Z</td>\n",
       "    </tr>\n",
       "    <tr>\n",
       "      <th>4996</th>\n",
       "      <td>JDC</td>\n",
       "      <td>0.037161</td>\n",
       "      <td>6.302088</td>\n",
       "      <td>0.000000e+00</td>\n",
       "      <td>NaN</td>\n",
       "      <td>2019-12-06T00:00:00.000Z</td>\n",
       "    </tr>\n",
       "    <tr>\n",
       "      <th>4997</th>\n",
       "      <td>LIQD</td>\n",
       "      <td>1067.949442</td>\n",
       "      <td>-0.318138</td>\n",
       "      <td>0.000000e+00</td>\n",
       "      <td>arbitrum-ecosytem</td>\n",
       "      <td>2022-08-29T01:16:10.000Z</td>\n",
       "    </tr>\n",
       "    <tr>\n",
       "      <th>4998</th>\n",
       "      <td>PEX</td>\n",
       "      <td>0.000363</td>\n",
       "      <td>-0.590274</td>\n",
       "      <td>0.000000e+00</td>\n",
       "      <td>NaN</td>\n",
       "      <td>2021-11-26T00:31:12.000Z</td>\n",
       "    </tr>\n",
       "    <tr>\n",
       "      <th>4999</th>\n",
       "      <td>BHIVE</td>\n",
       "      <td>0.272204</td>\n",
       "      <td>-3.281791</td>\n",
       "      <td>0.000000e+00</td>\n",
       "      <td>NaN</td>\n",
       "      <td>2022-10-03T04:29:14.000Z</td>\n",
       "    </tr>\n",
       "  </tbody>\n",
       "</table>\n",
       "<p>5000 rows × 6 columns</p>\n",
       "</div>"
      ],
      "text/plain": [
       "     symbol         price  percent_change_7d    market_cap  \\\n",
       "0       BTC  16651.011406          -1.327824  3.204503e+11   \n",
       "1       ETH   1195.844971          -1.641379  1.463402e+11   \n",
       "2      USDT      0.999861          -0.026345  6.623844e+10   \n",
       "3      USDC      1.000009          -0.008786  4.422006e+10   \n",
       "4       BNB    243.613912          -2.177910  3.896979e+10   \n",
       "...     ...           ...                ...           ...   \n",
       "4995   ZEUS      0.078431         -16.032448  0.000000e+00   \n",
       "4996    JDC      0.037161           6.302088  0.000000e+00   \n",
       "4997   LIQD   1067.949442          -0.318138  0.000000e+00   \n",
       "4998    PEX      0.000363          -0.590274  0.000000e+00   \n",
       "4999  BHIVE      0.272204          -3.281791  0.000000e+00   \n",
       "\n",
       "                                                   tags  \\\n",
       "0     mineable,pow,sha-256,store-of-value,state-chan...   \n",
       "1     pos,smart-contracts,ethereum-ecosystem,coinbas...   \n",
       "2     payments,stablecoin,asset-backed-stablecoin,av...   \n",
       "3     medium-of-exchange,stablecoin,asset-backed-sta...   \n",
       "4     marketplace,centralized-exchange,payments,smar...   \n",
       "...                                                 ...   \n",
       "4995                                                NaN   \n",
       "4996                                                NaN   \n",
       "4997                                  arbitrum-ecosytem   \n",
       "4998                                                NaN   \n",
       "4999                                                NaN   \n",
       "\n",
       "                    date_added  \n",
       "0     2013-04-28T00:00:00.000Z  \n",
       "1     2015-08-07T00:00:00.000Z  \n",
       "2     2015-02-25T00:00:00.000Z  \n",
       "3     2018-10-08T00:00:00.000Z  \n",
       "4     2017-07-25T00:00:00.000Z  \n",
       "...                        ...  \n",
       "4995  2022-10-07T08:12:00.000Z  \n",
       "4996  2019-12-06T00:00:00.000Z  \n",
       "4997  2022-08-29T01:16:10.000Z  \n",
       "4998  2021-11-26T00:31:12.000Z  \n",
       "4999  2022-10-03T04:29:14.000Z  \n",
       "\n",
       "[5000 rows x 6 columns]"
      ]
     },
     "execution_count": 30,
     "metadata": {},
     "output_type": "execute_result"
    }
   ],
   "source": [
    "symbols = pandas.read_csv('../../datastore/coin_market_cap_symbols.csv')\n",
    "symbols"
   ]
  },
  {
   "cell_type": "markdown",
   "metadata": {},
   "source": [
    "## 💎 What is the meaning of each column?\n",
    "* symbol: symbol of the coin\n",
    "* price: price of the symbol by USD\n",
    "* percent_change_7d: percent change of the price in 7 days\n",
    "* market_cap: market capitalization of the symbol by USD\n",
    "* tags: tags of the symbol\n",
    "* date_added: date added to the coinmarketcap"
   ]
  },
  {
   "cell_type": "markdown",
   "metadata": {},
   "source": [
    "## 💎 What is the current data type of each column?"
   ]
  },
  {
   "cell_type": "code",
   "execution_count": 31,
   "metadata": {},
   "outputs": [
    {
     "data": {
      "text/plain": [
       "symbol                object\n",
       "price                float64\n",
       "percent_change_7d    float64\n",
       "market_cap           float64\n",
       "tags                  object\n",
       "date_added            object\n",
       "dtype: object"
      ]
     },
     "execution_count": 31,
     "metadata": {},
     "output_type": "execute_result"
    }
   ],
   "source": [
    "symbols.dtypes"
   ]
  },
  {
   "cell_type": "markdown",
   "metadata": {},
   "source": [
    "<p style=\"margin-left:1rem\">❓ Which columns have missing data</p> "
   ]
  },
  {
   "cell_type": "code",
   "execution_count": 32,
   "metadata": {},
   "outputs": [
    {
     "name": "stdout",
     "output_type": "stream",
     "text": [
      "Missing values in column symbol: 0 (0.0%)\n",
      "Missing values in column price: 0 (0.0%)\n",
      "Missing values in column percent_change_7d: 0 (0.0%)\n",
      "Missing values in column market_cap: 0 (0.0%)\n",
      "Missing values in column tags: 2307 (46.14%)\n",
      "Missing values in column date_added: 0 (0.0%)\n"
     ]
    }
   ],
   "source": [
    "for column in symbols.columns:\n",
    "    print(\"Missing values in column {}: {} ({}%)\".format(column, symbols[column].isnull().sum(), symbols[column].isnull().sum() / len(symbols) * 100))"
   ]
  },
  {
   "cell_type": "markdown",
   "metadata": {},
   "source": [
    "<p style=\"margin-left:2rem\">➡️ Filling missing data</p> "
   ]
  },
  {
   "cell_type": "code",
   "execution_count": 33,
   "metadata": {},
   "outputs": [],
   "source": [
    "symbols[\"tags\"] = symbols[\"tags\"].fillna(\"\")"
   ]
  },
  {
   "cell_type": "markdown",
   "metadata": {},
   "source": [
    "<p style=\"margin-left:2rem\">➡️ Format date column</p> "
   ]
  },
  {
   "cell_type": "code",
   "execution_count": 34,
   "metadata": {},
   "outputs": [],
   "source": [
    "symbols[\"date_added\"] = pandas.to_datetime(symbols[\"date_added\"])"
   ]
  },
  {
   "cell_type": "markdown",
   "metadata": {},
   "source": [
    "<p style=\"margin-left:2rem\">➡️ Data after formatted</p> "
   ]
  },
  {
   "cell_type": "code",
   "execution_count": 35,
   "metadata": {},
   "outputs": [
    {
     "data": {
      "text/html": [
       "<div>\n",
       "<style scoped>\n",
       "    .dataframe tbody tr th:only-of-type {\n",
       "        vertical-align: middle;\n",
       "    }\n",
       "\n",
       "    .dataframe tbody tr th {\n",
       "        vertical-align: top;\n",
       "    }\n",
       "\n",
       "    .dataframe thead th {\n",
       "        text-align: right;\n",
       "    }\n",
       "</style>\n",
       "<table border=\"1\" class=\"dataframe\">\n",
       "  <thead>\n",
       "    <tr style=\"text-align: right;\">\n",
       "      <th></th>\n",
       "      <th>symbol</th>\n",
       "      <th>price</th>\n",
       "      <th>percent_change_7d</th>\n",
       "      <th>market_cap</th>\n",
       "      <th>tags</th>\n",
       "      <th>date_added</th>\n",
       "    </tr>\n",
       "  </thead>\n",
       "  <tbody>\n",
       "    <tr>\n",
       "      <th>0</th>\n",
       "      <td>BTC</td>\n",
       "      <td>16651.011406</td>\n",
       "      <td>-1.327824</td>\n",
       "      <td>3.204503e+11</td>\n",
       "      <td>mineable,pow,sha-256,store-of-value,state-chan...</td>\n",
       "      <td>2013-04-28 00:00:00+00:00</td>\n",
       "    </tr>\n",
       "    <tr>\n",
       "      <th>1</th>\n",
       "      <td>ETH</td>\n",
       "      <td>1195.844971</td>\n",
       "      <td>-1.641379</td>\n",
       "      <td>1.463402e+11</td>\n",
       "      <td>pos,smart-contracts,ethereum-ecosystem,coinbas...</td>\n",
       "      <td>2015-08-07 00:00:00+00:00</td>\n",
       "    </tr>\n",
       "    <tr>\n",
       "      <th>2</th>\n",
       "      <td>USDT</td>\n",
       "      <td>0.999861</td>\n",
       "      <td>-0.026345</td>\n",
       "      <td>6.623844e+10</td>\n",
       "      <td>payments,stablecoin,asset-backed-stablecoin,av...</td>\n",
       "      <td>2015-02-25 00:00:00+00:00</td>\n",
       "    </tr>\n",
       "    <tr>\n",
       "      <th>3</th>\n",
       "      <td>USDC</td>\n",
       "      <td>1.000009</td>\n",
       "      <td>-0.008786</td>\n",
       "      <td>4.422006e+10</td>\n",
       "      <td>medium-of-exchange,stablecoin,asset-backed-sta...</td>\n",
       "      <td>2018-10-08 00:00:00+00:00</td>\n",
       "    </tr>\n",
       "    <tr>\n",
       "      <th>4</th>\n",
       "      <td>BNB</td>\n",
       "      <td>243.613912</td>\n",
       "      <td>-2.177910</td>\n",
       "      <td>3.896979e+10</td>\n",
       "      <td>marketplace,centralized-exchange,payments,smar...</td>\n",
       "      <td>2017-07-25 00:00:00+00:00</td>\n",
       "    </tr>\n",
       "    <tr>\n",
       "      <th>...</th>\n",
       "      <td>...</td>\n",
       "      <td>...</td>\n",
       "      <td>...</td>\n",
       "      <td>...</td>\n",
       "      <td>...</td>\n",
       "      <td>...</td>\n",
       "    </tr>\n",
       "    <tr>\n",
       "      <th>4995</th>\n",
       "      <td>ZEUS</td>\n",
       "      <td>0.078431</td>\n",
       "      <td>-16.032448</td>\n",
       "      <td>0.000000e+00</td>\n",
       "      <td></td>\n",
       "      <td>2022-10-07 08:12:00+00:00</td>\n",
       "    </tr>\n",
       "    <tr>\n",
       "      <th>4996</th>\n",
       "      <td>JDC</td>\n",
       "      <td>0.037161</td>\n",
       "      <td>6.302088</td>\n",
       "      <td>0.000000e+00</td>\n",
       "      <td></td>\n",
       "      <td>2019-12-06 00:00:00+00:00</td>\n",
       "    </tr>\n",
       "    <tr>\n",
       "      <th>4997</th>\n",
       "      <td>LIQD</td>\n",
       "      <td>1067.949442</td>\n",
       "      <td>-0.318138</td>\n",
       "      <td>0.000000e+00</td>\n",
       "      <td>arbitrum-ecosytem</td>\n",
       "      <td>2022-08-29 01:16:10+00:00</td>\n",
       "    </tr>\n",
       "    <tr>\n",
       "      <th>4998</th>\n",
       "      <td>PEX</td>\n",
       "      <td>0.000363</td>\n",
       "      <td>-0.590274</td>\n",
       "      <td>0.000000e+00</td>\n",
       "      <td></td>\n",
       "      <td>2021-11-26 00:31:12+00:00</td>\n",
       "    </tr>\n",
       "    <tr>\n",
       "      <th>4999</th>\n",
       "      <td>BHIVE</td>\n",
       "      <td>0.272204</td>\n",
       "      <td>-3.281791</td>\n",
       "      <td>0.000000e+00</td>\n",
       "      <td></td>\n",
       "      <td>2022-10-03 04:29:14+00:00</td>\n",
       "    </tr>\n",
       "  </tbody>\n",
       "</table>\n",
       "<p>5000 rows × 6 columns</p>\n",
       "</div>"
      ],
      "text/plain": [
       "     symbol         price  percent_change_7d    market_cap  \\\n",
       "0       BTC  16651.011406          -1.327824  3.204503e+11   \n",
       "1       ETH   1195.844971          -1.641379  1.463402e+11   \n",
       "2      USDT      0.999861          -0.026345  6.623844e+10   \n",
       "3      USDC      1.000009          -0.008786  4.422006e+10   \n",
       "4       BNB    243.613912          -2.177910  3.896979e+10   \n",
       "...     ...           ...                ...           ...   \n",
       "4995   ZEUS      0.078431         -16.032448  0.000000e+00   \n",
       "4996    JDC      0.037161           6.302088  0.000000e+00   \n",
       "4997   LIQD   1067.949442          -0.318138  0.000000e+00   \n",
       "4998    PEX      0.000363          -0.590274  0.000000e+00   \n",
       "4999  BHIVE      0.272204          -3.281791  0.000000e+00   \n",
       "\n",
       "                                                   tags  \\\n",
       "0     mineable,pow,sha-256,store-of-value,state-chan...   \n",
       "1     pos,smart-contracts,ethereum-ecosystem,coinbas...   \n",
       "2     payments,stablecoin,asset-backed-stablecoin,av...   \n",
       "3     medium-of-exchange,stablecoin,asset-backed-sta...   \n",
       "4     marketplace,centralized-exchange,payments,smar...   \n",
       "...                                                 ...   \n",
       "4995                                                      \n",
       "4996                                                      \n",
       "4997                                  arbitrum-ecosytem   \n",
       "4998                                                      \n",
       "4999                                                      \n",
       "\n",
       "                    date_added  \n",
       "0    2013-04-28 00:00:00+00:00  \n",
       "1    2015-08-07 00:00:00+00:00  \n",
       "2    2015-02-25 00:00:00+00:00  \n",
       "3    2018-10-08 00:00:00+00:00  \n",
       "4    2017-07-25 00:00:00+00:00  \n",
       "...                        ...  \n",
       "4995 2022-10-07 08:12:00+00:00  \n",
       "4996 2019-12-06 00:00:00+00:00  \n",
       "4997 2022-08-29 01:16:10+00:00  \n",
       "4998 2021-11-26 00:31:12+00:00  \n",
       "4999 2022-10-03 04:29:14+00:00  \n",
       "\n",
       "[5000 rows x 6 columns]"
      ]
     },
     "execution_count": 35,
     "metadata": {},
     "output_type": "execute_result"
    }
   ],
   "source": [
    "symbols"
   ]
  },
  {
   "cell_type": "code",
   "execution_count": 36,
   "metadata": {},
   "outputs": [
    {
     "data": {
      "text/plain": [
       "symbol                            object\n",
       "price                            float64\n",
       "percent_change_7d                float64\n",
       "market_cap                       float64\n",
       "tags                              object\n",
       "date_added           datetime64[ns, UTC]\n",
       "dtype: object"
      ]
     },
     "execution_count": 36,
     "metadata": {},
     "output_type": "execute_result"
    }
   ],
   "source": [
    "symbols.dtypes"
   ]
  },
  {
   "cell_type": "markdown",
   "metadata": {},
   "source": [
    "<p style=\"margin-left:1rem\">❓ Are there any 2 symbols duplicated (USDTBTC is also a duplicated symbol of BTCUSDT)</p> "
   ]
  },
  {
   "cell_type": "code",
   "execution_count": 37,
   "metadata": {},
   "outputs": [
    {
     "data": {
      "text/html": [
       "<div>\n",
       "<style scoped>\n",
       "    .dataframe tbody tr th:only-of-type {\n",
       "        vertical-align: middle;\n",
       "    }\n",
       "\n",
       "    .dataframe tbody tr th {\n",
       "        vertical-align: top;\n",
       "    }\n",
       "\n",
       "    .dataframe thead th {\n",
       "        text-align: right;\n",
       "    }\n",
       "</style>\n",
       "<table border=\"1\" class=\"dataframe\">\n",
       "  <thead>\n",
       "    <tr style=\"text-align: right;\">\n",
       "      <th></th>\n",
       "      <th>symbol</th>\n",
       "      <th>price</th>\n",
       "      <th>percent_change_7d</th>\n",
       "      <th>market_cap</th>\n",
       "      <th>tags</th>\n",
       "      <th>date_added</th>\n",
       "    </tr>\n",
       "  </thead>\n",
       "  <tbody>\n",
       "    <tr>\n",
       "      <th>0</th>\n",
       "      <td>BTC</td>\n",
       "      <td>16651.011406</td>\n",
       "      <td>-1.327824</td>\n",
       "      <td>3.204503e+11</td>\n",
       "      <td>mineable,pow,sha-256,store-of-value,state-chan...</td>\n",
       "      <td>2013-04-28 00:00:00+00:00</td>\n",
       "    </tr>\n",
       "    <tr>\n",
       "      <th>1</th>\n",
       "      <td>ETH</td>\n",
       "      <td>1195.844971</td>\n",
       "      <td>-1.641379</td>\n",
       "      <td>1.463402e+11</td>\n",
       "      <td>pos,smart-contracts,ethereum-ecosystem,coinbas...</td>\n",
       "      <td>2015-08-07 00:00:00+00:00</td>\n",
       "    </tr>\n",
       "    <tr>\n",
       "      <th>2</th>\n",
       "      <td>USDT</td>\n",
       "      <td>0.999861</td>\n",
       "      <td>-0.026345</td>\n",
       "      <td>6.623844e+10</td>\n",
       "      <td>payments,stablecoin,asset-backed-stablecoin,av...</td>\n",
       "      <td>2015-02-25 00:00:00+00:00</td>\n",
       "    </tr>\n",
       "    <tr>\n",
       "      <th>3</th>\n",
       "      <td>USDC</td>\n",
       "      <td>1.000009</td>\n",
       "      <td>-0.008786</td>\n",
       "      <td>4.422006e+10</td>\n",
       "      <td>medium-of-exchange,stablecoin,asset-backed-sta...</td>\n",
       "      <td>2018-10-08 00:00:00+00:00</td>\n",
       "    </tr>\n",
       "    <tr>\n",
       "      <th>4</th>\n",
       "      <td>BNB</td>\n",
       "      <td>243.613912</td>\n",
       "      <td>-2.177910</td>\n",
       "      <td>3.896979e+10</td>\n",
       "      <td>marketplace,centralized-exchange,payments,smar...</td>\n",
       "      <td>2017-07-25 00:00:00+00:00</td>\n",
       "    </tr>\n",
       "    <tr>\n",
       "      <th>...</th>\n",
       "      <td>...</td>\n",
       "      <td>...</td>\n",
       "      <td>...</td>\n",
       "      <td>...</td>\n",
       "      <td>...</td>\n",
       "      <td>...</td>\n",
       "    </tr>\n",
       "    <tr>\n",
       "      <th>4992</th>\n",
       "      <td>FEY</td>\n",
       "      <td>0.005847</td>\n",
       "      <td>10.285887</td>\n",
       "      <td>0.000000e+00</td>\n",
       "      <td></td>\n",
       "      <td>2021-06-09 00:00:00+00:00</td>\n",
       "    </tr>\n",
       "    <tr>\n",
       "      <th>4995</th>\n",
       "      <td>ZEUS</td>\n",
       "      <td>0.078431</td>\n",
       "      <td>-16.032448</td>\n",
       "      <td>0.000000e+00</td>\n",
       "      <td></td>\n",
       "      <td>2022-10-07 08:12:00+00:00</td>\n",
       "    </tr>\n",
       "    <tr>\n",
       "      <th>4996</th>\n",
       "      <td>JDC</td>\n",
       "      <td>0.037161</td>\n",
       "      <td>6.302088</td>\n",
       "      <td>0.000000e+00</td>\n",
       "      <td></td>\n",
       "      <td>2019-12-06 00:00:00+00:00</td>\n",
       "    </tr>\n",
       "    <tr>\n",
       "      <th>4997</th>\n",
       "      <td>LIQD</td>\n",
       "      <td>1067.949442</td>\n",
       "      <td>-0.318138</td>\n",
       "      <td>0.000000e+00</td>\n",
       "      <td>arbitrum-ecosytem</td>\n",
       "      <td>2022-08-29 01:16:10+00:00</td>\n",
       "    </tr>\n",
       "    <tr>\n",
       "      <th>4999</th>\n",
       "      <td>BHIVE</td>\n",
       "      <td>0.272204</td>\n",
       "      <td>-3.281791</td>\n",
       "      <td>0.000000e+00</td>\n",
       "      <td></td>\n",
       "      <td>2022-10-03 04:29:14+00:00</td>\n",
       "    </tr>\n",
       "  </tbody>\n",
       "</table>\n",
       "<p>4630 rows × 6 columns</p>\n",
       "</div>"
      ],
      "text/plain": [
       "     symbol         price  percent_change_7d    market_cap  \\\n",
       "0       BTC  16651.011406          -1.327824  3.204503e+11   \n",
       "1       ETH   1195.844971          -1.641379  1.463402e+11   \n",
       "2      USDT      0.999861          -0.026345  6.623844e+10   \n",
       "3      USDC      1.000009          -0.008786  4.422006e+10   \n",
       "4       BNB    243.613912          -2.177910  3.896979e+10   \n",
       "...     ...           ...                ...           ...   \n",
       "4992    FEY      0.005847          10.285887  0.000000e+00   \n",
       "4995   ZEUS      0.078431         -16.032448  0.000000e+00   \n",
       "4996    JDC      0.037161           6.302088  0.000000e+00   \n",
       "4997   LIQD   1067.949442          -0.318138  0.000000e+00   \n",
       "4999  BHIVE      0.272204          -3.281791  0.000000e+00   \n",
       "\n",
       "                                                   tags  \\\n",
       "0     mineable,pow,sha-256,store-of-value,state-chan...   \n",
       "1     pos,smart-contracts,ethereum-ecosystem,coinbas...   \n",
       "2     payments,stablecoin,asset-backed-stablecoin,av...   \n",
       "3     medium-of-exchange,stablecoin,asset-backed-sta...   \n",
       "4     marketplace,centralized-exchange,payments,smar...   \n",
       "...                                                 ...   \n",
       "4992                                                      \n",
       "4995                                                      \n",
       "4996                                                      \n",
       "4997                                  arbitrum-ecosytem   \n",
       "4999                                                      \n",
       "\n",
       "                    date_added  \n",
       "0    2013-04-28 00:00:00+00:00  \n",
       "1    2015-08-07 00:00:00+00:00  \n",
       "2    2015-02-25 00:00:00+00:00  \n",
       "3    2018-10-08 00:00:00+00:00  \n",
       "4    2017-07-25 00:00:00+00:00  \n",
       "...                        ...  \n",
       "4992 2021-06-09 00:00:00+00:00  \n",
       "4995 2022-10-07 08:12:00+00:00  \n",
       "4996 2019-12-06 00:00:00+00:00  \n",
       "4997 2022-08-29 01:16:10+00:00  \n",
       "4999 2022-10-03 04:29:14+00:00  \n",
       "\n",
       "[4630 rows x 6 columns]"
      ]
     },
     "execution_count": 37,
     "metadata": {},
     "output_type": "execute_result"
    }
   ],
   "source": [
    "symbols = symbols.drop_duplicates(\"symbol\")\n",
    "symbols"
   ]
  },
  {
   "cell_type": "markdown",
   "metadata": {},
   "source": [
    "## 💎 With each column, how are values distributed?"
   ]
  },
  {
   "cell_type": "markdown",
   "metadata": {},
   "source": [
    "<p style=\"margin-left:2rem\">➡️ Numeric column</p> "
   ]
  },
  {
   "cell_type": "code",
   "execution_count": 42,
   "metadata": {},
   "outputs": [
    {
     "data": {
      "text/plain": [
       "Index(['price', 'percent_change_7d', 'market_cap'], dtype='object')"
      ]
     },
     "execution_count": 42,
     "metadata": {},
     "output_type": "execute_result"
    }
   ],
   "source": [
    "numeric_columns = symbols.select_dtypes(include=['float64']).columns\n",
    "numeric_columns"
   ]
  },
  {
   "cell_type": "code",
   "execution_count": 48,
   "metadata": {},
   "outputs": [
    {
     "data": {
      "text/plain": [
       "<AxesSubplot:>"
      ]
     },
     "execution_count": 48,
     "metadata": {},
     "output_type": "execute_result"
    },
    {
     "data": {
      "image/png": "[encoded data removed]",
      "text/plain": [
       "<Figure size 2000x500 with 3 Axes>"
      ]
     },
     "metadata": {},
     "output_type": "display_data"
    }
   ],
   "source": [
    "fig2, axes2 = plt.subplots(nrows=1, ncols=3, figsize=(20, 5))\n",
    "symbols.boxplot(column=numeric_columns[0], showfliers=False, ax=axes2[0])\n",
    "symbols.boxplot(column=numeric_columns[1], showfliers=False, ax=axes2[1])\n",
    "symbols.boxplot(column=numeric_columns[2], showfliers=False, ax=axes2[2])"
   ]
  },
  {
   "cell_type": "markdown",
   "metadata": {},
   "source": [
    "<p style=\"margin-left:2rem\">➡️ Date column</p> "
   ]
  },
  {
   "cell_type": "code",
   "execution_count": 126,
   "metadata": {},
   "outputs": [
    {
     "name": "stdout",
     "output_type": "stream",
     "text": [
      "Date added: \n",
      "2013-04-28 00:00:00+00:00\n",
      "2022-12-28 05:27:34+00:00\n"
     ]
    }
   ],
   "source": [
    "print(\"Date added: \")\n",
    "print(symbols[\"date_added\"].min())\n",
    "print(symbols[\"date_added\"].max())"
   ]
  },
  {
   "cell_type": "markdown",
   "metadata": {},
   "source": [
    "<p style=\"margin-left:2rem\">➡️ Tags column</p> "
   ]
  },
  {
   "cell_type": "code",
   "execution_count": 49,
   "metadata": {},
   "outputs": [
    {
     "name": "stderr",
     "output_type": "stream",
     "text": [
      "/var/folders/p7/08wxvf195r35gt2pw893ynsw0000gn/T/ipykernel_19491/3303060923.py:1: SettingWithCopyWarning:\n",
      "\n",
      "\n",
      "A value is trying to be set on a copy of a slice from a DataFrame.\n",
      "Try using .loc[row_indexer,col_indexer] = value instead\n",
      "\n",
      "See the caveats in the documentation: https://pandas.pydata.org/pandas-docs/stable/user_guide/indexing.html#returning-a-view-versus-a-copy\n",
      "\n"
     ]
    },
    {
     "data": {
      "text/html": [
       "<div>\n",
       "<style scoped>\n",
       "    .dataframe tbody tr th:only-of-type {\n",
       "        vertical-align: middle;\n",
       "    }\n",
       "\n",
       "    .dataframe tbody tr th {\n",
       "        vertical-align: top;\n",
       "    }\n",
       "\n",
       "    .dataframe thead th {\n",
       "        text-align: right;\n",
       "    }\n",
       "</style>\n",
       "<table border=\"1\" class=\"dataframe\">\n",
       "  <thead>\n",
       "    <tr style=\"text-align: right;\">\n",
       "      <th></th>\n",
       "      <th>symbol</th>\n",
       "      <th>price</th>\n",
       "      <th>percent_change_7d</th>\n",
       "      <th>market_cap</th>\n",
       "      <th>tags</th>\n",
       "      <th>date_added</th>\n",
       "    </tr>\n",
       "  </thead>\n",
       "  <tbody>\n",
       "    <tr>\n",
       "      <th>0</th>\n",
       "      <td>BTC</td>\n",
       "      <td>16651.011406</td>\n",
       "      <td>-1.327824</td>\n",
       "      <td>3.204503e+11</td>\n",
       "      <td>mineable</td>\n",
       "      <td>2013-04-28 00:00:00+00:00</td>\n",
       "    </tr>\n",
       "    <tr>\n",
       "      <th>0</th>\n",
       "      <td>BTC</td>\n",
       "      <td>16651.011406</td>\n",
       "      <td>-1.327824</td>\n",
       "      <td>3.204503e+11</td>\n",
       "      <td>pow</td>\n",
       "      <td>2013-04-28 00:00:00+00:00</td>\n",
       "    </tr>\n",
       "    <tr>\n",
       "      <th>0</th>\n",
       "      <td>BTC</td>\n",
       "      <td>16651.011406</td>\n",
       "      <td>-1.327824</td>\n",
       "      <td>3.204503e+11</td>\n",
       "      <td>sha-256</td>\n",
       "      <td>2013-04-28 00:00:00+00:00</td>\n",
       "    </tr>\n",
       "    <tr>\n",
       "      <th>0</th>\n",
       "      <td>BTC</td>\n",
       "      <td>16651.011406</td>\n",
       "      <td>-1.327824</td>\n",
       "      <td>3.204503e+11</td>\n",
       "      <td>store-of-value</td>\n",
       "      <td>2013-04-28 00:00:00+00:00</td>\n",
       "    </tr>\n",
       "    <tr>\n",
       "      <th>0</th>\n",
       "      <td>BTC</td>\n",
       "      <td>16651.011406</td>\n",
       "      <td>-1.327824</td>\n",
       "      <td>3.204503e+11</td>\n",
       "      <td>state-channel</td>\n",
       "      <td>2013-04-28 00:00:00+00:00</td>\n",
       "    </tr>\n",
       "    <tr>\n",
       "      <th>...</th>\n",
       "      <td>...</td>\n",
       "      <td>...</td>\n",
       "      <td>...</td>\n",
       "      <td>...</td>\n",
       "      <td>...</td>\n",
       "      <td>...</td>\n",
       "    </tr>\n",
       "    <tr>\n",
       "      <th>4992</th>\n",
       "      <td>FEY</td>\n",
       "      <td>0.005847</td>\n",
       "      <td>10.285887</td>\n",
       "      <td>0.000000e+00</td>\n",
       "      <td></td>\n",
       "      <td>2021-06-09 00:00:00+00:00</td>\n",
       "    </tr>\n",
       "    <tr>\n",
       "      <th>4995</th>\n",
       "      <td>ZEUS</td>\n",
       "      <td>0.078431</td>\n",
       "      <td>-16.032448</td>\n",
       "      <td>0.000000e+00</td>\n",
       "      <td></td>\n",
       "      <td>2022-10-07 08:12:00+00:00</td>\n",
       "    </tr>\n",
       "    <tr>\n",
       "      <th>4996</th>\n",
       "      <td>JDC</td>\n",
       "      <td>0.037161</td>\n",
       "      <td>6.302088</td>\n",
       "      <td>0.000000e+00</td>\n",
       "      <td></td>\n",
       "      <td>2019-12-06 00:00:00+00:00</td>\n",
       "    </tr>\n",
       "    <tr>\n",
       "      <th>4997</th>\n",
       "      <td>LIQD</td>\n",
       "      <td>1067.949442</td>\n",
       "      <td>-0.318138</td>\n",
       "      <td>0.000000e+00</td>\n",
       "      <td>arbitrum-ecosytem</td>\n",
       "      <td>2022-08-29 01:16:10+00:00</td>\n",
       "    </tr>\n",
       "    <tr>\n",
       "      <th>4999</th>\n",
       "      <td>BHIVE</td>\n",
       "      <td>0.272204</td>\n",
       "      <td>-3.281791</td>\n",
       "      <td>0.000000e+00</td>\n",
       "      <td></td>\n",
       "      <td>2022-10-03 04:29:14+00:00</td>\n",
       "    </tr>\n",
       "  </tbody>\n",
       "</table>\n",
       "<p>10592 rows × 6 columns</p>\n",
       "</div>"
      ],
      "text/plain": [
       "     symbol         price  percent_change_7d    market_cap               tags  \\\n",
       "0       BTC  16651.011406          -1.327824  3.204503e+11           mineable   \n",
       "0       BTC  16651.011406          -1.327824  3.204503e+11                pow   \n",
       "0       BTC  16651.011406          -1.327824  3.204503e+11            sha-256   \n",
       "0       BTC  16651.011406          -1.327824  3.204503e+11     store-of-value   \n",
       "0       BTC  16651.011406          -1.327824  3.204503e+11      state-channel   \n",
       "...     ...           ...                ...           ...                ...   \n",
       "4992    FEY      0.005847          10.285887  0.000000e+00                      \n",
       "4995   ZEUS      0.078431         -16.032448  0.000000e+00                      \n",
       "4996    JDC      0.037161           6.302088  0.000000e+00                      \n",
       "4997   LIQD   1067.949442          -0.318138  0.000000e+00  arbitrum-ecosytem   \n",
       "4999  BHIVE      0.272204          -3.281791  0.000000e+00                      \n",
       "\n",
       "                    date_added  \n",
       "0    2013-04-28 00:00:00+00:00  \n",
       "0    2013-04-28 00:00:00+00:00  \n",
       "0    2013-04-28 00:00:00+00:00  \n",
       "0    2013-04-28 00:00:00+00:00  \n",
       "0    2013-04-28 00:00:00+00:00  \n",
       "...                        ...  \n",
       "4992 2021-06-09 00:00:00+00:00  \n",
       "4995 2022-10-07 08:12:00+00:00  \n",
       "4996 2019-12-06 00:00:00+00:00  \n",
       "4997 2022-08-29 01:16:10+00:00  \n",
       "4999 2022-10-03 04:29:14+00:00  \n",
       "\n",
       "[10592 rows x 6 columns]"
      ]
     },
     "execution_count": 49,
     "metadata": {},
     "output_type": "execute_result"
    }
   ],
   "source": [
    "symbols[\"tags\"] = symbols[\"tags\"].apply(lambda x: str(x).split(\",\"))\n",
    "symbols_with_tags_df = symbols.explode(\"tags\")\n",
    "symbols_with_tags_df"
   ]
  },
  {
   "cell_type": "code",
   "execution_count": 128,
   "metadata": {},
   "outputs": [
    {
     "data": {
      "text/html": [
       "<div>\n",
       "<style scoped>\n",
       "    .dataframe tbody tr th:only-of-type {\n",
       "        vertical-align: middle;\n",
       "    }\n",
       "\n",
       "    .dataframe tbody tr th {\n",
       "        vertical-align: top;\n",
       "    }\n",
       "\n",
       "    .dataframe thead th {\n",
       "        text-align: right;\n",
       "    }\n",
       "</style>\n",
       "<table border=\"1\" class=\"dataframe\">\n",
       "  <thead>\n",
       "    <tr style=\"text-align: right;\">\n",
       "      <th></th>\n",
       "      <th>symbol</th>\n",
       "    </tr>\n",
       "  </thead>\n",
       "  <tbody>\n",
       "    <tr>\n",
       "      <th>count</th>\n",
       "      <td>288.000000</td>\n",
       "    </tr>\n",
       "    <tr>\n",
       "      <th>mean</th>\n",
       "      <td>36.777778</td>\n",
       "    </tr>\n",
       "    <tr>\n",
       "      <th>std</th>\n",
       "      <td>134.276144</td>\n",
       "    </tr>\n",
       "    <tr>\n",
       "      <th>min</th>\n",
       "      <td>1.000000</td>\n",
       "    </tr>\n",
       "    <tr>\n",
       "      <th>25%</th>\n",
       "      <td>3.000000</td>\n",
       "    </tr>\n",
       "    <tr>\n",
       "      <th>50%</th>\n",
       "      <td>11.000000</td>\n",
       "    </tr>\n",
       "    <tr>\n",
       "      <th>75%</th>\n",
       "      <td>32.000000</td>\n",
       "    </tr>\n",
       "    <tr>\n",
       "      <th>max</th>\n",
       "      <td>2088.000000</td>\n",
       "    </tr>\n",
       "  </tbody>\n",
       "</table>\n",
       "</div>"
      ],
      "text/plain": [
       "            symbol\n",
       "count   288.000000\n",
       "mean     36.777778\n",
       "std     134.276144\n",
       "min       1.000000\n",
       "25%       3.000000\n",
       "50%      11.000000\n",
       "75%      32.000000\n",
       "max    2088.000000"
      ]
     },
     "execution_count": 128,
     "metadata": {},
     "output_type": "execute_result"
    }
   ],
   "source": [
    "grouped_tags = symbols_with_tags_df.groupby(\"tags\").count()[[\"symbol\"]]\n",
    "grouped_tags.describe()"
   ]
  },
  {
   "cell_type": "markdown",
   "metadata": {},
   "source": [
    "<p style=\"margin-left:1rem\">❓ Which symbols are priced close to USD and are reliable to store coins on the wallet</p> "
   ]
  },
  {
   "cell_type": "code",
   "execution_count": 129,
   "metadata": {},
   "outputs": [
    {
     "data": {
      "text/html": [
       "<div>\n",
       "<style scoped>\n",
       "    .dataframe tbody tr th:only-of-type {\n",
       "        vertical-align: middle;\n",
       "    }\n",
       "\n",
       "    .dataframe tbody tr th {\n",
       "        vertical-align: top;\n",
       "    }\n",
       "\n",
       "    .dataframe thead th {\n",
       "        text-align: right;\n",
       "    }\n",
       "</style>\n",
       "<table border=\"1\" class=\"dataframe\">\n",
       "  <thead>\n",
       "    <tr style=\"text-align: right;\">\n",
       "      <th></th>\n",
       "      <th>symbol</th>\n",
       "      <th>price</th>\n",
       "      <th>percent_change_7d</th>\n",
       "      <th>market_cap</th>\n",
       "      <th>tags</th>\n",
       "      <th>date_added</th>\n",
       "    </tr>\n",
       "  </thead>\n",
       "  <tbody>\n",
       "    <tr>\n",
       "      <th>2</th>\n",
       "      <td>USDT</td>\n",
       "      <td>0.999861</td>\n",
       "      <td>-0.026345</td>\n",
       "      <td>6.623844e+10</td>\n",
       "      <td>[payments, stablecoin, asset-backed-stablecoin...</td>\n",
       "      <td>2015-02-25 00:00:00+00:00</td>\n",
       "    </tr>\n",
       "    <tr>\n",
       "      <th>3</th>\n",
       "      <td>USDC</td>\n",
       "      <td>1.000009</td>\n",
       "      <td>-0.008786</td>\n",
       "      <td>4.422006e+10</td>\n",
       "      <td>[medium-of-exchange, stablecoin, asset-backed-...</td>\n",
       "      <td>2018-10-08 00:00:00+00:00</td>\n",
       "    </tr>\n",
       "    <tr>\n",
       "      <th>6</th>\n",
       "      <td>BUSD</td>\n",
       "      <td>0.999857</td>\n",
       "      <td>-0.035373</td>\n",
       "      <td>1.717318e+10</td>\n",
       "      <td>[stablecoin, asset-backed-stablecoin, binance-...</td>\n",
       "      <td>2019-09-20 00:00:00+00:00</td>\n",
       "    </tr>\n",
       "    <tr>\n",
       "      <th>10</th>\n",
       "      <td>DAI</td>\n",
       "      <td>0.999559</td>\n",
       "      <td>-0.037205</td>\n",
       "      <td>5.814973e+09</td>\n",
       "      <td>[defi, stablecoin, asset-backed-stablecoin, et...</td>\n",
       "      <td>2019-11-22 00:00:00+00:00</td>\n",
       "    </tr>\n",
       "    <tr>\n",
       "      <th>44</th>\n",
       "      <td>TUSD</td>\n",
       "      <td>0.999991</td>\n",
       "      <td>0.072637</td>\n",
       "      <td>7.542295e+08</td>\n",
       "      <td>[store-of-value, stablecoin, asset-backed-stab...</td>\n",
       "      <td>2018-03-06 00:00:00+00:00</td>\n",
       "    </tr>\n",
       "    <tr>\n",
       "      <th>331</th>\n",
       "      <td>OUSD</td>\n",
       "      <td>0.997073</td>\n",
       "      <td>-0.072119</td>\n",
       "      <td>4.791342e+07</td>\n",
       "      <td>[defi, stablecoin, usd-stablecoin]</td>\n",
       "      <td>2020-09-27 00:00:00+00:00</td>\n",
       "    </tr>\n",
       "    <tr>\n",
       "      <th>362</th>\n",
       "      <td>MUSD</td>\n",
       "      <td>0.994568</td>\n",
       "      <td>0.000000</td>\n",
       "      <td>4.086279e+07</td>\n",
       "      <td>[defi, stablecoin, asset-backed-stablecoin, po...</td>\n",
       "      <td>2020-06-28 00:00:00+00:00</td>\n",
       "    </tr>\n",
       "    <tr>\n",
       "      <th>2593</th>\n",
       "      <td>BB-A-USDT</td>\n",
       "      <td>1.004441</td>\n",
       "      <td>-0.012645</td>\n",
       "      <td>0.000000e+00</td>\n",
       "      <td>[]</td>\n",
       "      <td>2022-05-30 12:50:12+00:00</td>\n",
       "    </tr>\n",
       "    <tr>\n",
       "      <th>2594</th>\n",
       "      <td>EDGT</td>\n",
       "      <td>1.000353</td>\n",
       "      <td>0.040720</td>\n",
       "      <td>0.000000e+00</td>\n",
       "      <td>[]</td>\n",
       "      <td>2021-04-27 00:00:00+00:00</td>\n",
       "    </tr>\n",
       "    <tr>\n",
       "      <th>2596</th>\n",
       "      <td>BB-A-USDC</td>\n",
       "      <td>1.001356</td>\n",
       "      <td>0.015670</td>\n",
       "      <td>0.000000e+00</td>\n",
       "      <td>[]</td>\n",
       "      <td>2022-05-30 12:50:12+00:00</td>\n",
       "    </tr>\n",
       "    <tr>\n",
       "      <th>2612</th>\n",
       "      <td>XTUSD</td>\n",
       "      <td>1.000790</td>\n",
       "      <td>0.069436</td>\n",
       "      <td>0.000000e+00</td>\n",
       "      <td>[]</td>\n",
       "      <td>2022-07-18 09:47:29+00:00</td>\n",
       "    </tr>\n",
       "    <tr>\n",
       "      <th>2667</th>\n",
       "      <td>USDZ</td>\n",
       "      <td>0.996965</td>\n",
       "      <td>-0.054847</td>\n",
       "      <td>0.000000e+00</td>\n",
       "      <td>[stablecoin]</td>\n",
       "      <td>2022-06-06 15:25:17+00:00</td>\n",
       "    </tr>\n",
       "    <tr>\n",
       "      <th>2669</th>\n",
       "      <td>MIMATIC</td>\n",
       "      <td>0.992428</td>\n",
       "      <td>-0.030816</td>\n",
       "      <td>0.000000e+00</td>\n",
       "      <td>[stablecoin, algorithmic-stablecoin, arbitrum-...</td>\n",
       "      <td>2021-06-02 00:00:00+00:00</td>\n",
       "    </tr>\n",
       "    <tr>\n",
       "      <th>2707</th>\n",
       "      <td>xDAI</td>\n",
       "      <td>1.000215</td>\n",
       "      <td>-0.010686</td>\n",
       "      <td>0.000000e+00</td>\n",
       "      <td>[scaling, stablecoin]</td>\n",
       "      <td>2021-03-01 00:00:00+00:00</td>\n",
       "    </tr>\n",
       "    <tr>\n",
       "      <th>2724</th>\n",
       "      <td>wxDai</td>\n",
       "      <td>1.000174</td>\n",
       "      <td>-0.012186</td>\n",
       "      <td>0.000000e+00</td>\n",
       "      <td>[]</td>\n",
       "      <td>2021-03-30 00:00:00+00:00</td>\n",
       "    </tr>\n",
       "    <tr>\n",
       "      <th>3172</th>\n",
       "      <td>UUSD</td>\n",
       "      <td>0.994611</td>\n",
       "      <td>-0.086657</td>\n",
       "      <td>0.000000e+00</td>\n",
       "      <td>[]</td>\n",
       "      <td>2022-11-17 10:36:36+00:00</td>\n",
       "    </tr>\n",
       "    <tr>\n",
       "      <th>3433</th>\n",
       "      <td>VEUSD</td>\n",
       "      <td>1.000118</td>\n",
       "      <td>0.037879</td>\n",
       "      <td>0.000000e+00</td>\n",
       "      <td>[]</td>\n",
       "      <td>2022-01-04 19:52:04+00:00</td>\n",
       "    </tr>\n",
       "    <tr>\n",
       "      <th>3839</th>\n",
       "      <td>axlUSDC</td>\n",
       "      <td>0.999960</td>\n",
       "      <td>-0.002185</td>\n",
       "      <td>0.000000e+00</td>\n",
       "      <td>[]</td>\n",
       "      <td>2022-08-17 11:09:01+00:00</td>\n",
       "    </tr>\n",
       "    <tr>\n",
       "      <th>4137</th>\n",
       "      <td>WANUSDT</td>\n",
       "      <td>1.000012</td>\n",
       "      <td>0.011087</td>\n",
       "      <td>0.000000e+00</td>\n",
       "      <td>[stablecoin]</td>\n",
       "      <td>2021-03-02 00:00:00+00:00</td>\n",
       "    </tr>\n",
       "  </tbody>\n",
       "</table>\n",
       "</div>"
      ],
      "text/plain": [
       "         symbol     price  percent_change_7d    market_cap  \\\n",
       "2          USDT  0.999861          -0.026345  6.623844e+10   \n",
       "3          USDC  1.000009          -0.008786  4.422006e+10   \n",
       "6          BUSD  0.999857          -0.035373  1.717318e+10   \n",
       "10          DAI  0.999559          -0.037205  5.814973e+09   \n",
       "44         TUSD  0.999991           0.072637  7.542295e+08   \n",
       "331        OUSD  0.997073          -0.072119  4.791342e+07   \n",
       "362        MUSD  0.994568           0.000000  4.086279e+07   \n",
       "2593  BB-A-USDT  1.004441          -0.012645  0.000000e+00   \n",
       "2594       EDGT  1.000353           0.040720  0.000000e+00   \n",
       "2596  BB-A-USDC  1.001356           0.015670  0.000000e+00   \n",
       "2612      XTUSD  1.000790           0.069436  0.000000e+00   \n",
       "2667       USDZ  0.996965          -0.054847  0.000000e+00   \n",
       "2669    MIMATIC  0.992428          -0.030816  0.000000e+00   \n",
       "2707       xDAI  1.000215          -0.010686  0.000000e+00   \n",
       "2724      wxDai  1.000174          -0.012186  0.000000e+00   \n",
       "3172       UUSD  0.994611          -0.086657  0.000000e+00   \n",
       "3433      VEUSD  1.000118           0.037879  0.000000e+00   \n",
       "3839    axlUSDC  0.999960          -0.002185  0.000000e+00   \n",
       "4137    WANUSDT  1.000012           0.011087  0.000000e+00   \n",
       "\n",
       "                                                   tags  \\\n",
       "2     [payments, stablecoin, asset-backed-stablecoin...   \n",
       "3     [medium-of-exchange, stablecoin, asset-backed-...   \n",
       "6     [stablecoin, asset-backed-stablecoin, binance-...   \n",
       "10    [defi, stablecoin, asset-backed-stablecoin, et...   \n",
       "44    [store-of-value, stablecoin, asset-backed-stab...   \n",
       "331                  [defi, stablecoin, usd-stablecoin]   \n",
       "362   [defi, stablecoin, asset-backed-stablecoin, po...   \n",
       "2593                                                 []   \n",
       "2594                                                 []   \n",
       "2596                                                 []   \n",
       "2612                                                 []   \n",
       "2667                                       [stablecoin]   \n",
       "2669  [stablecoin, algorithmic-stablecoin, arbitrum-...   \n",
       "2707                              [scaling, stablecoin]   \n",
       "2724                                                 []   \n",
       "3172                                                 []   \n",
       "3433                                                 []   \n",
       "3839                                                 []   \n",
       "4137                                       [stablecoin]   \n",
       "\n",
       "                    date_added  \n",
       "2    2015-02-25 00:00:00+00:00  \n",
       "3    2018-10-08 00:00:00+00:00  \n",
       "6    2019-09-20 00:00:00+00:00  \n",
       "10   2019-11-22 00:00:00+00:00  \n",
       "44   2018-03-06 00:00:00+00:00  \n",
       "331  2020-09-27 00:00:00+00:00  \n",
       "362  2020-06-28 00:00:00+00:00  \n",
       "2593 2022-05-30 12:50:12+00:00  \n",
       "2594 2021-04-27 00:00:00+00:00  \n",
       "2596 2022-05-30 12:50:12+00:00  \n",
       "2612 2022-07-18 09:47:29+00:00  \n",
       "2667 2022-06-06 15:25:17+00:00  \n",
       "2669 2021-06-02 00:00:00+00:00  \n",
       "2707 2021-03-01 00:00:00+00:00  \n",
       "2724 2021-03-30 00:00:00+00:00  \n",
       "3172 2022-11-17 10:36:36+00:00  \n",
       "3433 2022-01-04 19:52:04+00:00  \n",
       "3839 2022-08-17 11:09:01+00:00  \n",
       "4137 2021-03-02 00:00:00+00:00  "
      ]
     },
     "execution_count": 129,
     "metadata": {},
     "output_type": "execute_result"
    }
   ],
   "source": [
    "stable_coin_df = symbols.loc[(symbols['percent_change_7d'].abs() < 0.1) & ((symbols['price'].astype(float) - 1).abs() < 0.01)]\n",
    "stable_coin_df"
   ]
  },
  {
   "cell_type": "markdown",
   "metadata": {},
   "source": [
    "<p style=\"margin-left:1rem\">❓ Which coin is available for the most trading</p> "
   ]
  },
  {
   "cell_type": "code",
   "execution_count": 130,
   "metadata": {},
   "outputs": [
    {
     "data": {
      "text/html": [
       "<div>\n",
       "<style scoped>\n",
       "    .dataframe tbody tr th:only-of-type {\n",
       "        vertical-align: middle;\n",
       "    }\n",
       "\n",
       "    .dataframe tbody tr th {\n",
       "        vertical-align: top;\n",
       "    }\n",
       "\n",
       "    .dataframe thead th {\n",
       "        text-align: right;\n",
       "    }\n",
       "</style>\n",
       "<table border=\"1\" class=\"dataframe\">\n",
       "  <thead>\n",
       "    <tr style=\"text-align: right;\">\n",
       "      <th></th>\n",
       "      <th>Symbol</th>\n",
       "      <th>base</th>\n",
       "      <th>quote</th>\n",
       "      <th>Kline open time</th>\n",
       "      <th>Open price</th>\n",
       "      <th>High price</th>\n",
       "      <th>Low price</th>\n",
       "      <th>Close price</th>\n",
       "      <th>Volume</th>\n",
       "      <th>Kline Close time</th>\n",
       "      <th>Quote asset volume</th>\n",
       "      <th>Number of trades</th>\n",
       "      <th>Taker buy base asset volume</th>\n",
       "      <th>Taker buy quote asset volume</th>\n",
       "    </tr>\n",
       "  </thead>\n",
       "  <tbody>\n",
       "    <tr>\n",
       "      <th>8650</th>\n",
       "      <td>BTCUSDT</td>\n",
       "      <td>BTC</td>\n",
       "      <td>USDT</td>\n",
       "      <td>2022-11-25 17:00:00</td>\n",
       "      <td>16485.1400</td>\n",
       "      <td>16512.4300</td>\n",
       "      <td>16474.2900</td>\n",
       "      <td>16483.2700</td>\n",
       "      <td>3369.76766</td>\n",
       "      <td>2022-11-25 17:29:59.999</td>\n",
       "      <td>5.557611e+07</td>\n",
       "      <td>81870</td>\n",
       "      <td>1723.18461</td>\n",
       "      <td>2.842171e+07</td>\n",
       "    </tr>\n",
       "    <tr>\n",
       "      <th>8651</th>\n",
       "      <td>BTCUSDT</td>\n",
       "      <td>BTC</td>\n",
       "      <td>USDT</td>\n",
       "      <td>2022-11-25 17:30:00</td>\n",
       "      <td>16483.2700</td>\n",
       "      <td>16536.3500</td>\n",
       "      <td>16482.9800</td>\n",
       "      <td>16510.3800</td>\n",
       "      <td>3892.49531</td>\n",
       "      <td>2022-11-25 17:59:59.999</td>\n",
       "      <td>6.427000e+07</td>\n",
       "      <td>91509</td>\n",
       "      <td>2058.71422</td>\n",
       "      <td>3.399223e+07</td>\n",
       "    </tr>\n",
       "    <tr>\n",
       "      <th>8652</th>\n",
       "      <td>BTCUSDT</td>\n",
       "      <td>BTC</td>\n",
       "      <td>USDT</td>\n",
       "      <td>2022-11-25 18:00:00</td>\n",
       "      <td>16509.5200</td>\n",
       "      <td>16528.6000</td>\n",
       "      <td>16502.7700</td>\n",
       "      <td>16509.4000</td>\n",
       "      <td>2466.67932</td>\n",
       "      <td>2022-11-25 18:29:59.999</td>\n",
       "      <td>4.073370e+07</td>\n",
       "      <td>61263</td>\n",
       "      <td>1246.75916</td>\n",
       "      <td>2.058911e+07</td>\n",
       "    </tr>\n",
       "    <tr>\n",
       "      <th>8653</th>\n",
       "      <td>BTCUSDT</td>\n",
       "      <td>BTC</td>\n",
       "      <td>USDT</td>\n",
       "      <td>2022-11-25 18:30:00</td>\n",
       "      <td>16508.9500</td>\n",
       "      <td>16518.5900</td>\n",
       "      <td>16477.1300</td>\n",
       "      <td>16495.4300</td>\n",
       "      <td>2500.32611</td>\n",
       "      <td>2022-11-25 18:59:59.999</td>\n",
       "      <td>4.126059e+07</td>\n",
       "      <td>59827</td>\n",
       "      <td>1169.95110</td>\n",
       "      <td>1.930727e+07</td>\n",
       "    </tr>\n",
       "    <tr>\n",
       "      <th>8654</th>\n",
       "      <td>BTCUSDT</td>\n",
       "      <td>BTC</td>\n",
       "      <td>USDT</td>\n",
       "      <td>2022-11-25 19:00:00</td>\n",
       "      <td>16495.4300</td>\n",
       "      <td>16553.8800</td>\n",
       "      <td>16494.0100</td>\n",
       "      <td>16515.2000</td>\n",
       "      <td>2949.47675</td>\n",
       "      <td>2022-11-25 19:29:59.999</td>\n",
       "      <td>4.872746e+07</td>\n",
       "      <td>66479</td>\n",
       "      <td>1564.85203</td>\n",
       "      <td>2.585432e+07</td>\n",
       "    </tr>\n",
       "    <tr>\n",
       "      <th>...</th>\n",
       "      <td>...</td>\n",
       "      <td>...</td>\n",
       "      <td>...</td>\n",
       "      <td>...</td>\n",
       "      <td>...</td>\n",
       "      <td>...</td>\n",
       "      <td>...</td>\n",
       "      <td>...</td>\n",
       "      <td>...</td>\n",
       "      <td>...</td>\n",
       "      <td>...</td>\n",
       "      <td>...</td>\n",
       "      <td>...</td>\n",
       "      <td>...</td>\n",
       "    </tr>\n",
       "    <tr>\n",
       "      <th>1222174</th>\n",
       "      <td>MAGICUSDT</td>\n",
       "      <td>MAGIC</td>\n",
       "      <td>USDT</td>\n",
       "      <td>2022-12-13 15:00:00</td>\n",
       "      <td>0.7394</td>\n",
       "      <td>0.7467</td>\n",
       "      <td>0.7150</td>\n",
       "      <td>0.7156</td>\n",
       "      <td>431050.00000</td>\n",
       "      <td>2022-12-13 15:29:59.999</td>\n",
       "      <td>3.127897e+05</td>\n",
       "      <td>967</td>\n",
       "      <td>140062.70000</td>\n",
       "      <td>1.022471e+05</td>\n",
       "    </tr>\n",
       "    <tr>\n",
       "      <th>1222175</th>\n",
       "      <td>MAGICUSDT</td>\n",
       "      <td>MAGIC</td>\n",
       "      <td>USDT</td>\n",
       "      <td>2022-12-13 15:30:00</td>\n",
       "      <td>0.7156</td>\n",
       "      <td>0.7166</td>\n",
       "      <td>0.7060</td>\n",
       "      <td>0.7090</td>\n",
       "      <td>209667.00000</td>\n",
       "      <td>2022-12-13 15:59:59.999</td>\n",
       "      <td>1.489892e+05</td>\n",
       "      <td>458</td>\n",
       "      <td>33166.90000</td>\n",
       "      <td>2.363905e+04</td>\n",
       "    </tr>\n",
       "    <tr>\n",
       "      <th>1222176</th>\n",
       "      <td>MAGICUSDT</td>\n",
       "      <td>MAGIC</td>\n",
       "      <td>USDT</td>\n",
       "      <td>2022-12-13 16:00:00</td>\n",
       "      <td>0.7090</td>\n",
       "      <td>0.7216</td>\n",
       "      <td>0.7078</td>\n",
       "      <td>0.7179</td>\n",
       "      <td>133967.70000</td>\n",
       "      <td>2022-12-13 16:29:59.999</td>\n",
       "      <td>9.617358e+04</td>\n",
       "      <td>389</td>\n",
       "      <td>70104.60000</td>\n",
       "      <td>5.033187e+04</td>\n",
       "    </tr>\n",
       "    <tr>\n",
       "      <th>1222177</th>\n",
       "      <td>MAGICUSDT</td>\n",
       "      <td>MAGIC</td>\n",
       "      <td>USDT</td>\n",
       "      <td>2022-12-13 16:30:00</td>\n",
       "      <td>0.7176</td>\n",
       "      <td>0.7180</td>\n",
       "      <td>0.7103</td>\n",
       "      <td>0.7149</td>\n",
       "      <td>128864.20000</td>\n",
       "      <td>2022-12-13 16:59:59.999</td>\n",
       "      <td>9.202996e+04</td>\n",
       "      <td>267</td>\n",
       "      <td>59911.10000</td>\n",
       "      <td>4.276908e+04</td>\n",
       "    </tr>\n",
       "    <tr>\n",
       "      <th>1222178</th>\n",
       "      <td>MAGICUSDT</td>\n",
       "      <td>MAGIC</td>\n",
       "      <td>USDT</td>\n",
       "      <td>2022-12-13 17:00:00</td>\n",
       "      <td>0.7149</td>\n",
       "      <td>0.7171</td>\n",
       "      <td>0.7000</td>\n",
       "      <td>0.7000</td>\n",
       "      <td>142587.90000</td>\n",
       "      <td>2022-12-13 17:29:59.999</td>\n",
       "      <td>1.011399e+05</td>\n",
       "      <td>424</td>\n",
       "      <td>59159.30000</td>\n",
       "      <td>4.206351e+04</td>\n",
       "    </tr>\n",
       "  </tbody>\n",
       "</table>\n",
       "<p>563548 rows × 14 columns</p>\n",
       "</div>"
      ],
      "text/plain": [
       "            Symbol   base quote     Kline open time  Open price  High price  \\\n",
       "8650       BTCUSDT    BTC  USDT 2022-11-25 17:00:00  16485.1400  16512.4300   \n",
       "8651       BTCUSDT    BTC  USDT 2022-11-25 17:30:00  16483.2700  16536.3500   \n",
       "8652       BTCUSDT    BTC  USDT 2022-11-25 18:00:00  16509.5200  16528.6000   \n",
       "8653       BTCUSDT    BTC  USDT 2022-11-25 18:30:00  16508.9500  16518.5900   \n",
       "8654       BTCUSDT    BTC  USDT 2022-11-25 19:00:00  16495.4300  16553.8800   \n",
       "...            ...    ...   ...                 ...         ...         ...   \n",
       "1222174  MAGICUSDT  MAGIC  USDT 2022-12-13 15:00:00      0.7394      0.7467   \n",
       "1222175  MAGICUSDT  MAGIC  USDT 2022-12-13 15:30:00      0.7156      0.7166   \n",
       "1222176  MAGICUSDT  MAGIC  USDT 2022-12-13 16:00:00      0.7090      0.7216   \n",
       "1222177  MAGICUSDT  MAGIC  USDT 2022-12-13 16:30:00      0.7176      0.7180   \n",
       "1222178  MAGICUSDT  MAGIC  USDT 2022-12-13 17:00:00      0.7149      0.7171   \n",
       "\n",
       "          Low price  Close price        Volume        Kline Close time  \\\n",
       "8650     16474.2900   16483.2700    3369.76766 2022-11-25 17:29:59.999   \n",
       "8651     16482.9800   16510.3800    3892.49531 2022-11-25 17:59:59.999   \n",
       "8652     16502.7700   16509.4000    2466.67932 2022-11-25 18:29:59.999   \n",
       "8653     16477.1300   16495.4300    2500.32611 2022-11-25 18:59:59.999   \n",
       "8654     16494.0100   16515.2000    2949.47675 2022-11-25 19:29:59.999   \n",
       "...             ...          ...           ...                     ...   \n",
       "1222174      0.7150       0.7156  431050.00000 2022-12-13 15:29:59.999   \n",
       "1222175      0.7060       0.7090  209667.00000 2022-12-13 15:59:59.999   \n",
       "1222176      0.7078       0.7179  133967.70000 2022-12-13 16:29:59.999   \n",
       "1222177      0.7103       0.7149  128864.20000 2022-12-13 16:59:59.999   \n",
       "1222178      0.7000       0.7000  142587.90000 2022-12-13 17:29:59.999   \n",
       "\n",
       "         Quote asset volume  Number of trades  Taker buy base asset volume  \\\n",
       "8650           5.557611e+07             81870                   1723.18461   \n",
       "8651           6.427000e+07             91509                   2058.71422   \n",
       "8652           4.073370e+07             61263                   1246.75916   \n",
       "8653           4.126059e+07             59827                   1169.95110   \n",
       "8654           4.872746e+07             66479                   1564.85203   \n",
       "...                     ...               ...                          ...   \n",
       "1222174        3.127897e+05               967                 140062.70000   \n",
       "1222175        1.489892e+05               458                  33166.90000   \n",
       "1222176        9.617358e+04               389                  70104.60000   \n",
       "1222177        9.202996e+04               267                  59911.10000   \n",
       "1222178        1.011399e+05               424                  59159.30000   \n",
       "\n",
       "         Taker buy quote asset volume  \n",
       "8650                     2.842171e+07  \n",
       "8651                     3.399223e+07  \n",
       "8652                     2.058911e+07  \n",
       "8653                     1.930727e+07  \n",
       "8654                     2.585432e+07  \n",
       "...                               ...  \n",
       "1222174                  1.022471e+05  \n",
       "1222175                  2.363905e+04  \n",
       "1222176                  5.033187e+04  \n",
       "1222177                  4.276908e+04  \n",
       "1222178                  4.206351e+04  \n",
       "\n",
       "[563548 rows x 14 columns]"
      ]
     },
     "execution_count": 130,
     "metadata": {},
     "output_type": "execute_result"
    }
   ],
   "source": [
    "f_data = prices.loc[prices['quote'].isin(stable_coin_df.symbol) & (~prices['base'].isin(stable_coin_df.symbol))] # symbols which has stable-coin quote\n",
    "f_data"
   ]
  },
  {
   "cell_type": "markdown",
   "metadata": {},
   "source": [
    "<p style=\"margin-left:2rem\">➡️ As can be seen, ETH, BNB and BTC are coins traded the most on Binance</p> "
   ]
  },
  {
   "cell_type": "code",
   "execution_count": 131,
   "metadata": {},
   "outputs": [
    {
     "data": {
      "application/vnd.plotly.v1+json": {
       "config": {
        "plotlyServerURL": "https://plot.ly"
       },
       "data": [
        {
         "alignmentgroup": "True",
         "hovertemplate": "base=%{x}<br>Symbol=%{y}<extra></extra>",
         "legendgroup": "",
         "marker": {
          "color": "#636efa",
          "pattern": {
           "shape": ""
          }
         },
         "name": "",
         "offsetgroup": "",
         "orientation": "v",
         "showlegend": false,
         "textposition": "auto",
         "type": "bar",
         "x": [
          "ETH",
          "BNB",
          "BTC",
          "1INCH",
          "NEXO",
          "OGN",
          "OG",
          "OCEAN",
          "NULS",
          "NMR",
          "NKN",
          "NEO",
          "OMG",
          "NEBL",
          "NEAR",
          "MULTI",
          "MTL",
          "MOVR",
          "MOB",
          "MLN"
         ],
         "xaxis": "x",
         "y": [
          3,
          3,
          3,
          2,
          2,
          2,
          2,
          2,
          2,
          2,
          2,
          2,
          2,
          2,
          2,
          2,
          2,
          2,
          2,
          2
         ],
         "yaxis": "y"
        }
       ],
       "layout": {
        "barmode": "relative",
        "legend": {
         "tracegroupgap": 0
        },
        "margin": {
         "t": 60
        },
        "template": {
         "data": {
          "bar": [
           {
            "error_x": {
             "color": "#2a3f5f"
            },
            "error_y": {
             "color": "#2a3f5f"
            },
            "marker": {
             "line": {
              "color": "#E5ECF6",
              "width": 0.5
             },
             "pattern": {
              "fillmode": "overlay",
              "size": 10,
              "solidity": 0.2
             }
            },
            "type": "bar"
           }
          ],
          "barpolar": [
           {
            "marker": {
             "line": {
              "color": "#E5ECF6",
              "width": 0.5
             },
             "pattern": {
              "fillmode": "overlay",
              "size": 10,
              "solidity": 0.2
             }
            },
            "type": "barpolar"
           }
          ],
          "carpet": [
           {
            "aaxis": {
             "endlinecolor": "#2a3f5f",
             "gridcolor": "white",
             "linecolor": "white",
             "minorgridcolor": "white",
             "startlinecolor": "#2a3f5f"
            },
            "baxis": {
             "endlinecolor": "#2a3f5f",
             "gridcolor": "white",
             "linecolor": "white",
             "minorgridcolor": "white",
             "startlinecolor": "#2a3f5f"
            },
            "type": "carpet"
           }
          ],
          "choropleth": [
           {
            "colorbar": {
             "outlinewidth": 0,
             "ticks": ""
            },
            "type": "choropleth"
           }
          ],
          "contour": [
           {
            "colorbar": {
             "outlinewidth": 0,
             "ticks": ""
            },
            "colorscale": [
             [
              0,
              "#0d0887"
             ],
             [
              0.1111111111111111,
              "#46039f"
             ],
             [
              0.2222222222222222,
              "#7201a8"
             ],
             [
              0.3333333333333333,
              "#9c179e"
             ],
             [
              0.4444444444444444,
              "#bd3786"
             ],
             [
              0.5555555555555556,
              "#d8576b"
             ],
             [
              0.6666666666666666,
              "#ed7953"
             ],
             [
              0.7777777777777778,
              "#fb9f3a"
             ],
             [
              0.8888888888888888,
              "#fdca26"
             ],
             [
              1,
              "#f0f921"
             ]
            ],
            "type": "contour"
           }
          ],
          "contourcarpet": [
           {
            "colorbar": {
             "outlinewidth": 0,
             "ticks": ""
            },
            "type": "contourcarpet"
           }
          ],
          "heatmap": [
           {
            "colorbar": {
             "outlinewidth": 0,
             "ticks": ""
            },
            "colorscale": [
             [
              0,
              "#0d0887"
             ],
             [
              0.1111111111111111,
              "#46039f"
             ],
             [
              0.2222222222222222,
              "#7201a8"
             ],
             [
              0.3333333333333333,
              "#9c179e"
             ],
             [
              0.4444444444444444,
              "#bd3786"
             ],
             [
              0.5555555555555556,
              "#d8576b"
             ],
             [
              0.6666666666666666,
              "#ed7953"
             ],
             [
              0.7777777777777778,
              "#fb9f3a"
             ],
             [
              0.8888888888888888,
              "#fdca26"
             ],
             [
              1,
              "#f0f921"
             ]
            ],
            "type": "heatmap"
           }
          ],
          "heatmapgl": [
           {
            "colorbar": {
             "outlinewidth": 0,
             "ticks": ""
            },
            "colorscale": [
             [
              0,
              "#0d0887"
             ],
             [
              0.1111111111111111,
              "#46039f"
             ],
             [
              0.2222222222222222,
              "#7201a8"
             ],
             [
              0.3333333333333333,
              "#9c179e"
             ],
             [
              0.4444444444444444,
              "#bd3786"
             ],
             [
              0.5555555555555556,
              "#d8576b"
             ],
             [
              0.6666666666666666,
              "#ed7953"
             ],
             [
              0.7777777777777778,
              "#fb9f3a"
             ],
             [
              0.8888888888888888,
              "#fdca26"
             ],
             [
              1,
              "#f0f921"
             ]
            ],
            "type": "heatmapgl"
           }
          ],
          "histogram": [
           {
            "marker": {
             "pattern": {
              "fillmode": "overlay",
              "size": 10,
              "solidity": 0.2
             }
            },
            "type": "histogram"
           }
          ],
          "histogram2d": [
           {
            "colorbar": {
             "outlinewidth": 0,
             "ticks": ""
            },
            "colorscale": [
             [
              0,
              "#0d0887"
             ],
             [
              0.1111111111111111,
              "#46039f"
             ],
             [
              0.2222222222222222,
              "#7201a8"
             ],
             [
              0.3333333333333333,
              "#9c179e"
             ],
             [
              0.4444444444444444,
              "#bd3786"
             ],
             [
              0.5555555555555556,
              "#d8576b"
             ],
             [
              0.6666666666666666,
              "#ed7953"
             ],
             [
              0.7777777777777778,
              "#fb9f3a"
             ],
             [
              0.8888888888888888,
              "#fdca26"
             ],
             [
              1,
              "#f0f921"
             ]
            ],
            "type": "histogram2d"
           }
          ],
          "histogram2dcontour": [
           {
            "colorbar": {
             "outlinewidth": 0,
             "ticks": ""
            },
            "colorscale": [
             [
              0,
              "#0d0887"
             ],
             [
              0.1111111111111111,
              "#46039f"
             ],
             [
              0.2222222222222222,
              "#7201a8"
             ],
             [
              0.3333333333333333,
              "#9c179e"
             ],
             [
              0.4444444444444444,
              "#bd3786"
             ],
             [
              0.5555555555555556,
              "#d8576b"
             ],
             [
              0.6666666666666666,
              "#ed7953"
             ],
             [
              0.7777777777777778,
              "#fb9f3a"
             ],
             [
              0.8888888888888888,
              "#fdca26"
             ],
             [
              1,
              "#f0f921"
             ]
            ],
            "type": "histogram2dcontour"
           }
          ],
          "mesh3d": [
           {
            "colorbar": {
             "outlinewidth": 0,
             "ticks": ""
            },
            "type": "mesh3d"
           }
          ],
          "parcoords": [
           {
            "line": {
             "colorbar": {
              "outlinewidth": 0,
              "ticks": ""
             }
            },
            "type": "parcoords"
           }
          ],
          "pie": [
           {
            "automargin": true,
            "type": "pie"
           }
          ],
          "scatter": [
           {
            "fillpattern": {
             "fillmode": "overlay",
             "size": 10,
             "solidity": 0.2
            },
            "type": "scatter"
           }
          ],
          "scatter3d": [
           {
            "line": {
             "colorbar": {
              "outlinewidth": 0,
              "ticks": ""
             }
            },
            "marker": {
             "colorbar": {
              "outlinewidth": 0,
              "ticks": ""
             }
            },
            "type": "scatter3d"
           }
          ],
          "scattercarpet": [
           {
            "marker": {
             "colorbar": {
              "outlinewidth": 0,
              "ticks": ""
             }
            },
            "type": "scattercarpet"
           }
          ],
          "scattergeo": [
           {
            "marker": {
             "colorbar": {
              "outlinewidth": 0,
              "ticks": ""
             }
            },
            "type": "scattergeo"
           }
          ],
          "scattergl": [
           {
            "marker": {
             "colorbar": {
              "outlinewidth": 0,
              "ticks": ""
             }
            },
            "type": "scattergl"
           }
          ],
          "scattermapbox": [
           {
            "marker": {
             "colorbar": {
              "outlinewidth": 0,
              "ticks": ""
             }
            },
            "type": "scattermapbox"
           }
          ],
          "scatterpolar": [
           {
            "marker": {
             "colorbar": {
              "outlinewidth": 0,
              "ticks": ""
             }
            },
            "type": "scatterpolar"
           }
          ],
          "scatterpolargl": [
           {
            "marker": {
             "colorbar": {
              "outlinewidth": 0,
              "ticks": ""
             }
            },
            "type": "scatterpolargl"
           }
          ],
          "scatterternary": [
           {
            "marker": {
             "colorbar": {
              "outlinewidth": 0,
              "ticks": ""
             }
            },
            "type": "scatterternary"
           }
          ],
          "surface": [
           {
            "colorbar": {
             "outlinewidth": 0,
             "ticks": ""
            },
            "colorscale": [
             [
              0,
              "#0d0887"
             ],
             [
              0.1111111111111111,
              "#46039f"
             ],
             [
              0.2222222222222222,
              "#7201a8"
             ],
             [
              0.3333333333333333,
              "#9c179e"
             ],
             [
              0.4444444444444444,
              "#bd3786"
             ],
             [
              0.5555555555555556,
              "#d8576b"
             ],
             [
              0.6666666666666666,
              "#ed7953"
             ],
             [
              0.7777777777777778,
              "#fb9f3a"
             ],
             [
              0.8888888888888888,
              "#fdca26"
             ],
             [
              1,
              "#f0f921"
             ]
            ],
            "type": "surface"
           }
          ],
          "table": [
           {
            "cells": {
             "fill": {
              "color": "#EBF0F8"
             },
             "line": {
              "color": "white"
             }
            },
            "header": {
             "fill": {
              "color": "#C8D4E3"
             },
             "line": {
              "color": "white"
             }
            },
            "type": "table"
           }
          ]
         },
         "layout": {
          "annotationdefaults": {
           "arrowcolor": "#2a3f5f",
           "arrowhead": 0,
           "arrowwidth": 1
          },
          "autotypenumbers": "strict",
          "coloraxis": {
           "colorbar": {
            "outlinewidth": 0,
            "ticks": ""
           }
          },
          "colorscale": {
           "diverging": [
            [
             0,
             "#8e0152"
            ],
            [
             0.1,
             "#c51b7d"
            ],
            [
             0.2,
             "#de77ae"
            ],
            [
             0.3,
             "#f1b6da"
            ],
            [
             0.4,
             "#fde0ef"
            ],
            [
             0.5,
             "#f7f7f7"
            ],
            [
             0.6,
             "#e6f5d0"
            ],
            [
             0.7,
             "#b8e186"
            ],
            [
             0.8,
             "#7fbc41"
            ],
            [
             0.9,
             "#4d9221"
            ],
            [
             1,
             "#276419"
            ]
           ],
           "sequential": [
            [
             0,
             "#0d0887"
            ],
            [
             0.1111111111111111,
             "#46039f"
            ],
            [
             0.2222222222222222,
             "#7201a8"
            ],
            [
             0.3333333333333333,
             "#9c179e"
            ],
            [
             0.4444444444444444,
             "#bd3786"
            ],
            [
             0.5555555555555556,
             "#d8576b"
            ],
            [
             0.6666666666666666,
             "#ed7953"
            ],
            [
             0.7777777777777778,
             "#fb9f3a"
            ],
            [
             0.8888888888888888,
             "#fdca26"
            ],
            [
             1,
             "#f0f921"
            ]
           ],
           "sequentialminus": [
            [
             0,
             "#0d0887"
            ],
            [
             0.1111111111111111,
             "#46039f"
            ],
            [
             0.2222222222222222,
             "#7201a8"
            ],
            [
             0.3333333333333333,
             "#9c179e"
            ],
            [
             0.4444444444444444,
             "#bd3786"
            ],
            [
             0.5555555555555556,
             "#d8576b"
            ],
            [
             0.6666666666666666,
             "#ed7953"
            ],
            [
             0.7777777777777778,
             "#fb9f3a"
            ],
            [
             0.8888888888888888,
             "#fdca26"
            ],
            [
             1,
             "#f0f921"
            ]
           ]
          },
          "colorway": [
           "#636efa",
           "#EF553B",
           "#00cc96",
           "#ab63fa",
           "#FFA15A",
           "#19d3f3",
           "#FF6692",
           "#B6E880",
           "#FF97FF",
           "#FECB52"
          ],
          "font": {
           "color": "#2a3f5f"
          },
          "geo": {
           "bgcolor": "white",
           "lakecolor": "white",
           "landcolor": "#E5ECF6",
           "showlakes": true,
           "showland": true,
           "subunitcolor": "white"
          },
          "hoverlabel": {
           "align": "left"
          },
          "hovermode": "closest",
          "mapbox": {
           "style": "light"
          },
          "paper_bgcolor": "white",
          "plot_bgcolor": "#E5ECF6",
          "polar": {
           "angularaxis": {
            "gridcolor": "white",
            "linecolor": "white",
            "ticks": ""
           },
           "bgcolor": "#E5ECF6",
           "radialaxis": {
            "gridcolor": "white",
            "linecolor": "white",
            "ticks": ""
           }
          },
          "scene": {
           "xaxis": {
            "backgroundcolor": "#E5ECF6",
            "gridcolor": "white",
            "gridwidth": 2,
            "linecolor": "white",
            "showbackground": true,
            "ticks": "",
            "zerolinecolor": "white"
           },
           "yaxis": {
            "backgroundcolor": "#E5ECF6",
            "gridcolor": "white",
            "gridwidth": 2,
            "linecolor": "white",
            "showbackground": true,
            "ticks": "",
            "zerolinecolor": "white"
           },
           "zaxis": {
            "backgroundcolor": "#E5ECF6",
            "gridcolor": "white",
            "gridwidth": 2,
            "linecolor": "white",
            "showbackground": true,
            "ticks": "",
            "zerolinecolor": "white"
           }
          },
          "shapedefaults": {
           "line": {
            "color": "#2a3f5f"
           }
          },
          "ternary": {
           "aaxis": {
            "gridcolor": "white",
            "linecolor": "white",
            "ticks": ""
           },
           "baxis": {
            "gridcolor": "white",
            "linecolor": "white",
            "ticks": ""
           },
           "bgcolor": "#E5ECF6",
           "caxis": {
            "gridcolor": "white",
            "linecolor": "white",
            "ticks": ""
           }
          },
          "title": {
           "x": 0.05
          },
          "xaxis": {
           "automargin": true,
           "gridcolor": "white",
           "linecolor": "white",
           "ticks": "",
           "title": {
            "standoff": 15
           },
           "zerolinecolor": "white",
           "zerolinewidth": 2
          },
          "yaxis": {
           "automargin": true,
           "gridcolor": "white",
           "linecolor": "white",
           "ticks": "",
           "title": {
            "standoff": 15
           },
           "zerolinecolor": "white",
           "zerolinewidth": 2
          }
         }
        },
        "xaxis": {
         "anchor": "y",
         "domain": [
          0,
          1
         ],
         "title": {
          "text": "base"
         }
        },
        "yaxis": {
         "anchor": "x",
         "domain": [
          0,
          1
         ],
         "title": {
          "text": "Symbol"
         }
        }
       }
      }
     },
     "metadata": {},
     "output_type": "display_data"
    }
   ],
   "source": [
    "g_data = f_data.groupby('base').nunique()[['Symbol']].sort_values(by='Symbol', ascending=False).head(20)\n",
    "fig = px.bar(g_data, x=g_data.index, y='Symbol')\n",
    "fig.show()"
   ]
  }
 ],
 "metadata": {
  "kernelspec": {
   "display_name": "Python 3.8.8 ('NaDS')",
   "language": "python",
   "name": "python3"
  },
  "language_info": {
   "codemirror_mode": {
    "name": "ipython",
    "version": 3
   },
   "file_extension": ".py",
   "mimetype": "text/x-python",
   "name": "python",
   "nbconvert_exporter": "python",
   "pygments_lexer": "ipython3",
   "version": "3.8.8"
  },
  "orig_nbformat": 4,
  "vscode": {
   "interpreter": {
    "hash": "479fcfcd8a781549d023ec8ee70cfd9d1bc4e10e5bc48a6e6de9df19fe23d55c"
   }
  }
 },
 "nbformat": 4,
 "nbformat_minor": 2
}
