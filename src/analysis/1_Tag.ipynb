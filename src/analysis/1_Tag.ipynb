{
 "cells": [
  {
   "cell_type": "code",
   "execution_count": 61,
   "metadata": {},
   "outputs": [],
   "source": [
    "import pandas\n",
    "import plotly.express as px\n",
    "import plotly.graph_objects as go"
   ]
  },
  {
   "attachments": {},
   "cell_type": "markdown",
   "metadata": {},
   "source": [
    "<h1 style=\"text-align:center\">🏷 Tag trending</h1> "
   ]
  },
  {
   "cell_type": "markdown",
   "metadata": {},
   "source": [
    "# 1. Question "
   ]
  },
  {
   "cell_type": "markdown",
   "metadata": {},
   "source": [
    "- What is the most prevalence tags that symbol attach to"
   ]
  },
  {
   "cell_type": "markdown",
   "metadata": {},
   "source": [
    "# 2. Benefits"
   ]
  },
  {
   "cell_type": "markdown",
   "metadata": {},
   "source": [
    "- ✅ Get a deep inside trending of tag help us to follow proper coin. \n",
    "- ✅ Trading on coin that has popular tags will be safer than others."
   ]
  },
  {
   "cell_type": "markdown",
   "metadata": {},
   "source": [
    "# 3. Answer"
   ]
  },
  {
   "cell_type": "markdown",
   "metadata": {},
   "source": [
    "## ➡️ Using symbols from coin market cap"
   ]
  },
  {
   "cell_type": "code",
   "execution_count": 62,
   "metadata": {},
   "outputs": [
    {
     "data": {
      "text/html": [
       "<div>\n",
       "<style scoped>\n",
       "    .dataframe tbody tr th:only-of-type {\n",
       "        vertical-align: middle;\n",
       "    }\n",
       "\n",
       "    .dataframe tbody tr th {\n",
       "        vertical-align: top;\n",
       "    }\n",
       "\n",
       "    .dataframe thead th {\n",
       "        text-align: right;\n",
       "    }\n",
       "</style>\n",
       "<table border=\"1\" class=\"dataframe\">\n",
       "  <thead>\n",
       "    <tr style=\"text-align: right;\">\n",
       "      <th></th>\n",
       "      <th>symbol</th>\n",
       "      <th>price</th>\n",
       "      <th>percent_change_7d</th>\n",
       "      <th>market_cap</th>\n",
       "      <th>tags</th>\n",
       "      <th>date_added</th>\n",
       "    </tr>\n",
       "  </thead>\n",
       "  <tbody>\n",
       "    <tr>\n",
       "      <th>0</th>\n",
       "      <td>BTC</td>\n",
       "      <td>1.725482e+04</td>\n",
       "      <td>3.087062</td>\n",
       "      <td>3.322742e+11</td>\n",
       "      <td>mineable,pow,sha-256,store-of-value,state-chan...</td>\n",
       "      <td>2013-04-28 00:00:00+00:00</td>\n",
       "    </tr>\n",
       "    <tr>\n",
       "      <th>1</th>\n",
       "      <td>ETH</td>\n",
       "      <td>1.318194e+03</td>\n",
       "      <td>8.157891</td>\n",
       "      <td>1.613125e+11</td>\n",
       "      <td>pos,smart-contracts,ethereum-ecosystem,coinbas...</td>\n",
       "      <td>2015-08-07 00:00:00+00:00</td>\n",
       "    </tr>\n",
       "    <tr>\n",
       "      <th>2</th>\n",
       "      <td>USDT</td>\n",
       "      <td>1.000033e+00</td>\n",
       "      <td>0.025375</td>\n",
       "      <td>6.627467e+10</td>\n",
       "      <td>payments,stablecoin,asset-backed-stablecoin,av...</td>\n",
       "      <td>2015-02-25 00:00:00+00:00</td>\n",
       "    </tr>\n",
       "    <tr>\n",
       "      <th>3</th>\n",
       "      <td>BNB</td>\n",
       "      <td>2.792587e+02</td>\n",
       "      <td>13.023388</td>\n",
       "      <td>4.467113e+10</td>\n",
       "      <td>marketplace,centralized-exchange,payments,smar...</td>\n",
       "      <td>2017-07-25 00:00:00+00:00</td>\n",
       "    </tr>\n",
       "    <tr>\n",
       "      <th>4</th>\n",
       "      <td>USDC</td>\n",
       "      <td>9.999737e-01</td>\n",
       "      <td>-0.004383</td>\n",
       "      <td>4.399701e+10</td>\n",
       "      <td>medium-of-exchange,stablecoin,asset-backed-sta...</td>\n",
       "      <td>2018-10-08 00:00:00+00:00</td>\n",
       "    </tr>\n",
       "    <tr>\n",
       "      <th>...</th>\n",
       "      <td>...</td>\n",
       "      <td>...</td>\n",
       "      <td>...</td>\n",
       "      <td>...</td>\n",
       "      <td>...</td>\n",
       "      <td>...</td>\n",
       "    </tr>\n",
       "    <tr>\n",
       "      <th>2484</th>\n",
       "      <td>CPAN</td>\n",
       "      <td>1.457545e-06</td>\n",
       "      <td>2.257488</td>\n",
       "      <td>2.273771e+01</td>\n",
       "      <td>collectibles-nfts,gaming,entertainment,metaver...</td>\n",
       "      <td>2021-10-17 18:25:33+00:00</td>\n",
       "    </tr>\n",
       "    <tr>\n",
       "      <th>2485</th>\n",
       "      <td>NBXC</td>\n",
       "      <td>6.901927e-05</td>\n",
       "      <td>3.087062</td>\n",
       "      <td>1.860406e+01</td>\n",
       "      <td>no tags</td>\n",
       "      <td>2019-08-26 00:00:00+00:00</td>\n",
       "    </tr>\n",
       "    <tr>\n",
       "      <th>2486</th>\n",
       "      <td>RNBW</td>\n",
       "      <td>1.538021e-08</td>\n",
       "      <td>-21.683574</td>\n",
       "      <td>8.617339e-02</td>\n",
       "      <td>petrock-capital-portfolio,spartan-group</td>\n",
       "      <td>2021-06-15 00:00:00+00:00</td>\n",
       "    </tr>\n",
       "    <tr>\n",
       "      <th>2487</th>\n",
       "      <td>YFFII</td>\n",
       "      <td>6.150164e-07</td>\n",
       "      <td>45.725769</td>\n",
       "      <td>1.845049e-02</td>\n",
       "      <td>bnb-chain</td>\n",
       "      <td>2020-09-09 00:00:00+00:00</td>\n",
       "    </tr>\n",
       "    <tr>\n",
       "      <th>2488</th>\n",
       "      <td>MFTU</td>\n",
       "      <td>2.300076e-16</td>\n",
       "      <td>35.330405</td>\n",
       "      <td>2.472902e-07</td>\n",
       "      <td>no tags</td>\n",
       "      <td>2018-08-16 00:00:00+00:00</td>\n",
       "    </tr>\n",
       "  </tbody>\n",
       "</table>\n",
       "<p>2489 rows × 6 columns</p>\n",
       "</div>"
      ],
      "text/plain": [
       "     symbol         price  percent_change_7d    market_cap  \\\n",
       "0       BTC  1.725482e+04           3.087062  3.322742e+11   \n",
       "1       ETH  1.318194e+03           8.157891  1.613125e+11   \n",
       "2      USDT  1.000033e+00           0.025375  6.627467e+10   \n",
       "3       BNB  2.792587e+02          13.023388  4.467113e+10   \n",
       "4      USDC  9.999737e-01          -0.004383  4.399701e+10   \n",
       "...     ...           ...                ...           ...   \n",
       "2484   CPAN  1.457545e-06           2.257488  2.273771e+01   \n",
       "2485   NBXC  6.901927e-05           3.087062  1.860406e+01   \n",
       "2486   RNBW  1.538021e-08         -21.683574  8.617339e-02   \n",
       "2487  YFFII  6.150164e-07          45.725769  1.845049e-02   \n",
       "2488   MFTU  2.300076e-16          35.330405  2.472902e-07   \n",
       "\n",
       "                                                   tags  \\\n",
       "0     mineable,pow,sha-256,store-of-value,state-chan...   \n",
       "1     pos,smart-contracts,ethereum-ecosystem,coinbas...   \n",
       "2     payments,stablecoin,asset-backed-stablecoin,av...   \n",
       "3     marketplace,centralized-exchange,payments,smar...   \n",
       "4     medium-of-exchange,stablecoin,asset-backed-sta...   \n",
       "...                                                 ...   \n",
       "2484  collectibles-nfts,gaming,entertainment,metaver...   \n",
       "2485                                            no tags   \n",
       "2486            petrock-capital-portfolio,spartan-group   \n",
       "2487                                          bnb-chain   \n",
       "2488                                            no tags   \n",
       "\n",
       "                     date_added  \n",
       "0     2013-04-28 00:00:00+00:00  \n",
       "1     2015-08-07 00:00:00+00:00  \n",
       "2     2015-02-25 00:00:00+00:00  \n",
       "3     2017-07-25 00:00:00+00:00  \n",
       "4     2018-10-08 00:00:00+00:00  \n",
       "...                         ...  \n",
       "2484  2021-10-17 18:25:33+00:00  \n",
       "2485  2019-08-26 00:00:00+00:00  \n",
       "2486  2021-06-15 00:00:00+00:00  \n",
       "2487  2020-09-09 00:00:00+00:00  \n",
       "2488  2018-08-16 00:00:00+00:00  \n",
       "\n",
       "[2489 rows x 6 columns]"
      ]
     },
     "execution_count": 62,
     "metadata": {},
     "output_type": "execute_result"
    }
   ],
   "source": [
    "symbols = pandas.read_csv('../../datastore/coin_market_cap_symbols.csv')\n",
    "symbols"
   ]
  },
  {
   "cell_type": "markdown",
   "metadata": {},
   "source": [
    "## ➡️ Split string of tags to get tag arrays"
   ]
  },
  {
   "cell_type": "code",
   "execution_count": 63,
   "metadata": {},
   "outputs": [
    {
     "data": {
      "text/html": [
       "<div>\n",
       "<style scoped>\n",
       "    .dataframe tbody tr th:only-of-type {\n",
       "        vertical-align: middle;\n",
       "    }\n",
       "\n",
       "    .dataframe tbody tr th {\n",
       "        vertical-align: top;\n",
       "    }\n",
       "\n",
       "    .dataframe thead th {\n",
       "        text-align: right;\n",
       "    }\n",
       "</style>\n",
       "<table border=\"1\" class=\"dataframe\">\n",
       "  <thead>\n",
       "    <tr style=\"text-align: right;\">\n",
       "      <th></th>\n",
       "      <th>symbol</th>\n",
       "      <th>price</th>\n",
       "      <th>percent_change_7d</th>\n",
       "      <th>market_cap</th>\n",
       "      <th>tags</th>\n",
       "      <th>date_added</th>\n",
       "    </tr>\n",
       "  </thead>\n",
       "  <tbody>\n",
       "    <tr>\n",
       "      <th>0</th>\n",
       "      <td>BTC</td>\n",
       "      <td>1.725482e+04</td>\n",
       "      <td>3.087062</td>\n",
       "      <td>3.322742e+11</td>\n",
       "      <td>[mineable, pow, sha-256, store-of-value, state...</td>\n",
       "      <td>2013-04-28 00:00:00+00:00</td>\n",
       "    </tr>\n",
       "    <tr>\n",
       "      <th>1</th>\n",
       "      <td>ETH</td>\n",
       "      <td>1.318194e+03</td>\n",
       "      <td>8.157891</td>\n",
       "      <td>1.613125e+11</td>\n",
       "      <td>[pos, smart-contracts, ethereum-ecosystem, coi...</td>\n",
       "      <td>2015-08-07 00:00:00+00:00</td>\n",
       "    </tr>\n",
       "    <tr>\n",
       "      <th>2</th>\n",
       "      <td>USDT</td>\n",
       "      <td>1.000033e+00</td>\n",
       "      <td>0.025375</td>\n",
       "      <td>6.627467e+10</td>\n",
       "      <td>[payments, stablecoin, asset-backed-stablecoin...</td>\n",
       "      <td>2015-02-25 00:00:00+00:00</td>\n",
       "    </tr>\n",
       "    <tr>\n",
       "      <th>3</th>\n",
       "      <td>BNB</td>\n",
       "      <td>2.792587e+02</td>\n",
       "      <td>13.023388</td>\n",
       "      <td>4.467113e+10</td>\n",
       "      <td>[marketplace, centralized-exchange, payments, ...</td>\n",
       "      <td>2017-07-25 00:00:00+00:00</td>\n",
       "    </tr>\n",
       "    <tr>\n",
       "      <th>4</th>\n",
       "      <td>USDC</td>\n",
       "      <td>9.999737e-01</td>\n",
       "      <td>-0.004383</td>\n",
       "      <td>4.399701e+10</td>\n",
       "      <td>[medium-of-exchange, stablecoin, asset-backed-...</td>\n",
       "      <td>2018-10-08 00:00:00+00:00</td>\n",
       "    </tr>\n",
       "    <tr>\n",
       "      <th>...</th>\n",
       "      <td>...</td>\n",
       "      <td>...</td>\n",
       "      <td>...</td>\n",
       "      <td>...</td>\n",
       "      <td>...</td>\n",
       "      <td>...</td>\n",
       "    </tr>\n",
       "    <tr>\n",
       "      <th>2484</th>\n",
       "      <td>CPAN</td>\n",
       "      <td>1.457545e-06</td>\n",
       "      <td>2.257488</td>\n",
       "      <td>2.273771e+01</td>\n",
       "      <td>[collectibles-nfts, gaming, entertainment, met...</td>\n",
       "      <td>2021-10-17 18:25:33+00:00</td>\n",
       "    </tr>\n",
       "    <tr>\n",
       "      <th>2485</th>\n",
       "      <td>NBXC</td>\n",
       "      <td>6.901927e-05</td>\n",
       "      <td>3.087062</td>\n",
       "      <td>1.860406e+01</td>\n",
       "      <td>[no tags]</td>\n",
       "      <td>2019-08-26 00:00:00+00:00</td>\n",
       "    </tr>\n",
       "    <tr>\n",
       "      <th>2486</th>\n",
       "      <td>RNBW</td>\n",
       "      <td>1.538021e-08</td>\n",
       "      <td>-21.683574</td>\n",
       "      <td>8.617339e-02</td>\n",
       "      <td>[petrock-capital-portfolio, spartan-group]</td>\n",
       "      <td>2021-06-15 00:00:00+00:00</td>\n",
       "    </tr>\n",
       "    <tr>\n",
       "      <th>2487</th>\n",
       "      <td>YFFII</td>\n",
       "      <td>6.150164e-07</td>\n",
       "      <td>45.725769</td>\n",
       "      <td>1.845049e-02</td>\n",
       "      <td>[bnb-chain]</td>\n",
       "      <td>2020-09-09 00:00:00+00:00</td>\n",
       "    </tr>\n",
       "    <tr>\n",
       "      <th>2488</th>\n",
       "      <td>MFTU</td>\n",
       "      <td>2.300076e-16</td>\n",
       "      <td>35.330405</td>\n",
       "      <td>2.472902e-07</td>\n",
       "      <td>[no tags]</td>\n",
       "      <td>2018-08-16 00:00:00+00:00</td>\n",
       "    </tr>\n",
       "  </tbody>\n",
       "</table>\n",
       "<p>2489 rows × 6 columns</p>\n",
       "</div>"
      ],
      "text/plain": [
       "     symbol         price  percent_change_7d    market_cap  \\\n",
       "0       BTC  1.725482e+04           3.087062  3.322742e+11   \n",
       "1       ETH  1.318194e+03           8.157891  1.613125e+11   \n",
       "2      USDT  1.000033e+00           0.025375  6.627467e+10   \n",
       "3       BNB  2.792587e+02          13.023388  4.467113e+10   \n",
       "4      USDC  9.999737e-01          -0.004383  4.399701e+10   \n",
       "...     ...           ...                ...           ...   \n",
       "2484   CPAN  1.457545e-06           2.257488  2.273771e+01   \n",
       "2485   NBXC  6.901927e-05           3.087062  1.860406e+01   \n",
       "2486   RNBW  1.538021e-08         -21.683574  8.617339e-02   \n",
       "2487  YFFII  6.150164e-07          45.725769  1.845049e-02   \n",
       "2488   MFTU  2.300076e-16          35.330405  2.472902e-07   \n",
       "\n",
       "                                                   tags  \\\n",
       "0     [mineable, pow, sha-256, store-of-value, state...   \n",
       "1     [pos, smart-contracts, ethereum-ecosystem, coi...   \n",
       "2     [payments, stablecoin, asset-backed-stablecoin...   \n",
       "3     [marketplace, centralized-exchange, payments, ...   \n",
       "4     [medium-of-exchange, stablecoin, asset-backed-...   \n",
       "...                                                 ...   \n",
       "2484  [collectibles-nfts, gaming, entertainment, met...   \n",
       "2485                                          [no tags]   \n",
       "2486         [petrock-capital-portfolio, spartan-group]   \n",
       "2487                                        [bnb-chain]   \n",
       "2488                                          [no tags]   \n",
       "\n",
       "                     date_added  \n",
       "0     2013-04-28 00:00:00+00:00  \n",
       "1     2015-08-07 00:00:00+00:00  \n",
       "2     2015-02-25 00:00:00+00:00  \n",
       "3     2017-07-25 00:00:00+00:00  \n",
       "4     2018-10-08 00:00:00+00:00  \n",
       "...                         ...  \n",
       "2484  2021-10-17 18:25:33+00:00  \n",
       "2485  2019-08-26 00:00:00+00:00  \n",
       "2486  2021-06-15 00:00:00+00:00  \n",
       "2487  2020-09-09 00:00:00+00:00  \n",
       "2488  2018-08-16 00:00:00+00:00  \n",
       "\n",
       "[2489 rows x 6 columns]"
      ]
     },
     "execution_count": 63,
     "metadata": {},
     "output_type": "execute_result"
    }
   ],
   "source": [
    "symbols[\"tags\"] = symbols[\"tags\"].apply(lambda x: str(x).split(\",\"))\n",
    "symbols"
   ]
  },
  {
   "cell_type": "markdown",
   "metadata": {},
   "source": [
    "## ➡️ Spread tags to each row of table"
   ]
  },
  {
   "cell_type": "code",
   "execution_count": 64,
   "metadata": {},
   "outputs": [
    {
     "data": {
      "text/html": [
       "<div>\n",
       "<style scoped>\n",
       "    .dataframe tbody tr th:only-of-type {\n",
       "        vertical-align: middle;\n",
       "    }\n",
       "\n",
       "    .dataframe tbody tr th {\n",
       "        vertical-align: top;\n",
       "    }\n",
       "\n",
       "    .dataframe thead th {\n",
       "        text-align: right;\n",
       "    }\n",
       "</style>\n",
       "<table border=\"1\" class=\"dataframe\">\n",
       "  <thead>\n",
       "    <tr style=\"text-align: right;\">\n",
       "      <th></th>\n",
       "      <th>symbol</th>\n",
       "      <th>price</th>\n",
       "      <th>percent_change_7d</th>\n",
       "      <th>market_cap</th>\n",
       "      <th>tags</th>\n",
       "      <th>date_added</th>\n",
       "    </tr>\n",
       "  </thead>\n",
       "  <tbody>\n",
       "    <tr>\n",
       "      <th>0</th>\n",
       "      <td>BTC</td>\n",
       "      <td>1.725482e+04</td>\n",
       "      <td>3.087062</td>\n",
       "      <td>3.322742e+11</td>\n",
       "      <td>mineable</td>\n",
       "      <td>2013-04-28 00:00:00+00:00</td>\n",
       "    </tr>\n",
       "    <tr>\n",
       "      <th>0</th>\n",
       "      <td>BTC</td>\n",
       "      <td>1.725482e+04</td>\n",
       "      <td>3.087062</td>\n",
       "      <td>3.322742e+11</td>\n",
       "      <td>pow</td>\n",
       "      <td>2013-04-28 00:00:00+00:00</td>\n",
       "    </tr>\n",
       "    <tr>\n",
       "      <th>0</th>\n",
       "      <td>BTC</td>\n",
       "      <td>1.725482e+04</td>\n",
       "      <td>3.087062</td>\n",
       "      <td>3.322742e+11</td>\n",
       "      <td>sha-256</td>\n",
       "      <td>2013-04-28 00:00:00+00:00</td>\n",
       "    </tr>\n",
       "    <tr>\n",
       "      <th>0</th>\n",
       "      <td>BTC</td>\n",
       "      <td>1.725482e+04</td>\n",
       "      <td>3.087062</td>\n",
       "      <td>3.322742e+11</td>\n",
       "      <td>store-of-value</td>\n",
       "      <td>2013-04-28 00:00:00+00:00</td>\n",
       "    </tr>\n",
       "    <tr>\n",
       "      <th>0</th>\n",
       "      <td>BTC</td>\n",
       "      <td>1.725482e+04</td>\n",
       "      <td>3.087062</td>\n",
       "      <td>3.322742e+11</td>\n",
       "      <td>state-channel</td>\n",
       "      <td>2013-04-28 00:00:00+00:00</td>\n",
       "    </tr>\n",
       "    <tr>\n",
       "      <th>...</th>\n",
       "      <td>...</td>\n",
       "      <td>...</td>\n",
       "      <td>...</td>\n",
       "      <td>...</td>\n",
       "      <td>...</td>\n",
       "      <td>...</td>\n",
       "    </tr>\n",
       "    <tr>\n",
       "      <th>2485</th>\n",
       "      <td>NBXC</td>\n",
       "      <td>6.901927e-05</td>\n",
       "      <td>3.087062</td>\n",
       "      <td>1.860406e+01</td>\n",
       "      <td>no tags</td>\n",
       "      <td>2019-08-26 00:00:00+00:00</td>\n",
       "    </tr>\n",
       "    <tr>\n",
       "      <th>2486</th>\n",
       "      <td>RNBW</td>\n",
       "      <td>1.538021e-08</td>\n",
       "      <td>-21.683574</td>\n",
       "      <td>8.617339e-02</td>\n",
       "      <td>petrock-capital-portfolio</td>\n",
       "      <td>2021-06-15 00:00:00+00:00</td>\n",
       "    </tr>\n",
       "    <tr>\n",
       "      <th>2486</th>\n",
       "      <td>RNBW</td>\n",
       "      <td>1.538021e-08</td>\n",
       "      <td>-21.683574</td>\n",
       "      <td>8.617339e-02</td>\n",
       "      <td>spartan-group</td>\n",
       "      <td>2021-06-15 00:00:00+00:00</td>\n",
       "    </tr>\n",
       "    <tr>\n",
       "      <th>2487</th>\n",
       "      <td>YFFII</td>\n",
       "      <td>6.150164e-07</td>\n",
       "      <td>45.725769</td>\n",
       "      <td>1.845049e-02</td>\n",
       "      <td>bnb-chain</td>\n",
       "      <td>2020-09-09 00:00:00+00:00</td>\n",
       "    </tr>\n",
       "    <tr>\n",
       "      <th>2488</th>\n",
       "      <td>MFTU</td>\n",
       "      <td>2.300076e-16</td>\n",
       "      <td>35.330405</td>\n",
       "      <td>2.472902e-07</td>\n",
       "      <td>no tags</td>\n",
       "      <td>2018-08-16 00:00:00+00:00</td>\n",
       "    </tr>\n",
       "  </tbody>\n",
       "</table>\n",
       "<p>7714 rows × 6 columns</p>\n",
       "</div>"
      ],
      "text/plain": [
       "     symbol         price  percent_change_7d    market_cap  \\\n",
       "0       BTC  1.725482e+04           3.087062  3.322742e+11   \n",
       "0       BTC  1.725482e+04           3.087062  3.322742e+11   \n",
       "0       BTC  1.725482e+04           3.087062  3.322742e+11   \n",
       "0       BTC  1.725482e+04           3.087062  3.322742e+11   \n",
       "0       BTC  1.725482e+04           3.087062  3.322742e+11   \n",
       "...     ...           ...                ...           ...   \n",
       "2485   NBXC  6.901927e-05           3.087062  1.860406e+01   \n",
       "2486   RNBW  1.538021e-08         -21.683574  8.617339e-02   \n",
       "2486   RNBW  1.538021e-08         -21.683574  8.617339e-02   \n",
       "2487  YFFII  6.150164e-07          45.725769  1.845049e-02   \n",
       "2488   MFTU  2.300076e-16          35.330405  2.472902e-07   \n",
       "\n",
       "                           tags                 date_added  \n",
       "0                      mineable  2013-04-28 00:00:00+00:00  \n",
       "0                           pow  2013-04-28 00:00:00+00:00  \n",
       "0                       sha-256  2013-04-28 00:00:00+00:00  \n",
       "0                store-of-value  2013-04-28 00:00:00+00:00  \n",
       "0                 state-channel  2013-04-28 00:00:00+00:00  \n",
       "...                         ...                        ...  \n",
       "2485                    no tags  2019-08-26 00:00:00+00:00  \n",
       "2486  petrock-capital-portfolio  2021-06-15 00:00:00+00:00  \n",
       "2486              spartan-group  2021-06-15 00:00:00+00:00  \n",
       "2487                  bnb-chain  2020-09-09 00:00:00+00:00  \n",
       "2488                    no tags  2018-08-16 00:00:00+00:00  \n",
       "\n",
       "[7714 rows x 6 columns]"
      ]
     },
     "execution_count": 64,
     "metadata": {},
     "output_type": "execute_result"
    }
   ],
   "source": [
    "symbols_with_tags_df = symbols.explode(\"tags\")\n",
    "symbols_with_tags_df"
   ]
  },
  {
   "cell_type": "markdown",
   "metadata": {},
   "source": [
    "## ➡️ Group tags together and utilize ascending sort"
   ]
  },
  {
   "cell_type": "code",
   "execution_count": 65,
   "metadata": {},
   "outputs": [
    {
     "data": {
      "text/html": [
       "<div>\n",
       "<style scoped>\n",
       "    .dataframe tbody tr th:only-of-type {\n",
       "        vertical-align: middle;\n",
       "    }\n",
       "\n",
       "    .dataframe tbody tr th {\n",
       "        vertical-align: top;\n",
       "    }\n",
       "\n",
       "    .dataframe thead th {\n",
       "        text-align: right;\n",
       "    }\n",
       "</style>\n",
       "<table border=\"1\" class=\"dataframe\">\n",
       "  <thead>\n",
       "    <tr style=\"text-align: right;\">\n",
       "      <th></th>\n",
       "      <th>tags</th>\n",
       "      <th>symbol</th>\n",
       "    </tr>\n",
       "  </thead>\n",
       "  <tbody>\n",
       "    <tr>\n",
       "      <th>0</th>\n",
       "      <td>no tags</td>\n",
       "      <td>575</td>\n",
       "    </tr>\n",
       "    <tr>\n",
       "      <th>1</th>\n",
       "      <td>bnb-chain</td>\n",
       "      <td>418</td>\n",
       "    </tr>\n",
       "    <tr>\n",
       "      <th>2</th>\n",
       "      <td>defi</td>\n",
       "      <td>335</td>\n",
       "    </tr>\n",
       "    <tr>\n",
       "      <th>3</th>\n",
       "      <td>mineable</td>\n",
       "      <td>306</td>\n",
       "    </tr>\n",
       "    <tr>\n",
       "      <th>4</th>\n",
       "      <td>collectibles-nfts</td>\n",
       "      <td>270</td>\n",
       "    </tr>\n",
       "    <tr>\n",
       "      <th>...</th>\n",
       "      <td>...</td>\n",
       "      <td>...</td>\n",
       "    </tr>\n",
       "    <tr>\n",
       "      <th>275</th>\n",
       "      <td>internet-computer-ecosystem</td>\n",
       "      <td>1</td>\n",
       "    </tr>\n",
       "    <tr>\n",
       "      <th>276</th>\n",
       "      <td>timestamping</td>\n",
       "      <td>1</td>\n",
       "    </tr>\n",
       "    <tr>\n",
       "      <th>277</th>\n",
       "      <td>farastarter</td>\n",
       "      <td>1</td>\n",
       "    </tr>\n",
       "    <tr>\n",
       "      <th>278</th>\n",
       "      <td>qubit</td>\n",
       "      <td>1</td>\n",
       "    </tr>\n",
       "    <tr>\n",
       "      <th>279</th>\n",
       "      <td>reef-chain</td>\n",
       "      <td>1</td>\n",
       "    </tr>\n",
       "  </tbody>\n",
       "</table>\n",
       "<p>280 rows × 2 columns</p>\n",
       "</div>"
      ],
      "text/plain": [
       "                            tags  symbol\n",
       "0                        no tags     575\n",
       "1                      bnb-chain     418\n",
       "2                           defi     335\n",
       "3                       mineable     306\n",
       "4              collectibles-nfts     270\n",
       "..                           ...     ...\n",
       "275  internet-computer-ecosystem       1\n",
       "276                 timestamping       1\n",
       "277                  farastarter       1\n",
       "278                        qubit       1\n",
       "279                   reef-chain       1\n",
       "\n",
       "[280 rows x 2 columns]"
      ]
     },
     "execution_count": 65,
     "metadata": {},
     "output_type": "execute_result"
    }
   ],
   "source": [
    "rank_tags = symbols_with_tags_df.groupby(\"tags\").count()[[\"symbol\"]].sort_values(by=\"symbol\", ascending=False)\n",
    "rank_tags = rank_tags.reset_index()\n",
    "rank_tags"
   ]
  },
  {
   "cell_type": "markdown",
   "metadata": {},
   "source": [
    "## ➡️ Visualize tags trending"
   ]
  },
  {
   "cell_type": "code",
   "execution_count": 66,
   "metadata": {},
   "outputs": [
    {
     "data": {
      "application/vnd.plotly.v1+json": {
       "config": {
        "plotlyServerURL": "https://plot.ly"
       },
       "data": [
        {
         "domain": {
          "x": [
           0,
           1
          ],
          "y": [
           0,
           1
          ]
         },
         "hovertemplate": "tags=%{label}<br>symbol=%{value}<extra></extra>",
         "labels": [
          "no tags",
          "bnb-chain",
          "defi",
          "mineable",
          "collectibles-nfts",
          "platform",
          "gaming",
          "metaverse",
          "payments",
          "smart-contracts",
          "polygon-ecosystem",
          "play-to-earn",
          "pow",
          "dao",
          "injective-ecosystem",
          "ethereum-ecosystem",
          "marketplace",
          "yield-farming",
          "polkadot-ecosystem",
          "governance",
          "web3",
          "ai-big-data",
          "decentralized-exchange-dex-token",
          "privacy",
          "masternodes",
          "enterprise-solutions",
          "medium-of-exchange",
          "hybrid-pow-pos",
          "exnetwork-capital-portfolio",
          "staking"
         ],
         "legendgroup": "",
         "name": "",
         "showlegend": true,
         "textinfo": "percent+label",
         "textposition": "inside",
         "type": "pie",
         "values": [
          575,
          418,
          335,
          306,
          270,
          189,
          172,
          134,
          112,
          111,
          111,
          107,
          106,
          104,
          103,
          103,
          103,
          97,
          85,
          85,
          83,
          82,
          80,
          77,
          76,
          75,
          73,
          70,
          66,
          63
         ]
        }
       ],
       "layout": {
        "legend": {
         "tracegroupgap": 0
        },
        "template": {
         "data": {
          "bar": [
           {
            "error_x": {
             "color": "#2a3f5f"
            },
            "error_y": {
             "color": "#2a3f5f"
            },
            "marker": {
             "line": {
              "color": "#E5ECF6",
              "width": 0.5
             },
             "pattern": {
              "fillmode": "overlay",
              "size": 10,
              "solidity": 0.2
             }
            },
            "type": "bar"
           }
          ],
          "barpolar": [
           {
            "marker": {
             "line": {
              "color": "#E5ECF6",
              "width": 0.5
             },
             "pattern": {
              "fillmode": "overlay",
              "size": 10,
              "solidity": 0.2
             }
            },
            "type": "barpolar"
           }
          ],
          "carpet": [
           {
            "aaxis": {
             "endlinecolor": "#2a3f5f",
             "gridcolor": "white",
             "linecolor": "white",
             "minorgridcolor": "white",
             "startlinecolor": "#2a3f5f"
            },
            "baxis": {
             "endlinecolor": "#2a3f5f",
             "gridcolor": "white",
             "linecolor": "white",
             "minorgridcolor": "white",
             "startlinecolor": "#2a3f5f"
            },
            "type": "carpet"
           }
          ],
          "choropleth": [
           {
            "colorbar": {
             "outlinewidth": 0,
             "ticks": ""
            },
            "type": "choropleth"
           }
          ],
          "contour": [
           {
            "colorbar": {
             "outlinewidth": 0,
             "ticks": ""
            },
            "colorscale": [
             [
              0,
              "#0d0887"
             ],
             [
              0.1111111111111111,
              "#46039f"
             ],
             [
              0.2222222222222222,
              "#7201a8"
             ],
             [
              0.3333333333333333,
              "#9c179e"
             ],
             [
              0.4444444444444444,
              "#bd3786"
             ],
             [
              0.5555555555555556,
              "#d8576b"
             ],
             [
              0.6666666666666666,
              "#ed7953"
             ],
             [
              0.7777777777777778,
              "#fb9f3a"
             ],
             [
              0.8888888888888888,
              "#fdca26"
             ],
             [
              1,
              "#f0f921"
             ]
            ],
            "type": "contour"
           }
          ],
          "contourcarpet": [
           {
            "colorbar": {
             "outlinewidth": 0,
             "ticks": ""
            },
            "type": "contourcarpet"
           }
          ],
          "heatmap": [
           {
            "colorbar": {
             "outlinewidth": 0,
             "ticks": ""
            },
            "colorscale": [
             [
              0,
              "#0d0887"
             ],
             [
              0.1111111111111111,
              "#46039f"
             ],
             [
              0.2222222222222222,
              "#7201a8"
             ],
             [
              0.3333333333333333,
              "#9c179e"
             ],
             [
              0.4444444444444444,
              "#bd3786"
             ],
             [
              0.5555555555555556,
              "#d8576b"
             ],
             [
              0.6666666666666666,
              "#ed7953"
             ],
             [
              0.7777777777777778,
              "#fb9f3a"
             ],
             [
              0.8888888888888888,
              "#fdca26"
             ],
             [
              1,
              "#f0f921"
             ]
            ],
            "type": "heatmap"
           }
          ],
          "heatmapgl": [
           {
            "colorbar": {
             "outlinewidth": 0,
             "ticks": ""
            },
            "colorscale": [
             [
              0,
              "#0d0887"
             ],
             [
              0.1111111111111111,
              "#46039f"
             ],
             [
              0.2222222222222222,
              "#7201a8"
             ],
             [
              0.3333333333333333,
              "#9c179e"
             ],
             [
              0.4444444444444444,
              "#bd3786"
             ],
             [
              0.5555555555555556,
              "#d8576b"
             ],
             [
              0.6666666666666666,
              "#ed7953"
             ],
             [
              0.7777777777777778,
              "#fb9f3a"
             ],
             [
              0.8888888888888888,
              "#fdca26"
             ],
             [
              1,
              "#f0f921"
             ]
            ],
            "type": "heatmapgl"
           }
          ],
          "histogram": [
           {
            "marker": {
             "pattern": {
              "fillmode": "overlay",
              "size": 10,
              "solidity": 0.2
             }
            },
            "type": "histogram"
           }
          ],
          "histogram2d": [
           {
            "colorbar": {
             "outlinewidth": 0,
             "ticks": ""
            },
            "colorscale": [
             [
              0,
              "#0d0887"
             ],
             [
              0.1111111111111111,
              "#46039f"
             ],
             [
              0.2222222222222222,
              "#7201a8"
             ],
             [
              0.3333333333333333,
              "#9c179e"
             ],
             [
              0.4444444444444444,
              "#bd3786"
             ],
             [
              0.5555555555555556,
              "#d8576b"
             ],
             [
              0.6666666666666666,
              "#ed7953"
             ],
             [
              0.7777777777777778,
              "#fb9f3a"
             ],
             [
              0.8888888888888888,
              "#fdca26"
             ],
             [
              1,
              "#f0f921"
             ]
            ],
            "type": "histogram2d"
           }
          ],
          "histogram2dcontour": [
           {
            "colorbar": {
             "outlinewidth": 0,
             "ticks": ""
            },
            "colorscale": [
             [
              0,
              "#0d0887"
             ],
             [
              0.1111111111111111,
              "#46039f"
             ],
             [
              0.2222222222222222,
              "#7201a8"
             ],
             [
              0.3333333333333333,
              "#9c179e"
             ],
             [
              0.4444444444444444,
              "#bd3786"
             ],
             [
              0.5555555555555556,
              "#d8576b"
             ],
             [
              0.6666666666666666,
              "#ed7953"
             ],
             [
              0.7777777777777778,
              "#fb9f3a"
             ],
             [
              0.8888888888888888,
              "#fdca26"
             ],
             [
              1,
              "#f0f921"
             ]
            ],
            "type": "histogram2dcontour"
           }
          ],
          "mesh3d": [
           {
            "colorbar": {
             "outlinewidth": 0,
             "ticks": ""
            },
            "type": "mesh3d"
           }
          ],
          "parcoords": [
           {
            "line": {
             "colorbar": {
              "outlinewidth": 0,
              "ticks": ""
             }
            },
            "type": "parcoords"
           }
          ],
          "pie": [
           {
            "automargin": true,
            "type": "pie"
           }
          ],
          "scatter": [
           {
            "fillpattern": {
             "fillmode": "overlay",
             "size": 10,
             "solidity": 0.2
            },
            "type": "scatter"
           }
          ],
          "scatter3d": [
           {
            "line": {
             "colorbar": {
              "outlinewidth": 0,
              "ticks": ""
             }
            },
            "marker": {
             "colorbar": {
              "outlinewidth": 0,
              "ticks": ""
             }
            },
            "type": "scatter3d"
           }
          ],
          "scattercarpet": [
           {
            "marker": {
             "colorbar": {
              "outlinewidth": 0,
              "ticks": ""
             }
            },
            "type": "scattercarpet"
           }
          ],
          "scattergeo": [
           {
            "marker": {
             "colorbar": {
              "outlinewidth": 0,
              "ticks": ""
             }
            },
            "type": "scattergeo"
           }
          ],
          "scattergl": [
           {
            "marker": {
             "colorbar": {
              "outlinewidth": 0,
              "ticks": ""
             }
            },
            "type": "scattergl"
           }
          ],
          "scattermapbox": [
           {
            "marker": {
             "colorbar": {
              "outlinewidth": 0,
              "ticks": ""
             }
            },
            "type": "scattermapbox"
           }
          ],
          "scatterpolar": [
           {
            "marker": {
             "colorbar": {
              "outlinewidth": 0,
              "ticks": ""
             }
            },
            "type": "scatterpolar"
           }
          ],
          "scatterpolargl": [
           {
            "marker": {
             "colorbar": {
              "outlinewidth": 0,
              "ticks": ""
             }
            },
            "type": "scatterpolargl"
           }
          ],
          "scatterternary": [
           {
            "marker": {
             "colorbar": {
              "outlinewidth": 0,
              "ticks": ""
             }
            },
            "type": "scatterternary"
           }
          ],
          "surface": [
           {
            "colorbar": {
             "outlinewidth": 0,
             "ticks": ""
            },
            "colorscale": [
             [
              0,
              "#0d0887"
             ],
             [
              0.1111111111111111,
              "#46039f"
             ],
             [
              0.2222222222222222,
              "#7201a8"
             ],
             [
              0.3333333333333333,
              "#9c179e"
             ],
             [
              0.4444444444444444,
              "#bd3786"
             ],
             [
              0.5555555555555556,
              "#d8576b"
             ],
             [
              0.6666666666666666,
              "#ed7953"
             ],
             [
              0.7777777777777778,
              "#fb9f3a"
             ],
             [
              0.8888888888888888,
              "#fdca26"
             ],
             [
              1,
              "#f0f921"
             ]
            ],
            "type": "surface"
           }
          ],
          "table": [
           {
            "cells": {
             "fill": {
              "color": "#EBF0F8"
             },
             "line": {
              "color": "white"
             }
            },
            "header": {
             "fill": {
              "color": "#C8D4E3"
             },
             "line": {
              "color": "white"
             }
            },
            "type": "table"
           }
          ]
         },
         "layout": {
          "annotationdefaults": {
           "arrowcolor": "#2a3f5f",
           "arrowhead": 0,
           "arrowwidth": 1
          },
          "autotypenumbers": "strict",
          "coloraxis": {
           "colorbar": {
            "outlinewidth": 0,
            "ticks": ""
           }
          },
          "colorscale": {
           "diverging": [
            [
             0,
             "#8e0152"
            ],
            [
             0.1,
             "#c51b7d"
            ],
            [
             0.2,
             "#de77ae"
            ],
            [
             0.3,
             "#f1b6da"
            ],
            [
             0.4,
             "#fde0ef"
            ],
            [
             0.5,
             "#f7f7f7"
            ],
            [
             0.6,
             "#e6f5d0"
            ],
            [
             0.7,
             "#b8e186"
            ],
            [
             0.8,
             "#7fbc41"
            ],
            [
             0.9,
             "#4d9221"
            ],
            [
             1,
             "#276419"
            ]
           ],
           "sequential": [
            [
             0,
             "#0d0887"
            ],
            [
             0.1111111111111111,
             "#46039f"
            ],
            [
             0.2222222222222222,
             "#7201a8"
            ],
            [
             0.3333333333333333,
             "#9c179e"
            ],
            [
             0.4444444444444444,
             "#bd3786"
            ],
            [
             0.5555555555555556,
             "#d8576b"
            ],
            [
             0.6666666666666666,
             "#ed7953"
            ],
            [
             0.7777777777777778,
             "#fb9f3a"
            ],
            [
             0.8888888888888888,
             "#fdca26"
            ],
            [
             1,
             "#f0f921"
            ]
           ],
           "sequentialminus": [
            [
             0,
             "#0d0887"
            ],
            [
             0.1111111111111111,
             "#46039f"
            ],
            [
             0.2222222222222222,
             "#7201a8"
            ],
            [
             0.3333333333333333,
             "#9c179e"
            ],
            [
             0.4444444444444444,
             "#bd3786"
            ],
            [
             0.5555555555555556,
             "#d8576b"
            ],
            [
             0.6666666666666666,
             "#ed7953"
            ],
            [
             0.7777777777777778,
             "#fb9f3a"
            ],
            [
             0.8888888888888888,
             "#fdca26"
            ],
            [
             1,
             "#f0f921"
            ]
           ]
          },
          "colorway": [
           "#636efa",
           "#EF553B",
           "#00cc96",
           "#ab63fa",
           "#FFA15A",
           "#19d3f3",
           "#FF6692",
           "#B6E880",
           "#FF97FF",
           "#FECB52"
          ],
          "font": {
           "color": "#2a3f5f"
          },
          "geo": {
           "bgcolor": "white",
           "lakecolor": "white",
           "landcolor": "#E5ECF6",
           "showlakes": true,
           "showland": true,
           "subunitcolor": "white"
          },
          "hoverlabel": {
           "align": "left"
          },
          "hovermode": "closest",
          "mapbox": {
           "style": "light"
          },
          "paper_bgcolor": "white",
          "plot_bgcolor": "#E5ECF6",
          "polar": {
           "angularaxis": {
            "gridcolor": "white",
            "linecolor": "white",
            "ticks": ""
           },
           "bgcolor": "#E5ECF6",
           "radialaxis": {
            "gridcolor": "white",
            "linecolor": "white",
            "ticks": ""
           }
          },
          "scene": {
           "xaxis": {
            "backgroundcolor": "#E5ECF6",
            "gridcolor": "white",
            "gridwidth": 2,
            "linecolor": "white",
            "showbackground": true,
            "ticks": "",
            "zerolinecolor": "white"
           },
           "yaxis": {
            "backgroundcolor": "#E5ECF6",
            "gridcolor": "white",
            "gridwidth": 2,
            "linecolor": "white",
            "showbackground": true,
            "ticks": "",
            "zerolinecolor": "white"
           },
           "zaxis": {
            "backgroundcolor": "#E5ECF6",
            "gridcolor": "white",
            "gridwidth": 2,
            "linecolor": "white",
            "showbackground": true,
            "ticks": "",
            "zerolinecolor": "white"
           }
          },
          "shapedefaults": {
           "line": {
            "color": "#2a3f5f"
           }
          },
          "ternary": {
           "aaxis": {
            "gridcolor": "white",
            "linecolor": "white",
            "ticks": ""
           },
           "baxis": {
            "gridcolor": "white",
            "linecolor": "white",
            "ticks": ""
           },
           "bgcolor": "#E5ECF6",
           "caxis": {
            "gridcolor": "white",
            "linecolor": "white",
            "ticks": ""
           }
          },
          "title": {
           "x": 0.05
          },
          "xaxis": {
           "automargin": true,
           "gridcolor": "white",
           "linecolor": "white",
           "ticks": "",
           "title": {
            "standoff": 15
           },
           "zerolinecolor": "white",
           "zerolinewidth": 2
          },
          "yaxis": {
           "automargin": true,
           "gridcolor": "white",
           "linecolor": "white",
           "ticks": "",
           "title": {
            "standoff": 15
           },
           "zerolinecolor": "white",
           "zerolinewidth": 2
          }
         }
        },
        "title": {
         "text": "Coin Market Cap Tags"
        }
       }
      }
     },
     "metadata": {},
     "output_type": "display_data"
    }
   ],
   "source": [
    "fig = px.pie(rank_tags.head(30), values='symbol', names='tags', title='Coin Market Cap Tags')\n",
    "fig.update_traces(textposition='inside', textinfo='percent+label')\n",
    "fig.show()"
   ]
  },
  {
   "attachments": {},
   "cell_type": "markdown",
   "metadata": {},
   "source": [
    "- 🟥 Beside a large number of symbols that has no tags, `bnb-chain` was attached to a wide range of symbols\n",
    "- 🟥 Let drill into symbols in `bnb-chain`"
   ]
  },
  {
   "cell_type": "markdown",
   "metadata": {},
   "source": [
    "## ➡️ Group tags and keep columns such as symbol, price and market_cap"
   ]
  },
  {
   "cell_type": "code",
   "execution_count": 67,
   "metadata": {},
   "outputs": [
    {
     "data": {
      "text/html": [
       "<div>\n",
       "<style scoped>\n",
       "    .dataframe tbody tr th:only-of-type {\n",
       "        vertical-align: middle;\n",
       "    }\n",
       "\n",
       "    .dataframe tbody tr th {\n",
       "        vertical-align: top;\n",
       "    }\n",
       "\n",
       "    .dataframe thead th {\n",
       "        text-align: right;\n",
       "    }\n",
       "</style>\n",
       "<table border=\"1\" class=\"dataframe\">\n",
       "  <thead>\n",
       "    <tr style=\"text-align: right;\">\n",
       "      <th></th>\n",
       "      <th>tags</th>\n",
       "      <th>symbol</th>\n",
       "      <th>price</th>\n",
       "      <th>market_cap</th>\n",
       "    </tr>\n",
       "  </thead>\n",
       "  <tbody>\n",
       "    <tr>\n",
       "      <th>0</th>\n",
       "      <td>1confirmation-portfolio</td>\n",
       "      <td>ATOM</td>\n",
       "      <td>11.396193</td>\n",
       "      <td>3.263531e+09</td>\n",
       "    </tr>\n",
       "    <tr>\n",
       "      <th>1</th>\n",
       "      <td>1confirmation-portfolio</td>\n",
       "      <td>BAT</td>\n",
       "      <td>0.197154</td>\n",
       "      <td>2.953057e+08</td>\n",
       "    </tr>\n",
       "    <tr>\n",
       "      <th>2</th>\n",
       "      <td>1confirmation-portfolio</td>\n",
       "      <td>BTC</td>\n",
       "      <td>17254.817737</td>\n",
       "      <td>3.322742e+11</td>\n",
       "    </tr>\n",
       "    <tr>\n",
       "      <th>3</th>\n",
       "      <td>1confirmation-portfolio</td>\n",
       "      <td>CKB</td>\n",
       "      <td>0.003221</td>\n",
       "      <td>1.073978e+08</td>\n",
       "    </tr>\n",
       "    <tr>\n",
       "      <th>4</th>\n",
       "      <td>1confirmation-portfolio</td>\n",
       "      <td>DOT</td>\n",
       "      <td>4.953251</td>\n",
       "      <td>5.716305e+09</td>\n",
       "    </tr>\n",
       "    <tr>\n",
       "      <th>...</th>\n",
       "      <td>...</td>\n",
       "      <td>...</td>\n",
       "      <td>...</td>\n",
       "      <td>...</td>\n",
       "    </tr>\n",
       "    <tr>\n",
       "      <th>7709</th>\n",
       "      <td>zero-knowledge-proofs</td>\n",
       "      <td>ZCL</td>\n",
       "      <td>0.037098</td>\n",
       "      <td>3.445287e+05</td>\n",
       "    </tr>\n",
       "    <tr>\n",
       "      <th>7710</th>\n",
       "      <td>zero-knowledge-proofs</td>\n",
       "      <td>ZEC</td>\n",
       "      <td>44.082439</td>\n",
       "      <td>7.097185e+08</td>\n",
       "    </tr>\n",
       "    <tr>\n",
       "      <th>7711</th>\n",
       "      <td>zero-knowledge-proofs</td>\n",
       "      <td>ZEN</td>\n",
       "      <td>8.894396</td>\n",
       "      <td>1.177410e+08</td>\n",
       "    </tr>\n",
       "    <tr>\n",
       "      <th>7712</th>\n",
       "      <td>zilliqa-ecosystem</td>\n",
       "      <td>XSGD</td>\n",
       "      <td>0.747798</td>\n",
       "      <td>4.770889e+07</td>\n",
       "    </tr>\n",
       "    <tr>\n",
       "      <th>7713</th>\n",
       "      <td>zilliqa-ecosystem</td>\n",
       "      <td>ZIL</td>\n",
       "      <td>0.026386</td>\n",
       "      <td>4.186868e+08</td>\n",
       "    </tr>\n",
       "  </tbody>\n",
       "</table>\n",
       "<p>7714 rows × 4 columns</p>\n",
       "</div>"
      ],
      "text/plain": [
       "                         tags symbol         price    market_cap\n",
       "0     1confirmation-portfolio   ATOM     11.396193  3.263531e+09\n",
       "1     1confirmation-portfolio    BAT      0.197154  2.953057e+08\n",
       "2     1confirmation-portfolio    BTC  17254.817737  3.322742e+11\n",
       "3     1confirmation-portfolio    CKB      0.003221  1.073978e+08\n",
       "4     1confirmation-portfolio    DOT      4.953251  5.716305e+09\n",
       "...                       ...    ...           ...           ...\n",
       "7709    zero-knowledge-proofs    ZCL      0.037098  3.445287e+05\n",
       "7710    zero-knowledge-proofs    ZEC     44.082439  7.097185e+08\n",
       "7711    zero-knowledge-proofs    ZEN      8.894396  1.177410e+08\n",
       "7712        zilliqa-ecosystem   XSGD      0.747798  4.770889e+07\n",
       "7713        zilliqa-ecosystem    ZIL      0.026386  4.186868e+08\n",
       "\n",
       "[7714 rows x 4 columns]"
      ]
     },
     "execution_count": 67,
     "metadata": {},
     "output_type": "execute_result"
    }
   ],
   "source": [
    "g_cols = [\"tags\",\"symbol\",\"price\",\"market_cap\"]\n",
    "\n",
    "symbols_with_tags_df = symbols_with_tags_df \\\n",
    "    .groupby(g_cols).count() \\\n",
    "    .reset_index()[g_cols]\n",
    "symbols_with_tags_df"
   ]
  },
  {
   "cell_type": "markdown",
   "metadata": {},
   "source": [
    "## ➡️ Get symbols in bnb-chain and sort by their market_cap"
   ]
  },
  {
   "cell_type": "code",
   "execution_count": 68,
   "metadata": {},
   "outputs": [
    {
     "data": {
      "text/html": [
       "<div>\n",
       "<style scoped>\n",
       "    .dataframe tbody tr th:only-of-type {\n",
       "        vertical-align: middle;\n",
       "    }\n",
       "\n",
       "    .dataframe tbody tr th {\n",
       "        vertical-align: top;\n",
       "    }\n",
       "\n",
       "    .dataframe thead th {\n",
       "        text-align: right;\n",
       "    }\n",
       "</style>\n",
       "<table border=\"1\" class=\"dataframe\">\n",
       "  <thead>\n",
       "    <tr style=\"text-align: right;\">\n",
       "      <th></th>\n",
       "      <th>tags</th>\n",
       "      <th>symbol</th>\n",
       "      <th>price</th>\n",
       "      <th>market_cap</th>\n",
       "    </tr>\n",
       "  </thead>\n",
       "  <tbody>\n",
       "    <tr>\n",
       "      <th>995</th>\n",
       "      <td>bnb-chain</td>\n",
       "      <td>USDT</td>\n",
       "      <td>1.000033e+00</td>\n",
       "      <td>6.627467e+10</td>\n",
       "    </tr>\n",
       "    <tr>\n",
       "      <th>682</th>\n",
       "      <td>bnb-chain</td>\n",
       "      <td>BNB</td>\n",
       "      <td>2.792587e+02</td>\n",
       "      <td>4.467113e+10</td>\n",
       "    </tr>\n",
       "    <tr>\n",
       "      <th>992</th>\n",
       "      <td>bnb-chain</td>\n",
       "      <td>USDC</td>\n",
       "      <td>9.999737e-01</td>\n",
       "      <td>4.399701e+10</td>\n",
       "    </tr>\n",
       "    <tr>\n",
       "      <th>748</th>\n",
       "      <td>bnb-chain</td>\n",
       "      <td>DOGE</td>\n",
       "      <td>7.624379e-02</td>\n",
       "      <td>1.011532e+10</td>\n",
       "    </tr>\n",
       "    <tr>\n",
       "      <th>736</th>\n",
       "      <td>bnb-chain</td>\n",
       "      <td>DAI</td>\n",
       "      <td>1.000059e+00</td>\n",
       "      <td>5.805978e+09</td>\n",
       "    </tr>\n",
       "    <tr>\n",
       "      <th>...</th>\n",
       "      <td>...</td>\n",
       "      <td>...</td>\n",
       "      <td>...</td>\n",
       "      <td>...</td>\n",
       "    </tr>\n",
       "    <tr>\n",
       "      <th>647</th>\n",
       "      <td>bnb-chain</td>\n",
       "      <td>ALLOY</td>\n",
       "      <td>1.762305e-03</td>\n",
       "      <td>6.085744e+03</td>\n",
       "    </tr>\n",
       "    <tr>\n",
       "      <th>832</th>\n",
       "      <td>bnb-chain</td>\n",
       "      <td>KWIK</td>\n",
       "      <td>5.314396e-04</td>\n",
       "      <td>5.047182e+03</td>\n",
       "    </tr>\n",
       "    <tr>\n",
       "      <th>760</th>\n",
       "      <td>bnb-chain</td>\n",
       "      <td>DYNMT</td>\n",
       "      <td>9.120973e-03</td>\n",
       "      <td>3.516367e+03</td>\n",
       "    </tr>\n",
       "    <tr>\n",
       "      <th>709</th>\n",
       "      <td>bnb-chain</td>\n",
       "      <td>CBIX-P</td>\n",
       "      <td>1.176896e-02</td>\n",
       "      <td>1.984305e+03</td>\n",
       "    </tr>\n",
       "    <tr>\n",
       "      <th>1029</th>\n",
       "      <td>bnb-chain</td>\n",
       "      <td>YFFII</td>\n",
       "      <td>6.150164e-07</td>\n",
       "      <td>1.845049e-02</td>\n",
       "    </tr>\n",
       "  </tbody>\n",
       "</table>\n",
       "<p>418 rows × 4 columns</p>\n",
       "</div>"
      ],
      "text/plain": [
       "           tags  symbol         price    market_cap\n",
       "995   bnb-chain    USDT  1.000033e+00  6.627467e+10\n",
       "682   bnb-chain     BNB  2.792587e+02  4.467113e+10\n",
       "992   bnb-chain    USDC  9.999737e-01  4.399701e+10\n",
       "748   bnb-chain    DOGE  7.624379e-02  1.011532e+10\n",
       "736   bnb-chain     DAI  1.000059e+00  5.805978e+09\n",
       "...         ...     ...           ...           ...\n",
       "647   bnb-chain   ALLOY  1.762305e-03  6.085744e+03\n",
       "832   bnb-chain    KWIK  5.314396e-04  5.047182e+03\n",
       "760   bnb-chain   DYNMT  9.120973e-03  3.516367e+03\n",
       "709   bnb-chain  CBIX-P  1.176896e-02  1.984305e+03\n",
       "1029  bnb-chain   YFFII  6.150164e-07  1.845049e-02\n",
       "\n",
       "[418 rows x 4 columns]"
      ]
     },
     "execution_count": 68,
     "metadata": {},
     "output_type": "execute_result"
    }
   ],
   "source": [
    "f_symbols_with_tags_df = symbols_with_tags_df[symbols_with_tags_df[\"tags\"] == \"bnb-chain\"] \\\n",
    "    .sort_values(by=\"market_cap\", ascending=False)\n",
    "f_symbols_with_tags_df"
   ]
  },
  {
   "cell_type": "markdown",
   "metadata": {},
   "source": [
    "## ➡️ Visualize 20 top symbols in bnb-chain"
   ]
  },
  {
   "cell_type": "code",
   "execution_count": 110,
   "metadata": {},
   "outputs": [
    {
     "data": {
      "application/vnd.plotly.v1+json": {
       "config": {
        "plotlyServerURL": "https://plot.ly"
       },
       "data": [
        {
         "marker": {
          "color": "rgb(102, 103, 171, 0.4)",
          "line": {
           "color": "rgb(102, 103, 171, 1)",
           "width": 3
          }
         },
         "orientation": "h",
         "type": "bar",
         "x": [
          310449520.2293638,
          332403955.2779028,
          418686837.67027366,
          451832691.2959466,
          505651809.8490694,
          603047418.1650531,
          615234978.6146648,
          639346448.7092984,
          709718451.0529175,
          846070056.716528,
          864224828.8298931,
          881156816.4555216,
          913388135.0215924,
          1038195283.7416116,
          5716305298.571966,
          5805977654.037023,
          10115322382.307743,
          43997007903.31703,
          44671132530.12649,
          66274667904.63097
         ],
         "y": [
          "USDN",
          "1INCH",
          "ZIL",
          "SNX",
          "PAXG",
          "TWT",
          "BTT",
          "MKR",
          "ZEC",
          "TUSD",
          "EGLD",
          "USDP",
          "BTCB",
          "WBNB",
          "DOT",
          "DAI",
          "DOGE",
          "USDC",
          "BNB",
          "USDT"
         ]
        }
       ],
       "layout": {
        "annotations": [
         {
          "showarrow": false,
          "text": "0.16%",
          "x": 310449520.2293638,
          "xanchor": "right",
          "xshift": 60,
          "y": "USDN",
          "yanchor": "middle"
         },
         {
          "showarrow": false,
          "text": "0.17%",
          "x": 332403955.2779028,
          "xanchor": "right",
          "xshift": 60,
          "y": "1INCH",
          "yanchor": "middle"
         },
         {
          "showarrow": false,
          "text": "0.22%",
          "x": 418686837.67027366,
          "xanchor": "right",
          "xshift": 60,
          "y": "ZIL",
          "yanchor": "middle"
         },
         {
          "showarrow": false,
          "text": "0.23%",
          "x": 451832691.2959466,
          "xanchor": "right",
          "xshift": 60,
          "y": "SNX",
          "yanchor": "middle"
         },
         {
          "showarrow": false,
          "text": "0.26%",
          "x": 505651809.8490694,
          "xanchor": "right",
          "xshift": 60,
          "y": "PAXG",
          "yanchor": "middle"
         },
         {
          "showarrow": false,
          "text": "0.31%",
          "x": 603047418.1650531,
          "xanchor": "right",
          "xshift": 60,
          "y": "TWT",
          "yanchor": "middle"
         },
         {
          "showarrow": false,
          "text": "0.32%",
          "x": 615234978.6146648,
          "xanchor": "right",
          "xshift": 60,
          "y": "BTT",
          "yanchor": "middle"
         },
         {
          "showarrow": false,
          "text": "0.33%",
          "x": 639346448.7092984,
          "xanchor": "right",
          "xshift": 60,
          "y": "MKR",
          "yanchor": "middle"
         },
         {
          "showarrow": false,
          "text": "0.37%",
          "x": 709718451.0529175,
          "xanchor": "right",
          "xshift": 60,
          "y": "ZEC",
          "yanchor": "middle"
         },
         {
          "showarrow": false,
          "text": "0.44%",
          "x": 846070056.716528,
          "xanchor": "right",
          "xshift": 60,
          "y": "TUSD",
          "yanchor": "middle"
         },
         {
          "showarrow": false,
          "text": "0.45%",
          "x": 864224828.8298931,
          "xanchor": "right",
          "xshift": 60,
          "y": "EGLD",
          "yanchor": "middle"
         },
         {
          "showarrow": false,
          "text": "0.46%",
          "x": 881156816.4555216,
          "xanchor": "right",
          "xshift": 60,
          "y": "USDP",
          "yanchor": "middle"
         },
         {
          "showarrow": false,
          "text": "0.47%",
          "x": 913388135.0215924,
          "xanchor": "right",
          "xshift": 60,
          "y": "BTCB",
          "yanchor": "middle"
         },
         {
          "showarrow": false,
          "text": "0.54%",
          "x": 1038195283.7416116,
          "xanchor": "right",
          "xshift": 60,
          "y": "WBNB",
          "yanchor": "middle"
         },
         {
          "showarrow": false,
          "text": "2.96%",
          "x": 5716305298.571966,
          "xanchor": "right",
          "xshift": 60,
          "y": "DOT",
          "yanchor": "middle"
         },
         {
          "showarrow": false,
          "text": "3.01%",
          "x": 5805977654.037023,
          "xanchor": "right",
          "xshift": 60,
          "y": "DAI",
          "yanchor": "middle"
         },
         {
          "showarrow": false,
          "text": "5.24%",
          "x": 10115322382.307743,
          "xanchor": "right",
          "xshift": 60,
          "y": "DOGE",
          "yanchor": "middle"
         },
         {
          "showarrow": false,
          "text": "22.8%",
          "x": 43997007903.31703,
          "xanchor": "right",
          "xshift": 60,
          "y": "USDC",
          "yanchor": "middle"
         },
         {
          "showarrow": false,
          "text": "23.15%",
          "x": 44671132530.12649,
          "xanchor": "right",
          "xshift": 60,
          "y": "BNB",
          "yanchor": "middle"
         },
         {
          "showarrow": false,
          "text": "34.34%",
          "x": 66274667904.63097,
          "xanchor": "right",
          "xshift": 60,
          "y": "USDT",
          "yanchor": "middle"
         }
        ],
        "height": 700,
        "template": {
         "data": {
          "bar": [
           {
            "error_x": {
             "color": "#2a3f5f"
            },
            "error_y": {
             "color": "#2a3f5f"
            },
            "marker": {
             "line": {
              "color": "#E5ECF6",
              "width": 0.5
             },
             "pattern": {
              "fillmode": "overlay",
              "size": 10,
              "solidity": 0.2
             }
            },
            "type": "bar"
           }
          ],
          "barpolar": [
           {
            "marker": {
             "line": {
              "color": "#E5ECF6",
              "width": 0.5
             },
             "pattern": {
              "fillmode": "overlay",
              "size": 10,
              "solidity": 0.2
             }
            },
            "type": "barpolar"
           }
          ],
          "carpet": [
           {
            "aaxis": {
             "endlinecolor": "#2a3f5f",
             "gridcolor": "white",
             "linecolor": "white",
             "minorgridcolor": "white",
             "startlinecolor": "#2a3f5f"
            },
            "baxis": {
             "endlinecolor": "#2a3f5f",
             "gridcolor": "white",
             "linecolor": "white",
             "minorgridcolor": "white",
             "startlinecolor": "#2a3f5f"
            },
            "type": "carpet"
           }
          ],
          "choropleth": [
           {
            "colorbar": {
             "outlinewidth": 0,
             "ticks": ""
            },
            "type": "choropleth"
           }
          ],
          "contour": [
           {
            "colorbar": {
             "outlinewidth": 0,
             "ticks": ""
            },
            "colorscale": [
             [
              0,
              "#0d0887"
             ],
             [
              0.1111111111111111,
              "#46039f"
             ],
             [
              0.2222222222222222,
              "#7201a8"
             ],
             [
              0.3333333333333333,
              "#9c179e"
             ],
             [
              0.4444444444444444,
              "#bd3786"
             ],
             [
              0.5555555555555556,
              "#d8576b"
             ],
             [
              0.6666666666666666,
              "#ed7953"
             ],
             [
              0.7777777777777778,
              "#fb9f3a"
             ],
             [
              0.8888888888888888,
              "#fdca26"
             ],
             [
              1,
              "#f0f921"
             ]
            ],
            "type": "contour"
           }
          ],
          "contourcarpet": [
           {
            "colorbar": {
             "outlinewidth": 0,
             "ticks": ""
            },
            "type": "contourcarpet"
           }
          ],
          "heatmap": [
           {
            "colorbar": {
             "outlinewidth": 0,
             "ticks": ""
            },
            "colorscale": [
             [
              0,
              "#0d0887"
             ],
             [
              0.1111111111111111,
              "#46039f"
             ],
             [
              0.2222222222222222,
              "#7201a8"
             ],
             [
              0.3333333333333333,
              "#9c179e"
             ],
             [
              0.4444444444444444,
              "#bd3786"
             ],
             [
              0.5555555555555556,
              "#d8576b"
             ],
             [
              0.6666666666666666,
              "#ed7953"
             ],
             [
              0.7777777777777778,
              "#fb9f3a"
             ],
             [
              0.8888888888888888,
              "#fdca26"
             ],
             [
              1,
              "#f0f921"
             ]
            ],
            "type": "heatmap"
           }
          ],
          "heatmapgl": [
           {
            "colorbar": {
             "outlinewidth": 0,
             "ticks": ""
            },
            "colorscale": [
             [
              0,
              "#0d0887"
             ],
             [
              0.1111111111111111,
              "#46039f"
             ],
             [
              0.2222222222222222,
              "#7201a8"
             ],
             [
              0.3333333333333333,
              "#9c179e"
             ],
             [
              0.4444444444444444,
              "#bd3786"
             ],
             [
              0.5555555555555556,
              "#d8576b"
             ],
             [
              0.6666666666666666,
              "#ed7953"
             ],
             [
              0.7777777777777778,
              "#fb9f3a"
             ],
             [
              0.8888888888888888,
              "#fdca26"
             ],
             [
              1,
              "#f0f921"
             ]
            ],
            "type": "heatmapgl"
           }
          ],
          "histogram": [
           {
            "marker": {
             "pattern": {
              "fillmode": "overlay",
              "size": 10,
              "solidity": 0.2
             }
            },
            "type": "histogram"
           }
          ],
          "histogram2d": [
           {
            "colorbar": {
             "outlinewidth": 0,
             "ticks": ""
            },
            "colorscale": [
             [
              0,
              "#0d0887"
             ],
             [
              0.1111111111111111,
              "#46039f"
             ],
             [
              0.2222222222222222,
              "#7201a8"
             ],
             [
              0.3333333333333333,
              "#9c179e"
             ],
             [
              0.4444444444444444,
              "#bd3786"
             ],
             [
              0.5555555555555556,
              "#d8576b"
             ],
             [
              0.6666666666666666,
              "#ed7953"
             ],
             [
              0.7777777777777778,
              "#fb9f3a"
             ],
             [
              0.8888888888888888,
              "#fdca26"
             ],
             [
              1,
              "#f0f921"
             ]
            ],
            "type": "histogram2d"
           }
          ],
          "histogram2dcontour": [
           {
            "colorbar": {
             "outlinewidth": 0,
             "ticks": ""
            },
            "colorscale": [
             [
              0,
              "#0d0887"
             ],
             [
              0.1111111111111111,
              "#46039f"
             ],
             [
              0.2222222222222222,
              "#7201a8"
             ],
             [
              0.3333333333333333,
              "#9c179e"
             ],
             [
              0.4444444444444444,
              "#bd3786"
             ],
             [
              0.5555555555555556,
              "#d8576b"
             ],
             [
              0.6666666666666666,
              "#ed7953"
             ],
             [
              0.7777777777777778,
              "#fb9f3a"
             ],
             [
              0.8888888888888888,
              "#fdca26"
             ],
             [
              1,
              "#f0f921"
             ]
            ],
            "type": "histogram2dcontour"
           }
          ],
          "mesh3d": [
           {
            "colorbar": {
             "outlinewidth": 0,
             "ticks": ""
            },
            "type": "mesh3d"
           }
          ],
          "parcoords": [
           {
            "line": {
             "colorbar": {
              "outlinewidth": 0,
              "ticks": ""
             }
            },
            "type": "parcoords"
           }
          ],
          "pie": [
           {
            "automargin": true,
            "type": "pie"
           }
          ],
          "scatter": [
           {
            "fillpattern": {
             "fillmode": "overlay",
             "size": 10,
             "solidity": 0.2
            },
            "type": "scatter"
           }
          ],
          "scatter3d": [
           {
            "line": {
             "colorbar": {
              "outlinewidth": 0,
              "ticks": ""
             }
            },
            "marker": {
             "colorbar": {
              "outlinewidth": 0,
              "ticks": ""
             }
            },
            "type": "scatter3d"
           }
          ],
          "scattercarpet": [
           {
            "marker": {
             "colorbar": {
              "outlinewidth": 0,
              "ticks": ""
             }
            },
            "type": "scattercarpet"
           }
          ],
          "scattergeo": [
           {
            "marker": {
             "colorbar": {
              "outlinewidth": 0,
              "ticks": ""
             }
            },
            "type": "scattergeo"
           }
          ],
          "scattergl": [
           {
            "marker": {
             "colorbar": {
              "outlinewidth": 0,
              "ticks": ""
             }
            },
            "type": "scattergl"
           }
          ],
          "scattermapbox": [
           {
            "marker": {
             "colorbar": {
              "outlinewidth": 0,
              "ticks": ""
             }
            },
            "type": "scattermapbox"
           }
          ],
          "scatterpolar": [
           {
            "marker": {
             "colorbar": {
              "outlinewidth": 0,
              "ticks": ""
             }
            },
            "type": "scatterpolar"
           }
          ],
          "scatterpolargl": [
           {
            "marker": {
             "colorbar": {
              "outlinewidth": 0,
              "ticks": ""
             }
            },
            "type": "scatterpolargl"
           }
          ],
          "scatterternary": [
           {
            "marker": {
             "colorbar": {
              "outlinewidth": 0,
              "ticks": ""
             }
            },
            "type": "scatterternary"
           }
          ],
          "surface": [
           {
            "colorbar": {
             "outlinewidth": 0,
             "ticks": ""
            },
            "colorscale": [
             [
              0,
              "#0d0887"
             ],
             [
              0.1111111111111111,
              "#46039f"
             ],
             [
              0.2222222222222222,
              "#7201a8"
             ],
             [
              0.3333333333333333,
              "#9c179e"
             ],
             [
              0.4444444444444444,
              "#bd3786"
             ],
             [
              0.5555555555555556,
              "#d8576b"
             ],
             [
              0.6666666666666666,
              "#ed7953"
             ],
             [
              0.7777777777777778,
              "#fb9f3a"
             ],
             [
              0.8888888888888888,
              "#fdca26"
             ],
             [
              1,
              "#f0f921"
             ]
            ],
            "type": "surface"
           }
          ],
          "table": [
           {
            "cells": {
             "fill": {
              "color": "#EBF0F8"
             },
             "line": {
              "color": "white"
             }
            },
            "header": {
             "fill": {
              "color": "#C8D4E3"
             },
             "line": {
              "color": "white"
             }
            },
            "type": "table"
           }
          ]
         },
         "layout": {
          "annotationdefaults": {
           "arrowcolor": "#2a3f5f",
           "arrowhead": 0,
           "arrowwidth": 1
          },
          "autotypenumbers": "strict",
          "coloraxis": {
           "colorbar": {
            "outlinewidth": 0,
            "ticks": ""
           }
          },
          "colorscale": {
           "diverging": [
            [
             0,
             "#8e0152"
            ],
            [
             0.1,
             "#c51b7d"
            ],
            [
             0.2,
             "#de77ae"
            ],
            [
             0.3,
             "#f1b6da"
            ],
            [
             0.4,
             "#fde0ef"
            ],
            [
             0.5,
             "#f7f7f7"
            ],
            [
             0.6,
             "#e6f5d0"
            ],
            [
             0.7,
             "#b8e186"
            ],
            [
             0.8,
             "#7fbc41"
            ],
            [
             0.9,
             "#4d9221"
            ],
            [
             1,
             "#276419"
            ]
           ],
           "sequential": [
            [
             0,
             "#0d0887"
            ],
            [
             0.1111111111111111,
             "#46039f"
            ],
            [
             0.2222222222222222,
             "#7201a8"
            ],
            [
             0.3333333333333333,
             "#9c179e"
            ],
            [
             0.4444444444444444,
             "#bd3786"
            ],
            [
             0.5555555555555556,
             "#d8576b"
            ],
            [
             0.6666666666666666,
             "#ed7953"
            ],
            [
             0.7777777777777778,
             "#fb9f3a"
            ],
            [
             0.8888888888888888,
             "#fdca26"
            ],
            [
             1,
             "#f0f921"
            ]
           ],
           "sequentialminus": [
            [
             0,
             "#0d0887"
            ],
            [
             0.1111111111111111,
             "#46039f"
            ],
            [
             0.2222222222222222,
             "#7201a8"
            ],
            [
             0.3333333333333333,
             "#9c179e"
            ],
            [
             0.4444444444444444,
             "#bd3786"
            ],
            [
             0.5555555555555556,
             "#d8576b"
            ],
            [
             0.6666666666666666,
             "#ed7953"
            ],
            [
             0.7777777777777778,
             "#fb9f3a"
            ],
            [
             0.8888888888888888,
             "#fdca26"
            ],
            [
             1,
             "#f0f921"
            ]
           ]
          },
          "colorway": [
           "#636efa",
           "#EF553B",
           "#00cc96",
           "#ab63fa",
           "#FFA15A",
           "#19d3f3",
           "#FF6692",
           "#B6E880",
           "#FF97FF",
           "#FECB52"
          ],
          "font": {
           "color": "#2a3f5f"
          },
          "geo": {
           "bgcolor": "white",
           "lakecolor": "white",
           "landcolor": "#E5ECF6",
           "showlakes": true,
           "showland": true,
           "subunitcolor": "white"
          },
          "hoverlabel": {
           "align": "left"
          },
          "hovermode": "closest",
          "mapbox": {
           "style": "light"
          },
          "paper_bgcolor": "white",
          "plot_bgcolor": "#E5ECF6",
          "polar": {
           "angularaxis": {
            "gridcolor": "white",
            "linecolor": "white",
            "ticks": ""
           },
           "bgcolor": "#E5ECF6",
           "radialaxis": {
            "gridcolor": "white",
            "linecolor": "white",
            "ticks": ""
           }
          },
          "scene": {
           "xaxis": {
            "backgroundcolor": "#E5ECF6",
            "gridcolor": "white",
            "gridwidth": 2,
            "linecolor": "white",
            "showbackground": true,
            "ticks": "",
            "zerolinecolor": "white"
           },
           "yaxis": {
            "backgroundcolor": "#E5ECF6",
            "gridcolor": "white",
            "gridwidth": 2,
            "linecolor": "white",
            "showbackground": true,
            "ticks": "",
            "zerolinecolor": "white"
           },
           "zaxis": {
            "backgroundcolor": "#E5ECF6",
            "gridcolor": "white",
            "gridwidth": 2,
            "linecolor": "white",
            "showbackground": true,
            "ticks": "",
            "zerolinecolor": "white"
           }
          },
          "shapedefaults": {
           "line": {
            "color": "#2a3f5f"
           }
          },
          "ternary": {
           "aaxis": {
            "gridcolor": "white",
            "linecolor": "white",
            "ticks": ""
           },
           "baxis": {
            "gridcolor": "white",
            "linecolor": "white",
            "ticks": ""
           },
           "bgcolor": "#E5ECF6",
           "caxis": {
            "gridcolor": "white",
            "linecolor": "white",
            "ticks": ""
           }
          },
          "title": {
           "x": 0.05
          },
          "xaxis": {
           "automargin": true,
           "gridcolor": "white",
           "linecolor": "white",
           "ticks": "",
           "title": {
            "standoff": 15
           },
           "zerolinecolor": "white",
           "zerolinewidth": 2
          },
          "yaxis": {
           "automargin": true,
           "gridcolor": "white",
           "linecolor": "white",
           "ticks": "",
           "title": {
            "standoff": 15
           },
           "zerolinecolor": "white",
           "zerolinewidth": 2
          }
         }
        }
       }
      }
     },
     "metadata": {},
     "output_type": "display_data"
    }
   ],
   "source": [
    "n_top = 20\n",
    "total_market_cap = f_symbols_with_tags_df[\"market_cap\"].sum()\n",
    "\n",
    "fig = go.Figure(\n",
    "    go.Bar(\n",
    "        x=f_symbols_with_tags_df.head(n_top).sort_values(by=\"market_cap\")[\"market_cap\"],\n",
    "        y=f_symbols_with_tags_df.head(n_top).sort_values(by=\"market_cap\")[\"symbol\"],\n",
    "        orientation='h', \n",
    "        marker=dict(\n",
    "            color='rgb(102, 103, 171, 0.4)',\n",
    "            line=dict(color='rgb(102, 103, 171, 1)', width=3)\n",
    "        ),\n",
    "        \n",
    "    \n",
    "    )\n",
    ")\n",
    "# annotation for barh with percent market cap \n",
    "annotations = []\n",
    "for i, row in f_symbols_with_tags_df.head(n_top).sort_values(by=\"market_cap\").iterrows():\n",
    "    percent = row[\"market_cap\"] / total_market_cap * 100\n",
    "    label = f\"{round(percent, 2)}%\"\n",
    "    annotations.append(\n",
    "        dict(\n",
    "            x=row[\"market_cap\"],\n",
    "            y=row[\"symbol\"],\n",
    "            text=label,\n",
    "            xanchor='right',\n",
    "            xshift=60,\n",
    "            yanchor='middle',\n",
    "            # font=dict(family='Arial', size=12, color='rgb(102, 103, 171)'),\n",
    "            showarrow=False,\n",
    "        )\n",
    "    )\n",
    "\n",
    "fig.update_layout(annotations=annotations, height=700)\n",
    "\n",
    "fig.show()"
   ]
  },
  {
   "cell_type": "markdown",
   "metadata": {},
   "source": [
    "- ✅ USDT và USDC là stable coin nên vốn hoá lớn nhất nhì, BNB là coin của chính chuỗi bnb nên có lượng vốn hoá lớn thứ 3 trong bnb-chain\n",
    "- ✅ Because `USDT` and `USDC` are stable coins, its market cap in this chain are the first and the second highest respectively. \n",
    "- ✅ `BNB` is the name of chain so its market cap is in the third position\n",
    "- ✅ Additionally, `DOGE`, `DAI` and `DOT` are attacting investors and bringing a slight number of liquid to crypto market and bnb-chain"
   ]
  }
 ],
 "metadata": {
  "kernelspec": {
   "display_name": "Python 3.8.8 ('NaDS')",
   "language": "python",
   "name": "python3"
  },
  "language_info": {
   "codemirror_mode": {
    "name": "ipython",
    "version": 3
   },
   "file_extension": ".py",
   "mimetype": "text/x-python",
   "name": "python",
   "nbconvert_exporter": "python",
   "pygments_lexer": "ipython3",
   "version": "3.8.8"
  },
  "orig_nbformat": 4,
  "vscode": {
   "interpreter": {
    "hash": "479fcfcd8a781549d023ec8ee70cfd9d1bc4e10e5bc48a6e6de9df19fe23d55c"
   }
  }
 },
 "nbformat": 4,
 "nbformat_minor": 2
}
