{
 "cells": [
  {
   "cell_type": "code",
   "execution_count": 1,
   "metadata": {},
   "outputs": [],
   "source": [
    "import pandas\n",
    "import plotly.express as px\n",
    "import matplotlib.pyplot as plt\n",
    "\n",
    "import numpy"
   ]
  },
  {
   "cell_type": "code",
   "execution_count": 3,
   "metadata": {},
   "outputs": [
    {
     "data": {
      "text/html": [
       "<div>\n",
       "<style scoped>\n",
       "    .dataframe tbody tr th:only-of-type {\n",
       "        vertical-align: middle;\n",
       "    }\n",
       "\n",
       "    .dataframe tbody tr th {\n",
       "        vertical-align: top;\n",
       "    }\n",
       "\n",
       "    .dataframe thead th {\n",
       "        text-align: right;\n",
       "    }\n",
       "</style>\n",
       "<table border=\"1\" class=\"dataframe\">\n",
       "  <thead>\n",
       "    <tr style=\"text-align: right;\">\n",
       "      <th></th>\n",
       "      <th>Symbol</th>\n",
       "      <th>base</th>\n",
       "      <th>quote</th>\n",
       "      <th>Kline open time</th>\n",
       "      <th>Open price</th>\n",
       "      <th>High price</th>\n",
       "      <th>Low price</th>\n",
       "      <th>Close price</th>\n",
       "      <th>Volume</th>\n",
       "      <th>Kline Close time</th>\n",
       "      <th>Quote asset volume</th>\n",
       "      <th>Number of trades</th>\n",
       "      <th>Taker buy base asset volume</th>\n",
       "      <th>Taker buy quote asset volume</th>\n",
       "      <th>Unused field, ignore</th>\n",
       "    </tr>\n",
       "  </thead>\n",
       "  <tbody>\n",
       "    <tr>\n",
       "      <th>0</th>\n",
       "      <td>ETHBTC</td>\n",
       "      <td>ETH</td>\n",
       "      <td>BTC</td>\n",
       "      <td>1669395600000</td>\n",
       "      <td>0.072026</td>\n",
       "      <td>0.072222</td>\n",
       "      <td>0.072026</td>\n",
       "      <td>0.072222</td>\n",
       "      <td>1342.1624</td>\n",
       "      <td>1669397399999</td>\n",
       "      <td>96.776126</td>\n",
       "      <td>2657</td>\n",
       "      <td>794.6663</td>\n",
       "      <td>57.298344</td>\n",
       "      <td>0</td>\n",
       "    </tr>\n",
       "    <tr>\n",
       "      <th>1</th>\n",
       "      <td>ETHBTC</td>\n",
       "      <td>ETH</td>\n",
       "      <td>BTC</td>\n",
       "      <td>1669397400000</td>\n",
       "      <td>0.072222</td>\n",
       "      <td>0.072335</td>\n",
       "      <td>0.072117</td>\n",
       "      <td>0.072162</td>\n",
       "      <td>1185.9640</td>\n",
       "      <td>1669399199999</td>\n",
       "      <td>85.640393</td>\n",
       "      <td>2727</td>\n",
       "      <td>560.9044</td>\n",
       "      <td>40.508977</td>\n",
       "      <td>0</td>\n",
       "    </tr>\n",
       "    <tr>\n",
       "      <th>2</th>\n",
       "      <td>ETHBTC</td>\n",
       "      <td>ETH</td>\n",
       "      <td>BTC</td>\n",
       "      <td>1669399200000</td>\n",
       "      <td>0.072163</td>\n",
       "      <td>0.072263</td>\n",
       "      <td>0.072101</td>\n",
       "      <td>0.072189</td>\n",
       "      <td>813.4793</td>\n",
       "      <td>1669400999999</td>\n",
       "      <td>58.717779</td>\n",
       "      <td>1862</td>\n",
       "      <td>359.8931</td>\n",
       "      <td>25.975732</td>\n",
       "      <td>0</td>\n",
       "    </tr>\n",
       "    <tr>\n",
       "      <th>3</th>\n",
       "      <td>ETHBTC</td>\n",
       "      <td>ETH</td>\n",
       "      <td>BTC</td>\n",
       "      <td>1669401000000</td>\n",
       "      <td>0.072188</td>\n",
       "      <td>0.072261</td>\n",
       "      <td>0.072161</td>\n",
       "      <td>0.072212</td>\n",
       "      <td>936.2168</td>\n",
       "      <td>1669402799999</td>\n",
       "      <td>67.599402</td>\n",
       "      <td>1816</td>\n",
       "      <td>470.6928</td>\n",
       "      <td>33.988586</td>\n",
       "      <td>0</td>\n",
       "    </tr>\n",
       "    <tr>\n",
       "      <th>4</th>\n",
       "      <td>ETHBTC</td>\n",
       "      <td>ETH</td>\n",
       "      <td>BTC</td>\n",
       "      <td>1669402800000</td>\n",
       "      <td>0.072223</td>\n",
       "      <td>0.072479</td>\n",
       "      <td>0.072197</td>\n",
       "      <td>0.072375</td>\n",
       "      <td>1115.5725</td>\n",
       "      <td>1669404599999</td>\n",
       "      <td>80.727099</td>\n",
       "      <td>3088</td>\n",
       "      <td>593.4310</td>\n",
       "      <td>42.945939</td>\n",
       "      <td>0</td>\n",
       "    </tr>\n",
       "    <tr>\n",
       "      <th>...</th>\n",
       "      <td>...</td>\n",
       "      <td>...</td>\n",
       "      <td>...</td>\n",
       "      <td>...</td>\n",
       "      <td>...</td>\n",
       "      <td>...</td>\n",
       "      <td>...</td>\n",
       "      <td>...</td>\n",
       "      <td>...</td>\n",
       "      <td>...</td>\n",
       "      <td>...</td>\n",
       "      <td>...</td>\n",
       "      <td>...</td>\n",
       "      <td>...</td>\n",
       "      <td>...</td>\n",
       "    </tr>\n",
       "    <tr>\n",
       "      <th>1229157</th>\n",
       "      <td>BUSDRON</td>\n",
       "      <td>BUSD</td>\n",
       "      <td>RON</td>\n",
       "      <td>1670943600000</td>\n",
       "      <td>4.629000</td>\n",
       "      <td>4.630000</td>\n",
       "      <td>4.620000</td>\n",
       "      <td>4.621000</td>\n",
       "      <td>5984.0000</td>\n",
       "      <td>1670945399999</td>\n",
       "      <td>27672.337000</td>\n",
       "      <td>108</td>\n",
       "      <td>2086.0000</td>\n",
       "      <td>9651.160000</td>\n",
       "      <td>0</td>\n",
       "    </tr>\n",
       "    <tr>\n",
       "      <th>1229158</th>\n",
       "      <td>BUSDRON</td>\n",
       "      <td>BUSD</td>\n",
       "      <td>RON</td>\n",
       "      <td>1670945400000</td>\n",
       "      <td>4.620000</td>\n",
       "      <td>4.631000</td>\n",
       "      <td>4.620000</td>\n",
       "      <td>4.630000</td>\n",
       "      <td>3618.0000</td>\n",
       "      <td>1670947199999</td>\n",
       "      <td>16734.982000</td>\n",
       "      <td>42</td>\n",
       "      <td>1642.0000</td>\n",
       "      <td>7593.482000</td>\n",
       "      <td>0</td>\n",
       "    </tr>\n",
       "    <tr>\n",
       "      <th>1229159</th>\n",
       "      <td>BUSDRON</td>\n",
       "      <td>BUSD</td>\n",
       "      <td>RON</td>\n",
       "      <td>1670947200000</td>\n",
       "      <td>4.631000</td>\n",
       "      <td>4.631000</td>\n",
       "      <td>4.630000</td>\n",
       "      <td>4.631000</td>\n",
       "      <td>3254.0000</td>\n",
       "      <td>1670948999999</td>\n",
       "      <td>15069.018000</td>\n",
       "      <td>33</td>\n",
       "      <td>2998.0000</td>\n",
       "      <td>13883.738000</td>\n",
       "      <td>0</td>\n",
       "    </tr>\n",
       "    <tr>\n",
       "      <th>1229160</th>\n",
       "      <td>BUSDRON</td>\n",
       "      <td>BUSD</td>\n",
       "      <td>RON</td>\n",
       "      <td>1670949000000</td>\n",
       "      <td>4.630000</td>\n",
       "      <td>4.631000</td>\n",
       "      <td>4.630000</td>\n",
       "      <td>4.631000</td>\n",
       "      <td>14415.0000</td>\n",
       "      <td>1670950799999</td>\n",
       "      <td>66749.027000</td>\n",
       "      <td>92</td>\n",
       "      <td>7577.0000</td>\n",
       "      <td>35089.087000</td>\n",
       "      <td>0</td>\n",
       "    </tr>\n",
       "    <tr>\n",
       "      <th>1229161</th>\n",
       "      <td>BUSDRON</td>\n",
       "      <td>BUSD</td>\n",
       "      <td>RON</td>\n",
       "      <td>1670950800000</td>\n",
       "      <td>4.631000</td>\n",
       "      <td>4.631000</td>\n",
       "      <td>4.630000</td>\n",
       "      <td>4.631000</td>\n",
       "      <td>3875.0000</td>\n",
       "      <td>1670952599999</td>\n",
       "      <td>17943.045000</td>\n",
       "      <td>52</td>\n",
       "      <td>1795.0000</td>\n",
       "      <td>8312.645000</td>\n",
       "      <td>0</td>\n",
       "    </tr>\n",
       "  </tbody>\n",
       "</table>\n",
       "<p>1229162 rows × 15 columns</p>\n",
       "</div>"
      ],
      "text/plain": [
       "          Symbol  base quote  Kline open time  Open price  High price  \\\n",
       "0         ETHBTC   ETH   BTC    1669395600000    0.072026    0.072222   \n",
       "1         ETHBTC   ETH   BTC    1669397400000    0.072222    0.072335   \n",
       "2         ETHBTC   ETH   BTC    1669399200000    0.072163    0.072263   \n",
       "3         ETHBTC   ETH   BTC    1669401000000    0.072188    0.072261   \n",
       "4         ETHBTC   ETH   BTC    1669402800000    0.072223    0.072479   \n",
       "...          ...   ...   ...              ...         ...         ...   \n",
       "1229157  BUSDRON  BUSD   RON    1670943600000    4.629000    4.630000   \n",
       "1229158  BUSDRON  BUSD   RON    1670945400000    4.620000    4.631000   \n",
       "1229159  BUSDRON  BUSD   RON    1670947200000    4.631000    4.631000   \n",
       "1229160  BUSDRON  BUSD   RON    1670949000000    4.630000    4.631000   \n",
       "1229161  BUSDRON  BUSD   RON    1670950800000    4.631000    4.631000   \n",
       "\n",
       "         Low price  Close price      Volume  Kline Close time  \\\n",
       "0         0.072026     0.072222   1342.1624     1669397399999   \n",
       "1         0.072117     0.072162   1185.9640     1669399199999   \n",
       "2         0.072101     0.072189    813.4793     1669400999999   \n",
       "3         0.072161     0.072212    936.2168     1669402799999   \n",
       "4         0.072197     0.072375   1115.5725     1669404599999   \n",
       "...            ...          ...         ...               ...   \n",
       "1229157   4.620000     4.621000   5984.0000     1670945399999   \n",
       "1229158   4.620000     4.630000   3618.0000     1670947199999   \n",
       "1229159   4.630000     4.631000   3254.0000     1670948999999   \n",
       "1229160   4.630000     4.631000  14415.0000     1670950799999   \n",
       "1229161   4.630000     4.631000   3875.0000     1670952599999   \n",
       "\n",
       "         Quote asset volume  Number of trades  Taker buy base asset volume  \\\n",
       "0                 96.776126              2657                     794.6663   \n",
       "1                 85.640393              2727                     560.9044   \n",
       "2                 58.717779              1862                     359.8931   \n",
       "3                 67.599402              1816                     470.6928   \n",
       "4                 80.727099              3088                     593.4310   \n",
       "...                     ...               ...                          ...   \n",
       "1229157        27672.337000               108                    2086.0000   \n",
       "1229158        16734.982000                42                    1642.0000   \n",
       "1229159        15069.018000                33                    2998.0000   \n",
       "1229160        66749.027000                92                    7577.0000   \n",
       "1229161        17943.045000                52                    1795.0000   \n",
       "\n",
       "         Taker buy quote asset volume  Unused field, ignore  \n",
       "0                           57.298344                     0  \n",
       "1                           40.508977                     0  \n",
       "2                           25.975732                     0  \n",
       "3                           33.988586                     0  \n",
       "4                           42.945939                     0  \n",
       "...                               ...                   ...  \n",
       "1229157                   9651.160000                     0  \n",
       "1229158                   7593.482000                     0  \n",
       "1229159                  13883.738000                     0  \n",
       "1229160                  35089.087000                     0  \n",
       "1229161                   8312.645000                     0  \n",
       "\n",
       "[1229162 rows x 15 columns]"
      ]
     },
     "execution_count": 3,
     "metadata": {},
     "output_type": "execute_result"
    }
   ],
   "source": [
    "prices = pandas.read_csv('../Data/data.csv')\n",
    "try:\n",
    "    prices = prices.drop(['Unnamed: 0'], axis=1)\n",
    "except:\n",
    "    pass\n",
    "prices"
   ]
  },
  {
   "attachments": {},
   "cell_type": "markdown",
   "metadata": {},
   "source": [
    "----\n",
    "### Which coin is available for the most trading"
   ]
  },
  {
   "cell_type": "code",
   "execution_count": 7,
   "metadata": {},
   "outputs": [],
   "source": [
    "g_symbol_data = prices.groupby([\"Symbol\",\"base\",\"quote\"]).count()[[\"Kline open time\"]]\n",
    "g_symbol_data.reset_index(inplace=True)\n",
    "quote_symbol_data = g_symbol_data.groupby(\"quote\").count()[[\"Kline open time\"]]\n",
    "base_symbol_data = g_symbol_data.groupby(\"base\").count()[[\"Kline open time\"]]"
   ]
  },
  {
   "cell_type": "code",
   "execution_count": 8,
   "metadata": {},
   "outputs": [
    {
     "data": {
      "text/html": [
       "<div>\n",
       "<style scoped>\n",
       "    .dataframe tbody tr th:only-of-type {\n",
       "        vertical-align: middle;\n",
       "    }\n",
       "\n",
       "    .dataframe tbody tr th {\n",
       "        vertical-align: top;\n",
       "    }\n",
       "\n",
       "    .dataframe thead th {\n",
       "        text-align: right;\n",
       "    }\n",
       "</style>\n",
       "<table border=\"1\" class=\"dataframe\">\n",
       "  <thead>\n",
       "    <tr style=\"text-align: right;\">\n",
       "      <th></th>\n",
       "      <th>Kline open time_x</th>\n",
       "      <th>Kline open time_y</th>\n",
       "      <th>Total</th>\n",
       "    </tr>\n",
       "  </thead>\n",
       "  <tbody>\n",
       "    <tr>\n",
       "      <th>USDT</th>\n",
       "      <td>8</td>\n",
       "      <td>334</td>\n",
       "      <td>342</td>\n",
       "    </tr>\n",
       "    <tr>\n",
       "      <th>BUSD</th>\n",
       "      <td>11</td>\n",
       "      <td>321</td>\n",
       "      <td>332</td>\n",
       "    </tr>\n",
       "    <tr>\n",
       "      <th>BTC</th>\n",
       "      <td>13</td>\n",
       "      <td>286</td>\n",
       "      <td>299</td>\n",
       "    </tr>\n",
       "    <tr>\n",
       "      <th>BNB</th>\n",
       "      <td>13</td>\n",
       "      <td>120</td>\n",
       "      <td>133</td>\n",
       "    </tr>\n",
       "    <tr>\n",
       "      <th>ETH</th>\n",
       "      <td>14</td>\n",
       "      <td>112</td>\n",
       "      <td>126</td>\n",
       "    </tr>\n",
       "    <tr>\n",
       "      <th>TRY</th>\n",
       "      <td>0</td>\n",
       "      <td>77</td>\n",
       "      <td>77</td>\n",
       "    </tr>\n",
       "    <tr>\n",
       "      <th>EUR</th>\n",
       "      <td>2</td>\n",
       "      <td>46</td>\n",
       "      <td>48</td>\n",
       "    </tr>\n",
       "    <tr>\n",
       "      <th>BRL</th>\n",
       "      <td>0</td>\n",
       "      <td>31</td>\n",
       "      <td>31</td>\n",
       "    </tr>\n",
       "    <tr>\n",
       "      <th>GBP</th>\n",
       "      <td>2</td>\n",
       "      <td>20</td>\n",
       "      <td>22</td>\n",
       "    </tr>\n",
       "    <tr>\n",
       "      <th>AUD</th>\n",
       "      <td>2</td>\n",
       "      <td>18</td>\n",
       "      <td>20</td>\n",
       "    </tr>\n",
       "    <tr>\n",
       "      <th>RUB</th>\n",
       "      <td>0</td>\n",
       "      <td>18</td>\n",
       "      <td>18</td>\n",
       "    </tr>\n",
       "    <tr>\n",
       "      <th>BIDR</th>\n",
       "      <td>0</td>\n",
       "      <td>18</td>\n",
       "      <td>18</td>\n",
       "    </tr>\n",
       "    <tr>\n",
       "      <th>DOT</th>\n",
       "      <td>12</td>\n",
       "      <td>1</td>\n",
       "      <td>13</td>\n",
       "    </tr>\n",
       "    <tr>\n",
       "      <th>XRP</th>\n",
       "      <td>12</td>\n",
       "      <td>1</td>\n",
       "      <td>13</td>\n",
       "    </tr>\n",
       "    <tr>\n",
       "      <th>ADA</th>\n",
       "      <td>12</td>\n",
       "      <td>0</td>\n",
       "      <td>12</td>\n",
       "    </tr>\n",
       "    <tr>\n",
       "      <th>SOL</th>\n",
       "      <td>12</td>\n",
       "      <td>0</td>\n",
       "      <td>12</td>\n",
       "    </tr>\n",
       "    <tr>\n",
       "      <th>MATIC</th>\n",
       "      <td>12</td>\n",
       "      <td>0</td>\n",
       "      <td>12</td>\n",
       "    </tr>\n",
       "    <tr>\n",
       "      <th>FTM</th>\n",
       "      <td>11</td>\n",
       "      <td>0</td>\n",
       "      <td>11</td>\n",
       "    </tr>\n",
       "    <tr>\n",
       "      <th>DOGE</th>\n",
       "      <td>10</td>\n",
       "      <td>1</td>\n",
       "      <td>11</td>\n",
       "    </tr>\n",
       "    <tr>\n",
       "      <th>LINK</th>\n",
       "      <td>10</td>\n",
       "      <td>0</td>\n",
       "      <td>10</td>\n",
       "    </tr>\n",
       "  </tbody>\n",
       "</table>\n",
       "</div>"
      ],
      "text/plain": [
       "       Kline open time_x  Kline open time_y  Total\n",
       "USDT                   8                334    342\n",
       "BUSD                  11                321    332\n",
       "BTC                   13                286    299\n",
       "BNB                   13                120    133\n",
       "ETH                   14                112    126\n",
       "TRY                    0                 77     77\n",
       "EUR                    2                 46     48\n",
       "BRL                    0                 31     31\n",
       "GBP                    2                 20     22\n",
       "AUD                    2                 18     20\n",
       "RUB                    0                 18     18\n",
       "BIDR                   0                 18     18\n",
       "DOT                   12                  1     13\n",
       "XRP                   12                  1     13\n",
       "ADA                   12                  0     12\n",
       "SOL                   12                  0     12\n",
       "MATIC                 12                  0     12\n",
       "FTM                   11                  0     11\n",
       "DOGE                  10                  1     11\n",
       "LINK                  10                  0     10"
      ]
     },
     "execution_count": 8,
     "metadata": {},
     "output_type": "execute_result"
    }
   ],
   "source": [
    "merge_data = base_symbol_data.merge(quote_symbol_data, left_index=True, right_index=True, how='outer').fillna(0).astype(int)\n",
    "merge_data[\"Total\"] = merge_data[\"Kline open time_x\"] + merge_data[\"Kline open time_y\"]\n",
    "merge_data = merge_data.sort_values(by=\"Total\", ascending=False).head(20)\n",
    "merge_data"
   ]
  },
  {
   "cell_type": "code",
   "execution_count": 6,
   "metadata": {},
   "outputs": [
    {
     "data": {
      "application/vnd.plotly.v1+json": {
       "config": {
        "plotlyServerURL": "https://plot.ly"
       },
       "data": [
        {
         "alignmentgroup": "True",
         "hovertemplate": "index=%{x}<br>Total=%{y}<extra></extra>",
         "legendgroup": "",
         "marker": {
          "color": "#636efa",
          "pattern": {
           "shape": ""
          }
         },
         "name": "",
         "offsetgroup": "",
         "orientation": "v",
         "showlegend": false,
         "textposition": "auto",
         "type": "bar",
         "x": [
          "USDT",
          "BUSD",
          "BTC",
          "BNB",
          "ETH",
          "TRY",
          "EUR",
          "BRL",
          "GBP",
          "AUD",
          "RUB",
          "BIDR",
          "DOT",
          "XRP",
          "ADA",
          "SOL",
          "MATIC",
          "FTM",
          "DOGE",
          "LINK"
         ],
         "xaxis": "x",
         "y": [
          342,
          332,
          299,
          133,
          126,
          77,
          48,
          31,
          22,
          20,
          18,
          18,
          13,
          13,
          12,
          12,
          12,
          11,
          11,
          10
         ],
         "yaxis": "y"
        }
       ],
       "layout": {
        "barmode": "relative",
        "legend": {
         "tracegroupgap": 0
        },
        "margin": {
         "t": 60
        },
        "template": {
         "data": {
          "bar": [
           {
            "error_x": {
             "color": "#2a3f5f"
            },
            "error_y": {
             "color": "#2a3f5f"
            },
            "marker": {
             "line": {
              "color": "#E5ECF6",
              "width": 0.5
             },
             "pattern": {
              "fillmode": "overlay",
              "size": 10,
              "solidity": 0.2
             }
            },
            "type": "bar"
           }
          ],
          "barpolar": [
           {
            "marker": {
             "line": {
              "color": "#E5ECF6",
              "width": 0.5
             },
             "pattern": {
              "fillmode": "overlay",
              "size": 10,
              "solidity": 0.2
             }
            },
            "type": "barpolar"
           }
          ],
          "carpet": [
           {
            "aaxis": {
             "endlinecolor": "#2a3f5f",
             "gridcolor": "white",
             "linecolor": "white",
             "minorgridcolor": "white",
             "startlinecolor": "#2a3f5f"
            },
            "baxis": {
             "endlinecolor": "#2a3f5f",
             "gridcolor": "white",
             "linecolor": "white",
             "minorgridcolor": "white",
             "startlinecolor": "#2a3f5f"
            },
            "type": "carpet"
           }
          ],
          "choropleth": [
           {
            "colorbar": {
             "outlinewidth": 0,
             "ticks": ""
            },
            "type": "choropleth"
           }
          ],
          "contour": [
           {
            "colorbar": {
             "outlinewidth": 0,
             "ticks": ""
            },
            "colorscale": [
             [
              0,
              "#0d0887"
             ],
             [
              0.1111111111111111,
              "#46039f"
             ],
             [
              0.2222222222222222,
              "#7201a8"
             ],
             [
              0.3333333333333333,
              "#9c179e"
             ],
             [
              0.4444444444444444,
              "#bd3786"
             ],
             [
              0.5555555555555556,
              "#d8576b"
             ],
             [
              0.6666666666666666,
              "#ed7953"
             ],
             [
              0.7777777777777778,
              "#fb9f3a"
             ],
             [
              0.8888888888888888,
              "#fdca26"
             ],
             [
              1,
              "#f0f921"
             ]
            ],
            "type": "contour"
           }
          ],
          "contourcarpet": [
           {
            "colorbar": {
             "outlinewidth": 0,
             "ticks": ""
            },
            "type": "contourcarpet"
           }
          ],
          "heatmap": [
           {
            "colorbar": {
             "outlinewidth": 0,
             "ticks": ""
            },
            "colorscale": [
             [
              0,
              "#0d0887"
             ],
             [
              0.1111111111111111,
              "#46039f"
             ],
             [
              0.2222222222222222,
              "#7201a8"
             ],
             [
              0.3333333333333333,
              "#9c179e"
             ],
             [
              0.4444444444444444,
              "#bd3786"
             ],
             [
              0.5555555555555556,
              "#d8576b"
             ],
             [
              0.6666666666666666,
              "#ed7953"
             ],
             [
              0.7777777777777778,
              "#fb9f3a"
             ],
             [
              0.8888888888888888,
              "#fdca26"
             ],
             [
              1,
              "#f0f921"
             ]
            ],
            "type": "heatmap"
           }
          ],
          "heatmapgl": [
           {
            "colorbar": {
             "outlinewidth": 0,
             "ticks": ""
            },
            "colorscale": [
             [
              0,
              "#0d0887"
             ],
             [
              0.1111111111111111,
              "#46039f"
             ],
             [
              0.2222222222222222,
              "#7201a8"
             ],
             [
              0.3333333333333333,
              "#9c179e"
             ],
             [
              0.4444444444444444,
              "#bd3786"
             ],
             [
              0.5555555555555556,
              "#d8576b"
             ],
             [
              0.6666666666666666,
              "#ed7953"
             ],
             [
              0.7777777777777778,
              "#fb9f3a"
             ],
             [
              0.8888888888888888,
              "#fdca26"
             ],
             [
              1,
              "#f0f921"
             ]
            ],
            "type": "heatmapgl"
           }
          ],
          "histogram": [
           {
            "marker": {
             "pattern": {
              "fillmode": "overlay",
              "size": 10,
              "solidity": 0.2
             }
            },
            "type": "histogram"
           }
          ],
          "histogram2d": [
           {
            "colorbar": {
             "outlinewidth": 0,
             "ticks": ""
            },
            "colorscale": [
             [
              0,
              "#0d0887"
             ],
             [
              0.1111111111111111,
              "#46039f"
             ],
             [
              0.2222222222222222,
              "#7201a8"
             ],
             [
              0.3333333333333333,
              "#9c179e"
             ],
             [
              0.4444444444444444,
              "#bd3786"
             ],
             [
              0.5555555555555556,
              "#d8576b"
             ],
             [
              0.6666666666666666,
              "#ed7953"
             ],
             [
              0.7777777777777778,
              "#fb9f3a"
             ],
             [
              0.8888888888888888,
              "#fdca26"
             ],
             [
              1,
              "#f0f921"
             ]
            ],
            "type": "histogram2d"
           }
          ],
          "histogram2dcontour": [
           {
            "colorbar": {
             "outlinewidth": 0,
             "ticks": ""
            },
            "colorscale": [
             [
              0,
              "#0d0887"
             ],
             [
              0.1111111111111111,
              "#46039f"
             ],
             [
              0.2222222222222222,
              "#7201a8"
             ],
             [
              0.3333333333333333,
              "#9c179e"
             ],
             [
              0.4444444444444444,
              "#bd3786"
             ],
             [
              0.5555555555555556,
              "#d8576b"
             ],
             [
              0.6666666666666666,
              "#ed7953"
             ],
             [
              0.7777777777777778,
              "#fb9f3a"
             ],
             [
              0.8888888888888888,
              "#fdca26"
             ],
             [
              1,
              "#f0f921"
             ]
            ],
            "type": "histogram2dcontour"
           }
          ],
          "mesh3d": [
           {
            "colorbar": {
             "outlinewidth": 0,
             "ticks": ""
            },
            "type": "mesh3d"
           }
          ],
          "parcoords": [
           {
            "line": {
             "colorbar": {
              "outlinewidth": 0,
              "ticks": ""
             }
            },
            "type": "parcoords"
           }
          ],
          "pie": [
           {
            "automargin": true,
            "type": "pie"
           }
          ],
          "scatter": [
           {
            "fillpattern": {
             "fillmode": "overlay",
             "size": 10,
             "solidity": 0.2
            },
            "type": "scatter"
           }
          ],
          "scatter3d": [
           {
            "line": {
             "colorbar": {
              "outlinewidth": 0,
              "ticks": ""
             }
            },
            "marker": {
             "colorbar": {
              "outlinewidth": 0,
              "ticks": ""
             }
            },
            "type": "scatter3d"
           }
          ],
          "scattercarpet": [
           {
            "marker": {
             "colorbar": {
              "outlinewidth": 0,
              "ticks": ""
             }
            },
            "type": "scattercarpet"
           }
          ],
          "scattergeo": [
           {
            "marker": {
             "colorbar": {
              "outlinewidth": 0,
              "ticks": ""
             }
            },
            "type": "scattergeo"
           }
          ],
          "scattergl": [
           {
            "marker": {
             "colorbar": {
              "outlinewidth": 0,
              "ticks": ""
             }
            },
            "type": "scattergl"
           }
          ],
          "scattermapbox": [
           {
            "marker": {
             "colorbar": {
              "outlinewidth": 0,
              "ticks": ""
             }
            },
            "type": "scattermapbox"
           }
          ],
          "scatterpolar": [
           {
            "marker": {
             "colorbar": {
              "outlinewidth": 0,
              "ticks": ""
             }
            },
            "type": "scatterpolar"
           }
          ],
          "scatterpolargl": [
           {
            "marker": {
             "colorbar": {
              "outlinewidth": 0,
              "ticks": ""
             }
            },
            "type": "scatterpolargl"
           }
          ],
          "scatterternary": [
           {
            "marker": {
             "colorbar": {
              "outlinewidth": 0,
              "ticks": ""
             }
            },
            "type": "scatterternary"
           }
          ],
          "surface": [
           {
            "colorbar": {
             "outlinewidth": 0,
             "ticks": ""
            },
            "colorscale": [
             [
              0,
              "#0d0887"
             ],
             [
              0.1111111111111111,
              "#46039f"
             ],
             [
              0.2222222222222222,
              "#7201a8"
             ],
             [
              0.3333333333333333,
              "#9c179e"
             ],
             [
              0.4444444444444444,
              "#bd3786"
             ],
             [
              0.5555555555555556,
              "#d8576b"
             ],
             [
              0.6666666666666666,
              "#ed7953"
             ],
             [
              0.7777777777777778,
              "#fb9f3a"
             ],
             [
              0.8888888888888888,
              "#fdca26"
             ],
             [
              1,
              "#f0f921"
             ]
            ],
            "type": "surface"
           }
          ],
          "table": [
           {
            "cells": {
             "fill": {
              "color": "#EBF0F8"
             },
             "line": {
              "color": "white"
             }
            },
            "header": {
             "fill": {
              "color": "#C8D4E3"
             },
             "line": {
              "color": "white"
             }
            },
            "type": "table"
           }
          ]
         },
         "layout": {
          "annotationdefaults": {
           "arrowcolor": "#2a3f5f",
           "arrowhead": 0,
           "arrowwidth": 1
          },
          "autotypenumbers": "strict",
          "coloraxis": {
           "colorbar": {
            "outlinewidth": 0,
            "ticks": ""
           }
          },
          "colorscale": {
           "diverging": [
            [
             0,
             "#8e0152"
            ],
            [
             0.1,
             "#c51b7d"
            ],
            [
             0.2,
             "#de77ae"
            ],
            [
             0.3,
             "#f1b6da"
            ],
            [
             0.4,
             "#fde0ef"
            ],
            [
             0.5,
             "#f7f7f7"
            ],
            [
             0.6,
             "#e6f5d0"
            ],
            [
             0.7,
             "#b8e186"
            ],
            [
             0.8,
             "#7fbc41"
            ],
            [
             0.9,
             "#4d9221"
            ],
            [
             1,
             "#276419"
            ]
           ],
           "sequential": [
            [
             0,
             "#0d0887"
            ],
            [
             0.1111111111111111,
             "#46039f"
            ],
            [
             0.2222222222222222,
             "#7201a8"
            ],
            [
             0.3333333333333333,
             "#9c179e"
            ],
            [
             0.4444444444444444,
             "#bd3786"
            ],
            [
             0.5555555555555556,
             "#d8576b"
            ],
            [
             0.6666666666666666,
             "#ed7953"
            ],
            [
             0.7777777777777778,
             "#fb9f3a"
            ],
            [
             0.8888888888888888,
             "#fdca26"
            ],
            [
             1,
             "#f0f921"
            ]
           ],
           "sequentialminus": [
            [
             0,
             "#0d0887"
            ],
            [
             0.1111111111111111,
             "#46039f"
            ],
            [
             0.2222222222222222,
             "#7201a8"
            ],
            [
             0.3333333333333333,
             "#9c179e"
            ],
            [
             0.4444444444444444,
             "#bd3786"
            ],
            [
             0.5555555555555556,
             "#d8576b"
            ],
            [
             0.6666666666666666,
             "#ed7953"
            ],
            [
             0.7777777777777778,
             "#fb9f3a"
            ],
            [
             0.8888888888888888,
             "#fdca26"
            ],
            [
             1,
             "#f0f921"
            ]
           ]
          },
          "colorway": [
           "#636efa",
           "#EF553B",
           "#00cc96",
           "#ab63fa",
           "#FFA15A",
           "#19d3f3",
           "#FF6692",
           "#B6E880",
           "#FF97FF",
           "#FECB52"
          ],
          "font": {
           "color": "#2a3f5f"
          },
          "geo": {
           "bgcolor": "white",
           "lakecolor": "white",
           "landcolor": "#E5ECF6",
           "showlakes": true,
           "showland": true,
           "subunitcolor": "white"
          },
          "hoverlabel": {
           "align": "left"
          },
          "hovermode": "closest",
          "mapbox": {
           "style": "light"
          },
          "paper_bgcolor": "white",
          "plot_bgcolor": "#E5ECF6",
          "polar": {
           "angularaxis": {
            "gridcolor": "white",
            "linecolor": "white",
            "ticks": ""
           },
           "bgcolor": "#E5ECF6",
           "radialaxis": {
            "gridcolor": "white",
            "linecolor": "white",
            "ticks": ""
           }
          },
          "scene": {
           "xaxis": {
            "backgroundcolor": "#E5ECF6",
            "gridcolor": "white",
            "gridwidth": 2,
            "linecolor": "white",
            "showbackground": true,
            "ticks": "",
            "zerolinecolor": "white"
           },
           "yaxis": {
            "backgroundcolor": "#E5ECF6",
            "gridcolor": "white",
            "gridwidth": 2,
            "linecolor": "white",
            "showbackground": true,
            "ticks": "",
            "zerolinecolor": "white"
           },
           "zaxis": {
            "backgroundcolor": "#E5ECF6",
            "gridcolor": "white",
            "gridwidth": 2,
            "linecolor": "white",
            "showbackground": true,
            "ticks": "",
            "zerolinecolor": "white"
           }
          },
          "shapedefaults": {
           "line": {
            "color": "#2a3f5f"
           }
          },
          "ternary": {
           "aaxis": {
            "gridcolor": "white",
            "linecolor": "white",
            "ticks": ""
           },
           "baxis": {
            "gridcolor": "white",
            "linecolor": "white",
            "ticks": ""
           },
           "bgcolor": "#E5ECF6",
           "caxis": {
            "gridcolor": "white",
            "linecolor": "white",
            "ticks": ""
           }
          },
          "title": {
           "x": 0.05
          },
          "xaxis": {
           "automargin": true,
           "gridcolor": "white",
           "linecolor": "white",
           "ticks": "",
           "title": {
            "standoff": 15
           },
           "zerolinecolor": "white",
           "zerolinewidth": 2
          },
          "yaxis": {
           "automargin": true,
           "gridcolor": "white",
           "linecolor": "white",
           "ticks": "",
           "title": {
            "standoff": 15
           },
           "zerolinecolor": "white",
           "zerolinewidth": 2
          }
         }
        },
        "xaxis": {
         "anchor": "y",
         "domain": [
          0,
          1
         ],
         "title": {
          "text": "index"
         }
        },
        "yaxis": {
         "anchor": "x",
         "domain": [
          0,
          1
         ],
         "title": {
          "text": "Total"
         }
        }
       }
      }
     },
     "metadata": {},
     "output_type": "display_data"
    }
   ],
   "source": [
    "fig = px.bar(merge_data, x=merge_data.index, y='Total')\n",
    "fig.show()"
   ]
  },
  {
   "attachments": {},
   "cell_type": "markdown",
   "metadata": {},
   "source": [
    "> Kết quả cũng không quá bất ngờ khi đứng top là các đồng tiền ổn định giá là UDST, BUSD, BNB được dùng cho đa số giao dịch có thể thực hiện. tiếp đến là các đồng tiền nổi trội trong giới coin là BTC cũng như ETH cũng chiếm một số lượng đáng kể\n",
    "----"
   ]
  },
  {
   "attachments": {},
   "cell_type": "markdown",
   "metadata": {},
   "source": [
    "### Bây giờ ta kiểm tra xem có sự chênh lệch giữa giá trao đổi và giá trị thực không"
   ]
  },
  {
   "attachments": {},
   "cell_type": "markdown",
   "metadata": {},
   "source": [
    "> Việc giá trị thực không có trong bảng này nên ta sẽ dựa vào các đồng tiền ổn định để kiểm tra giá"
   ]
  },
  {
   "cell_type": "code",
   "execution_count": 37,
   "metadata": {},
   "outputs": [],
   "source": [
    "stable_coin  = ['USDT','BUSD']\n",
    "only_stable = prices[prices.base.isin(stable_coin) | prices.quote.isin(stable_coin)][['base','quote','Kline open time','Open price','High price','Low price','Close price']].set_index('Kline open time')"
   ]
  },
  {
   "cell_type": "code",
   "execution_count": 42,
   "metadata": {},
   "outputs": [],
   "source": [
    "temp = only_stable[~only_stable.quote.isin(stable_coin)]\n",
    "only_stable[~only_stable.quote.isin(stable_coin)] = pandas.concat(\n",
    "    [temp[['quote','base']],1/temp[['Open price','High price','Low price','Close price']]],\n",
    "    axis=1\n",
    ")"
   ]
  },
  {
   "cell_type": "code",
   "execution_count": 41,
   "metadata": {},
   "outputs": [
    {
     "data": {
      "text/html": [
       "<div>\n",
       "<style scoped>\n",
       "    .dataframe tbody tr th:only-of-type {\n",
       "        vertical-align: middle;\n",
       "    }\n",
       "\n",
       "    .dataframe tbody tr th {\n",
       "        vertical-align: top;\n",
       "    }\n",
       "\n",
       "    .dataframe thead th {\n",
       "        text-align: right;\n",
       "    }\n",
       "</style>\n",
       "<table border=\"1\" class=\"dataframe\">\n",
       "  <thead>\n",
       "    <tr style=\"text-align: right;\">\n",
       "      <th></th>\n",
       "      <th>base</th>\n",
       "      <th>quote</th>\n",
       "      <th>Open price</th>\n",
       "      <th>High price</th>\n",
       "      <th>Low price</th>\n",
       "      <th>Close price</th>\n",
       "    </tr>\n",
       "    <tr>\n",
       "      <th>Kline open time</th>\n",
       "      <th></th>\n",
       "      <th></th>\n",
       "      <th></th>\n",
       "      <th></th>\n",
       "      <th></th>\n",
       "      <th></th>\n",
       "    </tr>\n",
       "  </thead>\n",
       "  <tbody>\n",
       "    <tr>\n",
       "      <th>1669395600000</th>\n",
       "      <td>BTC</td>\n",
       "      <td>USDT</td>\n",
       "      <td>16485.140000</td>\n",
       "      <td>16512.430000</td>\n",
       "      <td>16474.290000</td>\n",
       "      <td>16483.270000</td>\n",
       "    </tr>\n",
       "    <tr>\n",
       "      <th>1669397400000</th>\n",
       "      <td>BTC</td>\n",
       "      <td>USDT</td>\n",
       "      <td>16483.270000</td>\n",
       "      <td>16536.350000</td>\n",
       "      <td>16482.980000</td>\n",
       "      <td>16510.380000</td>\n",
       "    </tr>\n",
       "    <tr>\n",
       "      <th>1669399200000</th>\n",
       "      <td>BTC</td>\n",
       "      <td>USDT</td>\n",
       "      <td>16509.520000</td>\n",
       "      <td>16528.600000</td>\n",
       "      <td>16502.770000</td>\n",
       "      <td>16509.400000</td>\n",
       "    </tr>\n",
       "    <tr>\n",
       "      <th>1669401000000</th>\n",
       "      <td>BTC</td>\n",
       "      <td>USDT</td>\n",
       "      <td>16508.950000</td>\n",
       "      <td>16518.590000</td>\n",
       "      <td>16477.130000</td>\n",
       "      <td>16495.430000</td>\n",
       "    </tr>\n",
       "    <tr>\n",
       "      <th>1669402800000</th>\n",
       "      <td>BTC</td>\n",
       "      <td>USDT</td>\n",
       "      <td>16495.430000</td>\n",
       "      <td>16553.880000</td>\n",
       "      <td>16494.010000</td>\n",
       "      <td>16515.200000</td>\n",
       "    </tr>\n",
       "    <tr>\n",
       "      <th>...</th>\n",
       "      <td>...</td>\n",
       "      <td>...</td>\n",
       "      <td>...</td>\n",
       "      <td>...</td>\n",
       "      <td>...</td>\n",
       "      <td>...</td>\n",
       "    </tr>\n",
       "    <tr>\n",
       "      <th>1670943600000</th>\n",
       "      <td>RON</td>\n",
       "      <td>BUSD</td>\n",
       "      <td>0.216029</td>\n",
       "      <td>0.215983</td>\n",
       "      <td>0.216450</td>\n",
       "      <td>0.216403</td>\n",
       "    </tr>\n",
       "    <tr>\n",
       "      <th>1670945400000</th>\n",
       "      <td>RON</td>\n",
       "      <td>BUSD</td>\n",
       "      <td>0.216450</td>\n",
       "      <td>0.215936</td>\n",
       "      <td>0.216450</td>\n",
       "      <td>0.215983</td>\n",
       "    </tr>\n",
       "    <tr>\n",
       "      <th>1670947200000</th>\n",
       "      <td>RON</td>\n",
       "      <td>BUSD</td>\n",
       "      <td>0.215936</td>\n",
       "      <td>0.215936</td>\n",
       "      <td>0.215983</td>\n",
       "      <td>0.215936</td>\n",
       "    </tr>\n",
       "    <tr>\n",
       "      <th>1670949000000</th>\n",
       "      <td>RON</td>\n",
       "      <td>BUSD</td>\n",
       "      <td>0.215983</td>\n",
       "      <td>0.215936</td>\n",
       "      <td>0.215983</td>\n",
       "      <td>0.215936</td>\n",
       "    </tr>\n",
       "    <tr>\n",
       "      <th>1670950800000</th>\n",
       "      <td>RON</td>\n",
       "      <td>BUSD</td>\n",
       "      <td>0.215936</td>\n",
       "      <td>0.215936</td>\n",
       "      <td>0.215983</td>\n",
       "      <td>0.215936</td>\n",
       "    </tr>\n",
       "  </tbody>\n",
       "</table>\n",
       "<p>579181 rows × 6 columns</p>\n",
       "</div>"
      ],
      "text/plain": [
       "                base quote    Open price    High price     Low price  \\\n",
       "Kline open time                                                        \n",
       "1669395600000    BTC  USDT  16485.140000  16512.430000  16474.290000   \n",
       "1669397400000    BTC  USDT  16483.270000  16536.350000  16482.980000   \n",
       "1669399200000    BTC  USDT  16509.520000  16528.600000  16502.770000   \n",
       "1669401000000    BTC  USDT  16508.950000  16518.590000  16477.130000   \n",
       "1669402800000    BTC  USDT  16495.430000  16553.880000  16494.010000   \n",
       "...              ...   ...           ...           ...           ...   \n",
       "1670943600000    RON  BUSD      0.216029      0.215983      0.216450   \n",
       "1670945400000    RON  BUSD      0.216450      0.215936      0.216450   \n",
       "1670947200000    RON  BUSD      0.215936      0.215936      0.215983   \n",
       "1670949000000    RON  BUSD      0.215983      0.215936      0.215983   \n",
       "1670950800000    RON  BUSD      0.215936      0.215936      0.215983   \n",
       "\n",
       "                  Close price  \n",
       "Kline open time                \n",
       "1669395600000    16483.270000  \n",
       "1669397400000    16510.380000  \n",
       "1669399200000    16509.400000  \n",
       "1669401000000    16495.430000  \n",
       "1669402800000    16515.200000  \n",
       "...                       ...  \n",
       "1670943600000        0.216403  \n",
       "1670945400000        0.215983  \n",
       "1670947200000        0.215936  \n",
       "1670949000000        0.215936  \n",
       "1670950800000        0.215936  \n",
       "\n",
       "[579181 rows x 6 columns]"
      ]
     },
     "execution_count": 41,
     "metadata": {},
     "output_type": "execute_result"
    }
   ],
   "source": [
    "only_stable"
   ]
  },
  {
   "attachments": {},
   "cell_type": "markdown",
   "metadata": {},
   "source": [
    "> ta coi bảng trên là giá trị thực của đồng (tuy trao đổi qua stable coin nhưng nó gần như giữ ở mức 1$), giờ ta sẽ kiểm tra giá"
   ]
  },
  {
   "cell_type": "code",
   "execution_count": 86,
   "metadata": {},
   "outputs": [],
   "source": [
    "symbols_unique = numpy.unique(prices[['Symbol','base','quote']].to_numpy(dtype='str'),axis=0)\n",
    "price_table = prices.set_index(['Symbol','Kline open time'])"
   ]
  },
  {
   "cell_type": "code",
   "execution_count": 100,
   "metadata": {},
   "outputs": [
    {
     "name": "stdout",
     "output_type": "stream",
     "text": [
      "total:  1426\n",
      "1400\n",
      "1300\n",
      "1200\n",
      "1100\n",
      "1000\n",
      "900\n",
      "800\n",
      "700\n",
      "600\n",
      "500\n",
      "400\n",
      "300\n",
      "200\n",
      "100\n"
     ]
    }
   ],
   "source": [
    "n = len(symbols_unique)\n",
    "print('total: ',n)\n",
    "diff = []\n",
    "for i in symbols_unique:\n",
    "    if n%100 == 0:\n",
    "        print(n)\n",
    "    cal = only_stable[only_stable.base == i[1]][['Open price','High price','Low price','Close price']]/only_stable[only_stable.base == i[2]][['Open price','High price','Low price','Close price']]\n",
    "    gap = price_table.loc[i[0]][['Open price','High price','Low price','Close price']]/cal\n",
    "    diff += [ numpy.mean(gap,axis=0)]\n",
    "    n-=1\n",
    "diff = pandas.DataFrame(diff)"
   ]
  },
  {
   "cell_type": "code",
   "execution_count": 112,
   "metadata": {},
   "outputs": [
    {
     "data": {
      "text/html": [
       "<div>\n",
       "<style scoped>\n",
       "    .dataframe tbody tr th:only-of-type {\n",
       "        vertical-align: middle;\n",
       "    }\n",
       "\n",
       "    .dataframe tbody tr th {\n",
       "        vertical-align: top;\n",
       "    }\n",
       "\n",
       "    .dataframe thead th {\n",
       "        text-align: right;\n",
       "    }\n",
       "</style>\n",
       "<table border=\"1\" class=\"dataframe\">\n",
       "  <thead>\n",
       "    <tr style=\"text-align: right;\">\n",
       "      <th></th>\n",
       "      <th>Open price</th>\n",
       "      <th>High price</th>\n",
       "      <th>Low price</th>\n",
       "      <th>Close price</th>\n",
       "    </tr>\n",
       "  </thead>\n",
       "  <tbody>\n",
       "    <tr>\n",
       "      <th>count</th>\n",
       "      <td>1078.000000</td>\n",
       "      <td>1078.000000</td>\n",
       "      <td>1078.000000</td>\n",
       "      <td>1078.000000</td>\n",
       "    </tr>\n",
       "    <tr>\n",
       "      <th>mean</th>\n",
       "      <td>1.000101</td>\n",
       "      <td>1.000537</td>\n",
       "      <td>0.999862</td>\n",
       "      <td>1.000056</td>\n",
       "    </tr>\n",
       "    <tr>\n",
       "      <th>std</th>\n",
       "      <td>0.000469</td>\n",
       "      <td>0.001527</td>\n",
       "      <td>0.001228</td>\n",
       "      <td>0.000561</td>\n",
       "    </tr>\n",
       "    <tr>\n",
       "      <th>min</th>\n",
       "      <td>0.994130</td>\n",
       "      <td>0.992628</td>\n",
       "      <td>0.991015</td>\n",
       "      <td>0.992246</td>\n",
       "    </tr>\n",
       "    <tr>\n",
       "      <th>25%</th>\n",
       "      <td>0.999977</td>\n",
       "      <td>0.999870</td>\n",
       "      <td>0.999268</td>\n",
       "      <td>0.999935</td>\n",
       "    </tr>\n",
       "    <tr>\n",
       "      <th>50%</th>\n",
       "      <td>1.000043</td>\n",
       "      <td>1.000229</td>\n",
       "      <td>1.000012</td>\n",
       "      <td>1.000003</td>\n",
       "    </tr>\n",
       "    <tr>\n",
       "      <th>75%</th>\n",
       "      <td>1.000148</td>\n",
       "      <td>1.001143</td>\n",
       "      <td>1.000263</td>\n",
       "      <td>1.000089</td>\n",
       "    </tr>\n",
       "    <tr>\n",
       "      <th>max</th>\n",
       "      <td>1.005238</td>\n",
       "      <td>1.017435</td>\n",
       "      <td>1.006667</td>\n",
       "      <td>1.007816</td>\n",
       "    </tr>\n",
       "  </tbody>\n",
       "</table>\n",
       "</div>"
      ],
      "text/plain": [
       "        Open price   High price    Low price  Close price\n",
       "count  1078.000000  1078.000000  1078.000000  1078.000000\n",
       "mean      1.000101     1.000537     0.999862     1.000056\n",
       "std       0.000469     0.001527     0.001228     0.000561\n",
       "min       0.994130     0.992628     0.991015     0.992246\n",
       "25%       0.999977     0.999870     0.999268     0.999935\n",
       "50%       1.000043     1.000229     1.000012     1.000003\n",
       "75%       1.000148     1.001143     1.000263     1.000089\n",
       "max       1.005238     1.017435     1.006667     1.007816"
      ]
     },
     "execution_count": 112,
     "metadata": {},
     "output_type": "execute_result"
    }
   ],
   "source": [
    "pandas.DataFrame(diff).describe()"
   ]
  },
  {
   "attachments": {},
   "cell_type": "markdown",
   "metadata": {},
   "source": [
    "> Dựa vào bảng trên, ta thấy phân bố chủ yếu ở mức 1., và độ lệch phân bố cũng ko cao, nên có thể xem là giá trị quy đổi các token có tuân theo giá trị thực của chúng\n"
   ]
  },
  {
   "attachments": {},
   "cell_type": "markdown",
   "metadata": {},
   "source": [
    "#### giờ ta xem xét chu kì tăng giảm của các token này"
   ]
  },
  {
   "cell_type": "code",
   "execution_count": 139,
   "metadata": {},
   "outputs": [],
   "source": [
    "symbols_price = prices.set_index(['Symbol','Kline open time'])[['High price','Low price']]"
   ]
  },
  {
   "cell_type": "code",
   "execution_count": 204,
   "metadata": {},
   "outputs": [
    {
     "name": "stdout",
     "output_type": "stream",
     "text": [
      "total:  1426\n",
      "1400\n",
      "1300\n",
      "1200\n",
      "1100\n",
      "1000\n",
      "900\n",
      "800\n",
      "700\n",
      "600\n",
      "500\n",
      "400\n",
      "300\n",
      "200\n",
      "100\n"
     ]
    }
   ],
   "source": [
    "period = []\n",
    "n = len(symbols_unique)\n",
    "print('total: ',n)\n",
    "for i in symbols_unique[:,0]:\n",
    "    if n%100 == 0:\n",
    "        print(n)\n",
    "    n-=1\n",
    "    try:\n",
    "        temp = (symbols_price.loc[i].iloc[1:].reset_index() - symbols_price.loc[i].iloc[:-1].reset_index())\n",
    "        a = [0] \n",
    "        b = [0]\n",
    "        c = [0]\n",
    "        d = [0]\n",
    "        for i in  (temp['High price'] >=0):\n",
    "            if i:\n",
    "                a[-1] +=1\n",
    "            else:\n",
    "                a.append(1)\n",
    "        for i in  (temp['High price'] <=0):\n",
    "            if i:\n",
    "                b[-1] +=1\n",
    "            else:\n",
    "                b.append(1)\n",
    "\n",
    "        for i in  (temp['Low price'] >=0):\n",
    "            if i:\n",
    "                c[-1] +=1\n",
    "            else:\n",
    "                c.append(1)\n",
    "        for i in  (temp['Low price'] <=0):\n",
    "            if i:\n",
    "                d[-1] +=1\n",
    "            else:\n",
    "                d.append(1)\n",
    "        period.append([numpy.mean(a),numpy.mean(b),numpy.mean(c),numpy.mean(d)])\n",
    "    except:\n",
    "        continue\n",
    "period = pandas.DataFrame(period,columns=['High up','High down','Low up','Low down'])"
   ]
  },
  {
   "cell_type": "code",
   "execution_count": 223,
   "metadata": {},
   "outputs": [
    {
     "data": {
      "text/html": [
       "<div>\n",
       "<style scoped>\n",
       "    .dataframe tbody tr th:only-of-type {\n",
       "        vertical-align: middle;\n",
       "    }\n",
       "\n",
       "    .dataframe tbody tr th {\n",
       "        vertical-align: top;\n",
       "    }\n",
       "\n",
       "    .dataframe thead th {\n",
       "        text-align: right;\n",
       "    }\n",
       "</style>\n",
       "<table border=\"1\" class=\"dataframe\">\n",
       "  <thead>\n",
       "    <tr style=\"text-align: right;\">\n",
       "      <th></th>\n",
       "      <th>High up</th>\n",
       "      <th>High down</th>\n",
       "      <th>Low up</th>\n",
       "      <th>Low down</th>\n",
       "    </tr>\n",
       "  </thead>\n",
       "  <tbody>\n",
       "    <tr>\n",
       "      <th>count</th>\n",
       "      <td>1426.000000</td>\n",
       "      <td>1426.000000</td>\n",
       "      <td>1426.000000</td>\n",
       "      <td>1426.000000</td>\n",
       "    </tr>\n",
       "    <tr>\n",
       "      <th>mean</th>\n",
       "      <td>2.535641</td>\n",
       "      <td>2.923481</td>\n",
       "      <td>2.855344</td>\n",
       "      <td>2.585747</td>\n",
       "    </tr>\n",
       "    <tr>\n",
       "      <th>std</th>\n",
       "      <td>1.977907</td>\n",
       "      <td>2.214954</td>\n",
       "      <td>1.782369</td>\n",
       "      <td>1.931871</td>\n",
       "    </tr>\n",
       "    <tr>\n",
       "      <th>min</th>\n",
       "      <td>1.500000</td>\n",
       "      <td>1.963636</td>\n",
       "      <td>1.833333</td>\n",
       "      <td>1.766871</td>\n",
       "    </tr>\n",
       "    <tr>\n",
       "      <th>25%</th>\n",
       "      <td>2.004640</td>\n",
       "      <td>2.316354</td>\n",
       "      <td>2.291777</td>\n",
       "      <td>2.023419</td>\n",
       "    </tr>\n",
       "    <tr>\n",
       "      <th>50%</th>\n",
       "      <td>2.160000</td>\n",
       "      <td>2.518950</td>\n",
       "      <td>2.482759</td>\n",
       "      <td>2.226804</td>\n",
       "    </tr>\n",
       "    <tr>\n",
       "      <th>75%</th>\n",
       "      <td>2.579104</td>\n",
       "      <td>2.966530</td>\n",
       "      <td>2.956379</td>\n",
       "      <td>2.658462</td>\n",
       "    </tr>\n",
       "    <tr>\n",
       "      <th>max</th>\n",
       "      <td>45.473684</td>\n",
       "      <td>45.473684</td>\n",
       "      <td>43.200000</td>\n",
       "      <td>43.200000</td>\n",
       "    </tr>\n",
       "  </tbody>\n",
       "</table>\n",
       "</div>"
      ],
      "text/plain": [
       "           High up    High down       Low up     Low down\n",
       "count  1426.000000  1426.000000  1426.000000  1426.000000\n",
       "mean      2.535641     2.923481     2.855344     2.585747\n",
       "std       1.977907     2.214954     1.782369     1.931871\n",
       "min       1.500000     1.963636     1.833333     1.766871\n",
       "25%       2.004640     2.316354     2.291777     2.023419\n",
       "50%       2.160000     2.518950     2.482759     2.226804\n",
       "75%       2.579104     2.966530     2.956379     2.658462\n",
       "max      45.473684    45.473684    43.200000    43.200000"
      ]
     },
     "execution_count": 223,
     "metadata": {},
     "output_type": "execute_result"
    }
   ],
   "source": [
    "period.describe()"
   ]
  },
  {
   "cell_type": "code",
   "execution_count": 226,
   "metadata": {},
   "outputs": [
    {
     "data": {
      "text/plain": [
       "<AxesSubplot:ylabel='Density'>"
      ]
     },
     "execution_count": 226,
     "metadata": {},
     "output_type": "execute_result"
    },
    {
     "data": {
      "image/png": "[encoded data removed]",
      "text/plain": [
       "<Figure size 432x288 with 1 Axes>"
      ]
     },
     "metadata": {
      "needs_background": "light"
     },
     "output_type": "display_data"
    }
   ],
   "source": [
    "period.plot.kde(xlim = [0,10])"
   ]
  },
  {
   "attachments": {},
   "cell_type": "markdown",
   "metadata": {},
   "source": [
    "> thời gian trung bình cho mỗi lần tăng hoặc giảm nằm ở khoảng 2-3 chu kỳ, tuy đó thì chỉ số này sẽ không được chính xác lắm khi có độ lệch chuẩn khá là cao"
   ]
  }
 ],
 "metadata": {
  "kernelspec": {
   "display_name": "Python 3.10.8 64-bit",
   "language": "python",
   "name": "python3"
  },
  "language_info": {
   "codemirror_mode": {
    "name": "ipython",
    "version": 3
   },
   "file_extension": ".py",
   "mimetype": "text/x-python",
   "name": "python",
   "nbconvert_exporter": "python",
   "pygments_lexer": "ipython3",
   "version": "3.10.8"
  },
  "orig_nbformat": 4,
  "vscode": {
   "interpreter": {
    "hash": "aee8b7b246df8f9039afb4144a1f6fd8d2ca17a180786b69acc140d282b71a49"
   }
  }
 },
 "nbformat": 4,
 "nbformat_minor": 2
}
