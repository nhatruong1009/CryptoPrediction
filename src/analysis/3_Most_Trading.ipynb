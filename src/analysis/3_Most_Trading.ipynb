{
 "cells": [
  {
   "cell_type": "code",
   "execution_count": 1,
   "metadata": {},
   "outputs": [],
   "source": [
    "import pandas\n",
    "import plotly.express as px\n",
    "import matplotlib.pyplot as plt\n",
    "\n",
    "import numpy"
   ]
  },
  {
   "cell_type": "code",
   "execution_count": 2,
   "metadata": {},
   "outputs": [
    {
     "data": {
      "text/html": [
       "<div>\n",
       "<style scoped>\n",
       "    .dataframe tbody tr th:only-of-type {\n",
       "        vertical-align: middle;\n",
       "    }\n",
       "\n",
       "    .dataframe tbody tr th {\n",
       "        vertical-align: top;\n",
       "    }\n",
       "\n",
       "    .dataframe thead th {\n",
       "        text-align: right;\n",
       "    }\n",
       "</style>\n",
       "<table border=\"1\" class=\"dataframe\">\n",
       "  <thead>\n",
       "    <tr style=\"text-align: right;\">\n",
       "      <th></th>\n",
       "      <th>Symbol</th>\n",
       "      <th>base</th>\n",
       "      <th>quote</th>\n",
       "      <th>Kline open time</th>\n",
       "      <th>Open price</th>\n",
       "      <th>High price</th>\n",
       "      <th>Low price</th>\n",
       "      <th>Close price</th>\n",
       "      <th>Volume</th>\n",
       "      <th>Kline Close time</th>\n",
       "      <th>Quote asset volume</th>\n",
       "      <th>Number of trades</th>\n",
       "      <th>Taker buy base asset volume</th>\n",
       "      <th>Taker buy quote asset volume</th>\n",
       "    </tr>\n",
       "  </thead>\n",
       "  <tbody>\n",
       "    <tr>\n",
       "      <th>0</th>\n",
       "      <td>ETHBTC</td>\n",
       "      <td>ETH</td>\n",
       "      <td>BTC</td>\n",
       "      <td>2022-11-25 17:00:00</td>\n",
       "      <td>0.072026</td>\n",
       "      <td>0.072222</td>\n",
       "      <td>0.072026</td>\n",
       "      <td>0.072222</td>\n",
       "      <td>1342.1624</td>\n",
       "      <td>2022-11-25 17:29:59.999</td>\n",
       "      <td>96.776126</td>\n",
       "      <td>2657</td>\n",
       "      <td>794.6663</td>\n",
       "      <td>57.298344</td>\n",
       "    </tr>\n",
       "    <tr>\n",
       "      <th>1</th>\n",
       "      <td>ETHBTC</td>\n",
       "      <td>ETH</td>\n",
       "      <td>BTC</td>\n",
       "      <td>2022-11-25 17:30:00</td>\n",
       "      <td>0.072222</td>\n",
       "      <td>0.072335</td>\n",
       "      <td>0.072117</td>\n",
       "      <td>0.072162</td>\n",
       "      <td>1185.9640</td>\n",
       "      <td>2022-11-25 17:59:59.999</td>\n",
       "      <td>85.640393</td>\n",
       "      <td>2727</td>\n",
       "      <td>560.9044</td>\n",
       "      <td>40.508977</td>\n",
       "    </tr>\n",
       "    <tr>\n",
       "      <th>2</th>\n",
       "      <td>ETHBTC</td>\n",
       "      <td>ETH</td>\n",
       "      <td>BTC</td>\n",
       "      <td>2022-11-25 18:00:00</td>\n",
       "      <td>0.072163</td>\n",
       "      <td>0.072263</td>\n",
       "      <td>0.072101</td>\n",
       "      <td>0.072189</td>\n",
       "      <td>813.4793</td>\n",
       "      <td>2022-11-25 18:29:59.999</td>\n",
       "      <td>58.717779</td>\n",
       "      <td>1862</td>\n",
       "      <td>359.8931</td>\n",
       "      <td>25.975732</td>\n",
       "    </tr>\n",
       "    <tr>\n",
       "      <th>3</th>\n",
       "      <td>ETHBTC</td>\n",
       "      <td>ETH</td>\n",
       "      <td>BTC</td>\n",
       "      <td>2022-11-25 18:30:00</td>\n",
       "      <td>0.072188</td>\n",
       "      <td>0.072261</td>\n",
       "      <td>0.072161</td>\n",
       "      <td>0.072212</td>\n",
       "      <td>936.2168</td>\n",
       "      <td>2022-11-25 18:59:59.999</td>\n",
       "      <td>67.599402</td>\n",
       "      <td>1816</td>\n",
       "      <td>470.6928</td>\n",
       "      <td>33.988586</td>\n",
       "    </tr>\n",
       "    <tr>\n",
       "      <th>4</th>\n",
       "      <td>ETHBTC</td>\n",
       "      <td>ETH</td>\n",
       "      <td>BTC</td>\n",
       "      <td>2022-11-25 19:00:00</td>\n",
       "      <td>0.072223</td>\n",
       "      <td>0.072479</td>\n",
       "      <td>0.072197</td>\n",
       "      <td>0.072375</td>\n",
       "      <td>1115.5725</td>\n",
       "      <td>2022-11-25 19:29:59.999</td>\n",
       "      <td>80.727099</td>\n",
       "      <td>3088</td>\n",
       "      <td>593.4310</td>\n",
       "      <td>42.945939</td>\n",
       "    </tr>\n",
       "    <tr>\n",
       "      <th>...</th>\n",
       "      <td>...</td>\n",
       "      <td>...</td>\n",
       "      <td>...</td>\n",
       "      <td>...</td>\n",
       "      <td>...</td>\n",
       "      <td>...</td>\n",
       "      <td>...</td>\n",
       "      <td>...</td>\n",
       "      <td>...</td>\n",
       "      <td>...</td>\n",
       "      <td>...</td>\n",
       "      <td>...</td>\n",
       "      <td>...</td>\n",
       "      <td>...</td>\n",
       "    </tr>\n",
       "    <tr>\n",
       "      <th>1201477</th>\n",
       "      <td>BUSDRON</td>\n",
       "      <td>BUSD</td>\n",
       "      <td>RON</td>\n",
       "      <td>2022-12-13 15:00:00</td>\n",
       "      <td>4.629000</td>\n",
       "      <td>4.630000</td>\n",
       "      <td>4.620000</td>\n",
       "      <td>4.621000</td>\n",
       "      <td>5984.0000</td>\n",
       "      <td>2022-12-13 15:29:59.999</td>\n",
       "      <td>27672.337000</td>\n",
       "      <td>108</td>\n",
       "      <td>2086.0000</td>\n",
       "      <td>9651.160000</td>\n",
       "    </tr>\n",
       "    <tr>\n",
       "      <th>1201478</th>\n",
       "      <td>BUSDRON</td>\n",
       "      <td>BUSD</td>\n",
       "      <td>RON</td>\n",
       "      <td>2022-12-13 15:30:00</td>\n",
       "      <td>4.620000</td>\n",
       "      <td>4.631000</td>\n",
       "      <td>4.620000</td>\n",
       "      <td>4.630000</td>\n",
       "      <td>3618.0000</td>\n",
       "      <td>2022-12-13 15:59:59.999</td>\n",
       "      <td>16734.982000</td>\n",
       "      <td>42</td>\n",
       "      <td>1642.0000</td>\n",
       "      <td>7593.482000</td>\n",
       "    </tr>\n",
       "    <tr>\n",
       "      <th>1201479</th>\n",
       "      <td>BUSDRON</td>\n",
       "      <td>BUSD</td>\n",
       "      <td>RON</td>\n",
       "      <td>2022-12-13 16:00:00</td>\n",
       "      <td>4.631000</td>\n",
       "      <td>4.631000</td>\n",
       "      <td>4.630000</td>\n",
       "      <td>4.631000</td>\n",
       "      <td>3254.0000</td>\n",
       "      <td>2022-12-13 16:29:59.999</td>\n",
       "      <td>15069.018000</td>\n",
       "      <td>33</td>\n",
       "      <td>2998.0000</td>\n",
       "      <td>13883.738000</td>\n",
       "    </tr>\n",
       "    <tr>\n",
       "      <th>1201480</th>\n",
       "      <td>BUSDRON</td>\n",
       "      <td>BUSD</td>\n",
       "      <td>RON</td>\n",
       "      <td>2022-12-13 16:30:00</td>\n",
       "      <td>4.630000</td>\n",
       "      <td>4.631000</td>\n",
       "      <td>4.630000</td>\n",
       "      <td>4.631000</td>\n",
       "      <td>14415.0000</td>\n",
       "      <td>2022-12-13 16:59:59.999</td>\n",
       "      <td>66749.027000</td>\n",
       "      <td>92</td>\n",
       "      <td>7577.0000</td>\n",
       "      <td>35089.087000</td>\n",
       "    </tr>\n",
       "    <tr>\n",
       "      <th>1201481</th>\n",
       "      <td>BUSDRON</td>\n",
       "      <td>BUSD</td>\n",
       "      <td>RON</td>\n",
       "      <td>2022-12-13 17:00:00</td>\n",
       "      <td>4.631000</td>\n",
       "      <td>4.631000</td>\n",
       "      <td>4.630000</td>\n",
       "      <td>4.631000</td>\n",
       "      <td>3875.0000</td>\n",
       "      <td>2022-12-13 17:29:59.999</td>\n",
       "      <td>17943.045000</td>\n",
       "      <td>52</td>\n",
       "      <td>1795.0000</td>\n",
       "      <td>8312.645000</td>\n",
       "    </tr>\n",
       "  </tbody>\n",
       "</table>\n",
       "<p>1201482 rows × 14 columns</p>\n",
       "</div>"
      ],
      "text/plain": [
       "          Symbol  base quote      Kline open time  Open price  High price  \\\n",
       "0         ETHBTC   ETH   BTC  2022-11-25 17:00:00    0.072026    0.072222   \n",
       "1         ETHBTC   ETH   BTC  2022-11-25 17:30:00    0.072222    0.072335   \n",
       "2         ETHBTC   ETH   BTC  2022-11-25 18:00:00    0.072163    0.072263   \n",
       "3         ETHBTC   ETH   BTC  2022-11-25 18:30:00    0.072188    0.072261   \n",
       "4         ETHBTC   ETH   BTC  2022-11-25 19:00:00    0.072223    0.072479   \n",
       "...          ...   ...   ...                  ...         ...         ...   \n",
       "1201477  BUSDRON  BUSD   RON  2022-12-13 15:00:00    4.629000    4.630000   \n",
       "1201478  BUSDRON  BUSD   RON  2022-12-13 15:30:00    4.620000    4.631000   \n",
       "1201479  BUSDRON  BUSD   RON  2022-12-13 16:00:00    4.631000    4.631000   \n",
       "1201480  BUSDRON  BUSD   RON  2022-12-13 16:30:00    4.630000    4.631000   \n",
       "1201481  BUSDRON  BUSD   RON  2022-12-13 17:00:00    4.631000    4.631000   \n",
       "\n",
       "         Low price  Close price      Volume         Kline Close time  \\\n",
       "0         0.072026     0.072222   1342.1624  2022-11-25 17:29:59.999   \n",
       "1         0.072117     0.072162   1185.9640  2022-11-25 17:59:59.999   \n",
       "2         0.072101     0.072189    813.4793  2022-11-25 18:29:59.999   \n",
       "3         0.072161     0.072212    936.2168  2022-11-25 18:59:59.999   \n",
       "4         0.072197     0.072375   1115.5725  2022-11-25 19:29:59.999   \n",
       "...            ...          ...         ...                      ...   \n",
       "1201477   4.620000     4.621000   5984.0000  2022-12-13 15:29:59.999   \n",
       "1201478   4.620000     4.630000   3618.0000  2022-12-13 15:59:59.999   \n",
       "1201479   4.630000     4.631000   3254.0000  2022-12-13 16:29:59.999   \n",
       "1201480   4.630000     4.631000  14415.0000  2022-12-13 16:59:59.999   \n",
       "1201481   4.630000     4.631000   3875.0000  2022-12-13 17:29:59.999   \n",
       "\n",
       "         Quote asset volume  Number of trades  Taker buy base asset volume  \\\n",
       "0                 96.776126              2657                     794.6663   \n",
       "1                 85.640393              2727                     560.9044   \n",
       "2                 58.717779              1862                     359.8931   \n",
       "3                 67.599402              1816                     470.6928   \n",
       "4                 80.727099              3088                     593.4310   \n",
       "...                     ...               ...                          ...   \n",
       "1201477        27672.337000               108                    2086.0000   \n",
       "1201478        16734.982000                42                    1642.0000   \n",
       "1201479        15069.018000                33                    2998.0000   \n",
       "1201480        66749.027000                92                    7577.0000   \n",
       "1201481        17943.045000                52                    1795.0000   \n",
       "\n",
       "         Taker buy quote asset volume  \n",
       "0                           57.298344  \n",
       "1                           40.508977  \n",
       "2                           25.975732  \n",
       "3                           33.988586  \n",
       "4                           42.945939  \n",
       "...                               ...  \n",
       "1201477                   9651.160000  \n",
       "1201478                   7593.482000  \n",
       "1201479                  13883.738000  \n",
       "1201480                  35089.087000  \n",
       "1201481                   8312.645000  \n",
       "\n",
       "[1201482 rows x 14 columns]"
      ]
     },
     "execution_count": 2,
     "metadata": {},
     "output_type": "execute_result"
    }
   ],
   "source": [
    "prices = pandas.read_csv('../../datastore/processed/prices.csv')\n",
    "prices # load data"
   ]
  },
  {
   "cell_type": "markdown",
   "metadata": {},
   "source": [
    "----\n",
    "### <center>📜 Question 1: Which coin is available for the most trading </center>\n",
    "\n",
    "#### Benefits of finding the answer:\n",
    "- After this we can know the outstanding coins in the crypto community\n",
    "- As well as knowing the coins is not of interest to many people\n",
    "#### Answer:\n",
    "- We take all the distinct Symbols in trading data, then count the number of time it appear even on base or quote"
   ]
  },
  {
   "cell_type": "code",
   "execution_count": 3,
   "metadata": {},
   "outputs": [],
   "source": [
    "# group all same symbols in to one\n",
    "g_symbol_data = prices.groupby([\"Symbol\",\"base\",\"quote\"]).count()[[\"Kline open time\"]]\n",
    "g_symbol_data.reset_index(inplace=True)\n",
    "\n",
    "# count appear time\n",
    "quote_symbol_data = g_symbol_data.groupby(\"quote\").count()[[\"Kline open time\"]]\n",
    "base_symbol_data = g_symbol_data.groupby(\"base\").count()[[\"Kline open time\"]]"
   ]
  },
  {
   "cell_type": "code",
   "execution_count": 4,
   "metadata": {},
   "outputs": [
    {
     "data": {
      "text/html": [
       "<div>\n",
       "<style scoped>\n",
       "    .dataframe tbody tr th:only-of-type {\n",
       "        vertical-align: middle;\n",
       "    }\n",
       "\n",
       "    .dataframe tbody tr th {\n",
       "        vertical-align: top;\n",
       "    }\n",
       "\n",
       "    .dataframe thead th {\n",
       "        text-align: right;\n",
       "    }\n",
       "</style>\n",
       "<table border=\"1\" class=\"dataframe\">\n",
       "  <thead>\n",
       "    <tr style=\"text-align: right;\">\n",
       "      <th></th>\n",
       "      <th>Kline open time_x</th>\n",
       "      <th>Kline open time_y</th>\n",
       "      <th>Total</th>\n",
       "    </tr>\n",
       "  </thead>\n",
       "  <tbody>\n",
       "    <tr>\n",
       "      <th>USDT</th>\n",
       "      <td>8</td>\n",
       "      <td>330</td>\n",
       "      <td>338</td>\n",
       "    </tr>\n",
       "    <tr>\n",
       "      <th>BUSD</th>\n",
       "      <td>11</td>\n",
       "      <td>321</td>\n",
       "      <td>332</td>\n",
       "    </tr>\n",
       "    <tr>\n",
       "      <th>BTC</th>\n",
       "      <td>13</td>\n",
       "      <td>282</td>\n",
       "      <td>295</td>\n",
       "    </tr>\n",
       "    <tr>\n",
       "      <th>BNB</th>\n",
       "      <td>13</td>\n",
       "      <td>115</td>\n",
       "      <td>128</td>\n",
       "    </tr>\n",
       "    <tr>\n",
       "      <th>ETH</th>\n",
       "      <td>14</td>\n",
       "      <td>100</td>\n",
       "      <td>114</td>\n",
       "    </tr>\n",
       "    <tr>\n",
       "      <th>TRY</th>\n",
       "      <td>0</td>\n",
       "      <td>77</td>\n",
       "      <td>77</td>\n",
       "    </tr>\n",
       "    <tr>\n",
       "      <th>EUR</th>\n",
       "      <td>2</td>\n",
       "      <td>46</td>\n",
       "      <td>48</td>\n",
       "    </tr>\n",
       "    <tr>\n",
       "      <th>BRL</th>\n",
       "      <td>0</td>\n",
       "      <td>31</td>\n",
       "      <td>31</td>\n",
       "    </tr>\n",
       "    <tr>\n",
       "      <th>AUD</th>\n",
       "      <td>2</td>\n",
       "      <td>18</td>\n",
       "      <td>20</td>\n",
       "    </tr>\n",
       "    <tr>\n",
       "      <th>GBP</th>\n",
       "      <td>2</td>\n",
       "      <td>17</td>\n",
       "      <td>19</td>\n",
       "    </tr>\n",
       "    <tr>\n",
       "      <th>RUB</th>\n",
       "      <td>0</td>\n",
       "      <td>18</td>\n",
       "      <td>18</td>\n",
       "    </tr>\n",
       "    <tr>\n",
       "      <th>BIDR</th>\n",
       "      <td>0</td>\n",
       "      <td>14</td>\n",
       "      <td>14</td>\n",
       "    </tr>\n",
       "    <tr>\n",
       "      <th>XRP</th>\n",
       "      <td>12</td>\n",
       "      <td>1</td>\n",
       "      <td>13</td>\n",
       "    </tr>\n",
       "    <tr>\n",
       "      <th>MATIC</th>\n",
       "      <td>12</td>\n",
       "      <td>0</td>\n",
       "      <td>12</td>\n",
       "    </tr>\n",
       "    <tr>\n",
       "      <th>DOT</th>\n",
       "      <td>11</td>\n",
       "      <td>1</td>\n",
       "      <td>12</td>\n",
       "    </tr>\n",
       "    <tr>\n",
       "      <th>ADA</th>\n",
       "      <td>12</td>\n",
       "      <td>0</td>\n",
       "      <td>12</td>\n",
       "    </tr>\n",
       "    <tr>\n",
       "      <th>SOL</th>\n",
       "      <td>12</td>\n",
       "      <td>0</td>\n",
       "      <td>12</td>\n",
       "    </tr>\n",
       "    <tr>\n",
       "      <th>DOGE</th>\n",
       "      <td>10</td>\n",
       "      <td>1</td>\n",
       "      <td>11</td>\n",
       "    </tr>\n",
       "    <tr>\n",
       "      <th>LTC</th>\n",
       "      <td>10</td>\n",
       "      <td>0</td>\n",
       "      <td>10</td>\n",
       "    </tr>\n",
       "    <tr>\n",
       "      <th>FTM</th>\n",
       "      <td>10</td>\n",
       "      <td>0</td>\n",
       "      <td>10</td>\n",
       "    </tr>\n",
       "  </tbody>\n",
       "</table>\n",
       "</div>"
      ],
      "text/plain": [
       "       Kline open time_x  Kline open time_y  Total\n",
       "USDT                   8                330    338\n",
       "BUSD                  11                321    332\n",
       "BTC                   13                282    295\n",
       "BNB                   13                115    128\n",
       "ETH                   14                100    114\n",
       "TRY                    0                 77     77\n",
       "EUR                    2                 46     48\n",
       "BRL                    0                 31     31\n",
       "AUD                    2                 18     20\n",
       "GBP                    2                 17     19\n",
       "RUB                    0                 18     18\n",
       "BIDR                   0                 14     14\n",
       "XRP                   12                  1     13\n",
       "MATIC                 12                  0     12\n",
       "DOT                   11                  1     12\n",
       "ADA                   12                  0     12\n",
       "SOL                   12                  0     12\n",
       "DOGE                  10                  1     11\n",
       "LTC                   10                  0     10\n",
       "FTM                   10                  0     10"
      ]
     },
     "execution_count": 4,
     "metadata": {},
     "output_type": "execute_result"
    }
   ],
   "source": [
    "#combie them and get the total time appear in quote and base\n",
    "merge_data = base_symbol_data.merge(quote_symbol_data, left_index=True, right_index=True, how='outer').fillna(0).astype(int)\n",
    "merge_data[\"Total\"] = merge_data[\"Kline open time_x\"] + merge_data[\"Kline open time_y\"]\n",
    "merge_data = merge_data.sort_values(by=\"Total\", ascending=False).head(20)\n",
    "merge_data"
   ]
  },
  {
   "cell_type": "code",
   "execution_count": 5,
   "metadata": {},
   "outputs": [
    {
     "data": {
      "application/vnd.plotly.v1+json": {
       "config": {
        "plotlyServerURL": "https://plot.ly"
       },
       "data": [
        {
         "alignmentgroup": "True",
         "hovertemplate": "index=%{x}<br>Total=%{y}<extra></extra>",
         "legendgroup": "",
         "marker": {
          "color": "#636efa",
          "pattern": {
           "shape": ""
          }
         },
         "name": "",
         "offsetgroup": "",
         "orientation": "v",
         "showlegend": false,
         "textposition": "auto",
         "type": "bar",
         "x": [
          "USDT",
          "BUSD",
          "BTC",
          "BNB",
          "ETH",
          "TRY",
          "EUR",
          "BRL",
          "AUD",
          "GBP",
          "RUB",
          "BIDR",
          "XRP",
          "MATIC",
          "DOT",
          "ADA",
          "SOL",
          "DOGE",
          "LTC",
          "FTM"
         ],
         "xaxis": "x",
         "y": [
          338,
          332,
          295,
          128,
          114,
          77,
          48,
          31,
          20,
          19,
          18,
          14,
          13,
          12,
          12,
          12,
          12,
          11,
          10,
          10
         ],
         "yaxis": "y"
        }
       ],
       "layout": {
        "barmode": "relative",
        "legend": {
         "tracegroupgap": 0
        },
        "margin": {
         "t": 60
        },
        "template": {
         "data": {
          "bar": [
           {
            "error_x": {
             "color": "#2a3f5f"
            },
            "error_y": {
             "color": "#2a3f5f"
            },
            "marker": {
             "line": {
              "color": "#E5ECF6",
              "width": 0.5
             },
             "pattern": {
              "fillmode": "overlay",
              "size": 10,
              "solidity": 0.2
             }
            },
            "type": "bar"
           }
          ],
          "barpolar": [
           {
            "marker": {
             "line": {
              "color": "#E5ECF6",
              "width": 0.5
             },
             "pattern": {
              "fillmode": "overlay",
              "size": 10,
              "solidity": 0.2
             }
            },
            "type": "barpolar"
           }
          ],
          "carpet": [
           {
            "aaxis": {
             "endlinecolor": "#2a3f5f",
             "gridcolor": "white",
             "linecolor": "white",
             "minorgridcolor": "white",
             "startlinecolor": "#2a3f5f"
            },
            "baxis": {
             "endlinecolor": "#2a3f5f",
             "gridcolor": "white",
             "linecolor": "white",
             "minorgridcolor": "white",
             "startlinecolor": "#2a3f5f"
            },
            "type": "carpet"
           }
          ],
          "choropleth": [
           {
            "colorbar": {
             "outlinewidth": 0,
             "ticks": ""
            },
            "type": "choropleth"
           }
          ],
          "contour": [
           {
            "colorbar": {
             "outlinewidth": 0,
             "ticks": ""
            },
            "colorscale": [
             [
              0,
              "#0d0887"
             ],
             [
              0.1111111111111111,
              "#46039f"
             ],
             [
              0.2222222222222222,
              "#7201a8"
             ],
             [
              0.3333333333333333,
              "#9c179e"
             ],
             [
              0.4444444444444444,
              "#bd3786"
             ],
             [
              0.5555555555555556,
              "#d8576b"
             ],
             [
              0.6666666666666666,
              "#ed7953"
             ],
             [
              0.7777777777777778,
              "#fb9f3a"
             ],
             [
              0.8888888888888888,
              "#fdca26"
             ],
             [
              1,
              "#f0f921"
             ]
            ],
            "type": "contour"
           }
          ],
          "contourcarpet": [
           {
            "colorbar": {
             "outlinewidth": 0,
             "ticks": ""
            },
            "type": "contourcarpet"
           }
          ],
          "heatmap": [
           {
            "colorbar": {
             "outlinewidth": 0,
             "ticks": ""
            },
            "colorscale": [
             [
              0,
              "#0d0887"
             ],
             [
              0.1111111111111111,
              "#46039f"
             ],
             [
              0.2222222222222222,
              "#7201a8"
             ],
             [
              0.3333333333333333,
              "#9c179e"
             ],
             [
              0.4444444444444444,
              "#bd3786"
             ],
             [
              0.5555555555555556,
              "#d8576b"
             ],
             [
              0.6666666666666666,
              "#ed7953"
             ],
             [
              0.7777777777777778,
              "#fb9f3a"
             ],
             [
              0.8888888888888888,
              "#fdca26"
             ],
             [
              1,
              "#f0f921"
             ]
            ],
            "type": "heatmap"
           }
          ],
          "heatmapgl": [
           {
            "colorbar": {
             "outlinewidth": 0,
             "ticks": ""
            },
            "colorscale": [
             [
              0,
              "#0d0887"
             ],
             [
              0.1111111111111111,
              "#46039f"
             ],
             [
              0.2222222222222222,
              "#7201a8"
             ],
             [
              0.3333333333333333,
              "#9c179e"
             ],
             [
              0.4444444444444444,
              "#bd3786"
             ],
             [
              0.5555555555555556,
              "#d8576b"
             ],
             [
              0.6666666666666666,
              "#ed7953"
             ],
             [
              0.7777777777777778,
              "#fb9f3a"
             ],
             [
              0.8888888888888888,
              "#fdca26"
             ],
             [
              1,
              "#f0f921"
             ]
            ],
            "type": "heatmapgl"
           }
          ],
          "histogram": [
           {
            "marker": {
             "pattern": {
              "fillmode": "overlay",
              "size": 10,
              "solidity": 0.2
             }
            },
            "type": "histogram"
           }
          ],
          "histogram2d": [
           {
            "colorbar": {
             "outlinewidth": 0,
             "ticks": ""
            },
            "colorscale": [
             [
              0,
              "#0d0887"
             ],
             [
              0.1111111111111111,
              "#46039f"
             ],
             [
              0.2222222222222222,
              "#7201a8"
             ],
             [
              0.3333333333333333,
              "#9c179e"
             ],
             [
              0.4444444444444444,
              "#bd3786"
             ],
             [
              0.5555555555555556,
              "#d8576b"
             ],
             [
              0.6666666666666666,
              "#ed7953"
             ],
             [
              0.7777777777777778,
              "#fb9f3a"
             ],
             [
              0.8888888888888888,
              "#fdca26"
             ],
             [
              1,
              "#f0f921"
             ]
            ],
            "type": "histogram2d"
           }
          ],
          "histogram2dcontour": [
           {
            "colorbar": {
             "outlinewidth": 0,
             "ticks": ""
            },
            "colorscale": [
             [
              0,
              "#0d0887"
             ],
             [
              0.1111111111111111,
              "#46039f"
             ],
             [
              0.2222222222222222,
              "#7201a8"
             ],
             [
              0.3333333333333333,
              "#9c179e"
             ],
             [
              0.4444444444444444,
              "#bd3786"
             ],
             [
              0.5555555555555556,
              "#d8576b"
             ],
             [
              0.6666666666666666,
              "#ed7953"
             ],
             [
              0.7777777777777778,
              "#fb9f3a"
             ],
             [
              0.8888888888888888,
              "#fdca26"
             ],
             [
              1,
              "#f0f921"
             ]
            ],
            "type": "histogram2dcontour"
           }
          ],
          "mesh3d": [
           {
            "colorbar": {
             "outlinewidth": 0,
             "ticks": ""
            },
            "type": "mesh3d"
           }
          ],
          "parcoords": [
           {
            "line": {
             "colorbar": {
              "outlinewidth": 0,
              "ticks": ""
             }
            },
            "type": "parcoords"
           }
          ],
          "pie": [
           {
            "automargin": true,
            "type": "pie"
           }
          ],
          "scatter": [
           {
            "fillpattern": {
             "fillmode": "overlay",
             "size": 10,
             "solidity": 0.2
            },
            "type": "scatter"
           }
          ],
          "scatter3d": [
           {
            "line": {
             "colorbar": {
              "outlinewidth": 0,
              "ticks": ""
             }
            },
            "marker": {
             "colorbar": {
              "outlinewidth": 0,
              "ticks": ""
             }
            },
            "type": "scatter3d"
           }
          ],
          "scattercarpet": [
           {
            "marker": {
             "colorbar": {
              "outlinewidth": 0,
              "ticks": ""
             }
            },
            "type": "scattercarpet"
           }
          ],
          "scattergeo": [
           {
            "marker": {
             "colorbar": {
              "outlinewidth": 0,
              "ticks": ""
             }
            },
            "type": "scattergeo"
           }
          ],
          "scattergl": [
           {
            "marker": {
             "colorbar": {
              "outlinewidth": 0,
              "ticks": ""
             }
            },
            "type": "scattergl"
           }
          ],
          "scattermapbox": [
           {
            "marker": {
             "colorbar": {
              "outlinewidth": 0,
              "ticks": ""
             }
            },
            "type": "scattermapbox"
           }
          ],
          "scatterpolar": [
           {
            "marker": {
             "colorbar": {
              "outlinewidth": 0,
              "ticks": ""
             }
            },
            "type": "scatterpolar"
           }
          ],
          "scatterpolargl": [
           {
            "marker": {
             "colorbar": {
              "outlinewidth": 0,
              "ticks": ""
             }
            },
            "type": "scatterpolargl"
           }
          ],
          "scatterternary": [
           {
            "marker": {
             "colorbar": {
              "outlinewidth": 0,
              "ticks": ""
             }
            },
            "type": "scatterternary"
           }
          ],
          "surface": [
           {
            "colorbar": {
             "outlinewidth": 0,
             "ticks": ""
            },
            "colorscale": [
             [
              0,
              "#0d0887"
             ],
             [
              0.1111111111111111,
              "#46039f"
             ],
             [
              0.2222222222222222,
              "#7201a8"
             ],
             [
              0.3333333333333333,
              "#9c179e"
             ],
             [
              0.4444444444444444,
              "#bd3786"
             ],
             [
              0.5555555555555556,
              "#d8576b"
             ],
             [
              0.6666666666666666,
              "#ed7953"
             ],
             [
              0.7777777777777778,
              "#fb9f3a"
             ],
             [
              0.8888888888888888,
              "#fdca26"
             ],
             [
              1,
              "#f0f921"
             ]
            ],
            "type": "surface"
           }
          ],
          "table": [
           {
            "cells": {
             "fill": {
              "color": "#EBF0F8"
             },
             "line": {
              "color": "white"
             }
            },
            "header": {
             "fill": {
              "color": "#C8D4E3"
             },
             "line": {
              "color": "white"
             }
            },
            "type": "table"
           }
          ]
         },
         "layout": {
          "annotationdefaults": {
           "arrowcolor": "#2a3f5f",
           "arrowhead": 0,
           "arrowwidth": 1
          },
          "autotypenumbers": "strict",
          "coloraxis": {
           "colorbar": {
            "outlinewidth": 0,
            "ticks": ""
           }
          },
          "colorscale": {
           "diverging": [
            [
             0,
             "#8e0152"
            ],
            [
             0.1,
             "#c51b7d"
            ],
            [
             0.2,
             "#de77ae"
            ],
            [
             0.3,
             "#f1b6da"
            ],
            [
             0.4,
             "#fde0ef"
            ],
            [
             0.5,
             "#f7f7f7"
            ],
            [
             0.6,
             "#e6f5d0"
            ],
            [
             0.7,
             "#b8e186"
            ],
            [
             0.8,
             "#7fbc41"
            ],
            [
             0.9,
             "#4d9221"
            ],
            [
             1,
             "#276419"
            ]
           ],
           "sequential": [
            [
             0,
             "#0d0887"
            ],
            [
             0.1111111111111111,
             "#46039f"
            ],
            [
             0.2222222222222222,
             "#7201a8"
            ],
            [
             0.3333333333333333,
             "#9c179e"
            ],
            [
             0.4444444444444444,
             "#bd3786"
            ],
            [
             0.5555555555555556,
             "#d8576b"
            ],
            [
             0.6666666666666666,
             "#ed7953"
            ],
            [
             0.7777777777777778,
             "#fb9f3a"
            ],
            [
             0.8888888888888888,
             "#fdca26"
            ],
            [
             1,
             "#f0f921"
            ]
           ],
           "sequentialminus": [
            [
             0,
             "#0d0887"
            ],
            [
             0.1111111111111111,
             "#46039f"
            ],
            [
             0.2222222222222222,
             "#7201a8"
            ],
            [
             0.3333333333333333,
             "#9c179e"
            ],
            [
             0.4444444444444444,
             "#bd3786"
            ],
            [
             0.5555555555555556,
             "#d8576b"
            ],
            [
             0.6666666666666666,
             "#ed7953"
            ],
            [
             0.7777777777777778,
             "#fb9f3a"
            ],
            [
             0.8888888888888888,
             "#fdca26"
            ],
            [
             1,
             "#f0f921"
            ]
           ]
          },
          "colorway": [
           "#636efa",
           "#EF553B",
           "#00cc96",
           "#ab63fa",
           "#FFA15A",
           "#19d3f3",
           "#FF6692",
           "#B6E880",
           "#FF97FF",
           "#FECB52"
          ],
          "font": {
           "color": "#2a3f5f"
          },
          "geo": {
           "bgcolor": "white",
           "lakecolor": "white",
           "landcolor": "#E5ECF6",
           "showlakes": true,
           "showland": true,
           "subunitcolor": "white"
          },
          "hoverlabel": {
           "align": "left"
          },
          "hovermode": "closest",
          "mapbox": {
           "style": "light"
          },
          "paper_bgcolor": "white",
          "plot_bgcolor": "#E5ECF6",
          "polar": {
           "angularaxis": {
            "gridcolor": "white",
            "linecolor": "white",
            "ticks": ""
           },
           "bgcolor": "#E5ECF6",
           "radialaxis": {
            "gridcolor": "white",
            "linecolor": "white",
            "ticks": ""
           }
          },
          "scene": {
           "xaxis": {
            "backgroundcolor": "#E5ECF6",
            "gridcolor": "white",
            "gridwidth": 2,
            "linecolor": "white",
            "showbackground": true,
            "ticks": "",
            "zerolinecolor": "white"
           },
           "yaxis": {
            "backgroundcolor": "#E5ECF6",
            "gridcolor": "white",
            "gridwidth": 2,
            "linecolor": "white",
            "showbackground": true,
            "ticks": "",
            "zerolinecolor": "white"
           },
           "zaxis": {
            "backgroundcolor": "#E5ECF6",
            "gridcolor": "white",
            "gridwidth": 2,
            "linecolor": "white",
            "showbackground": true,
            "ticks": "",
            "zerolinecolor": "white"
           }
          },
          "shapedefaults": {
           "line": {
            "color": "#2a3f5f"
           }
          },
          "ternary": {
           "aaxis": {
            "gridcolor": "white",
            "linecolor": "white",
            "ticks": ""
           },
           "baxis": {
            "gridcolor": "white",
            "linecolor": "white",
            "ticks": ""
           },
           "bgcolor": "#E5ECF6",
           "caxis": {
            "gridcolor": "white",
            "linecolor": "white",
            "ticks": ""
           }
          },
          "title": {
           "x": 0.05
          },
          "xaxis": {
           "automargin": true,
           "gridcolor": "white",
           "linecolor": "white",
           "ticks": "",
           "title": {
            "standoff": 15
           },
           "zerolinecolor": "white",
           "zerolinewidth": 2
          },
          "yaxis": {
           "automargin": true,
           "gridcolor": "white",
           "linecolor": "white",
           "ticks": "",
           "title": {
            "standoff": 15
           },
           "zerolinecolor": "white",
           "zerolinewidth": 2
          }
         }
        },
        "xaxis": {
         "anchor": "y",
         "domain": [
          0,
          1
         ],
         "title": {
          "text": "index"
         }
        },
        "yaxis": {
         "anchor": "x",
         "domain": [
          0,
          1
         ],
         "title": {
          "text": "Total"
         }
        }
       }
      }
     },
     "metadata": {},
     "output_type": "display_data"
    }
   ],
   "source": [
    "fig = px.bar(merge_data, x=merge_data.index, y='Total')\n",
    "fig.show()"
   ]
  },
  {
   "attachments": {},
   "cell_type": "markdown",
   "metadata": {},
   "source": [
    "> The result is not too surprising as the top stablecoins are UDST, BUSD, and BNB which are used for the majority of possible transactions. Next are the dominant coins in the coin world, BTC as well as ETH, which also account for a significant amount.\n",
    "----"
   ]
  },
  {
   "attachments": {},
   "cell_type": "markdown",
   "metadata": {},
   "source": [
    "### <center>📜 Question 2: Is the quotation correct according to the value of the tokens ? </center>\n",
    "\n",
    "#### Benefits of finding the answer:\n",
    "- After this we can know should we should trading many time in this market\n",
    "- Beside that, we can verify that the price of the token for user is clearly \n",
    "\n",
    "#### Answer:\n",
    "\n",
    "- We don't got the token price in the dataset, but we know that there are some `stable token` that have price nearly 1$ so:\n",
    "\n",
    "    - Make a new `only_stable` that only contain price from `token` to `stable token`\n",
    "    - Then we assume that the `stable token` price is allway 1$, small differences will be accepted\n",
    "- Then with all symbol, we calculate the ratio of the given price with the price we get from `only_stable`"
   ]
  },
  {
   "cell_type": "code",
   "execution_count": 6,
   "metadata": {},
   "outputs": [],
   "source": [
    "# get the data the have stabel_coin in quote or base\n",
    "stable_coin  = ['USDT','BUSD']\n",
    "only_stable = prices[prices.base.isin(stable_coin) | prices.quote.isin(stable_coin)][['base','quote','Kline open time','Open price','High price','Low price','Close price']].set_index('Kline open time')"
   ]
  },
  {
   "cell_type": "code",
   "execution_count": 7,
   "metadata": {},
   "outputs": [],
   "source": [
    "# reverse quote and base if the quote is not in stable_coin\n",
    "temp = only_stable[~only_stable.quote.isin(stable_coin)]\n",
    "only_stable[~only_stable.quote.isin(stable_coin)] = pandas.concat(\n",
    "    [temp[['quote','base']],1/temp[['Open price','High price','Low price','Close price']]], # calculate the new prices\n",
    "    axis=1\n",
    ")"
   ]
  },
  {
   "cell_type": "code",
   "execution_count": 8,
   "metadata": {},
   "outputs": [
    {
     "data": {
      "text/html": [
       "<div>\n",
       "<style scoped>\n",
       "    .dataframe tbody tr th:only-of-type {\n",
       "        vertical-align: middle;\n",
       "    }\n",
       "\n",
       "    .dataframe tbody tr th {\n",
       "        vertical-align: top;\n",
       "    }\n",
       "\n",
       "    .dataframe thead th {\n",
       "        text-align: right;\n",
       "    }\n",
       "</style>\n",
       "<table border=\"1\" class=\"dataframe\">\n",
       "  <thead>\n",
       "    <tr style=\"text-align: right;\">\n",
       "      <th></th>\n",
       "      <th>base</th>\n",
       "      <th>quote</th>\n",
       "      <th>Open price</th>\n",
       "      <th>High price</th>\n",
       "      <th>Low price</th>\n",
       "      <th>Close price</th>\n",
       "    </tr>\n",
       "    <tr>\n",
       "      <th>Kline open time</th>\n",
       "      <th></th>\n",
       "      <th></th>\n",
       "      <th></th>\n",
       "      <th></th>\n",
       "      <th></th>\n",
       "      <th></th>\n",
       "    </tr>\n",
       "  </thead>\n",
       "  <tbody>\n",
       "    <tr>\n",
       "      <th>2022-11-25 17:00:00</th>\n",
       "      <td>BTC</td>\n",
       "      <td>USDT</td>\n",
       "      <td>16485.140000</td>\n",
       "      <td>16512.430000</td>\n",
       "      <td>16474.290000</td>\n",
       "      <td>16483.270000</td>\n",
       "    </tr>\n",
       "    <tr>\n",
       "      <th>2022-11-25 17:30:00</th>\n",
       "      <td>BTC</td>\n",
       "      <td>USDT</td>\n",
       "      <td>16483.270000</td>\n",
       "      <td>16536.350000</td>\n",
       "      <td>16482.980000</td>\n",
       "      <td>16510.380000</td>\n",
       "    </tr>\n",
       "    <tr>\n",
       "      <th>2022-11-25 18:00:00</th>\n",
       "      <td>BTC</td>\n",
       "      <td>USDT</td>\n",
       "      <td>16509.520000</td>\n",
       "      <td>16528.600000</td>\n",
       "      <td>16502.770000</td>\n",
       "      <td>16509.400000</td>\n",
       "    </tr>\n",
       "    <tr>\n",
       "      <th>2022-11-25 18:30:00</th>\n",
       "      <td>BTC</td>\n",
       "      <td>USDT</td>\n",
       "      <td>16508.950000</td>\n",
       "      <td>16518.590000</td>\n",
       "      <td>16477.130000</td>\n",
       "      <td>16495.430000</td>\n",
       "    </tr>\n",
       "    <tr>\n",
       "      <th>2022-11-25 19:00:00</th>\n",
       "      <td>BTC</td>\n",
       "      <td>USDT</td>\n",
       "      <td>16495.430000</td>\n",
       "      <td>16553.880000</td>\n",
       "      <td>16494.010000</td>\n",
       "      <td>16515.200000</td>\n",
       "    </tr>\n",
       "    <tr>\n",
       "      <th>...</th>\n",
       "      <td>...</td>\n",
       "      <td>...</td>\n",
       "      <td>...</td>\n",
       "      <td>...</td>\n",
       "      <td>...</td>\n",
       "      <td>...</td>\n",
       "    </tr>\n",
       "    <tr>\n",
       "      <th>2022-12-13 15:00:00</th>\n",
       "      <td>RON</td>\n",
       "      <td>BUSD</td>\n",
       "      <td>0.216029</td>\n",
       "      <td>0.215983</td>\n",
       "      <td>0.216450</td>\n",
       "      <td>0.216403</td>\n",
       "    </tr>\n",
       "    <tr>\n",
       "      <th>2022-12-13 15:30:00</th>\n",
       "      <td>RON</td>\n",
       "      <td>BUSD</td>\n",
       "      <td>0.216450</td>\n",
       "      <td>0.215936</td>\n",
       "      <td>0.216450</td>\n",
       "      <td>0.215983</td>\n",
       "    </tr>\n",
       "    <tr>\n",
       "      <th>2022-12-13 16:00:00</th>\n",
       "      <td>RON</td>\n",
       "      <td>BUSD</td>\n",
       "      <td>0.215936</td>\n",
       "      <td>0.215936</td>\n",
       "      <td>0.215983</td>\n",
       "      <td>0.215936</td>\n",
       "    </tr>\n",
       "    <tr>\n",
       "      <th>2022-12-13 16:30:00</th>\n",
       "      <td>RON</td>\n",
       "      <td>BUSD</td>\n",
       "      <td>0.215983</td>\n",
       "      <td>0.215936</td>\n",
       "      <td>0.215983</td>\n",
       "      <td>0.215936</td>\n",
       "    </tr>\n",
       "    <tr>\n",
       "      <th>2022-12-13 17:00:00</th>\n",
       "      <td>RON</td>\n",
       "      <td>BUSD</td>\n",
       "      <td>0.215936</td>\n",
       "      <td>0.215936</td>\n",
       "      <td>0.215983</td>\n",
       "      <td>0.215936</td>\n",
       "    </tr>\n",
       "  </tbody>\n",
       "</table>\n",
       "<p>575721 rows × 6 columns</p>\n",
       "</div>"
      ],
      "text/plain": [
       "                    base quote    Open price    High price     Low price  \\\n",
       "Kline open time                                                            \n",
       "2022-11-25 17:00:00  BTC  USDT  16485.140000  16512.430000  16474.290000   \n",
       "2022-11-25 17:30:00  BTC  USDT  16483.270000  16536.350000  16482.980000   \n",
       "2022-11-25 18:00:00  BTC  USDT  16509.520000  16528.600000  16502.770000   \n",
       "2022-11-25 18:30:00  BTC  USDT  16508.950000  16518.590000  16477.130000   \n",
       "2022-11-25 19:00:00  BTC  USDT  16495.430000  16553.880000  16494.010000   \n",
       "...                  ...   ...           ...           ...           ...   \n",
       "2022-12-13 15:00:00  RON  BUSD      0.216029      0.215983      0.216450   \n",
       "2022-12-13 15:30:00  RON  BUSD      0.216450      0.215936      0.216450   \n",
       "2022-12-13 16:00:00  RON  BUSD      0.215936      0.215936      0.215983   \n",
       "2022-12-13 16:30:00  RON  BUSD      0.215983      0.215936      0.215983   \n",
       "2022-12-13 17:00:00  RON  BUSD      0.215936      0.215936      0.215983   \n",
       "\n",
       "                      Close price  \n",
       "Kline open time                    \n",
       "2022-11-25 17:00:00  16483.270000  \n",
       "2022-11-25 17:30:00  16510.380000  \n",
       "2022-11-25 18:00:00  16509.400000  \n",
       "2022-11-25 18:30:00  16495.430000  \n",
       "2022-11-25 19:00:00  16515.200000  \n",
       "...                           ...  \n",
       "2022-12-13 15:00:00      0.216403  \n",
       "2022-12-13 15:30:00      0.215983  \n",
       "2022-12-13 16:00:00      0.215936  \n",
       "2022-12-13 16:30:00      0.215936  \n",
       "2022-12-13 17:00:00      0.215936  \n",
       "\n",
       "[575721 rows x 6 columns]"
      ]
     },
     "execution_count": 8,
     "metadata": {},
     "output_type": "execute_result"
    }
   ],
   "source": [
    "only_stable"
   ]
  },
  {
   "cell_type": "markdown",
   "metadata": {},
   "source": [
    "> now we got the table exchange price to `stable coin`"
   ]
  },
  {
   "cell_type": "code",
   "execution_count": 6,
   "metadata": {},
   "outputs": [],
   "source": [
    "#get the unique symbols has in data and transform price to a new shape that symbols and Kline open time is the index (multindex)\n",
    "symbols_unique = numpy.unique(prices[['Symbol','base','quote']].to_numpy(dtype='str'),axis=0)\n",
    "price_table = prices.set_index(['Symbol','Kline open time'])"
   ]
  },
  {
   "cell_type": "code",
   "execution_count": 10,
   "metadata": {},
   "outputs": [
    {
     "name": "stdout",
     "output_type": "stream",
     "text": [
      "total:  1394\n",
      "1300\n",
      "1200\n",
      "1100\n",
      "1000\n",
      "900\n",
      "800\n",
      "700\n",
      "600\n",
      "500\n",
      "400\n",
      "300\n",
      "200\n",
      "100\n"
     ]
    }
   ],
   "source": [
    "#try to calcuate the ratio between given and we got\n",
    "n = len(symbols_unique)\n",
    "print('total: ',n)\n",
    "diff = []\n",
    "for i in symbols_unique:\n",
    "    if n%100 == 0:\n",
    "        print(n)\n",
    "    # calculate by stable_coin\n",
    "    cal = only_stable[only_stable.base == i[1]][['Open price','High price','Low price','Close price']]/only_stable[only_stable.base == i[2]][['Open price','High price','Low price','Close price']]\n",
    "    #ratio\n",
    "    gap = price_table.loc[i[0]][['Open price','High price','Low price','Close price']]/cal\n",
    "    diff += [ numpy.mean(gap,axis=0)]\n",
    "    n-=1\n",
    "diff = pandas.DataFrame(diff)"
   ]
  },
  {
   "cell_type": "code",
   "execution_count": 11,
   "metadata": {},
   "outputs": [
    {
     "data": {
      "text/html": [
       "<div>\n",
       "<style scoped>\n",
       "    .dataframe tbody tr th:only-of-type {\n",
       "        vertical-align: middle;\n",
       "    }\n",
       "\n",
       "    .dataframe tbody tr th {\n",
       "        vertical-align: top;\n",
       "    }\n",
       "\n",
       "    .dataframe thead th {\n",
       "        text-align: right;\n",
       "    }\n",
       "</style>\n",
       "<table border=\"1\" class=\"dataframe\">\n",
       "  <thead>\n",
       "    <tr style=\"text-align: right;\">\n",
       "      <th></th>\n",
       "      <th>Open price</th>\n",
       "      <th>High price</th>\n",
       "      <th>Low price</th>\n",
       "      <th>Close price</th>\n",
       "    </tr>\n",
       "  </thead>\n",
       "  <tbody>\n",
       "    <tr>\n",
       "      <th>count</th>\n",
       "      <td>1050.000000</td>\n",
       "      <td>1050.000000</td>\n",
       "      <td>1050.000000</td>\n",
       "      <td>1050.000000</td>\n",
       "    </tr>\n",
       "    <tr>\n",
       "      <th>mean</th>\n",
       "      <td>1.000101</td>\n",
       "      <td>1.000535</td>\n",
       "      <td>0.999856</td>\n",
       "      <td>1.000058</td>\n",
       "    </tr>\n",
       "    <tr>\n",
       "      <th>std</th>\n",
       "      <td>0.000470</td>\n",
       "      <td>0.001530</td>\n",
       "      <td>0.001229</td>\n",
       "      <td>0.000564</td>\n",
       "    </tr>\n",
       "    <tr>\n",
       "      <th>min</th>\n",
       "      <td>0.994130</td>\n",
       "      <td>0.992628</td>\n",
       "      <td>0.991015</td>\n",
       "      <td>0.992246</td>\n",
       "    </tr>\n",
       "    <tr>\n",
       "      <th>25%</th>\n",
       "      <td>0.999978</td>\n",
       "      <td>0.999872</td>\n",
       "      <td>0.999265</td>\n",
       "      <td>0.999938</td>\n",
       "    </tr>\n",
       "    <tr>\n",
       "      <th>50%</th>\n",
       "      <td>1.000043</td>\n",
       "      <td>1.000208</td>\n",
       "      <td>1.000012</td>\n",
       "      <td>1.000004</td>\n",
       "    </tr>\n",
       "    <tr>\n",
       "      <th>75%</th>\n",
       "      <td>1.000143</td>\n",
       "      <td>1.001135</td>\n",
       "      <td>1.000261</td>\n",
       "      <td>1.000089</td>\n",
       "    </tr>\n",
       "    <tr>\n",
       "      <th>max</th>\n",
       "      <td>1.005238</td>\n",
       "      <td>1.017435</td>\n",
       "      <td>1.006667</td>\n",
       "      <td>1.007816</td>\n",
       "    </tr>\n",
       "  </tbody>\n",
       "</table>\n",
       "</div>"
      ],
      "text/plain": [
       "        Open price   High price    Low price  Close price\n",
       "count  1050.000000  1050.000000  1050.000000  1050.000000\n",
       "mean      1.000101     1.000535     0.999856     1.000058\n",
       "std       0.000470     0.001530     0.001229     0.000564\n",
       "min       0.994130     0.992628     0.991015     0.992246\n",
       "25%       0.999978     0.999872     0.999265     0.999938\n",
       "50%       1.000043     1.000208     1.000012     1.000004\n",
       "75%       1.000143     1.001135     1.000261     1.000089\n",
       "max       1.005238     1.017435     1.006667     1.007816"
      ]
     },
     "execution_count": 11,
     "metadata": {},
     "output_type": "execute_result"
    }
   ],
   "source": [
    "pandas.DataFrame(diff).describe()"
   ]
  },
  {
   "attachments": {},
   "cell_type": "markdown",
   "metadata": {},
   "source": [
    "> Based on the above table, we see that the distribution is mainly at 1., and the distribution deviation is not high, so it can be considered that the conversion value of the tokens follows their actual value.\n"
   ]
  },
  {
   "cell_type": "markdown",
   "metadata": {},
   "source": [
    "### <center>📜 Question 3: Average time for each up/down cycle </center>\n",
    "\n",
    "#### Benefits of finding the answer:\n",
    "- After this we can know the possibility that the trend of the token is changed in this market\n",
    "- It also help us be careful when exchange based on the current trend\n",
    "#### Answer:\n",
    "- We only use the `high price` and `low price` because the other price is only in the a fixed time point\n",
    "- Compare prices with the pervious time, if the gap `is 0` it still keep the trend, `lower than 0` is in down cycle, `higher than 0` is in up cycle\n",
    "- After all, we look how is it distributed"
   ]
  },
  {
   "cell_type": "code",
   "execution_count": 4,
   "metadata": {},
   "outputs": [],
   "source": [
    "#reshape the prices table to a suitable form\n",
    "symbols_price = prices.set_index(['Symbol','Kline open time'])[['High price','Low price']]"
   ]
  },
  {
   "cell_type": "code",
   "execution_count": 39,
   "metadata": {},
   "outputs": [
    {
     "name": "stdout",
     "output_type": "stream",
     "text": [
      "total:  1394\n",
      "1300\n",
      "1200\n",
      "1100\n",
      "1000\n",
      "900\n",
      "800\n",
      "700\n",
      "600\n",
      "500\n",
      "400\n",
      "300\n",
      "200\n",
      "100\n"
     ]
    }
   ],
   "source": [
    "period = []\n",
    "n = len(symbols_unique)\n",
    "print('total: ',n)\n",
    "\n",
    "#get the compare price for every single opentime with the previous one, then calculate how long it continue the trend\n",
    "# = 0 : the trend is continue\n",
    "# > 0 : the trend is up\n",
    "# < 0 : the trend is down\n",
    "for i in symbols_unique[:,0]:\n",
    "    if n%100 == 0:\n",
    "        print(n)\n",
    "    n-=1\n",
    "    try:\n",
    "        temp = (symbols_price.loc[i].iloc[1:].reset_index().iloc[:,1:] - symbols_price.loc[i].iloc[:-1].reset_index().iloc[:,1:])\n",
    "        a = [0] \n",
    "        b = [0]\n",
    "        c = [0]\n",
    "        d = [0]\n",
    "        for i in  (temp['High price'] >=0):\n",
    "            if i:\n",
    "                a[-1] +=1\n",
    "            else:\n",
    "                a.append(1)\n",
    "        for i in  (temp['High price'] <=0):\n",
    "            if i:\n",
    "                b[-1] +=1\n",
    "            else:\n",
    "                b.append(1)\n",
    "\n",
    "        for i in  (temp['Low price'] >=0):\n",
    "            if i:\n",
    "                c[-1] +=1\n",
    "            else:\n",
    "                c.append(1)\n",
    "        for i in  (temp['Low price'] <=0):\n",
    "            if i:\n",
    "                d[-1] +=1\n",
    "            else:\n",
    "                d.append(1)\n",
    "        period.append([numpy.mean(a),numpy.mean(b),numpy.mean(c),numpy.mean(d)])\n",
    "    except:\n",
    "        continue\n",
    "\n",
    "period = pandas.DataFrame(period,columns=['High up','High down','Low up','Low down'])"
   ]
  },
  {
   "cell_type": "code",
   "execution_count": 37,
   "metadata": {},
   "outputs": [
    {
     "data": {
      "text/html": [
       "<div>\n",
       "<style scoped>\n",
       "    .dataframe tbody tr th:only-of-type {\n",
       "        vertical-align: middle;\n",
       "    }\n",
       "\n",
       "    .dataframe tbody tr th {\n",
       "        vertical-align: top;\n",
       "    }\n",
       "\n",
       "    .dataframe thead th {\n",
       "        text-align: right;\n",
       "    }\n",
       "</style>\n",
       "<table border=\"1\" class=\"dataframe\">\n",
       "  <thead>\n",
       "    <tr style=\"text-align: right;\">\n",
       "      <th></th>\n",
       "      <th>High up</th>\n",
       "      <th>High down</th>\n",
       "      <th>Low up</th>\n",
       "      <th>Low down</th>\n",
       "    </tr>\n",
       "  </thead>\n",
       "  <tbody>\n",
       "    <tr>\n",
       "      <th>count</th>\n",
       "      <td>1394.000000</td>\n",
       "      <td>1394.000000</td>\n",
       "      <td>1394.000000</td>\n",
       "      <td>1394.000000</td>\n",
       "    </tr>\n",
       "    <tr>\n",
       "      <th>mean</th>\n",
       "      <td>2.528845</td>\n",
       "      <td>2.910814</td>\n",
       "      <td>2.843111</td>\n",
       "      <td>2.574416</td>\n",
       "    </tr>\n",
       "    <tr>\n",
       "      <th>std</th>\n",
       "      <td>1.996261</td>\n",
       "      <td>2.231795</td>\n",
       "      <td>1.793782</td>\n",
       "      <td>1.946345</td>\n",
       "    </tr>\n",
       "    <tr>\n",
       "      <th>min</th>\n",
       "      <td>1.500000</td>\n",
       "      <td>1.963636</td>\n",
       "      <td>1.833333</td>\n",
       "      <td>1.766871</td>\n",
       "    </tr>\n",
       "    <tr>\n",
       "      <th>25%</th>\n",
       "      <td>2.004640</td>\n",
       "      <td>2.316354</td>\n",
       "      <td>2.291777</td>\n",
       "      <td>2.018692</td>\n",
       "    </tr>\n",
       "    <tr>\n",
       "      <th>50%</th>\n",
       "      <td>2.154613</td>\n",
       "      <td>2.511628</td>\n",
       "      <td>2.475645</td>\n",
       "      <td>2.221080</td>\n",
       "    </tr>\n",
       "    <tr>\n",
       "      <th>75%</th>\n",
       "      <td>2.571429</td>\n",
       "      <td>2.928814</td>\n",
       "      <td>2.928814</td>\n",
       "      <td>2.618182</td>\n",
       "    </tr>\n",
       "    <tr>\n",
       "      <th>max</th>\n",
       "      <td>45.473684</td>\n",
       "      <td>45.473684</td>\n",
       "      <td>43.200000</td>\n",
       "      <td>43.200000</td>\n",
       "    </tr>\n",
       "  </tbody>\n",
       "</table>\n",
       "</div>"
      ],
      "text/plain": [
       "           High up    High down       Low up     Low down\n",
       "count  1394.000000  1394.000000  1394.000000  1394.000000\n",
       "mean      2.528845     2.910814     2.843111     2.574416\n",
       "std       1.996261     2.231795     1.793782     1.946345\n",
       "min       1.500000     1.963636     1.833333     1.766871\n",
       "25%       2.004640     2.316354     2.291777     2.018692\n",
       "50%       2.154613     2.511628     2.475645     2.221080\n",
       "75%       2.571429     2.928814     2.928814     2.618182\n",
       "max      45.473684    45.473684    43.200000    43.200000"
      ]
     },
     "execution_count": 37,
     "metadata": {},
     "output_type": "execute_result"
    }
   ],
   "source": [
    "period.describe()"
   ]
  },
  {
   "cell_type": "code",
   "execution_count": 38,
   "metadata": {},
   "outputs": [
    {
     "data": {
      "text/plain": [
       "<AxesSubplot:ylabel='Density'>"
      ]
     },
     "execution_count": 38,
     "metadata": {},
     "output_type": "execute_result"
    },
    {
     "data": {
      "image/png": "[encoded data removed]",
      "text/plain": [
       "<Figure size 432x288 with 1 Axes>"
      ]
     },
     "metadata": {
      "needs_background": "light"
     },
     "output_type": "display_data"
    }
   ],
   "source": [
    "period.plot.kde(xlim = [0,10])"
   ]
  },
  {
   "attachments": {},
   "cell_type": "markdown",
   "metadata": {},
   "source": [
    "> The average time for each rise or fall is around 2-3 cycles, however this indicator will not be robust in all cases when the standard deviation is too high"
   ]
  }
 ],
 "metadata": {
  "kernelspec": {
   "display_name": "Python 3",
   "language": "python",
   "name": "python3"
  },
  "language_info": {
   "codemirror_mode": {
    "name": "ipython",
    "version": 3
   },
   "file_extension": ".py",
   "mimetype": "text/x-python",
   "name": "python",
   "nbconvert_exporter": "python",
   "pygments_lexer": "ipython3",
   "version": "3.9.12"
  },
  "vscode": {
   "interpreter": {
    "hash": "a975ed8b98c08beba37d949353546e85fb5250a2bdceb316b7e036ee961162de"
   }
  }
 },
 "nbformat": 4,
 "nbformat_minor": 4
}
