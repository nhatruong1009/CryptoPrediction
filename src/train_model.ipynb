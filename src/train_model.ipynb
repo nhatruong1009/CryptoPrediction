{
 "cells": [
  {
   "cell_type": "markdown",
   "id": "96bb06d1",
   "metadata": {},
   "source": [
    "### Import library"
   ]
  },
  {
   "cell_type": "code",
   "execution_count": 39,
   "id": "9858b08f",
   "metadata": {},
   "outputs": [],
   "source": [
    "# handle data\n",
    "import pyspark.sql as ps\n",
    "from pyspark.sql.functions import from_unixtime,date_format,from_utc_timestamp\n",
    "from pyspark.sql.types import DateType,FloatType\n",
    "from pyspark.ml.feature import VectorAssembler,MinMaxScaler\n",
    "\n",
    "# train data|\n",
    "import pandas as pd\n",
    "import numpy as np\n",
    "from datetime import datetime,timedelta"
   ]
  },
  {
   "cell_type": "code",
   "execution_count": 16,
   "id": "76bb6c18",
   "metadata": {},
   "outputs": [],
   "source": [
    "spark = ps.SparkSession.\\\n",
    "        builder.\\\n",
    "        appName(\"pyspark-notebook\").\\\n",
    "        master(\"spark://spark-master:7077\").\\\n",
    "        config(\"spark.executor.memory\", \"4096m\").\\\n",
    "        getOrCreate()\n",
    "spark.sparkContext.setLogLevel(\"WARN\")"
   ]
  },
  {
   "cell_type": "markdown",
   "id": "db3ce1ef",
   "metadata": {},
   "source": [
    "### Read data from hdfs"
   ]
  },
  {
   "cell_type": "markdown",
   "id": "55bcce2a",
   "metadata": {},
   "source": [
    "**Declare period, symbol**"
   ]
  },
  {
   "cell_type": "code",
   "execution_count": 17,
   "id": "ebde99f5",
   "metadata": {},
   "outputs": [],
   "source": [
    "symbol = \"BTCUSDT\"\n",
    "PERIOD = \"1d\""
   ]
  },
  {
   "cell_type": "code",
   "execution_count": 29,
   "id": "b8f1d1d0",
   "metadata": {},
   "outputs": [],
   "source": [
    "df = spark.read.parquet(f\"hdfs://hadoop-namenode:9000/crypto/{symbol}/{PERIOD}.parquet\")"
   ]
  },
  {
   "cell_type": "markdown",
   "id": "eab44d35",
   "metadata": {},
   "source": [
    "### Processing"
   ]
  },
  {
   "cell_type": "code",
   "execution_count": 30,
   "id": "fb50d512",
   "metadata": {},
   "outputs": [],
   "source": [
    "# sort df by time\n",
    "df = df.sort(df[\"open_time\"].desc())"
   ]
  },
  {
   "cell_type": "code",
   "execution_count": 31,
   "id": "bddcaf62",
   "metadata": {},
   "outputs": [],
   "source": [
    "# format open price to float type\n",
    "df = df.select(\"open\").withColumn(\"open\", df[\"open\"].cast(FloatType()))"
   ]
  },
  {
   "cell_type": "code",
   "execution_count": 34,
   "id": "9b9573c8",
   "metadata": {},
   "outputs": [],
   "source": [
    "# bring \"open\" column to vector assembler\n",
    "assember = VectorAssembler(inputCols=[\"open\"],outputCol=\"feature_vector\")\n",
    "df_transformed = assember.transform(df)"
   ]
  },
  {
   "cell_type": "code",
   "execution_count": 41,
   "id": "b196d1df",
   "metadata": {},
   "outputs": [],
   "source": [
    "# sac\n",
    "scaler = MinMaxScaler(min=0,max=1,inputCol=\"feature_vector\",outputCol=\"scaled_feature\")\n",
    "scaler = scaler.fit(df_transformed)\n",
    "df_transformed = scaler.transform(df_transformed)"
   ]
  },
  {
   "cell_type": "code",
   "execution_count": 42,
   "id": "7276c502",
   "metadata": {},
   "outputs": [
    {
     "name": "stderr",
     "output_type": "stream",
     "text": [
      "                                                                                \r"
     ]
    }
   ],
   "source": []
  },
  {
   "cell_type": "code",
   "execution_count": 43,
   "id": "e15ec053",
   "metadata": {},
   "outputs": [],
   "source": []
  },
  {
   "cell_type": "code",
   "execution_count": 44,
   "id": "3b951b42",
   "metadata": {},
   "outputs": [
    {
     "name": "stderr",
     "output_type": "stream",
     "text": [
      "                                                                                \r"
     ]
    },
    {
     "name": "stdout",
     "output_type": "stream",
     "text": [
      "+--------+------------------+--------------------+\n",
      "|    open|    feature_vector|      scaled_feature|\n",
      "+--------+------------------+--------------------+\n",
      "|16661.61|    [16661.609375]|[0.2091282821225519]|\n",
      "|16900.57|   [16900.5703125]|[0.2128438110507103]|\n",
      "|16617.72| [16617.720703125]|[0.20844587088130...|\n",
      "|16331.78|[16331.7802734375]|[0.20399987251291...|\n",
      "|16813.16|  [16813.16015625]|[0.21148469785187...|\n",
      "|17069.98|  [17069.98046875]|[0.21547791661982...|\n",
      "|17602.45|  [17602.44921875]|[0.2237571067864873]|\n",
      "|15922.68|   [15922.6796875]|[0.19763889536961...|\n",
      "|18545.38| [18545.380859375]|[0.2384184561462253]|\n",
      "|20590.67| [20590.669921875]|[0.2702200165086367]|\n",
      "|20905.58| [20905.580078125]|[0.27511645610064...|\n",
      "|21299.37| [21299.369140625]|[0.2812393591517365]|\n",
      "|21148.52|  [21148.51953125]|[0.2788938457247388]|\n",
      "|20207.12| [20207.119140625]|[0.26425630529264...|\n",
      "|20151.84|  [20151.83984375]|[0.26339678478349...|\n",
      "|20482.81| [20482.810546875]|[0.2685429447990164]|\n",
      "|20490.74| [20490.740234375]|[0.26866624103147...|\n",
      "|20627.48|  [20627.48046875]|[0.2707923721965842]|\n",
      "|20809.68|   [20809.6796875]|[0.2736253309011987]|\n",
      "|20591.84|  [20591.83984375]|[0.2702382072582032]|\n",
      "+--------+------------------+--------------------+\n",
      "only showing top 20 rows\n",
      "\n"
     ]
    }
   ],
   "source": [
    "df_transformed.show()"
   ]
  },
  {
   "cell_type": "code",
   "execution_count": 45,
   "id": "4f5e4901",
   "metadata": {},
   "outputs": [
    {
     "name": "stderr",
     "output_type": "stream",
     "text": [
      "                                                                                \r"
     ]
    }
   ],
   "source": [
    "TRAIN_DATA_LENGTH = df_transformed.count() * 0.6"
   ]
  },
  {
   "cell_type": "code",
   "execution_count": null,
   "id": "07e42bd4",
   "metadata": {},
   "outputs": [],
   "source": []
  }
 ],
 "metadata": {
  "kernelspec": {
   "display_name": "Python 3 (ipykernel)",
   "language": "python",
   "name": "python3"
  },
  "language_info": {
   "codemirror_mode": {
    "name": "ipython",
    "version": 3
   },
   "file_extension": ".py",
   "mimetype": "text/x-python",
   "name": "python",
   "nbconvert_exporter": "python",
   "pygments_lexer": "ipython3",
   "version": "3.9.2"
  }
 },
 "nbformat": 4,
 "nbformat_minor": 5
}
